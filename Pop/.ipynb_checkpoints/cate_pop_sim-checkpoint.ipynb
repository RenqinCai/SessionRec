{
 "cells": [
  {
   "cell_type": "code",
   "execution_count": 6,
   "metadata": {},
   "outputs": [],
   "source": [
    "import pickle\n",
    "import random\n",
    "import numpy as np\n",
    "from collections import Counter\n",
    "from sklearn.metrics.pairwise import cosine_similarity\n",
    "\n",
    "import pandas as pd\n",
    "import datetime\n",
    "\n",
    "import argparse\n",
    "\n",
    "parser = argparse.ArgumentParser()\n",
    "\n",
    "parser.add_argument('--topk', default=1, type=int)\n",
    "# etc\n",
    "parser.add_argument('--bptt', default=5, type=int)\n",
    "\n",
    "parser.add_argument('--data_folder', default='../Data/movielen/1m/', type=str)\n",
    "parser.add_argument('--data_action', default='item.pickle', type=str)\n",
    "parser.add_argument('--data_cate', default='cate.pickle', type=str)\n",
    "parser.add_argument('--data_time', default='time.pickle', type=str)\n",
    "\n",
    "parser.add_argument(\"--is_eval\", action='store_true')\n",
    "parser.add_argument('--checkpoint_dir', type=str, default='checkpoint')\n",
    "\n",
    "parser.add_argument('--valid_start_time', default=0, type=int)\n",
    "parser.add_argument('--test_start_time', default=0, type=int)\n",
    "\n",
    "# Get the arguments\n",
    "args = parser.parse_args([])"
   ]
  },
  {
   "cell_type": "code",
   "execution_count": 7,
   "metadata": {},
   "outputs": [],
   "source": [
    "# python globalPop_time.py --data_folder ../Data/tmall/100k_unknown_cate/ \n",
    "# --data_action item_time.pickle --data_cate cate_time.pickle --data_time time_time.pickle\n",
    "# --valid_start_time 1512172800 --test_start_time 1512259200 --topk 5\n"
   ]
  },
  {
   "cell_type": "code",
   "execution_count": 11,
   "metadata": {},
   "outputs": [],
   "source": [
    "args.data_folder = \"../../../Data/tmall/100k_unknown_cate/\"\n",
    "args.data_action = \"item_time.pickle\"\n",
    "args.data_cate = \"cate_time.pickle\"\n",
    "args.data_time = \"time_time.pickle\"\n",
    "args.valid_start_time = 1512172800\n",
    "args.test_start_time = 1512259200\n",
    "args.topk = 5"
   ]
  },
  {
   "cell_type": "code",
   "execution_count": 12,
   "metadata": {},
   "outputs": [
    {
     "name": "stdout",
     "output_type": "stream",
     "text": [
      "action seq num 51275\n",
      "cate seq num 51275\n",
      "time seq num 51275\n",
      "valid_start_time 1512172800\n",
      "test start time 1512259200\n"
     ]
    }
   ],
   "source": [
    "data_action = args.data_folder+args.data_action\n",
    "data_cate = args.data_folder+args.data_cate\n",
    "data_time = args.data_folder+args.data_time\n",
    "\n",
    "action_f = open(data_action, \"rb\")\n",
    "action_seq_arr_total = pickle.load(action_f)\n",
    "\n",
    "cate_f = open(data_cate, \"rb\")\n",
    "cate_seq_arr_total = pickle.load(cate_f)\n",
    "\n",
    "time_f = open(data_time, \"rb\")\n",
    "time_seq_arr_totoal = pickle.load(time_f)\n",
    "\n",
    "action_seq_num = len(action_seq_arr_total)\n",
    "print(\"action seq num\", action_seq_num)\n",
    "\n",
    "cate_seq_num = len(cate_seq_arr_total)\n",
    "print(\"cate seq num\", cate_seq_num)\n",
    "\n",
    "time_seq_num = len(time_seq_arr_totoal)\n",
    "print(\"time seq num\", time_seq_num)\n",
    "\n",
    "valid_start_time = args.valid_start_time\n",
    "print(\"valid_start_time\", valid_start_time)\n",
    "\n",
    "test_start_time = args.test_start_time\n",
    "print(\"test start time\", test_start_time)\n"
   ]
  },
  {
   "cell_type": "code",
   "execution_count": null,
   "metadata": {},
   "outputs": [],
   "source": [
    "# train_total_action_list = []\n",
    "# test_total_action_list = []\n",
    "\n",
    "cate_item_dict = {}\n",
    "item_cate_dict = {}\n",
    "\n",
    "# train_total_cate_list = []\n",
    "# test_total_cate_list = []\n",
    "\n",
    "# train_total_time_list = []\n",
    "# test_total_time_list = []\n",
    "\n",
    "data_list = []\n",
    "\n",
    "for seq_index in range(action_seq_num):\n",
    "    action_seq_arr = action_seq_arr_total[seq_index]\n",
    "    time_seq_arr = time_seq_arr_totoal[seq_index]\n",
    "    cate_seq_arr = cate_seq_arr_total[seq_index]\n",
    "\n",
    "    actionNum_seq = len(action_seq_arr)\n",
    "\n",
    "    valid_start_action_index = -1\n",
    "    test_start_action_index = -1\n",
    "        \n",
    "    for action_index in range(actionNum_seq):  \n",
    "        item_cur = action_seq_arr[action_index]\n",
    "        time_cur = time_seq_arr[action_index]\n",
    "        cate_cur = cate_seq_arr[action_index]\n",
    "        \n",
    "        subdata = [seq_index, item_cur, time_cur, cate_cur]\n",
    "        \n",
    "        data_list.append(subdata)\n",
    "        \n",
    "        if cate_cur not in cate_item_dict:\n",
    "            cate_item_dict[cate_cur] = []\n",
    "        if item_cur not in cate_item_dict[cate_cur]:\n",
    "            cate_item_dict[cate_cur].append(item_cur)\n",
    "        \n",
    "        if item_cur not in item_cate_dict:\n",
    "            item_cate_dict[item_cur] = cate_cur\n",
    "\n",
    "        if time_cur > valid_start_time:\n",
    "            if valid_start_action_index == -1:\n",
    "                valid_start_action_index = action_index\n",
    "\n",
    "        if time_cur > test_start_time:\n",
    "            if test_start_action_index == -1:\n",
    "                test_start_action_index = action_index\n",
    "                break\n",
    "    \n",
    "#     subseq_train = action_seq_arr[:valid_start_action_index]\n",
    "#     train_total_action_list.append(subseq_train)\n",
    "    \n",
    "#     subseq_train_cate = cate_seq_arr[:valid_start_action_index]\n",
    "#     train_total_cate_list.append(subseq_train_cate)\n",
    "    \n",
    "#     subseq_train_time = time_seq_arr[:valid_start_action_index]\n",
    "#     train_total_time_list.append(subseq_train_time)\n",
    "\n",
    "#     subseq_test = action_seq_arr[valid_start_action_index: test_start_action_index]\n",
    "#     test_total_action_list.append(subseq_test)\n",
    "    \n",
    "#     subseq_test_cate = cate_seq_arr[valid_start_action_index: test_start_action_index]\n",
    "#     test_total_cate_list.append(subseq_test_cate)\n",
    "    \n",
    "#     subseq_test_time = time_seq_arr[valid_start_action_index: test_start_action_index]\n",
    "#     test_total_time_list.append(subseq_test_time)"
   ]
  },
  {
   "cell_type": "code",
   "execution_count": null,
   "metadata": {},
   "outputs": [],
   "source": [
    "data_df = pd.DataFrame(data_list)\n",
    "data_df.columns=[\"userid\", \"item\", \"time\", \"cate\"]\n",
    "print(data_df.head())"
   ]
  },
  {
   "cell_type": "code",
   "execution_count": null,
   "metadata": {},
   "outputs": [],
   "source": [
    "data_df.head()"
   ]
  },
  {
   "cell_type": "code",
   "execution_count": null,
   "metadata": {},
   "outputs": [],
   "source": [
    "sorted_data_df = data_df.sort_values(\"time\")"
   ]
  },
  {
   "cell_type": "code",
   "execution_count": null,
   "metadata": {},
   "outputs": [],
   "source": [
    "sorted_data_df.head()"
   ]
  },
  {
   "cell_type": "code",
   "execution_count": null,
   "metadata": {},
   "outputs": [],
   "source": [
    "len(sorted_data_df[sorted_data_df.time > valid_start_time])"
   ]
  },
  {
   "cell_type": "code",
   "execution_count": null,
   "metadata": {},
   "outputs": [],
   "source": [
    "3467990-472732"
   ]
  },
  {
   "cell_type": "code",
   "execution_count": null,
   "metadata": {},
   "outputs": [],
   "source": [
    "userid_list = sorted_data_df.userid.tolist()\n",
    "time_list = sorted_data_df.time.tolist()\n",
    "item_list = sorted_data_df.item.tolist()\n",
    "cate_list = sorted_data_df.cate.tolist()\n",
    "action_num = len(cate_list)\n",
    "print(\"action_num\", action_num)"
   ]
  },
  {
   "cell_type": "code",
   "execution_count": null,
   "metadata": {},
   "outputs": [],
   "source": [
    "item_num = len(item_cate_dict)\n",
    "print(\"item num\", item_num)"
   ]
  },
  {
   "cell_type": "code",
   "execution_count": null,
   "metadata": {},
   "outputs": [],
   "source": [
    "3050000"
   ]
  },
  {
   "cell_type": "code",
   "execution_count": null,
   "metadata": {},
   "outputs": [],
   "source": [
    "train_user_actionlist_dict = {}\n",
    "recent_user_list = []\n",
    "recent_usernum = 100\n",
    "recent_actionum = 20\n",
    "\n",
    "neighor_topk = 10\n",
    "action_topk = 5\n",
    "\n",
    "correct_num = 0\n",
    "total_num = 0\n",
    "mrr_num = 0\n",
    "\n",
    "start_time = datetime.datetime.now()\n",
    "\n",
    "# for action_index in range(action_num):\n",
    "for action_index in range(2595258, 3100000):\n",
    "    if action_index%1e4 == 0:\n",
    "        print(action_index)\n",
    "    userid = userid_list[action_index]\n",
    "    item = item_list[action_index]\n",
    "    time = time_list[action_index]\n",
    "    \n",
    "    if len(recent_user_list) == 0:\n",
    "        if userid not in train_user_actionlist_dict:\n",
    "            train_user_actionlist_dict[userid] = []\n",
    "        train_user_actionlist_dict[userid].append(item)\n",
    "        recent_user_list.append(userid)\n",
    "        continue\n",
    "    \n",
    "    if time >= valid_start_time:\n",
    "    \n",
    "        if userid in train_user_actionlist_dict:\n",
    "\n",
    "            actionlist_user = train_user_actionlist_dict[userid]\n",
    "            actionarray_user = np.zeros((1, item_num))\n",
    "            for action in actionlist_user:\n",
    "                actionarray_user[0][action] += 1.0\n",
    "\n",
    "            neighbor_list = recent_user_list[-recent_usernum:]\n",
    "            neighbor_num = len(neighbor_list)\n",
    "            actionarray_neighbor = np.zeros((neighbor_num, item_num))\n",
    "\n",
    "            for neighbor_index in range(neighbor_num):\n",
    "                neighbor = neighbor_list[neighbor_index]\n",
    "                actionlist_neighbor = train_user_actionlist_dict[neighbor]\n",
    "                for action in actionlist_neighbor:\n",
    "                    actionarray_neighbor[neighbor_index][action] += 1.0\n",
    "            user_neighbor_sim = cosine_similarity(actionarray_user, actionarray_neighbor)[0]\n",
    "\n",
    "            neighbor_mask = user_neighbor_sim > 0.1\n",
    "            neighbor_weight = user_neighbor_sim*neighbor_mask\n",
    "            neighbor_preds = actionarray_neighbor*(neighbor_weight.reshape(-1, 1))\n",
    "\n",
    "            neighbor_preds = np.sum(neighbor_preds, axis=0)\n",
    "            topk_preds = np.argpartition(-neighbor_preds, action_topk)[:action_topk]\n",
    "            neighbor_vals = neighbor_preds[topk_preds]\n",
    "            neighbor_vals, topk_preds = zip(*sorted(zip(-neighbor_vals, topk_preds)))\n",
    "\n",
    "            test_mrr = 0.0\n",
    "            if item in topk_preds:\n",
    "                correct_num += 1.0\n",
    "                test_rank = list(topk_preds).index(item)\n",
    "                test_mrr = 1.0/(test_rank+1.0)\n",
    "\n",
    "            total_num += 1.0\n",
    "            mrr_num += test_mrr\n",
    "    \n",
    "    while len(recent_user_list) > recent_usernum:\n",
    "        recent_user_list.pop(0)\n",
    "    recent_user_list.append(userid)\n",
    "    \n",
    "    if userid not in train_user_actionlist_dict:\n",
    "        train_user_actionlist_dict[userid] = []\n",
    "    else:\n",
    "        while len(train_user_actionlist_dict[userid]) > recent_actionum:\n",
    "            train_user_actionlist_dict[userid].pop(0)\n",
    "    train_user_actionlist_dict[userid].append(item)\n",
    "    \n",
    "end_time = datetime.datetime.now()\n",
    "print(\"duration\", end_time-start_time)\n",
    "print(\"correct num\", correct_num)\n",
    "print(\"total num\", total_num)\n",
    "print(\"recall@{0:d}: {1:.4f}\".format(action_topk, correct_num/total_num))\n",
    "print(\"mrr@{0:d}: {1:.4f}\".format(action_topk, mrr_num/total_num))\n"
   ]
  },
  {
   "cell_type": "code",
   "execution_count": null,
   "metadata": {},
   "outputs": [],
   "source": [
    "a = np.array([i*10 for i in range(10)])\n",
    "random.shuffle(a)\n",
    "print(a)\n",
    "# print(np.argpartition(a, 4))\n",
    "print(a[np.argpartition(a, 4)][:4])"
   ]
  },
  {
   "cell_type": "code",
   "execution_count": null,
   "metadata": {},
   "outputs": [],
   "source": []
  },
  {
   "cell_type": "code",
   "execution_count": null,
   "metadata": {},
   "outputs": [],
   "source": []
  }
 ],
 "metadata": {
  "kernelspec": {
   "display_name": "Python 3",
   "language": "python",
   "name": "python3"
  },
  "language_info": {
   "codemirror_mode": {
    "name": "ipython",
    "version": 3
   },
   "file_extension": ".py",
   "mimetype": "text/x-python",
   "name": "python",
   "nbconvert_exporter": "python",
   "pygments_lexer": "ipython3",
   "version": "3.8.3"
  }
 },
 "nbformat": 4,
 "nbformat_minor": 2
}
