{
 "cells": [
  {
   "cell_type": "markdown",
   "metadata": {},
   "source": [
    "### pipeline:\n",
    "#### 1. load data\n",
    "#### 2. remove actions of which timestamp are not accurate\n",
    "#### 3. remove infrequent items\n",
    "#### 4. remove infrequent users\n",
    "#### 5. map item from 1 to n\n",
    "#### 6. map category from 1 to n (or unknown for minor categories)"
   ]
  },
  {
   "cell_type": "code",
   "execution_count": 1,
   "metadata": {},
   "outputs": [],
   "source": [
    "import pandas as pd\n",
    "import numpy as np\n",
    "import random\n",
    "import pickle\n",
    "import matplotlib.pyplot as plt"
   ]
  },
  {
   "cell_type": "code",
   "execution_count": 2,
   "metadata": {},
   "outputs": [],
   "source": [
    "random.seed(30)"
   ]
  },
  {
   "cell_type": "markdown",
   "metadata": {},
   "source": [
    "#### 1. load data"
   ]
  },
  {
   "cell_type": "code",
   "execution_count": 3,
   "metadata": {},
   "outputs": [
    {
     "name": "stdout",
     "output_type": "stream",
     "text": [
      "initial data size, item num, user num (10142896, 5) 100000 1600922\n"
     ]
    }
   ],
   "source": [
    "item_file = \"../Data/tmall/taobao_100000_user.pickle\"\n",
    "df = pd.read_pickle(item_file)\n",
    "\n",
    "print(\"initial data size, item num, user num\", df.shape, df.userid.nunique(), df.itemid.nunique())"
   ]
  },
  {
   "cell_type": "markdown",
   "metadata": {},
   "source": [
    "#### remove actions out of time range"
   ]
  },
  {
   "cell_type": "code",
   "execution_count": 4,
   "metadata": {},
   "outputs": [
    {
     "name": "stdout",
     "output_type": "stream",
     "text": [
      "before processing (10142896, 5)\n"
     ]
    }
   ],
   "source": [
    "sorted_df = df.sort_values(by=['userid', 'timestamp'], ascending=[True, True])\n",
    "print(\"before processing\", sorted_df.shape)"
   ]
  },
  {
   "cell_type": "code",
   "execution_count": 5,
   "metadata": {},
   "outputs": [
    {
     "name": "stdout",
     "output_type": "stream",
     "text": [
      "remove time stamp > 1511481600 (10141285, 5)\n"
     ]
    }
   ],
   "source": [
    "sorted_df = sorted_df[sorted_df.timestamp >= 1511481600]\n",
    "print(\"remove time stamp > 1511481600\", sorted_df.shape)"
   ]
  },
  {
   "cell_type": "code",
   "execution_count": 6,
   "metadata": {},
   "outputs": [
    {
     "name": "stdout",
     "output_type": "stream",
     "text": [
      "remove time stamp < 1512345600 (10141068, 5)\n"
     ]
    }
   ],
   "source": [
    "sorted_df = sorted_df[sorted_df.timestamp <= 1512345600]\n",
    "print(\"remove time stamp < 1512345600\", sorted_df.shape)"
   ]
  },
  {
   "cell_type": "markdown",
   "metadata": {},
   "source": [
    "##### split data into train and test df"
   ]
  },
  {
   "cell_type": "code",
   "execution_count": 7,
   "metadata": {},
   "outputs": [
    {
     "name": "stdout",
     "output_type": "stream",
     "text": [
      "train num (7509968, 5)\n",
      "valid num (1421671, 5)\n",
      "test num (1209429, 5)\n"
     ]
    }
   ],
   "source": [
    "trainTime_threshold = 1512172800\n",
    "validTime_threshold = 1512259200\n",
    "\n",
    "train_df = sorted_df[sorted_df.timestamp <= trainTime_threshold]\n",
    "valid_test_df = sorted_df[sorted_df.timestamp > trainTime_threshold]\n",
    "valid_df = valid_test_df[valid_test_df.timestamp <= validTime_threshold]\n",
    "test_df = valid_test_df[valid_test_df.timestamp > validTime_threshold]\n",
    "print(\"train num\", train_df.shape)\n",
    "print(\"valid num\", valid_df.shape)\n",
    "print(\"test num\", test_df.shape)"
   ]
  },
  {
   "cell_type": "markdown",
   "metadata": {},
   "source": [
    "#### remove infrequent items"
   ]
  },
  {
   "cell_type": "code",
   "execution_count": 8,
   "metadata": {},
   "outputs": [
    {
     "name": "stdout",
     "output_type": "stream",
     "text": [
      "remove item num 1304091 0.9504343706726915\n",
      "before filtering item num 1372100\n",
      "after filtering itemnum 68009\n"
     ]
    }
   ],
   "source": [
    "remove_item_list = []\n",
    "item_freq_map = train_df['itemid'].value_counts()\n",
    "for item, freq in item_freq_map.items():\n",
    "    if freq < 20:\n",
    "        remove_item_list.append(item)\n",
    "remove_item_num = len(remove_item_list)\n",
    "print(\"remove item num\", remove_item_num, remove_item_num*1.0/len(item_freq_map.keys()))\n",
    "print(\"before filtering item num\", train_df.itemid.nunique())\n",
    "train_df = train_df[~train_df.itemid.isin(remove_item_list)]\n",
    "print(\"after filtering itemnum\", train_df.itemid.nunique())"
   ]
  },
  {
   "cell_type": "markdown",
   "metadata": {},
   "source": [
    "#### remove infrequent users"
   ]
  },
  {
   "cell_type": "code",
   "execution_count": 9,
   "metadata": {},
   "outputs": [
    {
     "name": "stdout",
     "output_type": "stream",
     "text": [
      "filter user actions >=300 41\n",
      "filter user actions <= 5 14937\n",
      "filter user num 14978\n"
     ]
    }
   ],
   "source": [
    "user_freq_map = train_df.userid.value_counts()\n",
    "filter_users_num_total = 0\n",
    "\n",
    "filter_users = user_freq_map[user_freq_map>=300].index\n",
    "filter_users_num = len(filter_users)\n",
    "print(\"filter user actions >=300\", filter_users_num)\n",
    "filter_users_num_total += filter_users_num\n",
    "\n",
    "train_df = train_df[~train_df.userid.isin(filter_users)]\n",
    "\n",
    "filter_users = user_freq_map[user_freq_map<=5].index\n",
    "filter_users_num = len(filter_users)\n",
    "print(\"filter user actions <= 5\", filter_users_num)\n",
    "filter_users_num_total += filter_users_num\n",
    "\n",
    "train_df = train_df[~train_df.userid.isin(filter_users)]\n",
    "\n",
    "print(\"filter user num\", filter_users_num_total)"
   ]
  },
  {
   "cell_type": "code",
   "execution_count": 10,
   "metadata": {},
   "outputs": [
    {
     "name": "stdout",
     "output_type": "stream",
     "text": [
      "unique item num 68008\n",
      "total action num 3381110\n",
      "action num per item 49.716356899188334\n"
     ]
    }
   ],
   "source": [
    "unique_item_num = train_df.itemid.nunique()\n",
    "total_action_num = train_df.shape[0]\n",
    "print(\"unique item num\", unique_item_num)\n",
    "print(\"total action num\", total_action_num)\n",
    "print(\"action num per item\", total_action_num*1.0/unique_item_num)"
   ]
  },
  {
   "cell_type": "code",
   "execution_count": null,
   "metadata": {},
   "outputs": [],
   "source": [
    "#### remove users whose train actions < 15\n",
    "# train_user_freq_map = train_df.userid.value_counts()\n",
    "# print(\"before filtering\", len(train_user_freq_map))\n",
    "# train_userid_list = train_user_freq_map[train_user_freq_map > 15].index\n",
    "# print(\"train_userid_list\", len(train_userid_list))"
   ]
  },
  {
   "cell_type": "code",
   "execution_count": 11,
   "metadata": {},
   "outputs": [],
   "source": [
    "train_userid_list = train_df.userid.unique()\n",
    "train_df = train_df[train_df.userid.isin(train_userid_list)]\n",
    "valid_df = valid_df[valid_df.userid.isin(train_userid_list)]\n",
    "test_df = test_df[test_df.userid.isin(train_userid_list)]"
   ]
  },
  {
   "cell_type": "code",
   "execution_count": 12,
   "metadata": {},
   "outputs": [],
   "source": [
    "train_itemid_list = train_df.itemid.unique()\n",
    "train_df = train_df[train_df.itemid.isin(train_itemid_list)]\n",
    "valid_df = valid_df[valid_df.itemid.isin(train_itemid_list)]\n",
    "test_df = test_df[test_df.itemid.isin(train_itemid_list)]"
   ]
  },
  {
   "cell_type": "code",
   "execution_count": 13,
   "metadata": {},
   "outputs": [
    {
     "name": "stdout",
     "output_type": "stream",
     "text": [
      "action num (4391921, 5)\n"
     ]
    }
   ],
   "source": [
    "sorted_df = pd.concat([train_df, valid_df, test_df])\n",
    "print(\"action num\", sorted_df.shape)"
   ]
  },
  {
   "cell_type": "markdown",
   "metadata": {},
   "source": [
    "#### remove duplicate categories"
   ]
  },
  {
   "cell_type": "code",
   "execution_count": 14,
   "metadata": {},
   "outputs": [
    {
     "name": "stdout",
     "output_type": "stream",
     "text": [
      "unique cate num 2299\n"
     ]
    }
   ],
   "source": [
    "itemids = sorted_df.itemid.unique()\n",
    "categoryids = sorted_df.categoryid.unique()\n",
    "print(\"unique cate num\", sorted_df.categoryid.nunique())\n",
    "category_map = {}\n",
    "idx = 0\n",
    "for c in categoryids:\n",
    "    category_map[c] = idx\n",
    "    idx += 1"
   ]
  },
  {
   "cell_type": "code",
   "execution_count": 15,
   "metadata": {},
   "outputs": [],
   "source": [
    "adj = np.zeros((len(categoryids), len(categoryids)), dtype=int)\n",
    "for i in itemids:\n",
    "    same_category = sorted_df[sorted_df.itemid == i].categoryid.unique()\n",
    "    N = len(same_category)\n",
    "    if N > 1:\n",
    "#         print('found', same_category)\n",
    "        for i in range(N):\n",
    "            c1 = category_map[ same_category[i] ]\n",
    "            for j in range(i, N):\n",
    "                c2 = category_map[ same_category[j] ]\n",
    "                adj[c1][c2] = 1\n",
    "                adj[c2][c1] = 1"
   ]
  },
  {
   "cell_type": "code",
   "execution_count": 19,
   "metadata": {},
   "outputs": [],
   "source": [
    "groupids = np.zeros((len(categoryids)), int)\n",
    "gid = 1\n",
    "def dfs(idx, gid):\n",
    "    if groupids[idx] != 0: \n",
    "        return\n",
    "#     print(adj[idx].nonzero())\n",
    "    for n in adj[idx].nonzero()[0]:\n",
    "        groupids[idx] = gid\n",
    "        dfs(n, gid)\n",
    "        \n",
    "for i in range(len(categoryids)):\n",
    "    if groupids[i] == 0:\n",
    "        dfs(i, gid)\n",
    "        groupids[i] = gid\n",
    "        gid += 1"
   ]
  },
  {
   "cell_type": "code",
   "execution_count": 20,
   "metadata": {},
   "outputs": [
    {
     "ename": "KeyError",
     "evalue": "1",
     "output_type": "error",
     "traceback": [
      "\u001b[0;31m----------------------------------------------------------------------\u001b[0m",
      "\u001b[0;31mKeyError\u001b[0m                             Traceback (most recent call last)",
      "\u001b[0;32m<ipython-input-20-0e7a5e65a563>\u001b[0m in \u001b[0;36m<module>\u001b[0;34m\u001b[0m\n\u001b[0;32m----> 1\u001b[0;31m \u001b[0msorted_df\u001b[0m\u001b[0;34m[\u001b[0m\u001b[0;34m'categoryid'\u001b[0m\u001b[0;34m]\u001b[0m \u001b[0;34m=\u001b[0m \u001b[0msorted_df\u001b[0m\u001b[0;34m[\u001b[0m\u001b[0;34m'categoryid'\u001b[0m\u001b[0;34m]\u001b[0m\u001b[0;34m.\u001b[0m\u001b[0mapply\u001b[0m\u001b[0;34m(\u001b[0m\u001b[0;32mlambda\u001b[0m \u001b[0mx\u001b[0m\u001b[0;34m:\u001b[0m \u001b[0mgroupids\u001b[0m\u001b[0;34m[\u001b[0m \u001b[0mcategory_map\u001b[0m\u001b[0;34m[\u001b[0m\u001b[0mx\u001b[0m\u001b[0;34m]\u001b[0m \u001b[0;34m]\u001b[0m\u001b[0;34m)\u001b[0m\u001b[0;34m\u001b[0m\u001b[0;34m\u001b[0m\u001b[0m\n\u001b[0m\u001b[1;32m      2\u001b[0m \u001b[0mprint\u001b[0m\u001b[0;34m(\u001b[0m\u001b[0;34m\"unique cate num\"\u001b[0m\u001b[0;34m,\u001b[0m \u001b[0msorted_df\u001b[0m\u001b[0;34m.\u001b[0m\u001b[0mcategoryid\u001b[0m\u001b[0;34m.\u001b[0m\u001b[0mnunique\u001b[0m\u001b[0;34m(\u001b[0m\u001b[0;34m)\u001b[0m\u001b[0;34m)\u001b[0m\u001b[0;34m\u001b[0m\u001b[0;34m\u001b[0m\u001b[0m\n",
      "\u001b[0;32m~/anaconda3/lib/python3.7/site-packages/pandas/core/series.py\u001b[0m in \u001b[0;36mapply\u001b[0;34m(self, func, convert_dtype, args, **kwds)\u001b[0m\n\u001b[1;32m   3589\u001b[0m             \u001b[0;32melse\u001b[0m\u001b[0;34m:\u001b[0m\u001b[0;34m\u001b[0m\u001b[0;34m\u001b[0m\u001b[0m\n\u001b[1;32m   3590\u001b[0m                 \u001b[0mvalues\u001b[0m \u001b[0;34m=\u001b[0m \u001b[0mself\u001b[0m\u001b[0;34m.\u001b[0m\u001b[0mastype\u001b[0m\u001b[0;34m(\u001b[0m\u001b[0mobject\u001b[0m\u001b[0;34m)\u001b[0m\u001b[0;34m.\u001b[0m\u001b[0mvalues\u001b[0m\u001b[0;34m\u001b[0m\u001b[0;34m\u001b[0m\u001b[0m\n\u001b[0;32m-> 3591\u001b[0;31m                 \u001b[0mmapped\u001b[0m \u001b[0;34m=\u001b[0m \u001b[0mlib\u001b[0m\u001b[0;34m.\u001b[0m\u001b[0mmap_infer\u001b[0m\u001b[0;34m(\u001b[0m\u001b[0mvalues\u001b[0m\u001b[0;34m,\u001b[0m \u001b[0mf\u001b[0m\u001b[0;34m,\u001b[0m \u001b[0mconvert\u001b[0m\u001b[0;34m=\u001b[0m\u001b[0mconvert_dtype\u001b[0m\u001b[0;34m)\u001b[0m\u001b[0;34m\u001b[0m\u001b[0;34m\u001b[0m\u001b[0m\n\u001b[0m\u001b[1;32m   3592\u001b[0m \u001b[0;34m\u001b[0m\u001b[0m\n\u001b[1;32m   3593\u001b[0m         \u001b[0;32mif\u001b[0m \u001b[0mlen\u001b[0m\u001b[0;34m(\u001b[0m\u001b[0mmapped\u001b[0m\u001b[0;34m)\u001b[0m \u001b[0;32mand\u001b[0m \u001b[0misinstance\u001b[0m\u001b[0;34m(\u001b[0m\u001b[0mmapped\u001b[0m\u001b[0;34m[\u001b[0m\u001b[0;36m0\u001b[0m\u001b[0;34m]\u001b[0m\u001b[0;34m,\u001b[0m \u001b[0mSeries\u001b[0m\u001b[0;34m)\u001b[0m\u001b[0;34m:\u001b[0m\u001b[0;34m\u001b[0m\u001b[0;34m\u001b[0m\u001b[0m\n",
      "\u001b[0;32mpandas/_libs/lib.pyx\u001b[0m in \u001b[0;36mpandas._libs.lib.map_infer\u001b[0;34m()\u001b[0m\n",
      "\u001b[0;32m<ipython-input-20-0e7a5e65a563>\u001b[0m in \u001b[0;36m<lambda>\u001b[0;34m(x)\u001b[0m\n\u001b[0;32m----> 1\u001b[0;31m \u001b[0msorted_df\u001b[0m\u001b[0;34m[\u001b[0m\u001b[0;34m'categoryid'\u001b[0m\u001b[0;34m]\u001b[0m \u001b[0;34m=\u001b[0m \u001b[0msorted_df\u001b[0m\u001b[0;34m[\u001b[0m\u001b[0;34m'categoryid'\u001b[0m\u001b[0;34m]\u001b[0m\u001b[0;34m.\u001b[0m\u001b[0mapply\u001b[0m\u001b[0;34m(\u001b[0m\u001b[0;32mlambda\u001b[0m \u001b[0mx\u001b[0m\u001b[0;34m:\u001b[0m \u001b[0mgroupids\u001b[0m\u001b[0;34m[\u001b[0m \u001b[0mcategory_map\u001b[0m\u001b[0;34m[\u001b[0m\u001b[0mx\u001b[0m\u001b[0;34m]\u001b[0m \u001b[0;34m]\u001b[0m\u001b[0;34m)\u001b[0m\u001b[0;34m\u001b[0m\u001b[0;34m\u001b[0m\u001b[0m\n\u001b[0m\u001b[1;32m      2\u001b[0m \u001b[0mprint\u001b[0m\u001b[0;34m(\u001b[0m\u001b[0;34m\"unique cate num\"\u001b[0m\u001b[0;34m,\u001b[0m \u001b[0msorted_df\u001b[0m\u001b[0;34m.\u001b[0m\u001b[0mcategoryid\u001b[0m\u001b[0;34m.\u001b[0m\u001b[0mnunique\u001b[0m\u001b[0;34m(\u001b[0m\u001b[0;34m)\u001b[0m\u001b[0;34m)\u001b[0m\u001b[0;34m\u001b[0m\u001b[0;34m\u001b[0m\u001b[0m\n",
      "\u001b[0;31mKeyError\u001b[0m: 1"
     ]
    }
   ],
   "source": [
    "sorted_df['categoryid'] = sorted_df['categoryid'].apply(lambda x: groupids[ category_map[x] ])\n",
    "print(\"unique cate num\", sorted_df.categoryid.nunique())"
   ]
  },
  {
   "cell_type": "code",
   "execution_count": 33,
   "metadata": {},
   "outputs": [],
   "source": [
    "import torch"
   ]
  },
  {
   "cell_type": "code",
   "execution_count": 35,
   "metadata": {},
   "outputs": [
    {
     "data": {
      "text/plain": [
       "tensor([[[-0.2769, -4.2810, -1.6323],\n",
       "         [ 1.1940, -2.6774, -0.8209]]])"
      ]
     },
     "execution_count": 35,
     "metadata": {},
     "output_type": "execute_result"
    }
   ],
   "source": [
    "a = torch.randn(1, 2, 4)\n",
    "b = torch.randn(1, 4, 3)\n",
    "torch.bmm(a, b)"
   ]
  },
  {
   "cell_type": "code",
   "execution_count": null,
   "metadata": {},
   "outputs": [],
   "source": []
  },
  {
   "cell_type": "code",
   "execution_count": 21,
   "metadata": {},
   "outputs": [
    {
     "data": {
      "text/plain": [
       "(4391921, 5)"
      ]
     },
     "execution_count": 21,
     "metadata": {},
     "output_type": "execute_result"
    }
   ],
   "source": [
    "sorted_df.shape"
   ]
  },
  {
   "cell_type": "code",
   "execution_count": 22,
   "metadata": {},
   "outputs": [
    {
     "data": {
      "text/html": [
       "<div>\n",
       "<style scoped>\n",
       "    .dataframe tbody tr th:only-of-type {\n",
       "        vertical-align: middle;\n",
       "    }\n",
       "\n",
       "    .dataframe tbody tr th {\n",
       "        vertical-align: top;\n",
       "    }\n",
       "\n",
       "    .dataframe thead th {\n",
       "        text-align: right;\n",
       "    }\n",
       "</style>\n",
       "<table border=\"1\" class=\"dataframe\">\n",
       "  <thead>\n",
       "    <tr style=\"text-align: right;\">\n",
       "      <th></th>\n",
       "      <th>userid</th>\n",
       "      <th>itemid</th>\n",
       "      <th>categoryid</th>\n",
       "      <th>behavior</th>\n",
       "      <th>timestamp</th>\n",
       "    </tr>\n",
       "  </thead>\n",
       "  <tbody>\n",
       "    <tr>\n",
       "      <th>41582965</th>\n",
       "      <td>16</td>\n",
       "      <td>3840502</td>\n",
       "      <td>1</td>\n",
       "      <td>pv</td>\n",
       "      <td>1511626494</td>\n",
       "    </tr>\n",
       "    <tr>\n",
       "      <th>41582966</th>\n",
       "      <td>16</td>\n",
       "      <td>3716887</td>\n",
       "      <td>2</td>\n",
       "      <td>pv</td>\n",
       "      <td>1511626551</td>\n",
       "    </tr>\n",
       "    <tr>\n",
       "      <th>41582968</th>\n",
       "      <td>16</td>\n",
       "      <td>3840502</td>\n",
       "      <td>1</td>\n",
       "      <td>pv</td>\n",
       "      <td>1511626597</td>\n",
       "    </tr>\n",
       "    <tr>\n",
       "      <th>41582969</th>\n",
       "      <td>16</td>\n",
       "      <td>4115794</td>\n",
       "      <td>1</td>\n",
       "      <td>pv</td>\n",
       "      <td>1511626761</td>\n",
       "    </tr>\n",
       "    <tr>\n",
       "      <th>41582970</th>\n",
       "      <td>16</td>\n",
       "      <td>2111454</td>\n",
       "      <td>3</td>\n",
       "      <td>pv</td>\n",
       "      <td>1511626770</td>\n",
       "    </tr>\n",
       "  </tbody>\n",
       "</table>\n",
       "</div>"
      ],
      "text/plain": [
       "          userid   itemid  categoryid behavior   timestamp\n",
       "41582965      16  3840502           1       pv  1511626494\n",
       "41582966      16  3716887           2       pv  1511626551\n",
       "41582968      16  3840502           1       pv  1511626597\n",
       "41582969      16  4115794           1       pv  1511626761\n",
       "41582970      16  2111454           3       pv  1511626770"
      ]
     },
     "execution_count": 22,
     "metadata": {},
     "output_type": "execute_result"
    }
   ],
   "source": [
    "sorted_df.head()"
   ]
  },
  {
   "cell_type": "code",
   "execution_count": 23,
   "metadata": {},
   "outputs": [
    {
     "data": {
      "text/plain": [
       "(1512322883, 1511481682)"
      ]
     },
     "execution_count": 23,
     "metadata": {},
     "output_type": "execute_result"
    }
   ],
   "source": [
    "sorted_df.timestamp.max(), sorted_df.timestamp.min()"
   ]
  },
  {
   "cell_type": "code",
   "execution_count": 24,
   "metadata": {},
   "outputs": [
    {
     "name": "stdout",
     "output_type": "stream",
     "text": [
      "train num (3381110, 5)\n",
      "valid num (549380, 5)\n",
      "test num (461431, 5)\n"
     ]
    }
   ],
   "source": [
    "trainTime_threshold = 1512172800\n",
    "validTime_threshold = 1512259200\n",
    "\n",
    "train_df = sorted_df[sorted_df.timestamp <= trainTime_threshold]\n",
    "valid_test_df = sorted_df[sorted_df.timestamp > trainTime_threshold]\n",
    "valid_df = valid_test_df[valid_test_df.timestamp <= validTime_threshold]\n",
    "test_df = valid_test_df[valid_test_df.timestamp > validTime_threshold]\n",
    "print(\"train num\", train_df.shape)\n",
    "print(\"valid num\", valid_df.shape)\n",
    "print(\"test num\", test_df.shape)"
   ]
  },
  {
   "cell_type": "markdown",
   "metadata": {},
   "source": [
    "#### map item"
   ]
  },
  {
   "cell_type": "code",
   "execution_count": 19,
   "metadata": {},
   "outputs": [
    {
     "name": "stdout",
     "output_type": "stream",
     "text": [
      "train item num 96354\n"
     ]
    }
   ],
   "source": [
    "# itemid_list_train = train_df.itemid.unique()\n",
    "# itemid_map_train = {}\n",
    "\n",
    "# itemid_map_train['<PAD>'] = 0\n",
    "# for itemid in itemid_list_train:\n",
    "#     itemid_map_train[itemid] = len(itemid_map_train)\n",
    "# print(\"train item num\", len(itemid_map_train)-1)"
   ]
  },
  {
   "cell_type": "code",
   "execution_count": 25,
   "metadata": {},
   "outputs": [
    {
     "name": "stdout",
     "output_type": "stream",
     "text": [
      "train item num 68008\n"
     ]
    }
   ],
   "source": [
    "item_freq = train_df.itemid.value_counts()\n",
    "itemid_map_train = {}\n",
    "\n",
    "itemid_map_train['<PAD>'] = 0\n",
    "for item, freq in item_freq.items():\n",
    "    itemid_map_train[item] = len(itemid_map_train)\n",
    "print(\"train item num\", len(itemid_map_train)-1)"
   ]
  },
  {
   "cell_type": "code",
   "execution_count": 26,
   "metadata": {},
   "outputs": [],
   "source": [
    "sorted_df.itemid = sorted_df.itemid.apply(lambda x: itemid_map_train[x])"
   ]
  },
  {
   "cell_type": "markdown",
   "metadata": {},
   "source": [
    "#### map category"
   ]
  },
  {
   "cell_type": "code",
   "execution_count": 27,
   "metadata": {},
   "outputs": [],
   "source": [
    "itemNum_list_category = sorted_df.groupby('categoryid')['itemid'].nunique().tolist()\n",
    "actionNum_list_category = sorted_df.groupby('categoryid')['itemid'].count().tolist()\n",
    "cate_index_list = sorted_df.groupby('categoryid').groups.keys()"
   ]
  },
  {
   "cell_type": "code",
   "execution_count": 28,
   "metadata": {},
   "outputs": [],
   "source": [
    "temp = sorted(zip(itemNum_list_category, actionNum_list_category, cate_index_list), reverse=True)\n",
    "sorted_itemNum_list_cate, sorted_actionNum_list_cate, sorted_cate_index_list= zip(*temp)"
   ]
  },
  {
   "cell_type": "code",
   "execution_count": 29,
   "metadata": {},
   "outputs": [],
   "source": [
    "major_cate_num = 200\n",
    "minor_cate_index_list = sorted_cate_index_list[major_cate_num:]\n",
    "major_cate_index_list = sorted_cate_index_list[:major_cate_num]\n",
    "\n",
    "cate_id_map = {}\n",
    "cate_id_map['<PAD>'] = 0\n",
    "\n",
    "for cate in major_cate_index_list:\n",
    "    cate_id_map[cate] = len(cate_id_map)\n",
    "    \n",
    "unknownCate_id = len(cate_id_map)\n",
    "\n",
    "for cate in minor_cate_index_list:\n",
    "    cate_id_map[cate] = unknownCate_id\n",
    "\n",
    "sorted_df.categoryid = sorted_df.categoryid.apply(lambda x: cate_id_map[x])"
   ]
  },
  {
   "cell_type": "markdown",
   "metadata": {},
   "source": [
    "#### save pickle"
   ]
  },
  {
   "cell_type": "code",
   "execution_count": 32,
   "metadata": {},
   "outputs": [],
   "source": [
    "sorted_df.to_pickle(\"../Data/ctr_tmall/data_time.pickle\")"
   ]
  },
  {
   "cell_type": "code",
   "execution_count": 3,
   "metadata": {},
   "outputs": [],
   "source": [
    "sorted_df= pd.read_pickle(\"./100k_unknown_cate/data_time.pickle\")"
   ]
  },
  {
   "cell_type": "code",
   "execution_count": 4,
   "metadata": {},
   "outputs": [],
   "source": [
    "cate_nunique_list = sorted_df.groupby('userid')['categoryid'].nunique()"
   ]
  },
  {
   "cell_type": "code",
   "execution_count": 15,
   "metadata": {},
   "outputs": [
    {
     "data": {
      "text/plain": [
       "748554"
      ]
     },
     "execution_count": 15,
     "metadata": {},
     "output_type": "execute_result"
    }
   ],
   "source": [
    "sum(list(cate_nunique_list.values))/"
   ]
  },
  {
   "cell_type": "code",
   "execution_count": 16,
   "metadata": {},
   "outputs": [
    {
     "name": "stdout",
     "output_type": "stream",
     "text": [
      "user num 51275\n"
     ]
    }
   ],
   "source": [
    "userid_group_list = list(sorted_df.groupby(['userid']).groups.keys())\n",
    "user_num = len(userid_group_list)\n",
    "print(\"user num\", user_num)"
   ]
  },
  {
   "cell_type": "code",
   "execution_count": 6,
   "metadata": {},
   "outputs": [],
   "source": [
    "cate_list = sorted_df.groupby('userid')['categoryid'].apply(list)"
   ]
  },
  {
   "cell_type": "code",
   "execution_count": 11,
   "metadata": {},
   "outputs": [
    {
     "data": {
      "text/plain": [
       "userid\n",
       "16    [5, 6, 5, 5, 22, 3, 201, 3, 64, 5, 3, 29, 201,...\n",
       "17    [21, 21, 1, 8, 4, 22, 201, 78, 19, 1, 3, 3, 3,...\n",
       "44    [1, 5, 1, 1, 7, 1, 7, 17, 1, 201, 201, 201, 20...\n",
       "45    [93, 2, 1, 1, 48, 2, 9, 2, 9, 2, 1, 1, 189, 2,...\n",
       "72    [3, 3, 9, 15, 108, 201, 201, 201, 171, 171, 17...\n",
       "74    [76, 76, 76, 76, 76, 76, 76, 76, 4, 4, 4, 64, ...\n",
       "Name: categoryid, dtype: object"
      ]
     },
     "execution_count": 11,
     "metadata": {},
     "output_type": "execute_result"
    }
   ],
   "source": [
    "cate_list[:6]"
   ]
  },
  {
   "cell_type": "code",
   "execution_count": null,
   "metadata": {},
   "outputs": [],
   "source": []
  },
  {
   "cell_type": "code",
   "execution_count": 33,
   "metadata": {},
   "outputs": [
    {
     "name": "stdout",
     "output_type": "stream",
     "text": [
      "before processing (10142896, 5)\n"
     ]
    }
   ],
   "source": [
    "sorted_df = df.sort_values(by=['userid', 'timestamp'], ascending=[True, True])\n",
    "print(\"before processing\", sorted_df.shape)"
   ]
  },
  {
   "cell_type": "code",
   "execution_count": null,
   "metadata": {},
   "outputs": [],
   "source": []
  },
  {
   "cell_type": "code",
   "execution_count": 57,
   "metadata": {},
   "outputs": [
    {
     "name": "stdout",
     "output_type": "stream",
     "text": [
      "user num 51275\n",
      "51275 51275 51275\n"
     ]
    }
   ],
   "source": [
    "userid_group_list = list(sorted_df.groupby(['userid']).groups.keys())\n",
    "user_num = len(userid_group_list)\n",
    "print(\"user num\", user_num)\n",
    "\n",
    "item_list = []\n",
    "time_list = []\n",
    "cate_list = []\n",
    "user_list = []\n",
    "\n",
    "item_list = sorted_df.groupby('userid')['itemid'].apply(list).values\n",
    "time_list = sorted_df.groupby('userid')['timestamp'].apply(list).values\n",
    "cate_list = sorted_df.groupby('userid')['categoryid'].apply(list).values\n",
    "\n",
    "print(len(item_list), len(time_list), len(cate_list))\n",
    "\n",
    "len_list = [len(item_list_user) for item_list_user in item_list]\n",
    "user_list = []\n",
    "for len_index in range(len(item_list)):\n",
    "    len_i = len_list[len_index]\n",
    "    user_list_per = [len_index for i in range(len_i)]\n",
    "    user_list.append(user_list_per)\n"
   ]
  },
  {
   "cell_type": "code",
   "execution_count": 60,
   "metadata": {},
   "outputs": [],
   "source": [
    "def save_pickle_cate_unknown_time(item, time, cate, user):\n",
    "    item_file = \"100k_unknown_cate/\"+\"item_time.pickle\"\n",
    "    item_f = open(item_file, \"wb\")\n",
    "    pickle.dump(item, item_f)\n",
    "    \n",
    "    time_file = \"100k_unknown_cate/\"+\"time_time.pickle\"\n",
    "    time_f = open(time_file, \"wb\")\n",
    "    pickle.dump(time, time_f)\n",
    "\n",
    "    cate_file = \"100k_unknown_cate/\"+\"cate_time.pickle\"\n",
    "    cate_f = open(cate_file, \"wb\")\n",
    "    pickle.dump(cate, cate_f)\n",
    "    \n",
    "    user_file = \"100k_unknown_cate/\"+\"user_time.pickle\"\n",
    "    user_f = open(user_file, \"wb\")\n",
    "    pickle.dump(user, user_f)"
   ]
  },
  {
   "cell_type": "code",
   "execution_count": 61,
   "metadata": {},
   "outputs": [],
   "source": [
    "save_pickle_cate_unknown_time(item_list, time_list, cate_list, user_list)"
   ]
  },
  {
   "cell_type": "code",
   "execution_count": null,
   "metadata": {},
   "outputs": [],
   "source": []
  },
  {
   "cell_type": "code",
   "execution_count": null,
   "metadata": {},
   "outputs": [],
   "source": []
  },
  {
   "cell_type": "code",
   "execution_count": 42,
   "metadata": {},
   "outputs": [
    {
     "name": "stdout",
     "output_type": "stream",
     "text": [
      "train num (2995258, 5)\n",
      "valid num (430797, 5)\n",
      "test num (359906, 5)\n"
     ]
    }
   ],
   "source": [
    "trainTime_threshold = 1512172800\n",
    "validTime_threshold = 1512259200\n",
    "\n",
    "train_df = sorted_df[sorted_df.timestamp <= trainTime_threshold]\n",
    "valid_test_df = sorted_df[sorted_df.timestamp > trainTime_threshold]\n",
    "valid_df = valid_test_df[valid_test_df.timestamp <= validTime_threshold]\n",
    "test_df = valid_test_df[valid_test_df.timestamp > validTime_threshold]\n",
    "print(\"train num\", train_df.shape)\n",
    "print(\"valid num\", valid_df.shape)\n",
    "print(\"test num\", test_df.shape)"
   ]
  },
  {
   "cell_type": "code",
   "execution_count": null,
   "metadata": {},
   "outputs": [],
   "source": []
  },
  {
   "cell_type": "code",
   "execution_count": null,
   "metadata": {},
   "outputs": [],
   "source": []
  },
  {
   "cell_type": "code",
   "execution_count": 43,
   "metadata": {},
   "outputs": [
    {
     "name": "stdout",
     "output_type": "stream",
     "text": [
      "train user num 51275\n",
      "51275 51275 51275\n"
     ]
    }
   ],
   "source": [
    "train_userid_group_list = list(train_df.groupby(['userid']).groups.keys())\n",
    "train_user_num = len(train_userid_group_list)\n",
    "print(\"train user num\", train_user_num)\n",
    "\n",
    "train_item_list = []\n",
    "train_time_list = []\n",
    "# rating_list = []\n",
    "train_cate_list = []\n",
    "train_user_list = []\n",
    "\n",
    "train_item_list = train_df.groupby('userid')['itemid'].apply(list).values\n",
    "train_time_list = train_df.groupby('userid')['timestamp'].apply(list).values\n",
    "train_cate_list = train_df.groupby('userid')['categoryid'].apply(list).values\n",
    "\n",
    "print(len(train_item_list), len(train_time_list), len(train_cate_list))\n",
    "\n",
    "len_list = [len(item_list_user) for item_list_user in train_item_list]\n",
    "train_user_list = []\n",
    "for len_index in range(len(train_item_list)):\n",
    "    len_i = len_list[len_index]\n",
    "    user_list_per = [len_index for i in range(len_i)]\n",
    "    train_user_list.append(user_list_per)"
   ]
  },
  {
   "cell_type": "code",
   "execution_count": 44,
   "metadata": {},
   "outputs": [
    {
     "name": "stdout",
     "output_type": "stream",
     "text": [
      "test user num 41935\n"
     ]
    }
   ],
   "source": [
    "test_userid_group_list = list(test_df.groupby(['userid']).groups.keys())\n",
    "test_user_num = len(test_userid_group_list)\n",
    "print(\"test user num\", test_user_num)\n",
    "\n",
    "test_item_list = []\n",
    "test_time_list = []\n",
    "# rating_list = []\n",
    "test_cate_list = []\n",
    "test_user_list = []\n",
    "\n",
    "test_item_list = test_df.groupby('userid')['itemid'].apply(list).values\n",
    "test_time_list = test_df.groupby('userid')['timestamp'].apply(list).values\n",
    "test_cate_list = test_df.groupby('userid')['categoryid'].apply(list).values\n",
    "\n",
    "len_list = [len(item_list_user) for item_list_user in test_item_list]\n",
    "test_user_list = []\n",
    "for len_index in range(len(test_item_list)):\n",
    "    len_i = len_list[len_index]\n",
    "    user_list_per = [len_index for i in range(len_i)]\n",
    "    test_user_list.append(user_list_per)"
   ]
  },
  {
   "cell_type": "code",
   "execution_count": 45,
   "metadata": {},
   "outputs": [
    {
     "name": "stdout",
     "output_type": "stream",
     "text": [
      "valid user num 44148\n"
     ]
    }
   ],
   "source": [
    "valid_userid_group_list = list(valid_df.groupby(['userid']).groups.keys())\n",
    "valid_user_num = len(valid_userid_group_list)\n",
    "print(\"valid user num\", valid_user_num)\n",
    "\n",
    "valid_item_list = []\n",
    "valid_time_list = []\n",
    "# rating_list = []\n",
    "valid_cate_list = []\n",
    "valid_user_list = []\n",
    "\n",
    "valid_item_list = valid_df.groupby('userid')['itemid'].apply(list).values\n",
    "valid_time_list = valid_df.groupby('userid')['timestamp'].apply(list).values\n",
    "valid_cate_list = valid_df.groupby('userid')['categoryid'].apply(list).values\n",
    "\n",
    "len_list = [len(item_list_user) for item_list_user in valid_item_list]\n",
    "valid_user_list = []\n",
    "for len_index in range(len(valid_item_list)):\n",
    "    len_i = len_list[len_index]\n",
    "    user_list_per = [len_index for i in range(len_i)]\n",
    "    valid_user_list.append(user_list_per)"
   ]
  },
  {
   "cell_type": "markdown",
   "metadata": {},
   "source": [
    "### save train, valid, test data"
   ]
  },
  {
   "cell_type": "code",
   "execution_count": 48,
   "metadata": {},
   "outputs": [],
   "source": [
    "def save_pickle_cate_unknown(train_test, item, time, cate, user):\n",
    "    item_file = \"100k_unknown_cate/\"+train_test+\"_item.pickle\"\n",
    "    item_f = open(item_file, \"wb\")\n",
    "    pickle.dump(item, item_f)\n",
    "    \n",
    "    time_file = \"100k_unknown_cate/\"+train_test+\"_time.pickle\"\n",
    "    time_f = open(time_file, \"wb\")\n",
    "    pickle.dump(time, time_f)\n",
    "\n",
    "    cate_file = \"100k_unknown_cate/\"+train_test+\"_cate.pickle\"\n",
    "    cate_f = open(cate_file, \"wb\")\n",
    "    pickle.dump(cate, cate_f)\n",
    "    \n",
    "    user_file = \"100k_unknown_cate/\"+train_test+\"_user.pickle\"\n",
    "    user_f = open(user_file, \"wb\")\n",
    "    pickle.dump(user, user_f)"
   ]
  },
  {
   "cell_type": "code",
   "execution_count": 49,
   "metadata": {},
   "outputs": [],
   "source": [
    "save_pickle_cate_unknown(\"train\", train_item_list, train_time_list, train_cate_list, train_user_list)\n",
    "save_pickle_cate_unknown(\"valid\", valid_item_list, valid_time_list, valid_cate_list, valid_user_list)\n",
    "save_pickle_cate_unknown(\"test\", test_item_list, test_time_list, test_cate_list, test_user_list)"
   ]
  },
  {
   "cell_type": "code",
   "execution_count": 47,
   "metadata": {},
   "outputs": [
    {
     "data": {
      "text/plain": [
       "(201, 1)"
      ]
     },
     "execution_count": 47,
     "metadata": {},
     "output_type": "execute_result"
    }
   ],
   "source": [
    "train_df.categoryid.max(), train_df.categoryid.min()"
   ]
  },
  {
   "cell_type": "code",
   "execution_count": null,
   "metadata": {},
   "outputs": [],
   "source": []
  },
  {
   "cell_type": "code",
   "execution_count": 33,
   "metadata": {},
   "outputs": [],
   "source": [
    "train_test = \"train\"\n",
    "action_file = \"100000_unknown_cate/\"+train_test+\"_item.pickle\"\n",
    "action_f = open(action_file, \"rb\")"
   ]
  },
  {
   "cell_type": "code",
   "execution_count": 34,
   "metadata": {},
   "outputs": [],
   "source": [
    "action_seq_arr_total = pickle.load(action_f)"
   ]
  },
  {
   "cell_type": "code",
   "execution_count": 2,
   "metadata": {},
   "outputs": [],
   "source": []
  },
  {
   "cell_type": "code",
   "execution_count": 4,
   "metadata": {},
   "outputs": [
    {
     "name": "stdout",
     "output_type": "stream",
     "text": [
      "          userid  itemid  categoryid behavior   timestamp\n",
      "41582965      16   38850           5       pv  1511626494\n",
      "41582966      16   16692           6       pv  1511626551\n",
      "41582968      16   38850           5       pv  1511626597\n",
      "41582969      16    7369           5       pv  1511626761\n",
      "41582970      16    2395          22       pv  1511626770\n"
     ]
    }
   ],
   "source": [
    "sorted_df = pd.read_pickle(\"./100k_unknown_cate/data_time.pickle\")\n",
    "print(sorted_df.head())"
   ]
  },
  {
   "cell_type": "code",
   "execution_count": 5,
   "metadata": {},
   "outputs": [
    {
     "name": "stdout",
     "output_type": "stream",
     "text": [
      "total user num 51275\n",
      "total item num 68007\n",
      "total action num 3785961\n",
      "total cate num 201\n",
      "avg action per use 73.83639200390054\n",
      "avg action per item 55.670166306409634\n",
      "avg action per cate 18835.626865671642\n"
     ]
    }
   ],
   "source": [
    "total_user_num = sorted_df.userid.nunique()\n",
    "total_item_num = sorted_df.itemid.nunique()\n",
    "total_action_num = sorted_df.shape[0]\n",
    "total_cate_num = sorted_df.categoryid.nunique()\n",
    "\n",
    "print(\"total user num\", total_user_num)\n",
    "print(\"total item num\", total_item_num)\n",
    "print(\"total action num\", total_action_num)\n",
    "print(\"total cate num\", total_cate_num)\n",
    "print(\"avg action per use\", total_action_num/total_user_num)\n",
    "print(\"avg action per item\", total_action_num/total_item_num)\n",
    "print(\"avg action per cate\", total_action_num/total_cate_num)"
   ]
  },
  {
   "cell_type": "code",
   "execution_count": 7,
   "metadata": {},
   "outputs": [
    {
     "name": "stdout",
     "output_type": "stream",
     "text": [
      "user num 51275\n",
      "avg cate num per user 14.598810336421257\n"
     ]
    }
   ],
   "source": [
    "user_cate_num_map = sorted_df.groupby('userid')['categoryid'].nunique()\n",
    "total_cate_num = 0\n",
    "total_user_num = 0\n",
    "for user, cate_num in user_cate_num_map.items():\n",
    "#     print(\"user\", user, cate_num)\n",
    "    total_cate_num += cate_num\n",
    "    total_user_num += 1\n",
    "\n",
    "print(\"user num\", total_user_num)\n",
    "print(\"avg cate num per user\", total_cate_num/total_user_num)"
   ]
  },
  {
   "cell_type": "code",
   "execution_count": 55,
   "metadata": {},
   "outputs": [
    {
     "name": "stdout",
     "output_type": "stream",
     "text": [
      "train num (2995258, 5)\n",
      "valid num (430797, 5)\n",
      "test num (359906, 5)\n"
     ]
    }
   ],
   "source": [
    "trainTime_threshold = 1512172800\n",
    "validTime_threshold = 1512259200\n",
    "\n",
    "train_df = sorted_df[sorted_df.timestamp <= trainTime_threshold]\n",
    "valid_test_df = sorted_df[sorted_df.timestamp > trainTime_threshold]\n",
    "valid_df = valid_test_df[valid_test_df.timestamp <= validTime_threshold]\n",
    "test_df = valid_test_df[valid_test_df.timestamp > validTime_threshold]\n",
    "print(\"train num\", train_df.shape)\n",
    "print(\"valid num\", valid_df.shape)\n",
    "print(\"test num\", test_df.shape)"
   ]
  },
  {
   "cell_type": "code",
   "execution_count": null,
   "metadata": {},
   "outputs": [],
   "source": []
  },
  {
   "cell_type": "code",
   "execution_count": 56,
   "metadata": {},
   "outputs": [
    {
     "data": {
      "text/plain": [
       "1        2334\n",
       "2        1976\n",
       "3        1555\n",
       "4        1474\n",
       "5        1449\n",
       "6        1433\n",
       "7        1372\n",
       "8        1362\n",
       "10       1278\n",
       "9        1278\n",
       "11       1235\n",
       "12       1186\n",
       "13       1183\n",
       "14       1160\n",
       "15       1129\n",
       "16       1114\n",
       "17       1100\n",
       "18       1098\n",
       "19       1047\n",
       "20       1004\n",
       "21        983\n",
       "22        930\n",
       "23        909\n",
       "24        906\n",
       "25        887\n",
       "26        866\n",
       "27        861\n",
       "28        856\n",
       "29        853\n",
       "30        851\n",
       "         ... \n",
       "67979       5\n",
       "67978       5\n",
       "67988       5\n",
       "67976       5\n",
       "67977       5\n",
       "67974       5\n",
       "67971       5\n",
       "67975       5\n",
       "67972       5\n",
       "67970       5\n",
       "67983       5\n",
       "67994       4\n",
       "67998       4\n",
       "67990       4\n",
       "67996       4\n",
       "67997       4\n",
       "67995       4\n",
       "67992       4\n",
       "67993       4\n",
       "67991       4\n",
       "67989       4\n",
       "68000       3\n",
       "68001       3\n",
       "67999       3\n",
       "68002       2\n",
       "68003       1\n",
       "68004       1\n",
       "68005       1\n",
       "68006       1\n",
       "68007       1\n",
       "Name: itemid, Length: 68007, dtype: int64"
      ]
     },
     "execution_count": 56,
     "metadata": {},
     "output_type": "execute_result"
    }
   ],
   "source": [
    "train_df.itemid.value_counts()"
   ]
  },
  {
   "cell_type": "code",
   "execution_count": null,
   "metadata": {},
   "outputs": [],
   "source": []
  }
 ],
 "metadata": {
  "kernelspec": {
   "display_name": "Python 3",
   "language": "python",
   "name": "python3"
  },
  "language_info": {
   "codemirror_mode": {
    "name": "ipython",
    "version": 3
   },
   "file_extension": ".py",
   "mimetype": "text/x-python",
   "name": "python",
   "nbconvert_exporter": "python",
   "pygments_lexer": "ipython3",
   "version": "3.7.3"
  }
 },
 "nbformat": 4,
 "nbformat_minor": 2
}
