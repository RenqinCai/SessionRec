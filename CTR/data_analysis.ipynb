{
 "cells": [
  {
   "cell_type": "code",
   "execution_count": 2,
   "metadata": {},
   "outputs": [],
   "source": [
    "import pandas as pd\n",
    "import numpy as np\n",
    "import random\n",
    "import pickle\n",
    "import matplotlib.pyplot as plt\n",
    "import collections\n",
    "import networkx as nx"
   ]
  },
  {
   "cell_type": "code",
   "execution_count": 3,
   "metadata": {},
   "outputs": [],
   "source": [
    "random.seed(30)"
   ]
  },
  {
   "cell_type": "code",
   "execution_count": 4,
   "metadata": {},
   "outputs": [],
   "source": [
    "df= pd.read_pickle(\"../Data/movielen/movielen_1M_ctr_time.pickle\")"
   ]
  },
  {
   "cell_type": "code",
   "execution_count": 5,
   "metadata": {},
   "outputs": [],
   "source": [
    "df.columns=[\"userid\", \"itemid\", \"rating\", \"timestamp\"]\n",
    "sorted_df = df[[\"userid\", \"itemid\", \"timestamp\"]]"
   ]
  },
  {
   "cell_type": "code",
   "execution_count": 6,
   "metadata": {},
   "outputs": [
    {
     "name": "stdout",
     "output_type": "stream",
     "text": [
      "number of actions 494637\n"
     ]
    }
   ],
   "source": [
    "print(\"number of actions\", len(sorted_df))"
   ]
  },
  {
   "cell_type": "code",
   "execution_count": 7,
   "metadata": {},
   "outputs": [
    {
     "data": {
      "text/plain": [
       "1"
      ]
     },
     "execution_count": 7,
     "metadata": {},
     "output_type": "execute_result"
    }
   ],
   "source": [
    "sorted_df.itemid.unique().min()"
   ]
  },
  {
   "cell_type": "code",
   "execution_count": 107,
   "metadata": {},
   "outputs": [],
   "source": [
    "G = nx.Graph()\n",
    "G.add_edge('a', 'b', weight=7, attr=[[1], [2], [3], [4]])\n",
    "G.add_edge('a', 'c', weight=7, attr=[[5], [2], [7], [8]])"
   ]
  },
  {
   "cell_type": "code",
   "execution_count": 113,
   "metadata": {},
   "outputs": [
    {
     "data": {
      "text/plain": [
       "[7]"
      ]
     },
     "execution_count": 113,
     "metadata": {},
     "output_type": "execute_result"
    }
   ],
   "source": [
    "G['a']['c']['attr'][2]"
   ]
  },
  {
   "cell_type": "code",
   "execution_count": 100,
   "metadata": {},
   "outputs": [],
   "source": [
    "G['a']['b']['weight'] = 6"
   ]
  },
  {
   "cell_type": "code",
   "execution_count": 17,
   "metadata": {},
   "outputs": [],
   "source": [
    "G = nx.Graph()\n",
    "G.add_edge(1, 2)\n",
    "G.add_edge(1, 3)"
   ]
  },
  {
   "cell_type": "code",
   "execution_count": 20,
   "metadata": {},
   "outputs": [
    {
     "data": {
      "text/plain": [
       "NodeView((1, 2, 3))"
      ]
     },
     "execution_count": 20,
     "metadata": {},
     "output_type": "execute_result"
    }
   ],
   "source": [
    "G.nodes()"
   ]
  },
  {
   "cell_type": "code",
   "execution_count": 50,
   "metadata": {},
   "outputs": [
    {
     "data": {
      "text/plain": [
       "([2, 3], True)"
      ]
     },
     "execution_count": 50,
     "metadata": {},
     "output_type": "execute_result"
    }
   ],
   "source": [
    "list(G.neighbors(1)), G.has_node(1)"
   ]
  },
  {
   "cell_type": "code",
   "execution_count": null,
   "metadata": {},
   "outputs": [],
   "source": []
  },
  {
   "cell_type": "code",
   "execution_count": 12,
   "metadata": {},
   "outputs": [],
   "source": [
    "class _seq_corpus: \n",
    "    def __init__(self):\n",
    "        self.m_seq_list = []\n",
    "        self.m_seq_num = 0\n",
    "        \n",
    "    def f_add_seq(self, seq_obj):\n",
    "        self.m_seq_list.append(seq_obj)\n",
    "        self.m_seq_num += 1\n",
    "        \n",
    "    def f_get_seq_num(self):\n",
    "        return self.m_seq_num\n",
    "        \n",
    "        \n",
    "class _seq:\n",
    "    def __init__(self):\n",
    "        self.m_seq_id = -1\n",
    "        self.m_target = -1\n",
    "        self.m_item_list = []\n",
    "        self.m_time_list = []\n",
    "        self.m_target_pos = -1\n",
    "        \n",
    "        self.m_neigh_diff_item_list = []\n",
    "        self.m_neigh_diff_time_list = []\n",
    "        \n",
    "        self.m_neigh_common_item_list = [] ###[[]]\n",
    "        self.m_neigh_common_time_list = [] ###[[]]\n",
    "        \n",
    "    def f_set_self_list(self, item_list, time_list):\n",
    "        self.m_item_list = item_list\n",
    "        self.m_time_list = time_list\n",
    "        \n",
    "    def f_set_friend_diff(self, item_list, time_list):\n",
    "        self.m_neigh_diff_item_list = item_list\n",
    "        self.m_neigh_diff_time_list = time_list\n",
    "        \n",
    "    def f_set_friend_common(self, neigh_common_item_list, neigh_common_time_list):\n",
    "        self.m_neigh_common_item_list = neigh_common_item_list\n",
    "        self.m_neigh_common_time_list = neigh_common_time_list\n",
    "    \n",
    "    def f_set_target(self, target):\n",
    "        self.m_target = target"
   ]
  },
  {
   "cell_type": "code",
   "execution_count": 50,
   "metadata": {},
   "outputs": [],
   "source": [
    "sequence_len_max_item = 200\n",
    "max_friend_num = 1e2\n",
    "class _user:\n",
    "    def __init__(self, user_id, uid):\n",
    "        self.m_user_id = user_id\n",
    "        self.m_uid = uid\n",
    "        self.m_debug_item_list = []\n",
    "#         self.m_item_obj_list = collections.deque(maxlen=sequence_len_max_item)\n",
    "#         self.m_item_id_list = collections.deque(maxlen=sequence_len_max_item)\n",
    "#         self.m_time_list = collections.deque(maxlen=sequence_len_max_item)\n",
    "        self.m_item_id_list = []\n",
    "        self.m_time_list = []\n",
    "        self.m_item_num = 0\n",
    "        self.m_item_index_user = 0\n",
    "        \n",
    "    def f_add_item_time(self, itemid, time):\n",
    "        self.m_item_id_list.append(itemid)\n",
    "        self.m_time_list.append(time)\n",
    "        self.m_item_num = len(self.m_item_id_list)\n",
    "        self.m_item_index_user += 1\n",
    "        \n",
    "    def f_get_item_num(self):\n",
    "        return self.m_item_num\n",
    "    \n",
    "    def f_get_item_id_list(self):\n",
    "        return list(self.m_item_id_list)\n",
    "    \n",
    "    def f_get_time_list(self):\n",
    "        return list(self.m_time_list)"
   ]
  },
  {
   "cell_type": "code",
   "execution_count": 31,
   "metadata": {},
   "outputs": [],
   "source": [
    "# sequence_len_max_user = 1000\n",
    "# class _item:\n",
    "#     def __init__(self, item_id):\n",
    "#         self.m_iid = item_id\n",
    "#         self.m_user_id_list = collections.deque(maxlen=sequence_len_max_user)\n",
    "#         self.m_user_num = 0\n",
    "    \n",
    "#     def f_add_user_id(self, user_id):\n",
    "#         self.m_user_id_list.append(user_id)\n",
    "#         self.m_user_num = len(self.m_user_id_list)\n",
    "        \n",
    "#     def f_get_user_id_list(self):\n",
    "#         return list(self.m_user_id_list)"
   ]
  },
  {
   "cell_type": "code",
   "execution_count": 51,
   "metadata": {},
   "outputs": [],
   "source": [
    "class _corpus:\n",
    "    def __init__(self):\n",
    "        ### raw user id to uid\n",
    "        self.m_userid_uid_map = {}\n",
    "        ### uid to raw user id\n",
    "        self.m_uid_userid_map = {}\n",
    "        \n",
    "        self.m_iid_uidlist_map = {}\n",
    "        \n",
    "        self.m_uid_obj_map = {}\n",
    "#         self.m_itemid_obj_map = {}\n",
    "        self.m_user_num = 0\n",
    "        self.m_user_user_common_item_map = {}\n",
    "        self.m_user_user_common_time_map = {}\n",
    "        self.m_user_user_diff_item_map = {}\n",
    "        self.m_user_user_diff_time_map = {}\n",
    "    \n",
    "        self.m_user_graph = nx.Graph()\n",
    "#         self.m_item_num = 0\n",
    "        \n",
    "    def f_add_user(self, uid, user_obj):\n",
    "        if user_id in self.m_uid_obj_map:\n",
    "            print('error user exist')\n",
    "        else:\n",
    "            self.m_uid_obj_map[uid] = user_obj\n",
    "            self.m_user_num += 1\n",
    "        \n",
    "    def f_add_user2item(self, uid, iid):\n",
    "        if iid not in self.m_iid_uidlist_map:\n",
    "            self.m_iid_uidlist_map[iid] = []\n",
    "        \n",
    "        if uid in self.m_iid_uidlist_map[iid]:\n",
    "            return\n",
    "        \n",
    "        self.m_iid_uidlist_map[iid].append(uid)\n",
    "        \n",
    "    def f_user_exist(self, uid):\n",
    "        if uid in self.m_uid_obj_map:\n",
    "            return True\n",
    "        else:\n",
    "            return False\n",
    "#     def f_item_exist(self, item_id):\n",
    "#         if item_id in self.m_itemid_obj_map:\n",
    "#             return True\n",
    "#         else:\n",
    "#             return False\n",
    "    \n",
    "    def f_get_user(self, uid, user_id):\n",
    "        if self.f_user_exist(uid):\n",
    "            return self.m_uid_obj_map[uid]\n",
    "        else:\n",
    "            user_obj = _user(uid, user_id)\n",
    "            self.f_add_user(uid, user_obj)\n",
    "            return user_obj\n",
    "    \n",
    "    ### did not consider same user\n",
    "    ### uid < vid \n",
    "    \n",
    "    def f_add_node(self, uid, iid):\n",
    "        if iid not in self.m_iid_uidlist_map:\n",
    "            return\n",
    "        \n",
    "        if self.m_user_graph.has_node(uid):\n",
    "            vid_list = corpus_obj.m_user_graph.neighbors(uid)\n",
    "            for vid in vid_list:\n",
    "                corpus_obj.m_user_graph[uid][vid]['weight'] = 1.0\n",
    "        \n",
    "        if uid not in self.m_user_user_common_item_map:\n",
    "            self.m_user_user_common_item_map[uid] = {}\n",
    "            self.m_user_user_common_time_map[uid] = {}\n",
    "            self.m_user_user_diff_item_map[uid] = {}\n",
    "            self.m_user_user_diff_time_map[uid] = {}\n",
    "        \n",
    "        vid_list = self.m_iid_uidlist_map[iid]\n",
    "        for vid in vid_list:\n",
    "            self.m_user_graph.add_edge(uid, vid, weight=1, attr=[0, 0])\n",
    "            \n",
    "            if vid not in self.m_user_user_common_item_map[uid]:\n",
    "                self.m_user_user_common_item_map[uid][vid] = []\n",
    "                self.m_user_user_common_time_map[uid][vid] = []\n",
    "                self.m_user_user_diff_item_map[uid][vid] = []\n",
    "                self.m_user_user_diff_time_map[uid][vid] = []\n",
    "                \n",
    "            if vid not in self.m_user_user_common_item_map:\n",
    "                self.m_user_user_common_item_map[vid] = {}\n",
    "                self.m_user_user_common_time_map[vid] = {}\n",
    "                self.m_user_user_diff_item_map[vid] = {}\n",
    "                self.m_user_user_diff_time_map[vid] = {}\n",
    "                \n",
    "            if uid < vid:\n",
    "                continue\n",
    "                \n",
    "            if uid not in self.m_user_user_common_item_map[vid]:\n",
    "                self.m_user_user_common_item_map[vid][uid] = []\n",
    "                self.m_user_user_common_time_map[vid][uid] = []\n",
    "                self.m_user_user_diff_item_map[vid][uid] = []\n",
    "                self.m_user_user_diff_time_map[vid][uid] = []\n",
    "            \n",
    "#     def f_get_item(self, item_id):\n",
    "#         if self.f_item_exist(item_id):\n",
    "#             return self.m_itemid_obj_map[item_id]\n",
    "#         else:\n",
    "#             item_obj = _item(item_id)\n",
    "#             self.f_add_item(item_id, item_obj)\n",
    "#             return item_obj"
   ]
  },
  {
   "cell_type": "code",
   "execution_count": 39,
   "metadata": {},
   "outputs": [
    {
     "data": {
      "text/plain": [
       "956705158"
      ]
     },
     "execution_count": 39,
     "metadata": {},
     "output_type": "execute_result"
    }
   ],
   "source": [
    "sorted_df.timestamp.min()"
   ]
  },
  {
   "cell_type": "code",
   "execution_count": 40,
   "metadata": {},
   "outputs": [],
   "source": [
    "time_sorted_df = sorted_df.sort_values(by=['timestamp'], ascending=[True])"
   ]
  },
  {
   "cell_type": "code",
   "execution_count": 41,
   "metadata": {},
   "outputs": [
    {
     "data": {
      "text/plain": [
       "2897"
      ]
     },
     "execution_count": 41,
     "metadata": {},
     "output_type": "execute_result"
    }
   ],
   "source": [
    "time_sorted_df.itemid.nunique()"
   ]
  },
  {
   "cell_type": "code",
   "execution_count": null,
   "metadata": {},
   "outputs": [],
   "source": []
  },
  {
   "cell_type": "code",
   "execution_count": null,
   "metadata": {},
   "outputs": [],
   "source": []
  },
  {
   "cell_type": "code",
   "execution_count": null,
   "metadata": {},
   "outputs": [],
   "source": []
  },
  {
   "cell_type": "markdown",
   "metadata": {},
   "source": [
    "### add edge weight"
   ]
  },
  {
   "cell_type": "code",
   "execution_count": null,
   "metadata": {},
   "outputs": [],
   "source": []
  },
  {
   "cell_type": "code",
   "execution_count": 73,
   "metadata": {},
   "outputs": [],
   "source": [
    "def f_get_common_diff(corpus_obj, uid, self_item_list, self_time_list, item_num_u, vid):\n",
    "    \n",
    "    sub_v_common_item_list = []\n",
    "    sub_v_common_time_list = []\n",
    "    sub_v_diff_item_list = []\n",
    "    sub_v_diff_time_list = []\n",
    "    \n",
    "    if uid < vid:\n",
    "        sub_v_common_item_list = corpus_obj.m_user_user_common_item_map[uid][vid]\n",
    "        sub_v_common_time_list = corpus_obj.m_user_user_common_time_map[uid][vid]\n",
    "        sub_v_diff_item_list = corpus_obj.m_user_user_diff_item_map[uid][vid]\n",
    "        sub_v_diff_time_list = corpus_obj.m_user_user_diff_time_map[uid][vid]\n",
    "    else:\n",
    "        sub_v_common_item_list = corpus_obj.m_user_user_common_item_map[vid][uid]\n",
    "        sub_v_common_time_list = corpus_obj.m_user_user_common_time_map[vid][uid]\n",
    "        sub_v_diff_item_list = corpus_obj.m_user_user_diff_item_map[vid][uid]\n",
    "        sub_v_diff_time_list = corpus_obj.m_user_user_diff_time_map[vid][uid]\n",
    "\n",
    "    if corpus_obj.m_user_graph[uid][vid]['weight'] < 0.5:\n",
    "        return sub_v_common_item_list, sub_v_common_time_list, sub_v_diff_item_list, sub_v_diff_time_list\n",
    "    \n",
    "#     print(\"uid, vid\", uid, vid)\n",
    "    corpus_obj.m_user_graph[uid][vid]['weight'] = 0\n",
    "\n",
    "    v_obj = corpus_obj.m_uid_obj_map[vid]\n",
    "\n",
    "    v_item_list = v_obj.f_get_item_id_list()\n",
    "    v_time_list = v_obj.f_get_time_list()\n",
    "\n",
    "    item_num_v = len(v_item_list)\n",
    "\n",
    "    old_item_num_list = corpus_obj.m_user_graph[uid][vid]['attr']\n",
    "    \n",
    "    old_item_num_u = 0\n",
    "    old_item_num_v = 0\n",
    "    \n",
    "    if uid < vid:\n",
    "        old_item_num_u = old_item_num_list[0]\n",
    "        old_item_num_v = old_item_num_list[1]\n",
    "    else:\n",
    "        old_item_num_u = old_item_num_list[1]\n",
    "        old_item_num_v = old_item_num_list[0]\n",
    "#     if vid == 3:\n",
    "#         print(\"vid=3\", v_item_list)\n",
    "    if old_item_num_v > item_num_v:\n",
    "        print(\"item_num_v error \", old_item_num_v, item_num_v, v_item_list)\n",
    "\n",
    "    for index in range(old_item_num_v):\n",
    "        \n",
    "        item_v = v_item_list[index]\n",
    "        time_v = v_time_list[index]\n",
    "\n",
    "        for index_u in range(old_item_num_u, item_num_u):\n",
    "#             if item_v in self_item_list[:]:\n",
    "#                 self_item_index = self_item_list.index(item_v)\n",
    "            item_u = self_item_list[index_u]\n",
    "            self_time = self_time_list[index_u]\n",
    "\n",
    "            if item_u == item_v:\n",
    "                sub_v_common_item_list.append(item_v)\n",
    "                sub_v_common_time_list.append((np.abs(self_time-timestamp), np.abs(time_v-timestamp)))\n",
    "            else:\n",
    "                sub_v_diff_item_list.append(item_v)\n",
    "                sub_v_diff_time_list.append(time_v)\n",
    "\n",
    "    for index in range(old_item_num_v, item_num_v):\n",
    "        item_v = v_item_list[index]\n",
    "        time_v = v_time_list[index]\n",
    "\n",
    "        if item_v in self_item_list:\n",
    "            self_item_index = self_item_list.index(item_v)\n",
    "            self_time = self_time_list[self_item_index]\n",
    "                \n",
    "            sub_v_common_item_list.append(item_v)\n",
    "            sub_v_common_time_list.append((np.abs(self_time-timestamp), np.abs(time_v-timestamp)))\n",
    "        else:\n",
    "            sub_v_diff_item_list.append(item_v)\n",
    "            sub_v_diff_time_list.append(time_v)\n",
    "        \n",
    "#     print(\"item_num_u\", item_num_u, \"item_num_v\", item_num_v)\n",
    "    if uid < vid:\n",
    "        corpus_obj.m_user_graph[uid][vid]['attr'] = [item_num_u, item_num_v]\n",
    "    else:\n",
    "        corpus_obj.m_user_graph[uid][vid]['attr'] = [item_num_v, item_num_u]\n",
    "    \n",
    "    return sub_v_common_item_list, sub_v_common_time_list, sub_v_diff_item_list, sub_v_diff_time_list"
   ]
  },
  {
   "cell_type": "code",
   "execution_count": 74,
   "metadata": {},
   "outputs": [],
   "source": [
    "def f_get_friend4user(corpus_obj, uid, timestamp, self_item_list, self_time_list):\n",
    "    if not corpus_obj.m_user_graph.has_node(uid):\n",
    "        print(uid, corpus_obj.m_user_graph.nodes())\n",
    "        return False, [], [], [], []\n",
    "    \n",
    "#     print(\"uid\", uid, corpus_obj.m_user_graph[uid])\n",
    "    \n",
    "    friend_id_list = list(corpus_obj.m_user_graph.neighbors(uid))\n",
    "    item_num_u = len(self_item_list)\n",
    "#     print(\"uid\", uid, \"item_num_u\", item_num_u, self_item_list)\n",
    "    for vid in friend_id_list:\n",
    "        sub_v_common_item_list, sub_v_common_time_list, sub_v_diff_item_list, sub_v_diff_time_list = f_get_common_diff(corpus_obj, uid, self_item_list, self_time_list, item_num_u, vid)\n",
    "        if len(sub_v_common_item_list) == 0:\n",
    "            continue\n",
    "        \n",
    "        if uid < vid:\n",
    "            corpus_obj.m_user_user_common_item_map[uid][vid] = sub_v_common_item_list\n",
    "            corpus_obj.m_user_user_common_time_map[uid][vid] = sub_v_common_time_list\n",
    "            corpus_obj.m_user_user_diff_item_map[uid][vid] = sub_v_diff_item_list\n",
    "            corpus_obj.m_user_user_diff_time_map[uid][vid] = sub_v_diff_time_list\n",
    "        else:\n",
    "            corpus_obj.m_user_user_common_item_map[vid][uid] = sub_v_common_item_list\n",
    "            corpus_obj.m_user_user_common_time_map[vid][uid] = sub_v_common_time_list\n",
    "            corpus_obj.m_user_user_diff_item_map[vid][uid] = sub_v_diff_item_list\n",
    "            corpus_obj.m_user_user_diff_time_map[vid][uid] = sub_v_diff_time_list\n",
    "\n",
    "#         corpus_obj.m_user_user_common_item_map[uid][vid] = sub_v_common_item_list\n",
    "#         corpus_obj.m_user_user_common_time_map[uid][vid] = sub_v_common_time_list\n",
    "#         corpus_obj.m_user_user_diff_item_map[uid][vid] = sub_v_diff_item_list\n",
    "#         corpus_obj.m_user_user_diff_time_map[uid][vid] = sub_v_diff_time_list\n",
    "\n",
    "#         friend_diff_item_list.append(sub_v_diff_item_list[-max_item_num_friend:])\n",
    "#         friend_diff_time_list.append(sub_v_diff_time_list[-max_item_num_friend:])\n",
    "        \n",
    "#         friend_common_item_list.append(sub_v_common_item_list[-max_item_num_friend:])\n",
    "#         friend_common_time_list.append(sub_v_common_time_list[-max_item_num_friend:])\n",
    "#         corpus_obj.m_user_graph[uid][vid]['attr'] = [sub_v_diff_item_list, sub_v_diff_time_list, sub_v_common_item_list, sub_v_common_time_list]\n",
    "    \n",
    "        friend_diff_item_list.append(sub_v_diff_item_list)\n",
    "        friend_diff_time_list.append(sub_v_diff_time_list)\n",
    "        \n",
    "        friend_common_item_list.append(sub_v_common_item_list)\n",
    "        friend_common_time_list.append(sub_v_common_time_list)\n",
    "        \n",
    "    return True, friend_common_item_list, friend_common_time_list, friend_diff_item_list, friend_diff_time_list"
   ]
  },
  {
   "cell_type": "code",
   "execution_count": 60,
   "metadata": {},
   "outputs": [],
   "source": []
  },
  {
   "cell_type": "code",
   "execution_count": null,
   "metadata": {
    "scrolled": true
   },
   "outputs": [
    {
     "name": "stdout",
     "output_type": "stream",
     "text": [
      "0 left 494637\n",
      "0 []\n",
      "train ********** 0\n",
      "0 []\n",
      "0 []\n",
      "0 []\n",
      "0 []\n",
      "0 []\n",
      "0 []\n",
      "0 []\n",
      "0 []\n",
      "0 []\n",
      "0 []\n",
      "0 []\n",
      "0 []\n",
      "0 []\n",
      "0 []\n",
      "0 []\n",
      "0 []\n",
      "0 []\n",
      "0 []\n",
      "0 []\n",
      "0 []\n",
      "0 []\n",
      "0 []\n",
      "0 []\n",
      "0 []\n",
      "0 []\n",
      "0 []\n",
      "0 []\n",
      "0 []\n",
      "0 []\n",
      "0 []\n",
      "0 []\n",
      "0 []\n",
      "0 []\n",
      "0 []\n",
      "0 []\n",
      "0 []\n",
      "0 []\n",
      "0 []\n",
      "0 []\n",
      "0 []\n",
      "0 []\n",
      "0 []\n",
      "0 []\n",
      "0 []\n",
      "0 []\n",
      "0 []\n",
      "0 []\n",
      "0 []\n",
      "0 []\n",
      "0 []\n",
      "0 []\n",
      "0 []\n",
      "0 []\n",
      "0 []\n",
      "0 []\n",
      "0 []\n",
      "0 []\n",
      "0 []\n",
      "0 []\n",
      "0 []\n",
      "0 []\n",
      "0 []\n",
      "0 []\n",
      "0 []\n",
      "0 []\n",
      "0 []\n",
      "0 []\n",
      "0 []\n",
      "0 []\n",
      "0 []\n",
      "0 []\n",
      "0 []\n",
      "0 []\n",
      "0 []\n",
      "0 []\n",
      "0 []\n",
      "0 []\n",
      "0 []\n",
      "0 []\n",
      "0 []\n",
      "0 []\n",
      "0 []\n",
      "0 []\n",
      "0 []\n",
      "0 []\n",
      "0 []\n",
      "0 []\n",
      "0 []\n",
      "0 []\n",
      "0 []\n",
      "0 []\n",
      "0 []\n",
      "0 []\n",
      "0 []\n",
      "0 []\n",
      "0 []\n",
      "0 []\n",
      "0 []\n",
      "0 []\n",
      "0 []\n",
      "0 []\n",
      "0 []\n",
      "0 []\n",
      "0 []\n",
      "0 []\n",
      "0 []\n",
      "0 []\n",
      "0 []\n",
      "0 []\n",
      "0 []\n",
      "0 []\n",
      "0 []\n",
      "1 []\n",
      "1 []\n",
      "1 []\n",
      "1 []\n",
      "1 []\n",
      "1 []\n",
      "1 []\n",
      "1 []\n",
      "2 [1, 0]\n",
      "10000 left 484637\n",
      "20000 left 474637\n",
      "30000 left 464637\n",
      "40000 left 454637\n",
      "50000 left 444637\n",
      "train ********** 50000\n",
      "60000 left 434637\n",
      "70000 left 424637\n",
      "80000 left 414637\n"
     ]
    }
   ],
   "source": [
    "corpus_obj = _corpus()\n",
    "train_seq_corpus_obj = _seq_corpus()\n",
    "valid_seq_corpus_obj = _seq_corpus()\n",
    "test_seq_corpus_obj = _seq_corpus()\n",
    "\n",
    "debug_index = 0\n",
    "user_item_threshold = 3\n",
    "\n",
    "trainTime_threshold = 975768738\n",
    "validTime_threshold = 978133348\n",
    "\n",
    "total_row_num = len(time_sorted_df)\n",
    "row_id = 0\n",
    "\n",
    "for row_index, row in time_sorted_df.iterrows():\n",
    "#     print(row)\n",
    "    if row_id %1e4 == 0:\n",
    "        print(row_id, \"left\", total_row_num-row_id)\n",
    "    user_id = row.userid\n",
    "    item_id = row.itemid\n",
    "#     cate_id = row.categoryid\n",
    "    timestamp = row.timestamp\n",
    "#     print(user_id, item_id)\n",
    "    \n",
    "    uid = -1\n",
    "    if user_id in corpus_obj.m_userid_uid_map:\n",
    "        uid = corpus_obj.m_userid_uid_map[user_id]\n",
    "    else:\n",
    "        uid = len(corpus_obj.m_userid_uid_map)\n",
    "        corpus_obj.m_userid_uid_map[user_id] = uid\n",
    "        corpus_obj.m_uid_userid_map[uid] = user_id\n",
    "    \n",
    "    user_obj = corpus_obj.f_get_user(uid, user_id)\n",
    "    \n",
    "    friend_common_item_list = []\n",
    "    friend_common_time_list = []\n",
    "    friend_diff_item_list = []\n",
    "    friend_diff_time_list = []\n",
    "    \n",
    "    user_item_num = user_obj.f_get_item_num()\n",
    "    if user_item_num > user_item_threshold:\n",
    "    \n",
    "        seq_obj = _seq()\n",
    "        seq_obj.f_set_target(item_id)\n",
    "        \n",
    "        user_self_item_list = user_obj.f_get_item_id_list()\n",
    "        user_self_time_list = user_obj.f_get_time_list()\n",
    "        seq_obj.f_set_self_list(user_self_item_list, user_self_time_list)\n",
    "    \n",
    "        friend_flag, friend_common_item_list, friend_common_time_list, friend_diff_item_list, friend_diff_time_list = f_get_friend4user(corpus_obj, uid, timestamp, user_self_item_list, user_self_time_list)\n",
    "        \n",
    "        if friend_flag:\n",
    "            seq_obj.f_set_friend_common(friend_common_item_list, friend_common_time_list)\n",
    "            seq_obj.f_set_friend_diff(friend_diff_item_list, friend_diff_time_list)\n",
    "        \n",
    "        if timestamp <= trainTime_threshold:\n",
    "            \n",
    "            if train_seq_corpus_obj.f_get_seq_num() %50000 == 0:\n",
    "                print(\"train\", \"*\"*10, train_seq_corpus_obj.f_get_seq_num())\n",
    "                \n",
    "            if train_seq_corpus_obj.f_get_seq_num() > 1000000:\n",
    "                print(\"too many \", train_seq_corpus_obj.f_get_seq_num())\n",
    "                break\n",
    "            else:\n",
    "                train_seq_corpus_obj.f_add_seq(seq_obj)\n",
    "                \n",
    "        elif timestamp <=validTime_threshold:\n",
    "            valid_seq_corpus_obj.f_add_seq(seq_obj)\n",
    "            if valid_seq_corpus_obj.f_get_seq_num() %10000 == 0:\n",
    "                print(\"valid\", \"*\"*10, valid_seq_corpus_obj.f_get_seq_num())\n",
    "        else:\n",
    "            test_seq_corpus_obj.f_add_seq(seq_obj)\n",
    "            if test_seq_corpus_obj.f_get_seq_num() %10000 == 0:\n",
    "                print(\"test\", \"*\"*10, test_seq_corpus_obj.f_get_seq_num())\n",
    "    \n",
    "#     corpus_obj.f_add_node(uid, item_id, friend_common_item_list, friend_common_time_list, friend_diff_item_list, friend_diff_time_list)\n",
    "#     print(corpus_obj.m_user_graph.nodes())\n",
    "#     item_obj.f_add_user_id(user_id)\n",
    "    corpus_obj.f_add_node(uid, item_id)\n",
    "    \n",
    "    corpus_obj.f_add_user2item(uid, item_id)\n",
    "    \n",
    "    user_obj.f_add_item_time(item_id, timestamp)\n",
    "    \n",
    "    row_id += 1\n",
    "    \n",
    "#     if train_seq_corpus_obj.f_get_seq_num() > 500000:\n",
    "#         break"
   ]
  },
  {
   "cell_type": "markdown",
   "metadata": {},
   "source": [
    "#### friend num distribution"
   ]
  },
  {
   "cell_type": "code",
   "execution_count": null,
   "metadata": {},
   "outputs": [],
   "source": [
    "friend_num_list = []\n",
    "for userid in corpus_obj.m_userid_obj_map:\n",
    "    user_obj = corpus_obj.m_userid_obj_map[userid]\n",
    "    friend_id_list = user_obj.m_friend_id_list\n",
    "    friend_num = len(friend_id_list)\n",
    "    \n",
    "    friend_num_list.append(friend_num)\n",
    "    "
   ]
  },
  {
   "cell_type": "code",
   "execution_count": null,
   "metadata": {},
   "outputs": [],
   "source": [
    "sorted_friend_num_list = sorted(friend_num_list, reverse=True)\n",
    "x_list = np.arange(len(sorted_friend_num_list))\n",
    "# plt.yscale('log')\n",
    "# plt.xscale('log')\n",
    "plt.xlabel(\"index\")\n",
    "plt.ylabel(\"the number of friends\")\n",
    "plt.plot(x_list, sorted_friend_num_list, \"o\")\n",
    "plt.show()"
   ]
  },
  {
   "cell_type": "code",
   "execution_count": null,
   "metadata": {},
   "outputs": [],
   "source": []
  },
  {
   "cell_type": "code",
   "execution_count": null,
   "metadata": {},
   "outputs": [],
   "source": []
  },
  {
   "cell_type": "code",
   "execution_count": 16,
   "metadata": {},
   "outputs": [
    {
     "name": "stdout",
     "output_type": "stream",
     "text": [
      "train ********** 0\n",
      "train ********** 50000\n",
      "train ********** 100000\n",
      "train ********** 150000\n",
      "train ********** 200000\n",
      "train ********** 250000\n",
      "train ********** 300000\n",
      "train ********** 350000\n",
      "train ********** 400000\n",
      "valid ********** 10000\n",
      "test ********** 10000\n",
      "test ********** 20000\n",
      "test ********** 30000\n",
      "test ********** 40000\n"
     ]
    }
   ],
   "source": [
    "debug_index = 0\n",
    "user_item_threshold = 3\n",
    "\n",
    "trainTime_threshold = 975768738\n",
    "validTime_threshold = 978133348\n",
    "\n",
    "for row_index, row in time_sorted_df.iterrows():\n",
    "#     print(row)\n",
    "    user_id = row.userid\n",
    "    item_id = row.itemid\n",
    "#     cate_id = row.categoryid\n",
    "    timestamp = row.timestamp\n",
    "    \n",
    "    user_obj = corpus_obj.f_get_user(user_id)\n",
    "    item_obj = corpus_obj.f_get_item(item_id)\n",
    "    \n",
    "    user_item_num = user_obj.f_get_item_num()\n",
    "    if user_item_num > user_item_threshold:\n",
    "    \n",
    "        seq_obj = _seq()\n",
    "        seq_obj.f_set_target(item_id)\n",
    "        \n",
    "        user_self_item_list = user_obj.f_get_item_id_list()\n",
    "        user_self_time_list = user_obj.f_get_time_list()\n",
    "        seq_obj.f_set_self_list(user_self_item_list, user_self_time_list)\n",
    "    \n",
    "#         neigh_common_item_list, neigh_common_time_list, neigh_diff_item_list, neigh_diff_time_list = f_get_neigh(corpus_obj, user_obj, timestamp, user_self_item_list, user_self_time_list)\n",
    "    \n",
    "#         seq_obj.f_set_neigh_common_list(neigh_common_item_list, neigh_common_time_list)\n",
    "#         seq_obj.f_set_neigh_diff_list(neigh_diff_item_list, neigh_diff_time_list)\n",
    "        \n",
    "        if timestamp <= trainTime_threshold:\n",
    "            \n",
    "            if train_seq_corpus_obj.f_get_seq_num() %50000 == 0:\n",
    "                print(\"train\", \"*\"*10, train_seq_corpus_obj.f_get_seq_num())\n",
    "                \n",
    "            if train_seq_corpus_obj.f_get_seq_num() > 1000000:\n",
    "                print(\"too many \", train_seq_corpus_obj.f_get_seq_num())\n",
    "                break\n",
    "            else:\n",
    "                train_seq_corpus_obj.f_add_seq(seq_obj)\n",
    "                \n",
    "        elif timestamp <=validTime_threshold:\n",
    "            valid_seq_corpus_obj.f_add_seq(seq_obj)\n",
    "            if valid_seq_corpus_obj.f_get_seq_num() %10000 == 0:\n",
    "                print(\"valid\", \"*\"*10, valid_seq_corpus_obj.f_get_seq_num())\n",
    "        else:\n",
    "            test_seq_corpus_obj.f_add_seq(seq_obj)\n",
    "            if test_seq_corpus_obj.f_get_seq_num() %10000 == 0:\n",
    "                print(\"test\", \"*\"*10, test_seq_corpus_obj.f_get_seq_num())\n",
    "    \n",
    "    user_obj.f_add_friend_id(item_obj)\n",
    "    \n",
    "    item_obj.f_add_user_id(user_id)\n",
    "    \n",
    "    user_obj.f_add_item_time(corpus_obj, item_obj, timestamp)"
   ]
  },
  {
   "cell_type": "code",
   "execution_count": null,
   "metadata": {},
   "outputs": [],
   "source": []
  },
  {
   "cell_type": "code",
   "execution_count": 17,
   "metadata": {},
   "outputs": [],
   "source": [
    "movielen_1m_data = {}\n",
    "# movielen_1m_data[\"corpus\"] = corpus_obj\n",
    "movielen_1m_data[\"train\"] = train_seq_corpus_obj\n",
    "movielen_1m_data[\"valid\"] = valid_seq_corpus_obj\n",
    "movielen_1m_data[\"test\"] = test_seq_corpus_obj"
   ]
  },
  {
   "cell_type": "code",
   "execution_count": null,
   "metadata": {},
   "outputs": [],
   "source": []
  },
  {
   "cell_type": "code",
   "execution_count": 18,
   "metadata": {},
   "outputs": [
    {
     "name": "stdout",
     "output_type": "stream",
     "text": [
      "friend num 417049\n"
     ]
    }
   ],
   "source": [
    "friend_num_list = []\n",
    "for seq_obj in train_seq_corpus_obj.m_seq_list:\n",
    "    friend_num_seq = 0\n",
    "    friend_num_seq = len(seq_obj.m_neigh_diff_item_list)\n",
    "    friend_num_list.append(friend_num_seq)\n",
    "    \n",
    "print(\"friend num\", len(friend_num_list))"
   ]
  },
  {
   "cell_type": "code",
   "execution_count": 19,
   "metadata": {},
   "outputs": [
    {
     "data": {
      "image/png": "[encoded data removed]",
      "text/plain": [
       "<Figure size 432x288 with 1 Axes>"
      ]
     },
     "metadata": {
      "needs_background": "light"
     },
     "output_type": "display_data"
    }
   ],
   "source": [
    "sorted_friend_num_list = sorted(friend_num_list, reverse=True)\n",
    "x_list = np.arange(len(sorted_friend_num_list))\n",
    "# plt.yscale('log')\n",
    "# plt.xscale('log')\n",
    "plt.xlabel(\"index\")\n",
    "plt.ylabel(\"the number of friends\")\n",
    "plt.plot(x_list, sorted_friend_num_list, \"o\")\n",
    "plt.show()"
   ]
  },
  {
   "cell_type": "code",
   "execution_count": null,
   "metadata": {},
   "outputs": [],
   "source": [
    "sorted_friend_num_list"
   ]
  },
  {
   "cell_type": "code",
   "execution_count": null,
   "metadata": {},
   "outputs": [],
   "source": []
  },
  {
   "cell_type": "code",
   "execution_count": 20,
   "metadata": {},
   "outputs": [],
   "source": [
    "neigh_diff_item_num_list = []\n",
    "for seq_obj in train_seq_corpus_obj.m_seq_list:\n",
    "    neigh_diff_item_num = 0\n",
    "    for neigh_diff_item_list in seq_obj.m_neigh_diff_item_list:\n",
    "        neigh_diff_item_num += len(neigh_diff_item_list)\n",
    "        \n",
    "    neigh_diff_item_num_list.append(neigh_diff_item_num)"
   ]
  },
  {
   "cell_type": "code",
   "execution_count": 21,
   "metadata": {},
   "outputs": [
    {
     "data": {
      "image/png": "[encoded data removed]",
      "text/plain": [
       "<Figure size 432x288 with 1 Axes>"
      ]
     },
     "metadata": {
      "needs_background": "light"
     },
     "output_type": "display_data"
    }
   ],
   "source": [
    "sorted_neigh_diff_item_num_list = sorted(neigh_diff_item_num_list, reverse=True)\n",
    "x_list = np.arange(len(sorted_neigh_diff_item_num_list))\n",
    "# plt.yscale('log')\n",
    "# plt.xscale('log')\n",
    "plt.xlabel(\"index\")\n",
    "plt.ylabel(\"the number of different items by friends\")\n",
    "plt.plot(x_list, sorted_neigh_diff_item_num_list, \"o\")\n",
    "plt.show()"
   ]
  },
  {
   "cell_type": "code",
   "execution_count": null,
   "metadata": {},
   "outputs": [],
   "source": []
  },
  {
   "cell_type": "code",
   "execution_count": 347,
   "metadata": {},
   "outputs": [
    {
     "data": {
      "text/plain": [
       "5584"
      ]
     },
     "execution_count": 347,
     "metadata": {},
     "output_type": "execute_result"
    }
   ],
   "source": [
    "sorted_neigh_diff_item_num_list[0]"
   ]
  },
  {
   "cell_type": "code",
   "execution_count": 371,
   "metadata": {},
   "outputs": [
    {
     "name": "stdout",
     "output_type": "stream",
     "text": [
      "0:00:00.000078\n"
     ]
    }
   ],
   "source": [
    "start_time = datetime.datetime.now()\n",
    "end_time = datetime.datetime.now()\n",
    "print(end_time-start_time)"
   ]
  },
  {
   "cell_type": "code",
   "execution_count": 372,
   "metadata": {},
   "outputs": [],
   "source": [
    "import umsgpack"
   ]
  },
  {
   "cell_type": "code",
   "execution_count": null,
   "metadata": {},
   "outputs": [],
   "source": [
    "self.m_target = -1\n",
    "self.m_item_list = []\n",
    "self.m_time_list = []\n",
    "self.m_target_pos = -1\n",
    "\n",
    "self.m_neigh_diff_item_list = []\n",
    "self.m_neigh_diff_time_list = []\n",
    "\n",
    "self.m_neigh_common_item_list = [] ###[[]]\n",
    "self.m_neigh_common_time_list = [] "
   ]
  },
  {
   "cell_type": "code",
   "execution_count": null,
   "metadata": {},
   "outputs": [],
   "source": []
  },
  {
   "cell_type": "code",
   "execution_count": 383,
   "metadata": {},
   "outputs": [],
   "source": [
    "import gc\n",
    "import datetime \n",
    "from multiprocessing import Pool"
   ]
  },
  {
   "cell_type": "code",
   "execution_count": 375,
   "metadata": {},
   "outputs": [],
   "source": [
    "def read_seq(seq_list):\n",
    "    y_list = []\n",
    "    item_list = []\n",
    "    time_list = []\n",
    "    neigh_diff_item_list = []\n",
    "    neigh_diff_time_list = []\n",
    "    neigh_common_item_list = []\n",
    "    neigh_common_time_list = []\n",
    "    \n",
    "    for seq_obj in seq_list:\n",
    "        y_list.append(seq_obj.m_target)\n",
    "        item_list.append(seq_obj.m_item_list)\n",
    "        time_list.append(seq_obj.m_time_list)\n",
    "        \n",
    "        neigh_diff_item_list.append(seq_obj.m_neigh_diff_item_list)\n",
    "        neigh_diff_time_list.append(seq_obj.m_neigh_diff_time_list)\n",
    "        \n",
    "        neigh_common_item_list.append(seq_obj.m_neigh_common_item_list)\n",
    "        neigh_common_time_list.append(seq_obj.m_neigh_common_time_list)\n",
    "        \n",
    "    return y_list, item_list, time_list, neigh_diff_item_list, neigh_diff_time_list, neigh_common_item_list, neigh_common_time_list"
   ]
  },
  {
   "cell_type": "code",
   "execution_count": 392,
   "metadata": {},
   "outputs": [
    {
     "data": {
      "text/plain": [
       "1"
      ]
     },
     "execution_count": 392,
     "metadata": {},
     "output_type": "execute_result"
    }
   ],
   "source": [
    "121%4"
   ]
  },
  {
   "cell_type": "code",
   "execution_count": 395,
   "metadata": {},
   "outputs": [],
   "source": [
    "pool_num = 4\n",
    "def save_data_2_file(seq_list, file_name):\n",
    "    y_file = file_name+\"_target.pickle\"\n",
    "    x_file = file_name+\"_src.pickle\"\n",
    "    time_file = file_name+\"_time.pickle\"\n",
    "    \n",
    "    neigh_diff_x_file = file_name+\"_neigh_diff_src.pickle\"\n",
    "    neigh_diff_time_file = file_name+\"_neigh_diff_time.pickle\"\n",
    "    \n",
    "    neigh_common_x_file = file_name+\"_neigh_common_src.pickle\"\n",
    "    neigh_common_time_file = file_name+\"_neigh_common_time.pickle\"\n",
    "    \n",
    "    y_list = []\n",
    "    item_list = []\n",
    "    time_list = []\n",
    "    neigh_diff_item_list = []\n",
    "    neigh_diff_time_list = []\n",
    "    neigh_common_item_list = []\n",
    "    neigh_common_time_list = []\n",
    "    \n",
    "    pool = Pool(pool_num)\n",
    "    \n",
    "    print(\"seq num\", len(seq_list))\n",
    "    pool_seq_list = [ [] for i in range(pool_num)]\n",
    "    for seq_index, seq_obj in enumerate(seq_list):\n",
    "        pool_index = seq_index%pool_num\n",
    "        pool_seq_list[pool_index].append(seq_obj)\n",
    "    \n",
    "    results = map(read_seq, pool_seq_list)\n",
    "    \n",
    "    pool.close()\n",
    "    pool.join()\n",
    "    \n",
    "    for i in range(pool_num):\n",
    "        result = results[i]\n",
    "        \n",
    "        y_list.extend(result[0])\n",
    "        item_list.extend(result[1])\n",
    "        time_list.extend(result[2])\n",
    "        neigh_diff_item_list.extend(result[3])\n",
    "        neigh_diff_time_list.extend(result[4])\n",
    "        neigh_common_item_list.extend(result[5])\n",
    "        neigh_common_time_list.extend(result[6])\n",
    "#     y_list = []\n",
    "#     item_list = []\n",
    "#     time_list = []\n",
    "#     neigh_diff_item_list = []\n",
    "#     neigh_diff_time_list = []\n",
    "#     neigh_common_item_list = []\n",
    "#     neigh_common_time_list = []\n",
    "    \n",
    "#     for seq_obj in seq_list:\n",
    "#         y_list.append(seq_obj.m_target)\n",
    "#         item_list.append(seq_obj.m_item_list)\n",
    "#         time_list.append(seq_obj.m_time_list)\n",
    "        \n",
    "#         neigh_diff_item_list.append(seq_obj.m_neigh_diff_item_list)\n",
    "#         neigh_diff_time_list.append(seq_obj.m_neigh_diff_time_list)\n",
    "        \n",
    "#         neigh_common_item_list.append(seq_obj.m_neigh_common_item_list)\n",
    "#         neigh_common_time_list.append(seq_obj.m_neigh_common_time_list)\n",
    "    \n",
    "    gc.disable()\n",
    "    \n",
    "    f = open(y_file, \"wb\")\n",
    "    pickle.dump(y_list, f)\n",
    "    f.close()\n",
    "    \n",
    "    f = open(x_file, \"wb\")\n",
    "    pickle.dump(item_list, f)\n",
    "    f.close()\n",
    "    \n",
    "    f = open(time_file, \"wb\")\n",
    "    pickle.dump(time_list, f)\n",
    "    f.close()\n",
    "    \n",
    "    f = open(neigh_diff_x_file, \"wb\")\n",
    "    pickle.dump(neigh_diff_item_list, f)\n",
    "    f.close()\n",
    "    \n",
    "    f = open(neigh_diff_time_file, \"wb\")\n",
    "    pickle.dump(neigh_diff_time_list, f)\n",
    "    f.close()\n",
    "    \n",
    "    f = open(neigh_common_x_file, \"wb\")\n",
    "    pickle.dump(neigh_common_item_list, f)\n",
    "    f.close()\n",
    "    \n",
    "    f = open(neigh_common_time_file, \"wb\")\n",
    "    pickle.dump(neigh_common_time_list, f)\n",
    "    f.close()\n",
    "    \n",
    "    gc.enable()"
   ]
  },
  {
   "cell_type": "code",
   "execution_count": 398,
   "metadata": {},
   "outputs": [
    {
     "ename": "OSError",
     "evalue": "[Errno 12] Cannot allocate memory",
     "output_type": "error",
     "traceback": [
      "\u001b[0;31m----------------------------------------------------------------------\u001b[0m",
      "\u001b[0;31mOSError\u001b[0m                              Traceback (most recent call last)",
      "\u001b[0;32m<ipython-input-398-0a118d85c2d6>\u001b[0m in \u001b[0;36m<module>\u001b[0;34m\u001b[0m\n\u001b[1;32m      1\u001b[0m \u001b[0mstart_time\u001b[0m \u001b[0;34m=\u001b[0m \u001b[0mdatetime\u001b[0m\u001b[0;34m.\u001b[0m\u001b[0mdatetime\u001b[0m\u001b[0;34m.\u001b[0m\u001b[0mnow\u001b[0m\u001b[0;34m(\u001b[0m\u001b[0;34m)\u001b[0m\u001b[0;34m\u001b[0m\u001b[0;34m\u001b[0m\u001b[0m\n\u001b[0;32m----> 2\u001b[0;31m \u001b[0msave_data_2_file\u001b[0m\u001b[0;34m(\u001b[0m\u001b[0mmovielen_1m_data\u001b[0m\u001b[0;34m[\u001b[0m\u001b[0;34m\"train\"\u001b[0m\u001b[0;34m]\u001b[0m\u001b[0;34m.\u001b[0m\u001b[0mm_seq_list\u001b[0m\u001b[0;34m,\u001b[0m \u001b[0;34m\"train\"\u001b[0m\u001b[0;34m)\u001b[0m\u001b[0;34m\u001b[0m\u001b[0;34m\u001b[0m\u001b[0m\n\u001b[0m\u001b[1;32m      3\u001b[0m \u001b[0mend_time\u001b[0m \u001b[0;34m=\u001b[0m \u001b[0mdatetime\u001b[0m\u001b[0;34m.\u001b[0m\u001b[0mdatetime\u001b[0m\u001b[0;34m.\u001b[0m\u001b[0mnow\u001b[0m\u001b[0;34m(\u001b[0m\u001b[0;34m)\u001b[0m\u001b[0;34m\u001b[0m\u001b[0;34m\u001b[0m\u001b[0m\n\u001b[1;32m      4\u001b[0m \u001b[0mprint\u001b[0m\u001b[0;34m(\u001b[0m\u001b[0;34m\"duration\"\u001b[0m\u001b[0;34m,\u001b[0m \u001b[0mend_time\u001b[0m\u001b[0;34m-\u001b[0m\u001b[0mstart_time\u001b[0m\u001b[0;34m)\u001b[0m\u001b[0;34m\u001b[0m\u001b[0;34m\u001b[0m\u001b[0m\n",
      "\u001b[0;32m<ipython-input-395-af546edb22c2>\u001b[0m in \u001b[0;36msave_data_2_file\u001b[0;34m(seq_list, file_name)\u001b[0m\n\u001b[1;32m     19\u001b[0m     \u001b[0mneigh_common_time_list\u001b[0m \u001b[0;34m=\u001b[0m \u001b[0;34m[\u001b[0m\u001b[0;34m]\u001b[0m\u001b[0;34m\u001b[0m\u001b[0;34m\u001b[0m\u001b[0m\n\u001b[1;32m     20\u001b[0m \u001b[0;34m\u001b[0m\u001b[0m\n\u001b[0;32m---> 21\u001b[0;31m     \u001b[0mpool\u001b[0m \u001b[0;34m=\u001b[0m \u001b[0mPool\u001b[0m\u001b[0;34m(\u001b[0m\u001b[0mpool_num\u001b[0m\u001b[0;34m)\u001b[0m\u001b[0;34m\u001b[0m\u001b[0;34m\u001b[0m\u001b[0m\n\u001b[0m\u001b[1;32m     22\u001b[0m \u001b[0;34m\u001b[0m\u001b[0m\n\u001b[1;32m     23\u001b[0m     \u001b[0mprint\u001b[0m\u001b[0;34m(\u001b[0m\u001b[0;34m\"seq num\"\u001b[0m\u001b[0;34m,\u001b[0m \u001b[0mlen\u001b[0m\u001b[0;34m(\u001b[0m\u001b[0mseq_list\u001b[0m\u001b[0;34m)\u001b[0m\u001b[0;34m)\u001b[0m\u001b[0;34m\u001b[0m\u001b[0;34m\u001b[0m\u001b[0m\n",
      "\u001b[0;32m~/anaconda3/lib/python3.7/multiprocessing/context.py\u001b[0m in \u001b[0;36mPool\u001b[0;34m(self, processes, initializer, initargs, maxtasksperchild)\u001b[0m\n\u001b[1;32m    117\u001b[0m         \u001b[0;32mfrom\u001b[0m \u001b[0;34m.\u001b[0m\u001b[0mpool\u001b[0m \u001b[0;32mimport\u001b[0m \u001b[0mPool\u001b[0m\u001b[0;34m\u001b[0m\u001b[0;34m\u001b[0m\u001b[0m\n\u001b[1;32m    118\u001b[0m         return Pool(processes, initializer, initargs, maxtasksperchild,\n\u001b[0;32m--> 119\u001b[0;31m                     context=self.get_context())\n\u001b[0m\u001b[1;32m    120\u001b[0m \u001b[0;34m\u001b[0m\u001b[0m\n\u001b[1;32m    121\u001b[0m     \u001b[0;32mdef\u001b[0m \u001b[0mRawValue\u001b[0m\u001b[0;34m(\u001b[0m\u001b[0mself\u001b[0m\u001b[0;34m,\u001b[0m \u001b[0mtypecode_or_type\u001b[0m\u001b[0;34m,\u001b[0m \u001b[0;34m*\u001b[0m\u001b[0margs\u001b[0m\u001b[0;34m)\u001b[0m\u001b[0;34m:\u001b[0m\u001b[0;34m\u001b[0m\u001b[0;34m\u001b[0m\u001b[0m\n",
      "\u001b[0;32m~/anaconda3/lib/python3.7/multiprocessing/pool.py\u001b[0m in \u001b[0;36m__init__\u001b[0;34m(self, processes, initializer, initargs, maxtasksperchild, context)\u001b[0m\n\u001b[1;32m    174\u001b[0m         \u001b[0mself\u001b[0m\u001b[0;34m.\u001b[0m\u001b[0m_processes\u001b[0m \u001b[0;34m=\u001b[0m \u001b[0mprocesses\u001b[0m\u001b[0;34m\u001b[0m\u001b[0;34m\u001b[0m\u001b[0m\n\u001b[1;32m    175\u001b[0m         \u001b[0mself\u001b[0m\u001b[0;34m.\u001b[0m\u001b[0m_pool\u001b[0m \u001b[0;34m=\u001b[0m \u001b[0;34m[\u001b[0m\u001b[0;34m]\u001b[0m\u001b[0;34m\u001b[0m\u001b[0;34m\u001b[0m\u001b[0m\n\u001b[0;32m--> 176\u001b[0;31m         \u001b[0mself\u001b[0m\u001b[0;34m.\u001b[0m\u001b[0m_repopulate_pool\u001b[0m\u001b[0;34m(\u001b[0m\u001b[0;34m)\u001b[0m\u001b[0;34m\u001b[0m\u001b[0;34m\u001b[0m\u001b[0m\n\u001b[0m\u001b[1;32m    177\u001b[0m \u001b[0;34m\u001b[0m\u001b[0m\n\u001b[1;32m    178\u001b[0m         self._worker_handler = threading.Thread(\n",
      "\u001b[0;32m~/anaconda3/lib/python3.7/multiprocessing/pool.py\u001b[0m in \u001b[0;36m_repopulate_pool\u001b[0;34m(self)\u001b[0m\n\u001b[1;32m    239\u001b[0m             \u001b[0mw\u001b[0m\u001b[0;34m.\u001b[0m\u001b[0mname\u001b[0m \u001b[0;34m=\u001b[0m \u001b[0mw\u001b[0m\u001b[0;34m.\u001b[0m\u001b[0mname\u001b[0m\u001b[0;34m.\u001b[0m\u001b[0mreplace\u001b[0m\u001b[0;34m(\u001b[0m\u001b[0;34m'Process'\u001b[0m\u001b[0;34m,\u001b[0m \u001b[0;34m'PoolWorker'\u001b[0m\u001b[0;34m)\u001b[0m\u001b[0;34m\u001b[0m\u001b[0;34m\u001b[0m\u001b[0m\n\u001b[1;32m    240\u001b[0m             \u001b[0mw\u001b[0m\u001b[0;34m.\u001b[0m\u001b[0mdaemon\u001b[0m \u001b[0;34m=\u001b[0m \u001b[0;32mTrue\u001b[0m\u001b[0;34m\u001b[0m\u001b[0;34m\u001b[0m\u001b[0m\n\u001b[0;32m--> 241\u001b[0;31m             \u001b[0mw\u001b[0m\u001b[0;34m.\u001b[0m\u001b[0mstart\u001b[0m\u001b[0;34m(\u001b[0m\u001b[0;34m)\u001b[0m\u001b[0;34m\u001b[0m\u001b[0;34m\u001b[0m\u001b[0m\n\u001b[0m\u001b[1;32m    242\u001b[0m             \u001b[0mutil\u001b[0m\u001b[0;34m.\u001b[0m\u001b[0mdebug\u001b[0m\u001b[0;34m(\u001b[0m\u001b[0;34m'added worker'\u001b[0m\u001b[0;34m)\u001b[0m\u001b[0;34m\u001b[0m\u001b[0;34m\u001b[0m\u001b[0m\n\u001b[1;32m    243\u001b[0m \u001b[0;34m\u001b[0m\u001b[0m\n",
      "\u001b[0;32m~/anaconda3/lib/python3.7/multiprocessing/process.py\u001b[0m in \u001b[0;36mstart\u001b[0;34m(self)\u001b[0m\n\u001b[1;32m    110\u001b[0m                \u001b[0;34m'daemonic processes are not allowed to have children'\u001b[0m\u001b[0;34m\u001b[0m\u001b[0;34m\u001b[0m\u001b[0m\n\u001b[1;32m    111\u001b[0m         \u001b[0m_cleanup\u001b[0m\u001b[0;34m(\u001b[0m\u001b[0;34m)\u001b[0m\u001b[0;34m\u001b[0m\u001b[0;34m\u001b[0m\u001b[0m\n\u001b[0;32m--> 112\u001b[0;31m         \u001b[0mself\u001b[0m\u001b[0;34m.\u001b[0m\u001b[0m_popen\u001b[0m \u001b[0;34m=\u001b[0m \u001b[0mself\u001b[0m\u001b[0;34m.\u001b[0m\u001b[0m_Popen\u001b[0m\u001b[0;34m(\u001b[0m\u001b[0mself\u001b[0m\u001b[0;34m)\u001b[0m\u001b[0;34m\u001b[0m\u001b[0;34m\u001b[0m\u001b[0m\n\u001b[0m\u001b[1;32m    113\u001b[0m         \u001b[0mself\u001b[0m\u001b[0;34m.\u001b[0m\u001b[0m_sentinel\u001b[0m \u001b[0;34m=\u001b[0m \u001b[0mself\u001b[0m\u001b[0;34m.\u001b[0m\u001b[0m_popen\u001b[0m\u001b[0;34m.\u001b[0m\u001b[0msentinel\u001b[0m\u001b[0;34m\u001b[0m\u001b[0;34m\u001b[0m\u001b[0m\n\u001b[1;32m    114\u001b[0m         \u001b[0;31m# Avoid a refcycle if the target function holds an indirect\u001b[0m\u001b[0;34m\u001b[0m\u001b[0;34m\u001b[0m\u001b[0;34m\u001b[0m\u001b[0m\n",
      "\u001b[0;32m~/anaconda3/lib/python3.7/multiprocessing/context.py\u001b[0m in \u001b[0;36m_Popen\u001b[0;34m(process_obj)\u001b[0m\n\u001b[1;32m    275\u001b[0m         \u001b[0;32mdef\u001b[0m \u001b[0m_Popen\u001b[0m\u001b[0;34m(\u001b[0m\u001b[0mprocess_obj\u001b[0m\u001b[0;34m)\u001b[0m\u001b[0;34m:\u001b[0m\u001b[0;34m\u001b[0m\u001b[0;34m\u001b[0m\u001b[0m\n\u001b[1;32m    276\u001b[0m             \u001b[0;32mfrom\u001b[0m \u001b[0;34m.\u001b[0m\u001b[0mpopen_fork\u001b[0m \u001b[0;32mimport\u001b[0m \u001b[0mPopen\u001b[0m\u001b[0;34m\u001b[0m\u001b[0;34m\u001b[0m\u001b[0m\n\u001b[0;32m--> 277\u001b[0;31m             \u001b[0;32mreturn\u001b[0m \u001b[0mPopen\u001b[0m\u001b[0;34m(\u001b[0m\u001b[0mprocess_obj\u001b[0m\u001b[0;34m)\u001b[0m\u001b[0;34m\u001b[0m\u001b[0;34m\u001b[0m\u001b[0m\n\u001b[0m\u001b[1;32m    278\u001b[0m \u001b[0;34m\u001b[0m\u001b[0m\n\u001b[1;32m    279\u001b[0m     \u001b[0;32mclass\u001b[0m \u001b[0mSpawnProcess\u001b[0m\u001b[0;34m(\u001b[0m\u001b[0mprocess\u001b[0m\u001b[0;34m.\u001b[0m\u001b[0mBaseProcess\u001b[0m\u001b[0;34m)\u001b[0m\u001b[0;34m:\u001b[0m\u001b[0;34m\u001b[0m\u001b[0;34m\u001b[0m\u001b[0m\n",
      "\u001b[0;32m~/anaconda3/lib/python3.7/multiprocessing/popen_fork.py\u001b[0m in \u001b[0;36m__init__\u001b[0;34m(self, process_obj)\u001b[0m\n\u001b[1;32m     18\u001b[0m         \u001b[0mself\u001b[0m\u001b[0;34m.\u001b[0m\u001b[0mreturncode\u001b[0m \u001b[0;34m=\u001b[0m \u001b[0;32mNone\u001b[0m\u001b[0;34m\u001b[0m\u001b[0;34m\u001b[0m\u001b[0m\n\u001b[1;32m     19\u001b[0m         \u001b[0mself\u001b[0m\u001b[0;34m.\u001b[0m\u001b[0mfinalizer\u001b[0m \u001b[0;34m=\u001b[0m \u001b[0;32mNone\u001b[0m\u001b[0;34m\u001b[0m\u001b[0;34m\u001b[0m\u001b[0m\n\u001b[0;32m---> 20\u001b[0;31m         \u001b[0mself\u001b[0m\u001b[0;34m.\u001b[0m\u001b[0m_launch\u001b[0m\u001b[0;34m(\u001b[0m\u001b[0mprocess_obj\u001b[0m\u001b[0;34m)\u001b[0m\u001b[0;34m\u001b[0m\u001b[0;34m\u001b[0m\u001b[0m\n\u001b[0m\u001b[1;32m     21\u001b[0m \u001b[0;34m\u001b[0m\u001b[0m\n\u001b[1;32m     22\u001b[0m     \u001b[0;32mdef\u001b[0m \u001b[0mduplicate_for_child\u001b[0m\u001b[0;34m(\u001b[0m\u001b[0mself\u001b[0m\u001b[0;34m,\u001b[0m \u001b[0mfd\u001b[0m\u001b[0;34m)\u001b[0m\u001b[0;34m:\u001b[0m\u001b[0;34m\u001b[0m\u001b[0;34m\u001b[0m\u001b[0m\n",
      "\u001b[0;32m~/anaconda3/lib/python3.7/multiprocessing/popen_fork.py\u001b[0m in \u001b[0;36m_launch\u001b[0;34m(self, process_obj)\u001b[0m\n\u001b[1;32m     68\u001b[0m         \u001b[0mcode\u001b[0m \u001b[0;34m=\u001b[0m \u001b[0;36m1\u001b[0m\u001b[0;34m\u001b[0m\u001b[0;34m\u001b[0m\u001b[0m\n\u001b[1;32m     69\u001b[0m         \u001b[0mparent_r\u001b[0m\u001b[0;34m,\u001b[0m \u001b[0mchild_w\u001b[0m \u001b[0;34m=\u001b[0m \u001b[0mos\u001b[0m\u001b[0;34m.\u001b[0m\u001b[0mpipe\u001b[0m\u001b[0;34m(\u001b[0m\u001b[0;34m)\u001b[0m\u001b[0;34m\u001b[0m\u001b[0;34m\u001b[0m\u001b[0m\n\u001b[0;32m---> 70\u001b[0;31m         \u001b[0mself\u001b[0m\u001b[0;34m.\u001b[0m\u001b[0mpid\u001b[0m \u001b[0;34m=\u001b[0m \u001b[0mos\u001b[0m\u001b[0;34m.\u001b[0m\u001b[0mfork\u001b[0m\u001b[0;34m(\u001b[0m\u001b[0;34m)\u001b[0m\u001b[0;34m\u001b[0m\u001b[0;34m\u001b[0m\u001b[0m\n\u001b[0m\u001b[1;32m     71\u001b[0m         \u001b[0;32mif\u001b[0m \u001b[0mself\u001b[0m\u001b[0;34m.\u001b[0m\u001b[0mpid\u001b[0m \u001b[0;34m==\u001b[0m \u001b[0;36m0\u001b[0m\u001b[0;34m:\u001b[0m\u001b[0;34m\u001b[0m\u001b[0;34m\u001b[0m\u001b[0m\n\u001b[1;32m     72\u001b[0m             \u001b[0;32mtry\u001b[0m\u001b[0;34m:\u001b[0m\u001b[0;34m\u001b[0m\u001b[0;34m\u001b[0m\u001b[0m\n",
      "\u001b[0;31mOSError\u001b[0m: [Errno 12] Cannot allocate memory"
     ]
    }
   ],
   "source": [
    "start_time = datetime.datetime.now()\n",
    "save_data_2_file(movielen_1m_data[\"train\"].m_seq_list, \"train\")\n",
    "end_time = datetime.datetime.now()\n",
    "print(\"duration\", end_time-start_time)"
   ]
  },
  {
   "cell_type": "code",
   "execution_count": null,
   "metadata": {},
   "outputs": [],
   "source": []
  },
  {
   "cell_type": "code",
   "execution_count": 373,
   "metadata": {},
   "outputs": [
    {
     "ename": "UnsupportedTypeException",
     "evalue": "unsupported type: <class '__main__._seq_corpus'>",
     "output_type": "error",
     "traceback": [
      "\u001b[0;31m----------------------------------------------------------------------\u001b[0m",
      "\u001b[0;31mUnsupportedTypeException\u001b[0m             Traceback (most recent call last)",
      "\u001b[0;32m<ipython-input-373-ec2f0c0e7d32>\u001b[0m in \u001b[0;36m<module>\u001b[0;34m\u001b[0m\n\u001b[1;32m      1\u001b[0m \u001b[0mmovielens_1m_train_pickle\u001b[0m \u001b[0;34m=\u001b[0m \u001b[0;34m\"../Data/ctr/movielen_1M_time_train.bin\"\u001b[0m\u001b[0;34m\u001b[0m\u001b[0;34m\u001b[0m\u001b[0m\n\u001b[1;32m      2\u001b[0m \u001b[0mf\u001b[0m \u001b[0;34m=\u001b[0m \u001b[0mopen\u001b[0m\u001b[0;34m(\u001b[0m\u001b[0mmovielens_1m_train_pickle\u001b[0m\u001b[0;34m,\u001b[0m \u001b[0;34m\"wb\"\u001b[0m\u001b[0;34m)\u001b[0m\u001b[0;34m\u001b[0m\u001b[0;34m\u001b[0m\u001b[0m\n\u001b[0;32m----> 3\u001b[0;31m \u001b[0mumsgpack\u001b[0m\u001b[0;34m.\u001b[0m\u001b[0mpack\u001b[0m\u001b[0;34m(\u001b[0m\u001b[0mmovielen_1m_data\u001b[0m\u001b[0;34m[\u001b[0m\u001b[0;34m\"train\"\u001b[0m\u001b[0;34m]\u001b[0m\u001b[0;34m,\u001b[0m \u001b[0mf\u001b[0m\u001b[0;34m)\u001b[0m\u001b[0;34m\u001b[0m\u001b[0;34m\u001b[0m\u001b[0m\n\u001b[0m\u001b[1;32m      4\u001b[0m \u001b[0mf\u001b[0m\u001b[0;34m.\u001b[0m\u001b[0mclose\u001b[0m\u001b[0;34m(\u001b[0m\u001b[0;34m)\u001b[0m\u001b[0;34m\u001b[0m\u001b[0;34m\u001b[0m\u001b[0m\n\u001b[1;32m      5\u001b[0m \u001b[0;34m\u001b[0m\u001b[0m\n",
      "\u001b[0;32m~/anaconda3/lib/python3.7/site-packages/umsgpack.py\u001b[0m in \u001b[0;36m_pack3\u001b[0;34m(obj, fp, **options)\u001b[0m\n\u001b[1;32m    558\u001b[0m     \u001b[0;32melse\u001b[0m\u001b[0;34m:\u001b[0m\u001b[0;34m\u001b[0m\u001b[0;34m\u001b[0m\u001b[0m\n\u001b[1;32m    559\u001b[0m         raise UnsupportedTypeException(\n\u001b[0;32m--> 560\u001b[0;31m             \"unsupported type: %s\" % str(type(obj)))\n\u001b[0m\u001b[1;32m    561\u001b[0m \u001b[0;34m\u001b[0m\u001b[0m\n\u001b[1;32m    562\u001b[0m \u001b[0;34m\u001b[0m\u001b[0m\n",
      "\u001b[0;31mUnsupportedTypeException\u001b[0m: unsupported type: <class '__main__._seq_corpus'>"
     ]
    }
   ],
   "source": [
    "movielens_1m_train_pickle = \"../Data/ctr/movielen_1M_time_train.bin\"\n",
    "f = open(movielens_1m_train_pickle, \"wb\")\n",
    "umsgpack.pack(movielen_1m_data[\"train\"], f)\n",
    "f.close()\n",
    "\n",
    "movielens_1m_valid_pickle = \"../Data/ctr/movielen_1M_time_valid.bin\"\n",
    "f = open(movielens_1m_valid_pickle, \"wb\")\n",
    "umsgpack.pack(movielen_1m_data[\"valid\"], f)\n",
    "f.close()\n",
    "\n",
    "movielens_1m_test_pickle = \"../Data/ctr/movielen_1M_time_test.bin\"\n",
    "f = open(movielens_1m_test_pickle, \"wb\")\n",
    "umsgpack.pack(movielen_1m_data[\"test\"], f)\n",
    "f.close()"
   ]
  },
  {
   "cell_type": "code",
   "execution_count": null,
   "metadata": {},
   "outputs": [],
   "source": []
  },
  {
   "cell_type": "code",
   "execution_count": null,
   "metadata": {},
   "outputs": [],
   "source": []
  },
  {
   "cell_type": "code",
   "execution_count": 22,
   "metadata": {},
   "outputs": [],
   "source": [
    "movielens_1m_train_pickle = \"../Data/ctr/movielen_1M_time_train_debug.pickle\"\n",
    "f = open(movielens_1m_train_pickle, \"wb\")\n",
    "pickle.dump(movielen_1m_data[\"train\"], f)\n",
    "f.close()\n",
    "\n",
    "movielens_1m_valid_pickle = \"../Data/ctr/movielen_1M_time_valid_debug.pickle\"\n",
    "f = open(movielens_1m_valid_pickle, \"wb\")\n",
    "pickle.dump(movielen_1m_data[\"valid\"], f)\n",
    "f.close()\n",
    "\n",
    "movielens_1m_test_pickle = \"../Data/ctr/movielen_1M_time_test_debug.pickle\"\n",
    "f = open(movielens_1m_test_pickle, \"wb\")\n",
    "pickle.dump(movielen_1m_data[\"test\"], f)\n",
    "f.close()"
   ]
  },
  {
   "cell_type": "code",
   "execution_count": null,
   "metadata": {},
   "outputs": [],
   "source": []
  },
  {
   "cell_type": "code",
   "execution_count": null,
   "metadata": {},
   "outputs": [],
   "source": []
  },
  {
   "cell_type": "code",
   "execution_count": 334,
   "metadata": {},
   "outputs": [
    {
     "ename": "MemoryError",
     "evalue": "",
     "output_type": "error",
     "traceback": [
      "\u001b[0;31m----------------------------------------------------------------------\u001b[0m",
      "\u001b[0;31mMemoryError\u001b[0m                          Traceback (most recent call last)",
      "\u001b[0;32m<ipython-input-334-a342d322b371>\u001b[0m in \u001b[0;36m<module>\u001b[0;34m\u001b[0m\n\u001b[1;32m      1\u001b[0m \u001b[0mmovielen_1m_pickle\u001b[0m \u001b[0;34m=\u001b[0m \u001b[0;34m\"../Data/ctr/movielen_1M_time.pickle\"\u001b[0m\u001b[0;34m\u001b[0m\u001b[0;34m\u001b[0m\u001b[0m\n\u001b[1;32m      2\u001b[0m \u001b[0mf\u001b[0m \u001b[0;34m=\u001b[0m \u001b[0mopen\u001b[0m\u001b[0;34m(\u001b[0m\u001b[0mmovielen_1m_pickle\u001b[0m\u001b[0;34m,\u001b[0m \u001b[0;34m\"wb\"\u001b[0m\u001b[0;34m)\u001b[0m\u001b[0;34m\u001b[0m\u001b[0;34m\u001b[0m\u001b[0m\n\u001b[0;32m----> 3\u001b[0;31m \u001b[0mpickle\u001b[0m\u001b[0;34m.\u001b[0m\u001b[0mdump\u001b[0m\u001b[0;34m(\u001b[0m\u001b[0mmovielen_1m_data\u001b[0m\u001b[0;34m,\u001b[0m \u001b[0mf\u001b[0m\u001b[0;34m)\u001b[0m\u001b[0;34m\u001b[0m\u001b[0;34m\u001b[0m\u001b[0m\n\u001b[0m\u001b[1;32m      4\u001b[0m \u001b[0mf\u001b[0m\u001b[0;34m.\u001b[0m\u001b[0mclose\u001b[0m\u001b[0;34m(\u001b[0m\u001b[0;34m)\u001b[0m\u001b[0;34m\u001b[0m\u001b[0;34m\u001b[0m\u001b[0m\n",
      "\u001b[0;31mMemoryError\u001b[0m: "
     ]
    }
   ],
   "source": [
    "movielen_1m_pickle = \"../Data/ctr/movielen_1M_time.pickle\"\n",
    "f = open(movielen_1m_pickle, \"wb\")\n",
    "pickle.dump(movielen_1m_data, f)\n",
    "f.close()"
   ]
  },
  {
   "cell_type": "code",
   "execution_count": 16,
   "metadata": {},
   "outputs": [],
   "source": [
    "class _new_user:\n",
    "    def __init__(self):\n",
    "        self.m_uid = -1\n",
    "        self.m_item_obj_list = collections.deque(maxlen=sequence_len_max_item)\n",
    "        self.m_item_list = collections.deque(maxlen=sequence_len_max_item)\n",
    "        self.m_time_list = collections.deque(maxlen=sequence_len_max_item)\n",
    "        self.m_item_num = 0\n",
    "        self.m_friend_id_list = collections.deque(maxlen=sequence_len_max_item) \n",
    "\n",
    "class _new_item:\n",
    "    def __init__(self):\n",
    "        self.m_iid = -1\n",
    "        self.m_user_list = collections.deque(maxlen=sequence_len_max_user)\n",
    "        self.m_user_num = 0"
   ]
  },
  {
   "cell_type": "code",
   "execution_count": 17,
   "metadata": {},
   "outputs": [
    {
     "name": "stdout",
     "output_type": "stream",
     "text": [
      "user num 4478\n",
      "item num 2897\n"
     ]
    }
   ],
   "source": [
    "new_userid_obj_map = {}\n",
    "new_itemid_obj_map = {}\n",
    "for userid, userobj in corpus_obj.m_userid_obj_map.items():\n",
    "    _new_user_obj = _new_user()\n",
    "    _new_user_obj.m_uid = userobj.m_uid\n",
    "    _new_user_obj.m_item_obj_list = userobj.m_item_obj_list\n",
    "    _new_user_obj.m_item_list = userobj.m_item_list\n",
    "    _new_user_obj.m_time_list = userobj.m_time_list\n",
    "    _new_user_obj.m_item_num = userobj.m_item_num\n",
    "    _new_user_obj.m_friend_id_list = userobj.m_friend_id_list\n",
    "    \n",
    "    new_userid_obj_map[userid] = _new_user_obj\n",
    "    \n",
    "for itemid, itemobj in corpus_obj.m_itemid_obj_map.items():\n",
    "    _new_item_obj = _new_item()\n",
    "    _new_item_obj.m_iid = itemobj.m_iid\n",
    "    _new_item_obj.m_user_list = itemobj.m_user_list\n",
    "    _new_item_obj.m_user_num = itemobj.m_user_num\n",
    "    \n",
    "    new_itemid_obj_map[itemid] = _new_item_obj\n",
    "    \n",
    "print(\"user num\", len(new_userid_obj_map))\n",
    "print(\"item num\", len(new_itemid_obj_map))"
   ]
  },
  {
   "cell_type": "code",
   "execution_count": 21,
   "metadata": {},
   "outputs": [],
   "source": [
    "import sys\n",
    "sys.setrecursionlimit(16385)"
   ]
  },
  {
   "cell_type": "code",
   "execution_count": 22,
   "metadata": {},
   "outputs": [],
   "source": [
    "movielen_1m_user_item = {}\n",
    "movielen_1m_user_item[\"user\"] = new_userid_obj_map\n",
    "movielen_1m_user_item[\"item\"] = new_itemid_obj_map\n",
    "\n",
    "movielen_1m_user_item_pickle = \"../Data/ctr/movielen_1M_time_user_item.pickle\"\n",
    "f = open(movielen_1m_user_item_pickle, \"wb\")\n",
    "pickle.dump(movielen_1m_user_item, f)\n",
    "f.close()"
   ]
  },
  {
   "cell_type": "code",
   "execution_count": 219,
   "metadata": {},
   "outputs": [
    {
     "name": "stdout",
     "output_type": "stream",
     "text": [
      "4478\n",
      "4478\n"
     ]
    }
   ],
   "source": [
    "print(len(corpus_obj.m_userid_obj_map))\n",
    "print(corpus_obj.m_user_num)"
   ]
  },
  {
   "cell_type": "code",
   "execution_count": 218,
   "metadata": {},
   "outputs": [],
   "source": [
    "valid_seq_corpus_obj = movielen_1m_data['valid']"
   ]
  },
  {
   "cell_type": "code",
   "execution_count": 221,
   "metadata": {
    "collapsed": true
   },
   "outputs": [
    {
     "name": "stdout",
     "output_type": "stream",
     "text": [
      "**********\n",
      "target 2229\n",
      "item [2383, 1606, 1487, 495, 1456, 1670, 2058, 589, 2584, 1559, 1408, 2693, 1420, 1902, 1755, 1086, 2369, 2009, 4, 2235, 352, 656, 566, 561, 873, 1454, 537, 60, 705, 284]\n",
      "neigh diff item 18\n",
      "negih common item 18\n",
      "**********\n",
      "target 492\n",
      "item [478, 120, 636, 1113, 9, 1248, 597, 363, 1943, 131, 434, 790, 789, 2195, 697, 1444, 391, 693, 27, 1102, 211, 466, 397, 22, 1527, 388, 999, 1391, 620, 774]\n",
      "neigh diff item 21\n",
      "negih common item 21\n",
      "**********\n",
      "target 218\n",
      "item [120, 636, 1113, 9, 1248, 597, 363, 1943, 131, 434, 790, 789, 2195, 697, 1444, 391, 693, 27, 1102, 211, 466, 397, 22, 1527, 388, 999, 1391, 620, 774, 492]\n",
      "neigh diff item 16\n",
      "negih common item 16\n",
      "**********\n",
      "target 440\n",
      "item [636, 1113, 9, 1248, 597, 363, 1943, 131, 434, 790, 789, 2195, 697, 1444, 391, 693, 27, 1102, 211, 466, 397, 22, 1527, 388, 999, 1391, 620, 774, 492, 218]\n",
      "neigh diff item 19\n",
      "negih common item 19\n",
      "**********\n",
      "target 10\n",
      "item [1113, 9, 1248, 597, 363, 1943, 131, 434, 790, 789, 2195, 697, 1444, 391, 693, 27, 1102, 211, 466, 397, 22, 1527, 388, 999, 1391, 620, 774, 492, 218, 440]\n",
      "neigh diff item 16\n",
      "negih common item 16\n",
      "**********\n",
      "target 1622\n",
      "item [9, 1248, 597, 363, 1943, 131, 434, 790, 789, 2195, 697, 1444, 391, 693, 27, 1102, 211, 466, 397, 22, 1527, 388, 999, 1391, 620, 774, 492, 218, 440, 10]\n",
      "neigh diff item 23\n",
      "negih common item 23\n",
      "**********\n",
      "target 201\n",
      "item [1606, 1487, 495, 1456, 1670, 2058, 589, 2584, 1559, 1408, 2693, 1420, 1902, 1755, 1086, 2369, 2009, 4, 2235, 352, 656, 566, 561, 873, 1454, 537, 60, 705, 284, 2229]\n",
      "neigh diff item 23\n",
      "negih common item 23\n",
      "**********\n",
      "target 246\n",
      "item [1487, 495, 1456, 1670, 2058, 589, 2584, 1559, 1408, 2693, 1420, 1902, 1755, 1086, 2369, 2009, 4, 2235, 352, 656, 566, 561, 873, 1454, 537, 60, 705, 284, 2229, 201]\n",
      "neigh diff item 17\n",
      "negih common item 17\n",
      "**********\n",
      "target 296\n",
      "item [495, 1456, 1670, 2058, 589, 2584, 1559, 1408, 2693, 1420, 1902, 1755, 1086, 2369, 2009, 4, 2235, 352, 656, 566, 561, 873, 1454, 537, 60, 705, 284, 2229, 201, 246]\n",
      "neigh diff item 17\n",
      "negih common item 17\n",
      "**********\n",
      "target 1282\n",
      "item [1248, 597, 363, 1943, 131, 434, 790, 789, 2195, 697, 1444, 391, 693, 27, 1102, 211, 466, 397, 22, 1527, 388, 999, 1391, 620, 774, 492, 218, 440, 10, 1622]\n",
      "neigh diff item 16\n",
      "negih common item 16\n",
      "**********\n",
      "target 497\n",
      "item [1456, 1670, 2058, 589, 2584, 1559, 1408, 2693, 1420, 1902, 1755, 1086, 2369, 2009, 4, 2235, 352, 656, 566, 561, 873, 1454, 537, 60, 705, 284, 2229, 201, 246, 296]\n",
      "neigh diff item 14\n",
      "negih common item 14\n",
      "**********\n",
      "target 250\n",
      "item [1670, 2058, 589, 2584, 1559, 1408, 2693, 1420, 1902, 1755, 1086, 2369, 2009, 4, 2235, 352, 656, 566, 561, 873, 1454, 537, 60, 705, 284, 2229, 201, 246, 296, 497]\n",
      "neigh diff item 23\n",
      "negih common item 23\n"
     ]
    }
   ],
   "source": [
    "debug_seq_num = 0\n",
    "for seq_obj in valid_seq_corpus_obj.m_seq_list:\n",
    "    print(\"*\"*10)\n",
    "    print(\"target\", seq_obj.m_target)\n",
    "    print(\"item\", seq_obj.m_item_list)\n",
    "   \n",
    "    print(\"neigh diff item\", len(seq_obj.m_neigh_diff_item_list))\n",
    "    print(\"negih common item\", len(seq_obj.m_neigh_common_item_list))\n",
    "    \n",
    "    if debug_seq_num > 10:\n",
    "        break\n",
    "    \n",
    "    debug_seq_num += 1\n",
    "    "
   ]
  },
  {
   "cell_type": "code",
   "execution_count": null,
   "metadata": {},
   "outputs": [],
   "source": []
  },
  {
   "cell_type": "code",
   "execution_count": 314,
   "metadata": {},
   "outputs": [
    {
     "name": "stdout",
     "output_type": "stream",
     "text": [
      "before processing (494637, 3)\n"
     ]
    }
   ],
   "source": [
    "sorted_df = sorted_df.sort_values(by=['userid', 'timestamp'], ascending=[True, True])\n",
    "print(\"before processing\", sorted_df.shape)"
   ]
  },
  {
   "cell_type": "code",
   "execution_count": null,
   "metadata": {},
   "outputs": [],
   "source": [
    "trainTime_threshold = 975768738\n",
    "validTime_threshold = 978133348"
   ]
  },
  {
   "cell_type": "code",
   "execution_count": null,
   "metadata": {},
   "outputs": [],
   "source": []
  },
  {
   "cell_type": "code",
   "execution_count": 315,
   "metadata": {},
   "outputs": [
    {
     "name": "stdout",
     "output_type": "stream",
     "text": [
      "user num 4478\n",
      "4478 4478\n"
     ]
    }
   ],
   "source": [
    "userid_group_list = list(sorted_df.groupby(['userid']).groups.keys())\n",
    "user_num = len(userid_group_list)\n",
    "print(\"user num\", user_num)\n",
    "\n",
    "item_list = []\n",
    "time_list = []\n",
    "user_list = []\n",
    "\n",
    "item_list = sorted_df.groupby('userid')['itemid'].apply(list).values\n",
    "time_list = sorted_df.groupby('userid')['timestamp'].apply(list).values\n",
    "\n",
    "print(len(item_list), len(time_list))\n",
    "\n",
    "len_list = [len(item_list_user) for item_list_user in item_list]\n",
    "user_list = []\n",
    "for len_index in range(len(item_list)):\n",
    "    len_i = len_list[len_index]\n",
    "    user_list_per = [len_index for i in range(len_i)]\n",
    "    user_list.append(user_list_per)\n"
   ]
  },
  {
   "cell_type": "code",
   "execution_count": 320,
   "metadata": {},
   "outputs": [],
   "source": [
    "def save_pickle_time(item, time, user):\n",
    "    item_file = \"../Data/movielen/ml-1m/\"+\"item_time.pickle\"\n",
    "    item_f = open(item_file, \"wb\")\n",
    "    pickle.dump(item, item_f)\n",
    "    \n",
    "    time_file = \"../Data/movielen/ml-1m/\"+\"time_time.pickle\"\n",
    "    time_f = open(time_file, \"wb\")\n",
    "    pickle.dump(time, time_f)\n",
    "\n",
    "    user_file = \"../Data/movielen/ml-1m/\"+\"user_time.pickle\"\n",
    "    user_f = open(user_file, \"wb\")\n",
    "    pickle.dump(user, user_f)"
   ]
  },
  {
   "cell_type": "code",
   "execution_count": 321,
   "metadata": {},
   "outputs": [],
   "source": [
    "save_pickle_time(item_list, time_list, user_list)"
   ]
  },
  {
   "cell_type": "code",
   "execution_count": null,
   "metadata": {},
   "outputs": [],
   "source": []
  },
  {
   "cell_type": "code",
   "execution_count": null,
   "metadata": {},
   "outputs": [],
   "source": []
  }
 ],
 "metadata": {
  "kernelspec": {
   "display_name": "Python 3",
   "language": "python",
   "name": "python3"
  },
  "language_info": {
   "codemirror_mode": {
    "name": "ipython",
    "version": 3
   },
   "file_extension": ".py",
   "mimetype": "text/x-python",
   "name": "python",
   "nbconvert_exporter": "python",
   "pygments_lexer": "ipython3",
   "version": "3.7.3"
  }
 },
 "nbformat": 4,
 "nbformat_minor": 2
}
