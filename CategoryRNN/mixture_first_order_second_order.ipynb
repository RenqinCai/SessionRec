{
 "cells": [
  {
   "cell_type": "code",
   "execution_count": 1,
   "metadata": {},
   "outputs": [],
   "source": [
    "import pickle\n",
    "import random\n",
    "import numpy as np"
   ]
  },
  {
   "cell_type": "code",
   "execution_count": null,
   "metadata": {},
   "outputs": [],
   "source": []
  },
  {
   "cell_type": "code",
   "execution_count": 2,
   "metadata": {},
   "outputs": [],
   "source": [
    "train_file = \"../Data/tmall/taobao_small_cate_train.pickle\"\n",
    "train_file_writer = open(train_file, \"rb\")\n",
    "train_list = pickle.load(train_file_writer)\n",
    "\n",
    "test_file = \"../Data/tmall/taobao_small_cate_test.pickle\"\n",
    "test_file_writer = open(test_file, \"rb\")\n",
    "test_list = pickle.load(test_file_writer)"
   ]
  },
  {
   "cell_type": "code",
   "execution_count": 3,
   "metadata": {},
   "outputs": [
    {
     "name": "stdout",
     "output_type": "stream",
     "text": [
      "46.80525 184 1\n"
     ]
    }
   ],
   "source": [
    "len_list = []\n",
    "train_user_num = len(train_list)\n",
    "for train_i in range(train_user_num):\n",
    "    user_list = train_list[train_i]\n",
    "    len_list.append(len(user_list))\n",
    "print(np.mean(len_list), np.max(len_list), np.min(len_list))"
   ]
  },
  {
   "cell_type": "code",
   "execution_count": 4,
   "metadata": {},
   "outputs": [
    {
     "data": {
      "text/plain": [
       "array([[0., 0., 0.],\n",
       "       [0., 0., 0.],\n",
       "       [0., 0., 0.]])"
      ]
     },
     "execution_count": 4,
     "metadata": {},
     "output_type": "execute_result"
    }
   ],
   "source": [
    "np.zeros((3, 3))"
   ]
  },
  {
   "cell_type": "code",
   "execution_count": 5,
   "metadata": {},
   "outputs": [],
   "source": [
    "second_order_matrix = np.zeros((5869, 5869))\n",
    "first_order_matrix = np.zeros((5869, 5869))\n",
    "\n",
    "# categoryList = []\n",
    "\n",
    "for user_index in range(train_user_num):\n",
    "    user_list = train_list[user_index]\n",
    "    user_action_len = len(user_list)\n",
    "        \n",
    "    last_action_category = -1\n",
    "    for user_action_index in range(2, user_action_len):\n",
    "        last_action_category = user_list[user_action_index-2]\n",
    "        user_action_category = user_list[user_action_index]\n",
    "        second_order_matrix[last_action_category, user_action_category] += 1.0\n",
    "        \n",
    "    for user_action_index in range(1, user_action_len):\n",
    "        last_action_category = user_list[user_action_index-1]\n",
    "        user_action_category = user_list[user_action_index]\n",
    "        first_order_matrix[last_action_category, user_action_category] += 1.0\n",
    "        \n",
    "#         categoryList.append(user_action_category)\n",
    "        \n",
    "#         if user_action_index == 0:\n",
    "            \n",
    "#             last_action_category = user_action_category\n",
    "#             continue\n",
    "        \n",
    "#         last_action_category = int(last_action_category)\n",
    "#         user_action_category = int(user_action_category)\n",
    "#         first_order_matrix[last_action_category, user_action_category] += 1.0\n",
    "        \n",
    "#         last_action_category = user_action_category\n",
    "               "
   ]
  },
  {
   "cell_type": "code",
   "execution_count": null,
   "metadata": {},
   "outputs": [],
   "source": []
  },
  {
   "cell_type": "code",
   "execution_count": 14,
   "metadata": {
    "scrolled": true
   },
   "outputs": [
    {
     "name": "stderr",
     "output_type": "stream",
     "text": [
      "/zf15/rc7ne/anaconda3/lib/python3.6/site-packages/ipykernel_launcher.py:37: RuntimeWarning: invalid value encountered in true_divide\n"
     ]
    },
    {
     "name": "stdout",
     "output_type": "stream",
     "text": [
      "correct num topk 171902.0\n",
      "total num topk 905862.0\n"
     ]
    }
   ],
   "source": [
    "test_user_num = len(test_list)\n",
    "\n",
    "topk = 1\n",
    "\n",
    "weight = 0.8\n",
    "\n",
    "correct_num_topk = 0\n",
    "total_num = 0\n",
    "\n",
    "for user_index in range(test_user_num):\n",
    "    user_list = test_list[user_index]\n",
    "    user_action_len = len(user_list)\n",
    "    \n",
    "    last_action_category = -1\n",
    "    for user_action_index in range(2, user_action_len):\n",
    "        user_action_category = user_list[user_action_index]\n",
    "        \n",
    "        if user_action_category >= len(second_order_matrix):\n",
    "            continue\n",
    "        \n",
    "        last_action_category_second = user_list[user_action_index-2]\n",
    "        if last_action_category_second >= len(second_order_matrix):\n",
    "            continue\n",
    "            \n",
    "        last_action_category_second = int(last_action_category_second)\n",
    "        user_action_category = int(user_action_category)\n",
    "        category_score_list_second = second_order_matrix[last_action_category_second, :]\n",
    "        \n",
    "        last_action_category_first = user_list[user_action_index-1]\n",
    "        if last_action_category_first >= len(first_order_matrix):\n",
    "            continue\n",
    "        last_action_category_first = int(last_action_category_first)\n",
    "        user_action_category = int(user_action_category)\n",
    "        \n",
    "        category_score_list_first = first_order_matrix[last_action_category_first, :]\n",
    "        \n",
    "        category_score_list = weight*category_score_list_second/np.sum(category_score_list_second)+(1-weight)*category_score_list_first/np.sum(category_score_list_first)\n",
    "        \n",
    "        last_action_sum = np.sum(category_score_list)\n",
    "        if last_action_sum == 0:\n",
    "            print(last_action_category, user_action_category, \"zero\")\n",
    "        \n",
    "        category_score_list = category_score_list/last_action_sum\n",
    "        \n",
    "        pred = (-np.array(category_score_list)).argsort()[:topk]\n",
    "        if user_action_category in pred:\n",
    "            correct_num_topk += 1.0\n",
    "        total_num += 1.0\n",
    "        \n",
    "#         last_action_category = user_action_category\n",
    "        \n",
    "print(\"correct num topk\", correct_num_topk)\n",
    "print(\"total num topk\", total_num)      "
   ]
  },
  {
   "cell_type": "code",
   "execution_count": 15,
   "metadata": {},
   "outputs": [
    {
     "name": "stdout",
     "output_type": "stream",
     "text": [
      "recall@1 0.1897662116304691\n"
     ]
    }
   ],
   "source": [
    "recall_topk = correct_num_topk/total_num\n",
    "print(\"recall@%d\"%topk, recall_topk)"
   ]
  },
  {
   "cell_type": "code",
   "execution_count": 11,
   "metadata": {},
   "outputs": [
    {
     "name": "stdout",
     "output_type": "stream",
     "text": [
      "recall@1 0.18814455181915127\n"
     ]
    }
   ],
   "source": [
    "recall_topk = correct_num_topk/total_num\n",
    "print(\"recall@%d\"%topk, recall_topk)"
   ]
  },
  {
   "cell_type": "code",
   "execution_count": 9,
   "metadata": {},
   "outputs": [
    {
     "name": "stdout",
     "output_type": "stream",
     "text": [
      "recall@1 0.1700579116907432\n"
     ]
    }
   ],
   "source": [
    "recall_topk = correct_num_topk/total_num\n",
    "print(\"recall@%d\"%topk, recall_topk)"
   ]
  },
  {
   "cell_type": "code",
   "execution_count": 39,
   "metadata": {
    "collapsed": true
   },
   "outputs": [
    {
     "data": {
      "text/plain": [
       "array([[0.000e+00, 1.427e+03, 3.606e+03, 8.510e+02, 2.480e+02, 4.203e+03,\n",
       "        8.000e+00, 2.523e+03, 1.469e+03, 6.064e+03],\n",
       "       [1.444e+03, 0.000e+00, 6.140e+02, 2.960e+02, 1.090e+02, 4.530e+02,\n",
       "        0.000e+00, 8.510e+02, 5.560e+02, 9.970e+02],\n",
       "       [3.641e+03, 6.320e+02, 0.000e+00, 5.360e+02, 1.350e+02, 1.112e+03,\n",
       "        5.000e+00, 1.741e+03, 8.330e+02, 2.916e+03],\n",
       "       [8.500e+02, 2.710e+02, 5.450e+02, 0.000e+00, 1.510e+02, 3.320e+02,\n",
       "        1.470e+02, 1.672e+03, 5.140e+02, 1.564e+03],\n",
       "       [2.420e+02, 8.700e+01, 1.220e+02, 1.690e+02, 0.000e+00, 1.100e+02,\n",
       "        3.000e+00, 5.070e+02, 1.370e+02, 4.320e+02],\n",
       "       [4.104e+03, 4.390e+02, 1.116e+03, 3.190e+02, 1.400e+02, 0.000e+00,\n",
       "        4.000e+00, 1.027e+03, 8.030e+02, 2.213e+03],\n",
       "       [1.200e+01, 2.000e+00, 2.000e+00, 1.400e+02, 2.000e+00, 3.000e+00,\n",
       "        0.000e+00, 1.800e+01, 4.000e+00, 1.700e+01],\n",
       "       [2.399e+03, 8.430e+02, 1.797e+03, 1.808e+03, 5.170e+02, 1.018e+03,\n",
       "        1.300e+01, 0.000e+00, 1.419e+03, 4.687e+03],\n",
       "       [1.480e+03, 5.960e+02, 8.920e+02, 5.070e+02, 1.250e+02, 7.770e+02,\n",
       "        4.000e+00, 1.419e+03, 0.000e+00, 5.319e+03],\n",
       "       [6.249e+03, 1.056e+03, 2.893e+03, 1.555e+03, 4.220e+02, 2.212e+03,\n",
       "        1.200e+01, 4.590e+03, 5.353e+03, 0.000e+00]])"
      ]
     },
     "execution_count": 39,
     "metadata": {},
     "output_type": "execute_result"
    }
   ],
   "source": [
    "first_order_matrix[:10, :10]"
   ]
  },
  {
   "cell_type": "code",
   "execution_count": 29,
   "metadata": {},
   "outputs": [
    {
     "name": "stdout",
     "output_type": "stream",
     "text": [
      "[1 3]\n"
     ]
    }
   ],
   "source": [
    "a = np.array([1, 10, 3, 4])\n",
    "print((-a).argsort()[:2])"
   ]
  },
  {
   "cell_type": "code",
   "execution_count": null,
   "metadata": {},
   "outputs": [],
   "source": []
  }
 ],
 "metadata": {
  "kernelspec": {
   "display_name": "Python 3",
   "language": "python",
   "name": "python3"
  },
  "language_info": {
   "codemirror_mode": {
    "name": "ipython",
    "version": 3
   },
   "file_extension": ".py",
   "mimetype": "text/x-python",
   "name": "python",
   "nbconvert_exporter": "python",
   "pygments_lexer": "ipython3",
   "version": "3.6.7"
  }
 },
 "nbformat": 4,
 "nbformat_minor": 2
}
