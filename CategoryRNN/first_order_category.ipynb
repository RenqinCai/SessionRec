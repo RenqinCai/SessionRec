{
 "cells": [
  {
   "cell_type": "code",
   "execution_count": 1,
   "metadata": {},
   "outputs": [],
   "source": [
    "import pickle\n",
    "import random\n",
    "import numpy as np"
   ]
  },
  {
   "cell_type": "code",
   "execution_count": null,
   "metadata": {},
   "outputs": [],
   "source": []
  },
  {
   "cell_type": "code",
   "execution_count": 6,
   "metadata": {},
   "outputs": [],
   "source": [
    "train_file = \"../Data/tmall/taobao_small_cate_train.pickle\"\n",
    "train_file_writer = open(train_file, \"rb\")\n",
    "train_list = pickle.load(train_file_writer)\n",
    "\n",
    "test_file = \"../Data/tmall/taobao_small_cate_test.pickle\"\n",
    "test_file_writer = open(test_file, \"rb\")\n",
    "test_list = pickle.load(test_file_writer)"
   ]
  },
  {
   "cell_type": "code",
   "execution_count": 8,
   "metadata": {},
   "outputs": [
    {
     "name": "stdout",
     "output_type": "stream",
     "text": [
      "46.80525 184 1\n"
     ]
    }
   ],
   "source": [
    "len_list = []\n",
    "train_user_num = len(train_list)\n",
    "for train_i in range(train_user_num):\n",
    "    user_list = train_list[train_i]\n",
    "    len_list.append(len(user_list))\n",
    "print(np.mean(len_list), np.max(len_list), np.min(len_list))"
   ]
  },
  {
   "cell_type": "code",
   "execution_count": 9,
   "metadata": {},
   "outputs": [
    {
     "data": {
      "text/plain": [
       "array([[0., 0., 0.],\n",
       "       [0., 0., 0.],\n",
       "       [0., 0., 0.]])"
      ]
     },
     "execution_count": 9,
     "metadata": {},
     "output_type": "execute_result"
    }
   ],
   "source": [
    "np.zeros((3, 3))"
   ]
  },
  {
   "cell_type": "code",
   "execution_count": 18,
   "metadata": {},
   "outputs": [],
   "source": [
    "first_order_matrix = np.zeros((5869, 5869))\n",
    "# categoryList = []\n",
    "\n",
    "for user_index in range(train_user_num):\n",
    "    user_list = train_list[user_index]\n",
    "    user_action_len = len(user_list)\n",
    "        \n",
    "    last_action_category = -1\n",
    "    for user_action_index in range(user_action_len):\n",
    "        user_action_category = user_list[user_action_index]\n",
    "#         categoryList.append(user_action_category)\n",
    "        \n",
    "        if user_action_index == 0:\n",
    "            \n",
    "            last_action_category = user_action_category\n",
    "            continue\n",
    "        \n",
    "        last_action_category = int(last_action_category)\n",
    "        user_action_category = int(user_action_category)\n",
    "        first_order_matrix[last_action_category, user_action_category] += 1.0\n",
    "        \n",
    "        last_action_category = user_action_category\n",
    "               "
   ]
  },
  {
   "cell_type": "code",
   "execution_count": 31,
   "metadata": {},
   "outputs": [
    {
     "data": {
      "text/plain": [
       "(5810, 5868, 0, 5869)"
      ]
     },
     "execution_count": 31,
     "metadata": {},
     "output_type": "execute_result"
    }
   ],
   "source": [
    "len(set(categoryList)), max(categoryList), min(categoryList), len(first_order_matrix)"
   ]
  },
  {
   "cell_type": "code",
   "execution_count": 40,
   "metadata": {},
   "outputs": [],
   "source": [
    "from sklearn.preprocessing import normalize"
   ]
  },
  {
   "cell_type": "code",
   "execution_count": null,
   "metadata": {},
   "outputs": [],
   "source": []
  },
  {
   "cell_type": "code",
   "execution_count": 44,
   "metadata": {
    "scrolled": true
   },
   "outputs": [
    {
     "name": "stdout",
     "output_type": "stream",
     "text": [
      "5109 2376 zero\n"
     ]
    },
    {
     "name": "stderr",
     "output_type": "stream",
     "text": [
      "/zf15/rc7ne/anaconda3/lib/python3.6/site-packages/ipykernel_launcher.py:32: RuntimeWarning: invalid value encountered in true_divide\n"
     ]
    },
    {
     "name": "stdout",
     "output_type": "stream",
     "text": [
      "5842 1660 zero\n",
      "5780 2284 zero\n",
      "4307 60 zero\n",
      "4380 80 zero\n",
      "5625 258 zero\n",
      "5625 1042 zero\n",
      "5625 614 zero\n",
      "4044 1747 zero\n",
      "5793 734 zero\n",
      "5044 2056 zero\n",
      "5702 1776 zero\n",
      "5766 4352 zero\n",
      "5498 199 zero\n",
      "3190 9 zero\n",
      "4449 756 zero\n",
      "5851 1337 zero\n",
      "5024 46 zero\n",
      "223 220 zero\n",
      "5776 0 zero\n",
      "3825 2797 zero\n",
      "3825 2340 zero\n",
      "3825 206 zero\n",
      "5075 360 zero\n",
      "5625 232 zero\n",
      "5663 291 zero\n",
      "5131 3 zero\n",
      "5850 24 zero\n",
      "5814 1419 zero\n",
      "5814 1419 zero\n",
      "5814 518 zero\n",
      "3190 1552 zero\n",
      "3190 210 zero\n",
      "3190 1020 zero\n",
      "5826 2945 zero\n",
      "5852 80 zero\n",
      "4757 13 zero\n",
      "4837 21 zero\n",
      "3544 5 zero\n",
      "5650 13 zero\n",
      "5791 2126 zero\n",
      "5519 190 zero\n",
      "5719 1241 zero\n",
      "5087 996 zero\n",
      "4757 1331 zero\n",
      "4757 355 zero\n",
      "5290 372 zero\n",
      "5799 182 zero\n",
      "5799 183 zero\n",
      "5799 182 zero\n",
      "5799 182 zero\n",
      "5799 13 zero\n",
      "5799 13 zero\n",
      "5799 13 zero\n",
      "5809 1868 zero\n",
      "5459 2 zero\n",
      "5131 9 zero\n",
      "4659 1226 zero\n",
      "3544 1547 zero\n",
      "4837 517 zero\n",
      "5597 1143 zero\n",
      "5650 2079 zero\n",
      "5275 3302 zero\n",
      "5275 2308 zero\n",
      "5685 962 zero\n",
      "5498 0 zero\n",
      "2971 190 zero\n",
      "5651 59 zero\n",
      "5815 115 zero\n",
      "4307 1508 zero\n",
      "4757 299 zero\n",
      "4757 147 zero\n",
      "4757 86 zero\n",
      "5585 279 zero\n",
      "5248 37 zero\n",
      "5744 2099 zero\n",
      "5843 1654 zero\n",
      "5094 3529 zero\n",
      "5094 96 zero\n",
      "5094 13 zero\n",
      "5544 71 zero\n",
      "5331 435 zero\n",
      "5585 3667 zero\n",
      "5278 373 zero\n",
      "5544 17 zero\n",
      "5544 17 zero\n",
      "5544 161 zero\n",
      "4044 669 zero\n",
      "5864 186 zero\n",
      "5736 558 zero\n",
      "5646 5647 zero\n",
      "5355 1410 zero\n",
      "5544 657 zero\n",
      "5552 458 zero\n",
      "5534 3146 zero\n",
      "5222 2044 zero\n",
      "5789 173 zero\n",
      "3190 1434 zero\n",
      "5776 149 zero\n",
      "5630 579 zero\n",
      "5519 7 zero\n",
      "5459 726 zero\n",
      "3190 3331 zero\n",
      "correct num topk 99910.0\n",
      "total num topk 925860.0\n"
     ]
    }
   ],
   "source": [
    "test_user_num = len(test_list)\n",
    "\n",
    "topk = 1\n",
    "\n",
    "correct_num_topk = 0\n",
    "total_num = 0\n",
    "\n",
    "for user_index in range(test_user_num):\n",
    "    user_list = test_list[user_index]\n",
    "    user_action_len = len(user_list)\n",
    "    \n",
    "    last_action_category = -1\n",
    "    for user_action_index in range(user_action_len):\n",
    "        user_action_category = user_list[user_action_index]\n",
    "        \n",
    "        if user_action_category >= len(first_order_matrix):\n",
    "            continue\n",
    "        \n",
    "        if user_action_index == 0:\n",
    "            last_action_category = user_action_category\n",
    "            continue\n",
    "            \n",
    "        last_action_category = int(last_action_category)\n",
    "        user_action_category = int(user_action_category)\n",
    "        \n",
    "        category_score_list = first_order_matrix[last_action_category, :]\n",
    "        \n",
    "        last_action_sum = np.sum(category_score_list)\n",
    "        if last_action_sum == 0:\n",
    "            print(last_action_category, user_action_category, \"zero\")\n",
    "        \n",
    "        category_score_list = category_score_list/last_action_sum\n",
    "        \n",
    "        pred = (-np.array(category_score_list)).argsort()[:topk]\n",
    "        if user_action_category in pred:\n",
    "            correct_num_topk += 1.0\n",
    "        total_num += 1.0\n",
    "        \n",
    "        last_action_category = user_action_category\n",
    "        \n",
    "print(\"correct num topk\", correct_num_topk)\n",
    "print(\"total num topk\", total_num)      "
   ]
  },
  {
   "cell_type": "code",
   "execution_count": 38,
   "metadata": {},
   "outputs": [
    {
     "name": "stdout",
     "output_type": "stream",
     "text": [
      "recall@5 0.2769662799991359\n"
     ]
    }
   ],
   "source": [
    "recall_topk = correct_num_topk/total_num\n",
    "print(\"recall@%d\"%topk, recall_topk)"
   ]
  },
  {
   "cell_type": "code",
   "execution_count": 45,
   "metadata": {},
   "outputs": [
    {
     "name": "stdout",
     "output_type": "stream",
     "text": [
      "recall@1 0.10791048322640572\n"
     ]
    }
   ],
   "source": [
    "recall_topk = correct_num_topk/total_num\n",
    "print(\"recall@%d\"%topk, recall_topk)"
   ]
  },
  {
   "cell_type": "code",
   "execution_count": 39,
   "metadata": {
    "collapsed": true
   },
   "outputs": [
    {
     "data": {
      "text/plain": [
       "array([[0.000e+00, 1.427e+03, 3.606e+03, 8.510e+02, 2.480e+02, 4.203e+03,\n",
       "        8.000e+00, 2.523e+03, 1.469e+03, 6.064e+03],\n",
       "       [1.444e+03, 0.000e+00, 6.140e+02, 2.960e+02, 1.090e+02, 4.530e+02,\n",
       "        0.000e+00, 8.510e+02, 5.560e+02, 9.970e+02],\n",
       "       [3.641e+03, 6.320e+02, 0.000e+00, 5.360e+02, 1.350e+02, 1.112e+03,\n",
       "        5.000e+00, 1.741e+03, 8.330e+02, 2.916e+03],\n",
       "       [8.500e+02, 2.710e+02, 5.450e+02, 0.000e+00, 1.510e+02, 3.320e+02,\n",
       "        1.470e+02, 1.672e+03, 5.140e+02, 1.564e+03],\n",
       "       [2.420e+02, 8.700e+01, 1.220e+02, 1.690e+02, 0.000e+00, 1.100e+02,\n",
       "        3.000e+00, 5.070e+02, 1.370e+02, 4.320e+02],\n",
       "       [4.104e+03, 4.390e+02, 1.116e+03, 3.190e+02, 1.400e+02, 0.000e+00,\n",
       "        4.000e+00, 1.027e+03, 8.030e+02, 2.213e+03],\n",
       "       [1.200e+01, 2.000e+00, 2.000e+00, 1.400e+02, 2.000e+00, 3.000e+00,\n",
       "        0.000e+00, 1.800e+01, 4.000e+00, 1.700e+01],\n",
       "       [2.399e+03, 8.430e+02, 1.797e+03, 1.808e+03, 5.170e+02, 1.018e+03,\n",
       "        1.300e+01, 0.000e+00, 1.419e+03, 4.687e+03],\n",
       "       [1.480e+03, 5.960e+02, 8.920e+02, 5.070e+02, 1.250e+02, 7.770e+02,\n",
       "        4.000e+00, 1.419e+03, 0.000e+00, 5.319e+03],\n",
       "       [6.249e+03, 1.056e+03, 2.893e+03, 1.555e+03, 4.220e+02, 2.212e+03,\n",
       "        1.200e+01, 4.590e+03, 5.353e+03, 0.000e+00]])"
      ]
     },
     "execution_count": 39,
     "metadata": {},
     "output_type": "execute_result"
    }
   ],
   "source": [
    "first_order_matrix[:10, :10]"
   ]
  },
  {
   "cell_type": "code",
   "execution_count": 29,
   "metadata": {},
   "outputs": [
    {
     "name": "stdout",
     "output_type": "stream",
     "text": [
      "[1 3]\n"
     ]
    }
   ],
   "source": [
    "a = np.array([1, 10, 3, 4])\n",
    "print((-a).argsort()[:2])"
   ]
  },
  {
   "cell_type": "code",
   "execution_count": null,
   "metadata": {},
   "outputs": [],
   "source": []
  }
 ],
 "metadata": {
  "kernelspec": {
   "display_name": "Python 3",
   "language": "python",
   "name": "python3"
  },
  "language_info": {
   "codemirror_mode": {
    "name": "ipython",
    "version": 3
   },
   "file_extension": ".py",
   "mimetype": "text/x-python",
   "name": "python",
   "nbconvert_exporter": "python",
   "pygments_lexer": "ipython3",
   "version": "3.6.7"
  }
 },
 "nbformat": 4,
 "nbformat_minor": 2
}
