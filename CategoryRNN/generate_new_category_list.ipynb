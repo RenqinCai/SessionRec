{
 "cells": [
  {
   "cell_type": "code",
   "execution_count": 12,
   "metadata": {},
   "outputs": [],
   "source": [
    "import pickle\n",
    "import random\n",
    "import numpy as np"
   ]
  },
  {
   "cell_type": "code",
   "execution_count": 3,
   "metadata": {},
   "outputs": [],
   "source": [
    "item_file = \"../Data/tmall/taobao_small.pickle\"\n",
    "data = open(item_file, \"rb\")\n",
    "\n",
    "t_list, y_list, c_list, a_list, u_list = pickle.load(data)"
   ]
  },
  {
   "cell_type": "code",
   "execution_count": 4,
   "metadata": {},
   "outputs": [
    {
     "name": "stdout",
     "output_type": "stream",
     "text": [
      "number of users 100000\n"
     ]
    }
   ],
   "source": [
    "user_num = len(c_list)\n",
    "print(\"number of users\", user_num)"
   ]
  },
  {
   "cell_type": "code",
   "execution_count": 23,
   "metadata": {},
   "outputs": [
    {
     "name": "stdout",
     "output_type": "stream",
     "text": [
      "78.8259875 200 20\n"
     ]
    }
   ],
   "source": [
    "len_list = []\n",
    "for train_i in range(train_user_num):\n",
    "    user_list = c_list[train_i]\n",
    "    len_list.append(len(user_list))\n",
    "print(np.mean(len_list), np.max(len_list), np.min(len_list))"
   ]
  },
  {
   "cell_type": "code",
   "execution_count": null,
   "metadata": {},
   "outputs": [],
   "source": []
  },
  {
   "cell_type": "code",
   "execution_count": 5,
   "metadata": {},
   "outputs": [],
   "source": [
    "new_c_list = []\n",
    "for user_index in range(user_num):\n",
    "    user_cate_list = c_list[user_index]\n",
    "    \n",
    "    user_action_num = len(user_cate_list)\n",
    "    \n",
    "    last_cate_id = -1\n",
    "    \n",
    "    new_user_cate_list = []\n",
    "    for user_action_index in range(user_action_num):\n",
    "        cate_id = user_cate_list[user_action_index]\n",
    "        \n",
    "        if cate_id == last_cate_id:\n",
    "            continue\n",
    "        \n",
    "        new_user_cate_list.append(cate_id)\n",
    "        last_cate_id = cate_id\n",
    "    \n",
    "    new_c_list.append(new_user_cate_list)\n"
   ]
  },
  {
   "cell_type": "code",
   "execution_count": 6,
   "metadata": {},
   "outputs": [
    {
     "name": "stdout",
     "output_type": "stream",
     "text": [
      "100000\n"
     ]
    }
   ],
   "source": [
    "print(len(new_c_list))"
   ]
  },
  {
   "cell_type": "code",
   "execution_count": 8,
   "metadata": {},
   "outputs": [],
   "source": [
    "new_cate_file = \"../Data/tmall/taobao_small_cate.pickle\"\n",
    "\n",
    "file_writer = open(new_cate_file, \"wb\")\n",
    "\n",
    "pickle.dump(new_c_list, file_writer)"
   ]
  },
  {
   "cell_type": "code",
   "execution_count": 9,
   "metadata": {},
   "outputs": [],
   "source": [
    "new_cate_file = \"../Data/tmall/taobao_small_cate.pickle\"\n",
    "\n",
    "file_writer = open(new_cate_file, \"rb\")\n",
    "\n",
    "new_cate_list_load = pickle.load(file_writer)"
   ]
  },
  {
   "cell_type": "code",
   "execution_count": 10,
   "metadata": {},
   "outputs": [
    {
     "name": "stdout",
     "output_type": "stream",
     "text": [
      "100000\n"
     ]
    }
   ],
   "source": [
    "print(len(new_cate_list_load))"
   ]
  },
  {
   "cell_type": "code",
   "execution_count": 11,
   "metadata": {},
   "outputs": [
    {
     "name": "stdout",
     "output_type": "stream",
     "text": [
      "train user num 80000\n",
      "test user num 20000\n"
     ]
    }
   ],
   "source": [
    "user_num = len(new_cate_list_load)\n",
    "\n",
    "train_ratio = 0.8\n",
    "test_ratio = 0.2\n",
    "\n",
    "train_user_num = int(user_num*train_ratio)\n",
    "test_user_num = int(user_num*test_ratio)\n",
    "\n",
    "print(\"train user num\", train_user_num)\n",
    "print(\"test user num\", test_user_num)"
   ]
  },
  {
   "cell_type": "code",
   "execution_count": 15,
   "metadata": {},
   "outputs": [
    {
     "name": "stdout",
     "output_type": "stream",
     "text": [
      "None\n",
      "[1, 1, 5, 3, 4]\n"
     ]
    }
   ],
   "source": [
    "a = [1, 1, 3 ,4 , 5]\n",
    "b = random.shuffle(a)\n",
    "print(b)\n",
    "print(a)"
   ]
  },
  {
   "cell_type": "code",
   "execution_count": null,
   "metadata": {},
   "outputs": [],
   "source": []
  },
  {
   "cell_type": "code",
   "execution_count": 17,
   "metadata": {},
   "outputs": [],
   "source": [
    "random.shuffle(new_cate_list_load)\n",
    "train_list = new_cate_list_load[:train_user_num]\n",
    "test_list = new_cate_list_load[train_user_num:]"
   ]
  },
  {
   "cell_type": "code",
   "execution_count": 25,
   "metadata": {},
   "outputs": [],
   "source": [
    "train_file = \"../Data/tmall/taobao_small_cate_train.pickle\"\n",
    "train_file_writer = open(train_file, \"wb\")\n",
    "pickle.dump(train_list, train_file_writer)"
   ]
  },
  {
   "cell_type": "code",
   "execution_count": 26,
   "metadata": {},
   "outputs": [],
   "source": [
    "test_file = \"../Data/tmall/taobao_small_cate_test.pickle\"\n",
    "test_file_writer = open(test_file, \"wb\")\n",
    "pickle.dump(test_list, test_file_writer)"
   ]
  },
  {
   "cell_type": "code",
   "execution_count": 19,
   "metadata": {},
   "outputs": [],
   "source": [
    "len_list = []\n",
    "for train_i in range(train_user_num):\n",
    "    user_list = train_list[train_i]\n",
    "    len_list.append(len(user_list))\n",
    "print(np.mean(len_list), np.max(len_list), np.min(len_list))"
   ]
  },
  {
   "cell_type": "code",
   "execution_count": 24,
   "metadata": {},
   "outputs": [
    {
     "name": "stdout",
     "output_type": "stream",
     "text": [
      "[0, 1276, 252, 1276, 252, 1276, 1575, 1930, 451, 376, 1161, 1575, 376, 1161, 448, 292, 9, 1770, 9, 15, 9, 242]\n",
      "[12, 629, 0, 154, 0, 119, 1113, 119, 1113, 292, 524, 119, 2576, 13, 7, 1113, 84, 113, 0, 119, 1469, 1108, 13, 162, 510, 17, 119, 7, 38, 146, 38, 1469, 17, 0, 17, 777, 374, 777, 13, 84, 38, 7, 17, 7, 17, 7, 17, 7, 12, 1469, 388, 51, 89, 737, 17, 7, 17, 113, 4270, 38, 17, 3492, 17, 143, 791, 126, 51, 162, 84, 663, 1545, 17, 55, 126, 1075, 1551, 3370, 38, 17, 51, 0, 17, 70, 61, 70, 932, 17, 61, 561, 70, 85, 61, 1431, 61, 83, 17, 11, 3837, 1732, 366, 1732, 1460, 39, 46, 7, 46, 61, 17, 39]\n",
      "[13, 52, 13, 83, 13, 52, 11, 113, 13, 83, 15, 13, 52, 83, 3, 381, 1, 3, 83, 3, 56, 183, 56, 183, 13, 83, 3, 38, 3, 112, 147, 38, 148, 3, 147, 112, 148, 3, 38, 13, 147, 3, 13, 148, 147, 115, 44, 146, 115, 7, 13, 38, 55, 17, 44, 124, 147, 13, 70, 3, 148, 81, 3, 61]\n",
      "[81, 771, 94, 771, 205, 438, 205, 1335, 205, 771, 205, 55, 644, 205, 81, 205, 771, 81, 438, 996, 205, 771, 94, 771, 81, 205, 771, 205, 771, 1500, 205]\n",
      "[161, 166, 800, 152, 206, 2039, 80, 12, 206, 1524, 1224, 4092, 2477, 13, 80, 38, 8, 80, 38, 37, 80, 38, 9, 38, 8, 38, 80, 2974, 2039]\n"
     ]
    }
   ],
   "source": [
    "for train_i in range(5):\n",
    "    user_list = train_list[train_i]\n",
    "    print(user_list)"
   ]
  },
  {
   "cell_type": "code",
   "execution_count": null,
   "metadata": {},
   "outputs": [],
   "source": []
  }
 ],
 "metadata": {
  "kernelspec": {
   "display_name": "Python 3",
   "language": "python",
   "name": "python3"
  },
  "language_info": {
   "codemirror_mode": {
    "name": "ipython",
    "version": 3
   },
   "file_extension": ".py",
   "mimetype": "text/x-python",
   "name": "python",
   "nbconvert_exporter": "python",
   "pygments_lexer": "ipython3",
   "version": "3.6.7"
  }
 },
 "nbformat": 4,
 "nbformat_minor": 2
}
