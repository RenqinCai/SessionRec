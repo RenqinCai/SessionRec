{
 "cells": [
  {
   "cell_type": "code",
   "execution_count": 12,
   "metadata": {},
   "outputs": [],
   "source": [
    "import pickle\n",
    "import pandas as pd\n",
    "import numpy as np"
   ]
  },
  {
   "cell_type": "code",
   "execution_count": 3,
   "metadata": {},
   "outputs": [],
   "source": [
    "df = pickle.load(open('/home/rc7ne/Project/SessionRecommendation/Data/tmall/100000_cate/10w_cate.pickle', 'rb'))"
   ]
  },
  {
   "cell_type": "code",
   "execution_count": 6,
   "metadata": {},
   "outputs": [
    {
     "data": {
      "text/html": [
       "<div>\n",
       "<style scoped>\n",
       "    .dataframe tbody tr th:only-of-type {\n",
       "        vertical-align: middle;\n",
       "    }\n",
       "\n",
       "    .dataframe tbody tr th {\n",
       "        vertical-align: top;\n",
       "    }\n",
       "\n",
       "    .dataframe thead th {\n",
       "        text-align: right;\n",
       "    }\n",
       "</style>\n",
       "<table border=\"1\" class=\"dataframe\">\n",
       "  <thead>\n",
       "    <tr style=\"text-align: right;\">\n",
       "      <th></th>\n",
       "      <th>userid</th>\n",
       "      <th>itemid</th>\n",
       "      <th>categoryid</th>\n",
       "      <th>behavior</th>\n",
       "      <th>timestamp</th>\n",
       "    </tr>\n",
       "  </thead>\n",
       "  <tbody>\n",
       "    <tr>\n",
       "      <th>41582965</th>\n",
       "      <td>16</td>\n",
       "      <td>3840502</td>\n",
       "      <td>982926</td>\n",
       "      <td>pv</td>\n",
       "      <td>1511626494</td>\n",
       "    </tr>\n",
       "    <tr>\n",
       "      <th>41582966</th>\n",
       "      <td>16</td>\n",
       "      <td>3716887</td>\n",
       "      <td>3607361</td>\n",
       "      <td>pv</td>\n",
       "      <td>1511626551</td>\n",
       "    </tr>\n",
       "    <tr>\n",
       "      <th>41582968</th>\n",
       "      <td>16</td>\n",
       "      <td>3840502</td>\n",
       "      <td>982926</td>\n",
       "      <td>pv</td>\n",
       "      <td>1511626597</td>\n",
       "    </tr>\n",
       "    <tr>\n",
       "      <th>41582969</th>\n",
       "      <td>16</td>\n",
       "      <td>4115794</td>\n",
       "      <td>982926</td>\n",
       "      <td>pv</td>\n",
       "      <td>1511626761</td>\n",
       "    </tr>\n",
       "    <tr>\n",
       "      <th>41582970</th>\n",
       "      <td>16</td>\n",
       "      <td>2111454</td>\n",
       "      <td>570735</td>\n",
       "      <td>pv</td>\n",
       "      <td>1511626770</td>\n",
       "    </tr>\n",
       "  </tbody>\n",
       "</table>\n",
       "</div>"
      ],
      "text/plain": [
       "          userid   itemid  categoryid behavior   timestamp\n",
       "41582965      16  3840502      982926       pv  1511626494\n",
       "41582966      16  3716887     3607361       pv  1511626551\n",
       "41582968      16  3840502      982926       pv  1511626597\n",
       "41582969      16  4115794      982926       pv  1511626761\n",
       "41582970      16  2111454      570735       pv  1511626770"
      ]
     },
     "execution_count": 6,
     "metadata": {},
     "output_type": "execute_result"
    }
   ],
   "source": [
    "df.head()"
   ]
  },
  {
   "cell_type": "code",
   "execution_count": null,
   "metadata": {},
   "outputs": [],
   "source": []
  },
  {
   "cell_type": "code",
   "execution_count": 8,
   "metadata": {},
   "outputs": [],
   "source": [
    "itemids = df.itemid.unique()"
   ]
  },
  {
   "cell_type": "code",
   "execution_count": 10,
   "metadata": {},
   "outputs": [],
   "source": [
    "categoryids = df.categoryid.unique()"
   ]
  },
  {
   "cell_type": "code",
   "execution_count": 18,
   "metadata": {},
   "outputs": [],
   "source": [
    "category_map = {}\n",
    "idx = 0\n",
    "for c in categoryids:\n",
    "    category_map[c] = idx\n",
    "    idx += 1"
   ]
  },
  {
   "cell_type": "code",
   "execution_count": 20,
   "metadata": {},
   "outputs": [
    {
     "name": "stdout",
     "output_type": "stream",
     "text": [
      "2739 2739\n"
     ]
    }
   ],
   "source": []
  },
  {
   "cell_type": "code",
   "execution_count": 37,
   "metadata": {},
   "outputs": [],
   "source": [
    "adj = np.zeros((len(categoryids), len(categoryids)), dtype=int)"
   ]
  },
  {
   "cell_type": "code",
   "execution_count": 38,
   "metadata": {},
   "outputs": [
    {
     "name": "stdout",
     "output_type": "stream",
     "text": [
      "0\n"
     ]
    }
   ],
   "source": [
    "print(adj[1][1])"
   ]
  },
  {
   "cell_type": "code",
   "execution_count": 39,
   "metadata": {},
   "outputs": [
    {
     "name": "stdout",
     "output_type": "stream",
     "text": [
      "found [2920476 2355072]\n",
      "found [4818107 2834771]\n",
      "found [3090850 3277224]\n",
      "found [1080785 4756105]\n",
      "found [1884322 3158249]\n",
      "found [4756105 1080785]\n",
      "found [1080785 4756105]\n",
      "found [2367907 4202143]\n",
      "found [1884322 3158249]\n",
      "found [3158249 1884322]\n",
      "found [2520377 1320293]\n",
      "found [3002561 4690421]\n",
      "found [2476560 4138583]\n",
      "found [ 983613 2737340]\n",
      "found [ 323851 2558244]\n",
      "found [4145813 3102419]\n",
      "found [ 154040 2355072]\n",
      "found [2945933 3454970]\n",
      "found [4145813 3102419]\n",
      "found [5063620 3154173]\n",
      "found [4818107  200278]\n",
      "found [4818107  200278]\n",
      "found [401357 383530]\n",
      "found [ 200278 3091480]\n",
      "found [3818081  982926]\n",
      "found [1834026 3158249]\n",
      "found [4138583 2476560]\n",
      "found [3461823 4294583]\n",
      "found [4794845  902410]\n",
      "found [ 665090 3694648]\n",
      "found [3248864 3880463]\n",
      "found [4145813 3002561]\n",
      "found [4308141 2296439]\n",
      "found [1376358 4060157]\n",
      "found [ 901282 4718907]\n",
      "found [2476560 4138583]\n",
      "found [2920476 1320293]\n",
      "found [4145813 3102419]\n",
      "found [3409740 1169503]\n",
      "found [ 903809 3065645]\n",
      "found [4801426 2735466]\n",
      "found [ 751494 3695050]\n",
      "found [4915680 4894095]\n",
      "found [4181361  119741]\n",
      "found [ 903809 3065645]\n",
      "found [ 643645 1795157]\n",
      "found [3776866 4804883]\n",
      "found [ 902410 4794845]\n",
      "found [1834026 2837163]\n",
      "found [3065645  903809]\n",
      "found [ 359388 2640118]\n",
      "found [2355072  737184]\n",
      "found [4756105  154040]\n"
     ]
    }
   ],
   "source": [
    "for i in itemids:\n",
    "    same_category = df[df.itemid == i].categoryid.unique()\n",
    "    N = len(same_category)\n",
    "    if N > 1:\n",
    "#         print('found', same_category)\n",
    "        for i in range(N):\n",
    "            c1 = category_map[ same_category[i] ]\n",
    "            for j in range(i, N):\n",
    "                c2 = category_map[ same_category[j] ]\n",
    "                adj[c1][c2] = 1\n",
    "                adj[c2][c1] = 1"
   ]
  },
  {
   "cell_type": "code",
   "execution_count": 41,
   "metadata": {},
   "outputs": [
    {
     "name": "stdout",
     "output_type": "stream",
     "text": [
      "(array([   0,    0,    3,    3,    3,   10,   10,   11,   11,   11,   11,\n",
      "         19,   19,   19,   20,   20,   26,   26,   28,   28,   28,   49,\n",
      "         49,   49,   60,   60,   60,   61,   61,   64,   64,   64,   65,\n",
      "         65,   72,   72,   83,   83,   83,   86,   86,   86,   93,   93,\n",
      "        104,  104,  105,  105,  128,  128,  151,  151,  154,  154,  184,\n",
      "        184,  195,  195,  206,  206,  207,  207,  228,  228,  228,  235,\n",
      "        235,  238,  238,  272,  272,  285,  285,  285,  286,  286,  330,\n",
      "        330,  331,  331,  333,  333,  343,  343,  359,  359,  374,  374,\n",
      "        381,  381,  427,  427,  454,  454,  468,  468,  516,  516,  542,\n",
      "        542,  547,  547,  588,  588,  600,  600,  614,  614,  623,  623,\n",
      "        642,  642,  746,  746,  755,  755,  790,  790,  836,  836,  863,\n",
      "        863,  948,  948, 1013, 1013, 1079, 1079, 1218, 1218, 1274, 1274,\n",
      "       1307, 1307, 1333, 1333, 1537, 1537, 1550, 1550, 1648, 1648, 1852,\n",
      "       1852, 1995, 1995, 2437, 2437, 2528, 2528, 2717, 2717]), array([   0, 1852,    3,   19,  104,   10,   26,   11,   19,   64,  154,\n",
      "          3,   11,   19,   20,   28,   10,   26,   20,   28,   64,   49,\n",
      "         60,  151,   49,   60,   65,   61, 1274,   11,   28,   64,   60,\n",
      "         65,   72,  746,   83,   86,  359,   83,   86, 1995,   93,  206,\n",
      "          3,  104,  105,  542,  128,  195,   49,  151,   11,  154,  184,\n",
      "        285,  128,  195,   93,  206,  207,  516,  228,  285,  863,  235,\n",
      "        588,  238,  468,  272,  614,  184,  228,  285,  286, 1307,  330,\n",
      "       1648,  331,  755,  333, 1537,  343, 1333,   83,  359,  374,  381,\n",
      "        374,  381,  427,  836,  454, 2528,  238,  468,  207,  516,  105,\n",
      "        542,  547,  790,  235,  588,  600, 2437,  272,  614,  623, 1550,\n",
      "        642, 1013,   72,  746,  331,  755,  547,  790,  427,  836,  228,\n",
      "        863,  948, 1079,  642, 1013,  948, 1079, 1218, 2717,   61, 1274,\n",
      "        286, 1307,  343, 1333,  333, 1537,  623, 1550,  330, 1648,    0,\n",
      "       1852,   86, 1995,  600, 2437,  454, 2528, 1218, 2717]))\n"
     ]
    }
   ],
   "source": [
    "print(adj.nonzero())"
   ]
  },
  {
   "cell_type": "code",
   "execution_count": 52,
   "metadata": {},
   "outputs": [],
   "source": [
    "groupids = np.zeros((len(categoryids)), int)\n",
    "gid = 1\n",
    "def dfs(idx, gid):\n",
    "    if groupids[idx] != 0: \n",
    "        return\n",
    "#     print(adj[idx].nonzero())\n",
    "    for n in adj[idx].nonzero()[0]:\n",
    "        groupids[idx] = gid\n",
    "        dfs(n, gid)\n",
    "        \n",
    "for i in range(len(categoryids)):\n",
    "    if groupids[i] == 0:\n",
    "        dfs(i, gid)\n",
    "        groupids[i] = gid\n",
    "        gid += 1\n"
   ]
  },
  {
   "cell_type": "code",
   "execution_count": 53,
   "metadata": {},
   "outputs": [
    {
     "name": "stdout",
     "output_type": "stream",
     "text": [
      "2739 2698\n"
     ]
    }
   ],
   "source": [
    "print( len(groupids), len(set( groupids)) )"
   ]
  },
  {
   "cell_type": "code",
   "execution_count": 55,
   "metadata": {},
   "outputs": [],
   "source": [
    "df['categoryid'] = df['categoryid'].apply(lambda x: groupids[ category_map[x] ])"
   ]
  },
  {
   "cell_type": "code",
   "execution_count": 56,
   "metadata": {},
   "outputs": [
    {
     "data": {
      "text/html": [
       "<div>\n",
       "<style scoped>\n",
       "    .dataframe tbody tr th:only-of-type {\n",
       "        vertical-align: middle;\n",
       "    }\n",
       "\n",
       "    .dataframe tbody tr th {\n",
       "        vertical-align: top;\n",
       "    }\n",
       "\n",
       "    .dataframe thead th {\n",
       "        text-align: right;\n",
       "    }\n",
       "</style>\n",
       "<table border=\"1\" class=\"dataframe\">\n",
       "  <thead>\n",
       "    <tr style=\"text-align: right;\">\n",
       "      <th></th>\n",
       "      <th>userid</th>\n",
       "      <th>itemid</th>\n",
       "      <th>categoryid</th>\n",
       "      <th>behavior</th>\n",
       "      <th>timestamp</th>\n",
       "    </tr>\n",
       "  </thead>\n",
       "  <tbody>\n",
       "    <tr>\n",
       "      <th>41582965</th>\n",
       "      <td>16</td>\n",
       "      <td>3840502</td>\n",
       "      <td>1</td>\n",
       "      <td>pv</td>\n",
       "      <td>1511626494</td>\n",
       "    </tr>\n",
       "    <tr>\n",
       "      <th>41582966</th>\n",
       "      <td>16</td>\n",
       "      <td>3716887</td>\n",
       "      <td>2</td>\n",
       "      <td>pv</td>\n",
       "      <td>1511626551</td>\n",
       "    </tr>\n",
       "    <tr>\n",
       "      <th>41582968</th>\n",
       "      <td>16</td>\n",
       "      <td>3840502</td>\n",
       "      <td>1</td>\n",
       "      <td>pv</td>\n",
       "      <td>1511626597</td>\n",
       "    </tr>\n",
       "    <tr>\n",
       "      <th>41582969</th>\n",
       "      <td>16</td>\n",
       "      <td>4115794</td>\n",
       "      <td>1</td>\n",
       "      <td>pv</td>\n",
       "      <td>1511626761</td>\n",
       "    </tr>\n",
       "    <tr>\n",
       "      <th>41582970</th>\n",
       "      <td>16</td>\n",
       "      <td>2111454</td>\n",
       "      <td>3</td>\n",
       "      <td>pv</td>\n",
       "      <td>1511626770</td>\n",
       "    </tr>\n",
       "  </tbody>\n",
       "</table>\n",
       "</div>"
      ],
      "text/plain": [
       "          userid   itemid  categoryid behavior   timestamp\n",
       "41582965      16  3840502           1       pv  1511626494\n",
       "41582966      16  3716887           2       pv  1511626551\n",
       "41582968      16  3840502           1       pv  1511626597\n",
       "41582969      16  4115794           1       pv  1511626761\n",
       "41582970      16  2111454           3       pv  1511626770"
      ]
     },
     "execution_count": 56,
     "metadata": {},
     "output_type": "execute_result"
    }
   ],
   "source": [
    "df.head()"
   ]
  },
  {
   "cell_type": "code",
   "execution_count": 57,
   "metadata": {},
   "outputs": [
    {
     "data": {
      "text/plain": [
       "2698"
      ]
     },
     "execution_count": 57,
     "metadata": {},
     "output_type": "execute_result"
    }
   ],
   "source": [
    "df.categoryid.nunique()"
   ]
  },
  {
   "cell_type": "code",
   "execution_count": 58,
   "metadata": {},
   "outputs": [],
   "source": [
    "pickle.dump(df, open('10w_cate_nodup.pickle', 'wb'))"
   ]
  }
 ],
 "metadata": {
  "kernelspec": {
   "display_name": "Python [conda env:pytorch]",
   "language": "python",
   "name": "conda-env-pytorch-py"
  },
  "language_info": {
   "codemirror_mode": {
    "name": "ipython",
    "version": 3
   },
   "file_extension": ".py",
   "mimetype": "text/x-python",
   "name": "python",
   "nbconvert_exporter": "python",
   "pygments_lexer": "ipython3",
   "version": "3.6.8"
  }
 },
 "nbformat": 4,
 "nbformat_minor": 2
}
