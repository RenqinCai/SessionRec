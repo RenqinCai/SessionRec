{
 "cells": [
  {
   "cell_type": "code",
   "execution_count": 1,
   "metadata": {},
   "outputs": [],
   "source": [
    "import pickle\n",
    "import random\n",
    "import numpy as np"
   ]
  },
  {
   "cell_type": "code",
   "execution_count": null,
   "metadata": {},
   "outputs": [],
   "source": []
  },
  {
   "cell_type": "code",
   "execution_count": 2,
   "metadata": {},
   "outputs": [],
   "source": [
    "train_file = \"../Data/tmall/taobao_small_cate_train.pickle\"\n",
    "train_file_writer = open(train_file, \"rb\")\n",
    "train_list = pickle.load(train_file_writer)\n",
    "\n",
    "test_file = \"../Data/tmall/taobao_small_cate_test.pickle\"\n",
    "test_file_writer = open(test_file, \"rb\")\n",
    "test_list = pickle.load(test_file_writer)"
   ]
  },
  {
   "cell_type": "code",
   "execution_count": 3,
   "metadata": {},
   "outputs": [
    {
     "name": "stdout",
     "output_type": "stream",
     "text": [
      "46.80525 184 1\n"
     ]
    }
   ],
   "source": [
    "len_list = []\n",
    "train_user_num = len(train_list)\n",
    "for train_i in range(train_user_num):\n",
    "    user_list = train_list[train_i]\n",
    "    len_list.append(len(user_list))\n",
    "print(np.mean(len_list), np.max(len_list), np.min(len_list))"
   ]
  },
  {
   "cell_type": "code",
   "execution_count": 4,
   "metadata": {},
   "outputs": [
    {
     "data": {
      "text/plain": [
       "array([[0., 0., 0.],\n",
       "       [0., 0., 0.],\n",
       "       [0., 0., 0.]])"
      ]
     },
     "execution_count": 4,
     "metadata": {},
     "output_type": "execute_result"
    }
   ],
   "source": [
    "np.zeros((3, 3))"
   ]
  },
  {
   "cell_type": "code",
   "execution_count": 5,
   "metadata": {},
   "outputs": [],
   "source": [
    "second_order_matrix = np.zeros((5869, 5869))\n",
    "# categoryList = []\n",
    "\n",
    "for user_index in range(train_user_num):\n",
    "    user_list = train_list[user_index]\n",
    "    user_action_len = len(user_list)\n",
    "        \n",
    "    last_action_category = -1\n",
    "    for user_action_index in range(2, user_action_len):\n",
    "        last_action_category = user_list[user_action_index-2]\n",
    "        user_action_category = user_list[user_action_index]\n",
    "        second_order_matrix[last_action_category, user_action_category] += 1.0\n",
    "#         categoryList.append(user_action_category)\n",
    "        \n",
    "#         if user_action_index == 0:\n",
    "            \n",
    "#             last_action_category = user_action_category\n",
    "#             continue\n",
    "        \n",
    "#         last_action_category = int(last_action_category)\n",
    "#         user_action_category = int(user_action_category)\n",
    "#         first_order_matrix[last_action_category, user_action_category] += 1.0\n",
    "        \n",
    "#         last_action_category = user_action_category\n",
    "               "
   ]
  },
  {
   "cell_type": "code",
   "execution_count": 6,
   "metadata": {},
   "outputs": [
    {
     "ename": "NameError",
     "evalue": "name 'categoryList' is not defined",
     "output_type": "error",
     "traceback": [
      "\u001b[0;31m---------------------------------------------------------------------------\u001b[0m",
      "\u001b[0;31mNameError\u001b[0m                                 Traceback (most recent call last)",
      "\u001b[0;32m<ipython-input-6-c3189e59d4c0>\u001b[0m in \u001b[0;36m<module>\u001b[0;34m\u001b[0m\n\u001b[0;32m----> 1\u001b[0;31m \u001b[0mlen\u001b[0m\u001b[0;34m(\u001b[0m\u001b[0mset\u001b[0m\u001b[0;34m(\u001b[0m\u001b[0mcategoryList\u001b[0m\u001b[0;34m)\u001b[0m\u001b[0;34m)\u001b[0m\u001b[0;34m,\u001b[0m \u001b[0mmax\u001b[0m\u001b[0;34m(\u001b[0m\u001b[0mcategoryList\u001b[0m\u001b[0;34m)\u001b[0m\u001b[0;34m,\u001b[0m \u001b[0mmin\u001b[0m\u001b[0;34m(\u001b[0m\u001b[0mcategoryList\u001b[0m\u001b[0;34m)\u001b[0m\u001b[0;34m,\u001b[0m \u001b[0mlen\u001b[0m\u001b[0;34m(\u001b[0m\u001b[0mfirst_order_matrix\u001b[0m\u001b[0;34m)\u001b[0m\u001b[0;34m\u001b[0m\u001b[0;34m\u001b[0m\u001b[0m\n\u001b[0m",
      "\u001b[0;31mNameError\u001b[0m: name 'categoryList' is not defined"
     ]
    }
   ],
   "source": [
    "# len(set(categoryList)), max(categoryList), min(categoryList), len(first_order_matrix)"
   ]
  },
  {
   "cell_type": "code",
   "execution_count": 40,
   "metadata": {},
   "outputs": [],
   "source": [
    "from sklearn.preprocessing import normalize"
   ]
  },
  {
   "cell_type": "code",
   "execution_count": null,
   "metadata": {},
   "outputs": [],
   "source": []
  },
  {
   "cell_type": "code",
   "execution_count": 7,
   "metadata": {
    "scrolled": true
   },
   "outputs": [
    {
     "name": "stdout",
     "output_type": "stream",
     "text": [
      "5109 3006 zero\n"
     ]
    },
    {
     "name": "stderr",
     "output_type": "stream",
     "text": [
      "/zf15/rc7ne/anaconda3/lib/python3.6/site-packages/ipykernel_launcher.py:33: RuntimeWarning: invalid value encountered in true_divide\n"
     ]
    },
    {
     "name": "stdout",
     "output_type": "stream",
     "text": [
      "5842 138 zero\n",
      "4307 240 zero\n",
      "4380 1754 zero\n",
      "5625 5625 zero\n",
      "5625 5625 zero\n",
      "5625 1042 zero\n",
      "4044 388 zero\n",
      "5793 4205 zero\n",
      "5044 37 zero\n",
      "5702 304 zero\n",
      "5766 3744 zero\n",
      "5498 2996 zero\n",
      "3190 93 zero\n",
      "4449 2282 zero\n",
      "5851 539 zero\n",
      "5024 55 zero\n",
      "223 71 zero\n",
      "5776 191 zero\n",
      "3825 3825 zero\n",
      "3825 172 zero\n",
      "3825 385 zero\n",
      "5075 297 zero\n",
      "5625 116 zero\n",
      "5663 112 zero\n",
      "5769 4174 zero\n",
      "5131 358 zero\n",
      "5850 2145 zero\n",
      "5814 5814 zero\n",
      "5814 5814 zero\n",
      "5814 175 zero\n",
      "3190 3058 zero\n",
      "3190 560 zero\n",
      "5826 1342 zero\n",
      "5852 84 zero\n",
      "4757 127 zero\n",
      "4837 1628 zero\n",
      "3544 12 zero\n",
      "5650 5218 zero\n",
      "5791 771 zero\n",
      "5519 169 zero\n",
      "5087 2141 zero\n",
      "4757 19 zero\n",
      "4757 118 zero\n",
      "5290 33 zero\n",
      "5799 5799 zero\n",
      "5799 182 zero\n",
      "5799 5799 zero\n",
      "5799 13 zero\n",
      "5799 5799 zero\n",
      "5799 5799 zero\n",
      "5799 83 zero\n",
      "5809 3538 zero\n",
      "5459 37 zero\n",
      "5131 166 zero\n",
      "4659 722 zero\n",
      "3544 15 zero\n",
      "4837 158 zero\n",
      "5597 1915 zero\n",
      "5650 54 zero\n",
      "5275 2308 zero\n",
      "5685 96 zero\n",
      "5498 5 zero\n",
      "2971 908 zero\n",
      "5651 161 zero\n",
      "4307 175 zero\n",
      "4757 56 zero\n",
      "4757 1614 zero\n",
      "4757 1614 zero\n",
      "5241 1089 zero\n",
      "5585 262 zero\n",
      "5248 7 zero\n",
      "5744 2962 zero\n",
      "5843 1632 zero\n",
      "5094 2939 zero\n",
      "5094 220 zero\n",
      "5094 92 zero\n",
      "5544 224 zero\n",
      "5331 713 zero\n",
      "5278 3 zero\n",
      "5544 56 zero\n",
      "5544 206 zero\n",
      "5544 1720 zero\n",
      "4044 138 zero\n",
      "5864 3440 zero\n",
      "5736 1144 zero\n",
      "5646 709 zero\n",
      "5355 79 zero\n",
      "5544 147 zero\n",
      "5552 384 zero\n",
      "5534 157 zero\n",
      "5222 1395 zero\n",
      "5789 592 zero\n",
      "3190 137 zero\n",
      "5841 356 zero\n",
      "5776 1378 zero\n",
      "5630 1275 zero\n",
      "5519 144 zero\n",
      "5459 3 zero\n",
      "5769 815 zero\n",
      "3190 1024 zero\n",
      "correct num topk 171797.0\n",
      "total num topk 905862.0\n"
     ]
    }
   ],
   "source": [
    "test_user_num = len(test_list)\n",
    "\n",
    "topk = 1\n",
    "\n",
    "correct_num_topk = 0\n",
    "total_num = 0\n",
    "\n",
    "for user_index in range(test_user_num):\n",
    "    user_list = test_list[user_index]\n",
    "    user_action_len = len(user_list)\n",
    "    \n",
    "    last_action_category = -1\n",
    "    for user_action_index in range(2, user_action_len):\n",
    "        user_action_category = user_list[user_action_index]\n",
    "        \n",
    "        if user_action_category >= len(second_order_matrix):\n",
    "            continue\n",
    "        \n",
    "        last_action_category = user_list[user_action_index-2]\n",
    "        \n",
    "        if last_action_category >= len(second_order_matrix):\n",
    "            continue\n",
    "            \n",
    "        last_action_category = int(last_action_category)\n",
    "        user_action_category = int(user_action_category)\n",
    "        \n",
    "        category_score_list = second_order_matrix[last_action_category, :]\n",
    "        \n",
    "        last_action_sum = np.sum(category_score_list)\n",
    "        if last_action_sum == 0:\n",
    "            print(last_action_category, user_action_category, \"zero\")\n",
    "        \n",
    "        category_score_list = category_score_list/last_action_sum\n",
    "        \n",
    "        pred = (-np.array(category_score_list)).argsort()[:topk]\n",
    "        if user_action_category in pred:\n",
    "            correct_num_topk += 1.0\n",
    "        total_num += 1.0\n",
    "        \n",
    "        last_action_category = user_action_category\n",
    "        \n",
    "print(\"correct num topk\", correct_num_topk)\n",
    "print(\"total num topk\", total_num)      "
   ]
  },
  {
   "cell_type": "code",
   "execution_count": 8,
   "metadata": {},
   "outputs": [
    {
     "name": "stdout",
     "output_type": "stream",
     "text": [
      "recall@1 0.18965029993531024\n"
     ]
    }
   ],
   "source": [
    "recall_topk = correct_num_topk/total_num\n",
    "print(\"recall@%d\"%topk, recall_topk)"
   ]
  },
  {
   "cell_type": "code",
   "execution_count": 39,
   "metadata": {
    "collapsed": true
   },
   "outputs": [
    {
     "data": {
      "text/plain": [
       "array([[0.000e+00, 1.427e+03, 3.606e+03, 8.510e+02, 2.480e+02, 4.203e+03,\n",
       "        8.000e+00, 2.523e+03, 1.469e+03, 6.064e+03],\n",
       "       [1.444e+03, 0.000e+00, 6.140e+02, 2.960e+02, 1.090e+02, 4.530e+02,\n",
       "        0.000e+00, 8.510e+02, 5.560e+02, 9.970e+02],\n",
       "       [3.641e+03, 6.320e+02, 0.000e+00, 5.360e+02, 1.350e+02, 1.112e+03,\n",
       "        5.000e+00, 1.741e+03, 8.330e+02, 2.916e+03],\n",
       "       [8.500e+02, 2.710e+02, 5.450e+02, 0.000e+00, 1.510e+02, 3.320e+02,\n",
       "        1.470e+02, 1.672e+03, 5.140e+02, 1.564e+03],\n",
       "       [2.420e+02, 8.700e+01, 1.220e+02, 1.690e+02, 0.000e+00, 1.100e+02,\n",
       "        3.000e+00, 5.070e+02, 1.370e+02, 4.320e+02],\n",
       "       [4.104e+03, 4.390e+02, 1.116e+03, 3.190e+02, 1.400e+02, 0.000e+00,\n",
       "        4.000e+00, 1.027e+03, 8.030e+02, 2.213e+03],\n",
       "       [1.200e+01, 2.000e+00, 2.000e+00, 1.400e+02, 2.000e+00, 3.000e+00,\n",
       "        0.000e+00, 1.800e+01, 4.000e+00, 1.700e+01],\n",
       "       [2.399e+03, 8.430e+02, 1.797e+03, 1.808e+03, 5.170e+02, 1.018e+03,\n",
       "        1.300e+01, 0.000e+00, 1.419e+03, 4.687e+03],\n",
       "       [1.480e+03, 5.960e+02, 8.920e+02, 5.070e+02, 1.250e+02, 7.770e+02,\n",
       "        4.000e+00, 1.419e+03, 0.000e+00, 5.319e+03],\n",
       "       [6.249e+03, 1.056e+03, 2.893e+03, 1.555e+03, 4.220e+02, 2.212e+03,\n",
       "        1.200e+01, 4.590e+03, 5.353e+03, 0.000e+00]])"
      ]
     },
     "execution_count": 39,
     "metadata": {},
     "output_type": "execute_result"
    }
   ],
   "source": [
    "first_order_matrix[:10, :10]"
   ]
  },
  {
   "cell_type": "code",
   "execution_count": 29,
   "metadata": {},
   "outputs": [
    {
     "name": "stdout",
     "output_type": "stream",
     "text": [
      "[1 3]\n"
     ]
    }
   ],
   "source": [
    "a = np.array([1, 10, 3, 4])\n",
    "print((-a).argsort()[:2])"
   ]
  },
  {
   "cell_type": "code",
   "execution_count": null,
   "metadata": {},
   "outputs": [],
   "source": []
  }
 ],
 "metadata": {
  "kernelspec": {
   "display_name": "Python 3",
   "language": "python",
   "name": "python3"
  },
  "language_info": {
   "codemirror_mode": {
    "name": "ipython",
    "version": 3
   },
   "file_extension": ".py",
   "mimetype": "text/x-python",
   "name": "python",
   "nbconvert_exporter": "python",
   "pygments_lexer": "ipython3",
   "version": "3.6.7"
  }
 },
 "nbformat": 4,
 "nbformat_minor": 2
}
