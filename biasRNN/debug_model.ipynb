{
 "cells": [
  {
   "cell_type": "code",
   "execution_count": 1,
   "metadata": {},
   "outputs": [],
   "source": [
    "import argparse\n",
    "import torch\n",
    "# import lib\n",
    "import numpy as np\n",
    "import os\n",
    "import datetime\n",
    "from loss import *\n",
    "from network import *\n",
    "from optimizer import *\n",
    "from trainer import *\n",
    "from torch.utils import data\n",
    "import pickle\n",
    "import sys\n",
    "from dataset_time import *\n",
    "# from data_time import *\n",
    "from logger import *\n",
    "import collections\n",
    "\n",
    "import sys\n",
    "sys.path.insert(0, '../PyTorch_GBW_LM')\n",
    "sys.path.insert(0, '../PyTorch_GBW_LM/log_uniform')\n",
    "\n",
    "from sampledSoftmax import *"
   ]
  },
  {
   "cell_type": "code",
   "execution_count": 2,
   "metadata": {},
   "outputs": [],
   "source": [
    "parser = argparse.ArgumentParser()\n",
    "parser.add_argument('--hidden_size', default=50, type=int)\n",
    "parser.add_argument('--num_layers', default=1, type=int)\n",
    "parser.add_argument('--batch_size', default=100, type=int)\n",
    "parser.add_argument('--dropout_input', default=0, type=float)\n",
    "parser.add_argument('--dropout_hidden', default=.2, type=float)\n",
    "\n",
    "# parse the optimizer arguments\n",
    "parser.add_argument('--optimizer_type', default='Adagrad', type=str)\n",
    "parser.add_argument('--final_act', default='tanh', type=str)\n",
    "parser.add_argument('--lr', default=.05, type=float)\n",
    "parser.add_argument('--weight_decay', default=0.0, type=float)\n",
    "parser.add_argument('--momentum', default=0.1, type=float)\n",
    "parser.add_argument('--eps', default=1e-6, type=float)\n",
    "\n",
    "parser.add_argument(\"-seed\", type=int, default=7,\n",
    "\t\t\t\t\t help=\"Seed for random initialization\")\n",
    "parser.add_argument(\"-sigma\", type=float, default=None,\n",
    "\t\t\t\t\t help=\"init weight -1: range [-sigma, sigma], -2: range [0, sigma]\")\n",
    "parser.add_argument(\"--embedding_dim\", type=int, default=-1,\n",
    "\t\t\t\t\t help=\"using embedding\")\n",
    "# parse the loss type\n",
    "parser.add_argument('--loss_type', default='TOP1', type=str)\n",
    "# parser.add_argument('--loss_type', default='BPR', type=str)\n",
    "parser.add_argument('--topk', default=5, type=int)\n",
    "# etc\n",
    "parser.add_argument('--bptt', default=1, type=int)\n",
    "parser.add_argument('--test_observed', default=5, type=int)\n",
    "parser.add_argument('--window_size', default=30, type=int)\n",
    "parser.add_argument('--warm_start', default=5, type=int)\n",
    "\n",
    "parser.add_argument('--n_epochs', default=20, type=int)\n",
    "parser.add_argument('--time_sort', default=False, type=bool)\n",
    "parser.add_argument('--model_name', default='GRU4REC', type=str)\n",
    "parser.add_argument('--save_dir', default='models', type=str)\n",
    "parser.add_argument('--data_folder', default='../Data/movielen/1m/', type=str)\n",
    "parser.add_argument('--data_action', default='item.pickle', type=str)\n",
    "parser.add_argument('--data_cate', default='cate.pickle', type=str)\n",
    "parser.add_argument('--data_time', default='time.pickle', type=str)\n",
    "parser.add_argument(\"--is_eval\", action='store_true')\n",
    "parser.add_argument('--load_model', default=None,  type=str)\n",
    "parser.add_argument('--checkpoint_dir', type=str, default='checkpoint')\n",
    "parser.add_argument('--data_name', default=None, type=str)\n",
    "parser.add_argument('--shared_embedding', default=None, type=int)\n",
    "parser.add_argument('--patience', default=1000)\n",
    "parser.add_argument('--negative_num', default=1000, type=int)\n",
    "\n",
    "# Get the arguments\n",
    "args = parser.parse_args(args=[])\n",
    "args.cuda = torch.cuda.is_available()\n"
   ]
  },
  {
   "cell_type": "code",
   "execution_count": 3,
   "metadata": {},
   "outputs": [],
   "source": [
    "args.data_folder = \"../Data/tmall/100k_unknown_cate/\"\n",
    "args.data_action = \"item_time.pickle\"\n",
    "args.data_cate = \"cate_time.pickle\"\n",
    "args.data_time = \"time_time.pickle\"\n",
    "args.data_name = \"taobao\"\n",
    "args.valid_start_time = 1512172800\n",
    "valid_start_time = args.valid_start_time\n",
    "args.test_start_time = 1512259200\n",
    "test_start_time = args.test_start_time"
   ]
  },
  {
   "cell_type": "code",
   "execution_count": 4,
   "metadata": {},
   "outputs": [],
   "source": [
    "args.embedding_dim = 300\n",
    "args.hidden_size = 300\n",
    "args.lr = 0.0001\n",
    "args.window_size = 20\n",
    "args.test_observed = 5\n",
    "args.n_epochs = 300\n",
    "args.shared_embedding = 1\n",
    "args.batch_size = 300\n",
    "args.optimizer_type = \"Adam\""
   ]
  },
  {
   "cell_type": "code",
   "execution_count": 18,
   "metadata": {},
   "outputs": [],
   "source": [
    "data_file = \"data.pickle\"\n",
    "f = open(data_file, \"rb\")\n",
    "data_map = pickle.load(f)\n",
    "data_obj = data_map[\"data\"]"
   ]
  },
  {
   "cell_type": "code",
   "execution_count": null,
   "metadata": {},
   "outputs": [],
   "source": []
  },
  {
   "cell_type": "code",
   "execution_count": 5,
   "metadata": {},
   "outputs": [
    {
     "name": "stdout",
     "output_type": "stream",
     "text": [
      "action seq num 51275\n",
      "time seq num 51275\n",
      "loading item map\n",
      "loading item map\n",
      "observed_threshold 5 20\n",
      "loading data\n",
      "valid_start_time 1512172800\n",
      "test start time 1512259200\n",
      "seq num for training 2738883\n",
      "seq num of actions for training 2738883\n",
      "seq num for testing 430797\n",
      "seq num of actions for testing 430797\n",
      "++++++++++\n",
      "valid load\n"
     ]
    }
   ],
   "source": [
    "hidden_size = args.hidden_size\n",
    "num_layers = args.num_layers\n",
    "batch_size = args.batch_size\n",
    "dropout_input = args.dropout_input\n",
    "dropout_hidden = args.dropout_hidden\n",
    "embedding_dim = args.embedding_dim\n",
    "final_act = args.final_act\n",
    "loss_type = args.loss_type\n",
    "topk = args.topk\n",
    "optimizer_type = args.optimizer_type\n",
    "lr = args.lr\n",
    "weight_decay = args.weight_decay\n",
    "momentum = args.momentum\n",
    "eps = args.eps\n",
    "BPTT = args.bptt\n",
    "\n",
    "n_epochs = args.n_epochs\n",
    "time_sort = args.time_sort\n",
    "\n",
    "window_size = args.window_size\n",
    "shared_embedding = args.shared_embedding\n",
    "\n",
    "if embedding_dim == -1:\n",
    "    print(\"embedding dim not -1\", embedding_dim)\n",
    "    raise AssertionError()\n",
    "\n",
    "observed_threshold = args.test_observed\n",
    "\n",
    "data_action = args.data_folder+args.data_action\n",
    "data_cate = args.data_folder+args.data_cate\n",
    "data_time = args.data_folder+args.data_time\n",
    "\n",
    "data_obj = MYDATA(data_action, data_cate, data_time, valid_start_time, test_start_time, observed_threshold, window_size)\n",
    "\n",
    "train_data = data_obj.train_dataset\n",
    "\n",
    "print(\"+\"*10)\n",
    "print(\"valid load\")\n"
   ]
  },
  {
   "cell_type": "code",
   "execution_count": 6,
   "metadata": {},
   "outputs": [
    {
     "name": "stdout",
     "output_type": "stream",
     "text": [
      "item num 68008\n",
      "seq num 2738883\n",
      "batch size 300\n",
      "batch_num 9129\n",
      "seq num 430797\n",
      "batch size 300\n",
      "batch_num 1435\n"
     ]
    }
   ],
   "source": [
    "valid_data = data_obj.test_dataset\n",
    "test_data = data_obj.test_dataset\n",
    "\n",
    "input_size = data_obj.items()\n",
    "output_size = input_size\n",
    "\n",
    "negative_num = args.negative_num\n",
    "# print(\"input_size\", input_size)\n",
    "\n",
    "train_data_loader = dataset.DataLoader(train_data, batch_size)\n",
    "\n",
    "valid_data_loader = dataset.DataLoader(valid_data, batch_size)\n",
    "\n",
    "data_name = args.data_name"
   ]
  },
  {
   "cell_type": "code",
   "execution_count": 7,
   "metadata": {},
   "outputs": [
    {
     "data": {
      "text/plain": [
       "68008"
      ]
     },
     "execution_count": 7,
     "metadata": {},
     "output_type": "execute_result"
    }
   ],
   "source": [
    "input_size"
   ]
  },
  {
   "cell_type": "code",
   "execution_count": 8,
   "metadata": {},
   "outputs": [
    {
     "name": "stdout",
     "output_type": "stream",
     "text": [
      "output_file hcdmg3_21_44_31_05_300_300_300_Adam_0.0001_20_1_taobao\n",
      "self device cuda\n"
     ]
    },
    {
     "name": "stderr",
     "output_type": "stream",
     "text": [
      "/zf15/rc7ne/anaconda3/lib/python3.7/site-packages/torch/nn/modules/rnn.py:51: UserWarning: dropout option adds dropout after all but last recurrent layer, so non-zero dropout expects num_layers greater than 1, but got dropout=0.2 and num_layers=1\n",
      "  \"num_layers={}\".format(dropout, num_layers))\n"
     ]
    },
    {
     "name": "stdout",
     "output_type": "stream",
     "text": [
      "share embedding\n"
     ]
    }
   ],
   "source": [
    "ss = SampledSoftmax(output_size, negative_num, embedding_dim, None)\n",
    "\n",
    "log = Logger()\n",
    "log.addIOWriter(args)\n",
    "\n",
    "model = GRU4REC(log, ss, input_size, hidden_size, output_size,\n",
    "                    final_act=final_act,\n",
    "                    num_layers=num_layers,\n",
    "                    use_cuda=args.cuda,\n",
    "                    dropout_input=dropout_input,\n",
    "                    dropout_hidden=dropout_hidden,\n",
    "                    embedding_dim=embedding_dim,\n",
    "                    shared_embedding=shared_embedding\n",
    "                    )"
   ]
  },
  {
   "cell_type": "code",
   "execution_count": 9,
   "metadata": {},
   "outputs": [
    {
     "name": "stdout",
     "output_type": "stream",
     "text": [
      "0.18883391405342626\n",
      "0.08396582052838511\n"
     ]
    }
   ],
   "source": [
    "save_path = \"../log/samplePaddingSessionRNN/checkpoint/01180955/model_best.pt\"\n",
    "\n",
    "save_model_data = torch.load(save_path)\n",
    "# print(save_model_data)\n",
    "model.load_state_dict(save_model_data['model']) \n",
    "model.eval()\n",
    "\n",
    "print(save_model_data['recall'])\n",
    "print(save_model_data['mrr'])"
   ]
  },
  {
   "cell_type": "code",
   "execution_count": null,
   "metadata": {},
   "outputs": [],
   "source": []
  },
  {
   "cell_type": "code",
   "execution_count": 25,
   "metadata": {},
   "outputs": [
    {
     "name": "stdout",
     "output_type": "stream",
     "text": [
      "recall 0.18883391405342626\n",
      "mrr 0.08396582052838511\n"
     ]
    }
   ],
   "source": [
    "recall = save_model_data['recall']\n",
    "print(\"recall\", recall)\n",
    "\n",
    "mrr = save_model_data['mrr']\n",
    "print(\"mrr\", mrr)"
   ]
  },
  {
   "cell_type": "code",
   "execution_count": 10,
   "metadata": {},
   "outputs": [],
   "source": [
    "loss_type = \"XE\"\n",
    "loss_func = LossFunction(loss_type=loss_type, use_cuda=args.cuda)"
   ]
  },
  {
   "cell_type": "code",
   "execution_count": 27,
   "metadata": {},
   "outputs": [
    {
     "name": "stdout",
     "output_type": "stream",
     "text": [
      "[1, 2, 3, 4, 5, 6]\n"
     ]
    }
   ],
   "source": [
    "a = [1, 2, 3]\n",
    "b = np.array([4, 5, 6])\n",
    "c = a+list(b)\n",
    "print(c)"
   ]
  },
  {
   "cell_type": "code",
   "execution_count": null,
   "metadata": {},
   "outputs": [],
   "source": []
  },
  {
   "cell_type": "code",
   "execution_count": 18,
   "metadata": {},
   "outputs": [
    {
     "name": "stdout",
     "output_type": "stream",
     "text": [
      "shuffling\n",
      "total_test_num 430500\n",
      "recall 0.12294541231126598\n",
      "mrr 0.07740027521856986\n"
     ]
    }
   ],
   "source": [
    "model.eval()\n",
    "dataloader = valid_data_loader\n",
    "\n",
    "losses = []\n",
    "recalls = []\n",
    "mrrs = []\n",
    "weights = []\n",
    "\n",
    "topk = 5\n",
    "eval_iter = 0\n",
    "device = torch.device('cuda')\n",
    "warm_start = 5\n",
    "# warm_start = args.warm_start\n",
    "\n",
    "idx_list = []\n",
    "\n",
    "with torch.no_grad():\n",
    "    total_test_num = []\n",
    "\n",
    "    for x_short_action_batch, mask_short_action_batch, pad_x_short_actionNum_batch, y_action_batch, y_action_idx_batch in dataloader:\n",
    "            \n",
    "#         idx_list += list(y_action_idx_batch)\n",
    "        \n",
    "        x_short_action_batch = x_short_action_batch.to(device)\n",
    "        mask_short_action_batch = mask_short_action_batch.to(device)\n",
    "        y_action_batch = y_action_batch.to(device)\n",
    "\n",
    "        warm_start_mask = (y_action_idx_batch >= warm_start)\n",
    "        if torch.sum(warm_start_mask).item() == 0:\n",
    "            continue\n",
    "\n",
    "        output_batch = model(x_short_action_batch, mask_short_action_batch, pad_x_short_actionNum_batch)\n",
    "\n",
    "        # et_1 = datetime.datetime.now()\n",
    "        # print(\"duration 1\", et_1-st)\n",
    "\n",
    "        sampled_logit_batch, sampled_target_batch = model.m_ss(output_batch, y_action_batch, None, None, None, None, None, None, \"full\")\n",
    "\n",
    "        loss_batch = loss_func(sampled_logit_batch, sampled_target_batch)\n",
    "        losses.append(loss_batch.item())\n",
    "\n",
    "        # et_2 = datetime.datetime.now()\n",
    "        # print(\"duration 2\", et_2-et_1)\n",
    "\n",
    "        # logit_batch = self.model.m_ss.params(output_batch)\n",
    "        recall_batch, mrr_batch = evaluate(sampled_logit_batch, sampled_target_batch, warm_start_mask, k=topk)\n",
    "\n",
    "        weights.append( int( warm_start_mask.int().sum() ) )\n",
    "        recalls.append(recall_batch)\n",
    "        mrrs.append(mrr_batch)\n",
    "\n",
    "        # et_3 = datetime.datetime.now()\n",
    "        # print(\"duration 3\", et_3-et_2)\n",
    "\n",
    "        total_test_num.append(int( warm_start_mask.int().sum() ))\n",
    "\n",
    "    mean_losses = np.mean(losses)\n",
    "    mean_recall = np.average(recalls, weights = weights)\n",
    "    mean_mrr = np.average(mrrs, weights = weights)\n",
    "          \n",
    "print(\"total_test_num\", np.sum(total_test_num))\n",
    "print(\"recall\", mean_recall)\n",
    "print(\"mrr\", mean_mrr)"
   ]
  },
  {
   "cell_type": "code",
   "execution_count": null,
   "metadata": {},
   "outputs": [],
   "source": [
    "shuffling\n",
    "total_test_num 305021\n",
    "recall 0.2941948462184953\n",
    "mrr 0.08563804351286605"
   ]
  },
  {
   "cell_type": "code",
   "execution_count": null,
   "metadata": {},
   "outputs": [],
   "source": [
    "total_test_num 127796\n",
    "recall 0.2987652195686876\n",
    "mrr 0.08026587741838981"
   ]
  },
  {
   "cell_type": "code",
   "execution_count": null,
   "metadata": {},
   "outputs": [],
   "source": [
    "recall 0.28708706476905355\n",
    "mrr 0.08779376165564898"
   ]
  },
  {
   "cell_type": "code",
   "execution_count": null,
   "metadata": {},
   "outputs": [],
   "source": [
    "total_test_num 35540\n",
    "recall 0.2579628587507034\n",
    "mrr 0.08437233997105033"
   ]
  },
  {
   "cell_type": "code",
   "execution_count": null,
   "metadata": {},
   "outputs": [],
   "source": [
    "total_test_num 48494\n",
    "recall 0.29376830123314224\n",
    "mrr 0.07904030092175612"
   ]
  },
  {
   "cell_type": "code",
   "execution_count": null,
   "metadata": {},
   "outputs": [],
   "source": []
  },
  {
   "cell_type": "code",
   "execution_count": 19,
   "metadata": {},
   "outputs": [
    {
     "data": {
      "text/plain": [
       "430500"
      ]
     },
     "execution_count": 19,
     "metadata": {},
     "output_type": "execute_result"
    }
   ],
   "source": [
    "len(idx_list)"
   ]
  },
  {
   "cell_type": "code",
   "execution_count": 20,
   "metadata": {},
   "outputs": [],
   "source": [
    "import seaborn as sns"
   ]
  },
  {
   "cell_type": "code",
   "execution_count": 21,
   "metadata": {},
   "outputs": [
    {
     "data": {
      "text/plain": [
       "<matplotlib.axes._subplots.AxesSubplot at 0x7fa7ca107780>"
      ]
     },
     "execution_count": 21,
     "metadata": {},
     "output_type": "execute_result"
    },
    {
     "data": {
      "image/png": "[encoded data removed]",
      "text/plain": [
       "<Figure size 432x288 with 1 Axes>"
      ]
     },
     "metadata": {
      "needs_background": "light"
     },
     "output_type": "display_data"
    }
   ],
   "source": [
    "sns.distplot(idx_list)"
   ]
  },
  {
   "cell_type": "code",
   "execution_count": null,
   "metadata": {},
   "outputs": [],
   "source": []
  },
  {
   "cell_type": "code",
   "execution_count": null,
   "metadata": {},
   "outputs": [],
   "source": []
  },
  {
   "cell_type": "code",
   "execution_count": null,
   "metadata": {},
   "outputs": [],
   "source": [
    "shuffling\n",
    "total_test_num 430500\n",
    "recall 0.2987652195686876\n",
    "mrr 0.08026587741838981"
   ]
  },
  {
   "cell_type": "code",
   "execution_count": null,
   "metadata": {},
   "outputs": [],
   "source": []
  },
  {
   "cell_type": "code",
   "execution_count": null,
   "metadata": {},
   "outputs": [],
   "source": []
  },
  {
   "cell_type": "code",
   "execution_count": 13,
   "metadata": {},
   "outputs": [
    {
     "name": "stdout",
     "output_type": "stream",
     "text": [
      "batch_num 4158\n",
      "zero_cate_num_total 634331\n"
     ]
    }
   ],
   "source": [
    "model.eval()\n",
    "dataloader = valid_data_loader\n",
    "\n",
    "losses = []\n",
    "recalls = []\n",
    "mrrs = []\n",
    "weights = []\n",
    "\n",
    "nonzero_cate_num_total = 0\n",
    "\n",
    "topk = 5\n",
    "eval_iter = 0\n",
    "device = torch.device('cuda')\n",
    "warm_start = args.warm_start\n",
    "with torch.no_grad():\n",
    "    total_test_num = []\n",
    "\n",
    "    for x_cate_batch, mask_cate, max_acticonNum_cate, seqLen_cate, x_batch, mask_batch, seqLen_batch, y_batch, idx_batch in dataloader:        \n",
    "        x_cate_batch = x_cate_batch.to(device)\n",
    "        mask_cate = mask_cate.to(device)\n",
    "        \n",
    "        x_batch = x_batch.to(device)\n",
    "        mask_batch = mask_batch.to(device)\n",
    "\n",
    "        y_batch = y_batch.to(device)\n",
    "        warm_start_mask = (idx_batch>=warm_start).to(device)\n",
    "        \n",
    "        nonzero_cate_num = np.count_nonzero(seqLen_cate)\n",
    "        nonzero_cate_num_total += nonzero_cate_num\n",
    "#         print(\"zero_cate_num\", zero_cate_num)\n",
    "#         print(\"seqLen_cate\", seqLen_cate)\n",
    "#         print(seqLen_cate.nonzero())\n",
    "\n",
    "#         exit()\n",
    "print(\"nonzero_cate_num_total\", nonzero_cate_num_total)\n"
   ]
  },
  {
   "cell_type": "code",
   "execution_count": 14,
   "metadata": {},
   "outputs": [
    {
     "data": {
      "text/plain": [
       "0.7627837902837903"
      ]
     },
     "execution_count": 14,
     "metadata": {},
     "output_type": "execute_result"
    }
   ],
   "source": [
    "634331.0/831600"
   ]
  },
  {
   "cell_type": "code",
   "execution_count": 4,
   "metadata": {},
   "outputs": [
    {
     "data": {
      "text/plain": [
       "4"
      ]
     },
     "execution_count": 4,
     "metadata": {},
     "output_type": "execute_result"
    }
   ],
   "source": [
    "np.count_nonzero(np.eye(4))"
   ]
  },
  {
   "cell_type": "code",
   "execution_count": null,
   "metadata": {},
   "outputs": [],
   "source": []
  }
 ],
 "metadata": {
  "kernelspec": {
   "display_name": "Python 3",
   "language": "python",
   "name": "python3"
  },
  "language_info": {
   "codemirror_mode": {
    "name": "ipython",
    "version": 3
   },
   "file_extension": ".py",
   "mimetype": "text/x-python",
   "name": "python",
   "nbconvert_exporter": "python",
   "pygments_lexer": "ipython3",
   "version": "3.7.3"
  }
 },
 "nbformat": 4,
 "nbformat_minor": 2
}
