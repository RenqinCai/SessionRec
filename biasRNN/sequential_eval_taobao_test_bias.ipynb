{
 "cells": [
  {
   "cell_type": "code",
   "execution_count": 2,
   "metadata": {},
   "outputs": [],
   "source": [
    "\"\"\"\n",
    "use time to cut sequences\n",
    "command \n",
    "python main_time.py --data_folder ../Data/xing/ --train_data train_item.pickle --valid_data test_item.pickle --test_data test_item.pickle --data_name xing --embedding_dim 300 --hidden_size 300 --lr 0.005\n",
    "\"\"\"\n",
    "import argparse\n",
    "import torch\n",
    "# import lib\n",
    "import numpy as np\n",
    "import os\n",
    "import datetime\n",
    "from loss import *\n",
    "from network import *\n",
    "from optimizer import *\n",
    "from trainer import *\n",
    "from torch.utils import data\n",
    "import pickle\n",
    "import sys\n",
    "from dataset_time import *\n",
    "# from data_time import *\n",
    "from logger import *\n",
    "import collections\n",
    "\n",
    "import sys\n",
    "sys.path.insert(0, '../../PyTorch_GBW_LM')\n",
    "sys.path.insert(0, '../../PyTorch_GBW_LM/log_uniform')\n",
    "\n",
    "from sampledSoftmax import *"
   ]
  },
  {
   "cell_type": "code",
   "execution_count": 84,
   "metadata": {},
   "outputs": [],
   "source": [
    "import matplotlib.pyplot as plt\n",
    "from mpl_toolkits.mplot3d import Axes3D"
   ]
  },
  {
   "cell_type": "code",
   "execution_count": 4,
   "metadata": {},
   "outputs": [],
   "source": [
    "parser = argparse.ArgumentParser()\n",
    "parser.add_argument('--hidden_size', default=50, type=int)\n",
    "parser.add_argument('--num_layers', default=1, type=int)\n",
    "parser.add_argument('--batch_size', default=100, type=int)\n",
    "parser.add_argument('--dropout_input', default=0, type=float)\n",
    "parser.add_argument('--dropout_hidden', default=.2, type=float)\n",
    "\n",
    "# parse the optimizer arguments\n",
    "parser.add_argument('--optimizer_type', default='Adagrad', type=str)\n",
    "parser.add_argument('--final_act', default='tanh', type=str)\n",
    "parser.add_argument('--lr', default=.05, type=float)\n",
    "parser.add_argument('--weight_decay', default=0.0, type=float)\n",
    "parser.add_argument('--momentum', default=0.1, type=float)\n",
    "parser.add_argument('--eps', default=1e-6, type=float)\n",
    "\n",
    "parser.add_argument(\"-seed\", type=int, default=7,\n",
    "                     help=\"Seed for random initialization\")\n",
    "parser.add_argument(\"-sigma\", type=float, default=None,\n",
    "                     help=\"init weight -1: range [-sigma, sigma], -2: range [0, sigma]\")\n",
    "parser.add_argument(\"--embedding_dim\", type=int, default=-1,\n",
    "                     help=\"using embedding\")\n",
    "# parse the loss type\n",
    "parser.add_argument('--loss_type', default='TOP1', type=str)\n",
    "# parser.add_argument('--loss_type', default='BPR', type=str)\n",
    "parser.add_argument('--topk', default=5, type=int)\n",
    "# etc\n",
    "parser.add_argument('--bptt', default=1, type=int)\n",
    "parser.add_argument('--test_observed', default=5, type=int)\n",
    "parser.add_argument('--window_size', default=30, type=int)\n",
    "parser.add_argument('--warm_start', default=5, type=int)\n",
    "\n",
    "parser.add_argument('--n_epochs', default=20, type=int)\n",
    "parser.add_argument('--time_sort', default=False, type=bool)\n",
    "parser.add_argument('--save_dir', default='models', type=str)\n",
    "parser.add_argument('--data_folder', default='../Data/movielen/1m/', type=str)\n",
    "parser.add_argument('--data_action', default='item.pickle', type=str)\n",
    "parser.add_argument('--data_cate', default='cate.pickle', type=str)\n",
    "parser.add_argument('--data_time', default='time.pickle', type=str)\n",
    "parser.add_argument(\"--is_eval\", action='store_true')\n",
    "parser.add_argument('--load_model', default=None,  type=str)\n",
    "parser.add_argument('--checkpoint_dir', type=str, default='checkpoint')\n",
    "parser.add_argument('--data_name', default=None, type=str)\n",
    "parser.add_argument('--shared_embedding', default=None, type=int)\n",
    "parser.add_argument('--patience', default=1000)\n",
    "parser.add_argument('--negative_num', default=1000, type=int)\n",
    "parser.add_argument('--valid_start_time', default=0, type=int)\n",
    "parser.add_argument('--test_start_time', default=0, type=int)\n",
    "parser.add_argument('--model_name', default=\"samplePaddingSessionRNN\", type=str)\n",
    "\n",
    "# Get the arguments\n",
    "args = parser.parse_args([])\n",
    "args.cuda = torch.cuda.is_available()"
   ]
  },
  {
   "cell_type": "code",
   "execution_count": 5,
   "metadata": {},
   "outputs": [],
   "source": [
    "# CUDA_VISIBLE_DEVICES=0 python eval_main_time.py --data_folder ../Data/tmall/100k_unknown_cate/ \n",
    "# --data_action item_time.pickle --data_cate cate_time.pickle --data_time time_time.pickle \n",
    "# --data_name taobao --embedding_dim 300 --hidden_size 300 --lr 0.001 --window_size 20 \n",
    "# --test_observed 5 --n_epochs 100 --shared_embedding 1 --batch_size 300 \n",
    "# --optimizer_type Adam --loss_type 'XE' --valid_start_time 1512172800 --test_start_time 1512259200 \n",
    "# --negative_num 10000 --topk 20 --checkpoint_dir \"../log/samplePaddingSessionRNN/checkpoint/01022149\"\n"
   ]
  },
  {
   "cell_type": "code",
   "execution_count": 6,
   "metadata": {},
   "outputs": [],
   "source": [
    "args.data_folder = \"../../../Data/tmall/100k_unknown_cate/\"\n",
    "args.data_action = \"item_time.pickle\"\n",
    "args.data_cate = \"cate_time.pickle\"\n",
    "args.data_time = \"time_time.pickle\"\n",
    "args.data_name = \"taobao\"\n",
    "args.embedding_dim = 256\n",
    "args.hidden_size = 256\n",
    "args.lr = 0.001\n",
    "args.window_size = 20\n",
    "args.test_observed = 5\n",
    "args.n_epochs = 100\n",
    "args.shared_embedding = 1\n",
    "args.batch_size = 256\n",
    "args.optimizer_type = \"Adam\"\n",
    "args.loss_type = \"XE\"\n",
    "args.valid_start_time = 1512172800\n",
    "args.test_start_time = 1512259200\n",
    "args.negative_num = 10000\n",
    "args.topk = 20\n",
    "args.checkpoint_dir = \"../../log/samplePaddingSessionRNN/checkpoint/01031151\""
   ]
  },
  {
   "cell_type": "code",
   "execution_count": 7,
   "metadata": {},
   "outputs": [
    {
     "name": "stdout",
     "output_type": "stream",
     "text": [
      "gpu\n"
     ]
    }
   ],
   "source": [
    "np.random.seed(args.seed)\n",
    "torch.manual_seed(7)\n",
    "random.seed(args.seed)\n",
    "\n",
    "if args.cuda:\n",
    "    print(\"gpu\")\n",
    "    torch.cuda.manual_seed(args.seed)\n",
    "else:\n",
    "    print(\"cpu\")"
   ]
  },
  {
   "cell_type": "code",
   "execution_count": 8,
   "metadata": {},
   "outputs": [],
   "source": [
    "# 1512172800: 12/02/2017 @ 12:00am (UTC)\n",
    "### 1512187200: 12/02/2017 @ 4:00am (UTC)\n",
    "## 1512201600: 12/02/2017 @ 8:00am (UTC)\n",
    "### 1512216000: 12/02/2017 @ 12:00pm (UTC)\n",
    "### 1512230400: 12/02/2017 @ 4:00pm (UTC)\n",
    "### 1512244800: 12/02/2017 @ 8:00pm (UTC)\n",
    "# 1512259200: 12/03/2017 @ 12:00am (UTC)"
   ]
  },
  {
   "cell_type": "code",
   "execution_count": 9,
   "metadata": {},
   "outputs": [],
   "source": [
    "def make_checkpoint_dir(log):\n",
    "    print(\"PARAMETER\" + \"-\"*10)\n",
    "    now = datetime.datetime.now()\n",
    "    S = '{:02d}{:02d}{:02d}{:02d}'.format(now.month, now.day, now.hour, now.minute)\n",
    "    checkpoint_dir = \"../log/\"+args.model_name+\"/\"+args.checkpoint_dir\n",
    "    args.checkpoint_dir = checkpoint_dir\n",
    "    save_dir = os.path.join(args.checkpoint_dir, S)\n",
    "\n",
    "    if not os.path.exists(\"../log\"):\n",
    "        os.mkdir(\"../log\")\n",
    "    \n",
    "    if not os.path.exists(\"../log/\"+args.model_name):\n",
    "        os.mkdir(\"../log/\"+args.model_name)\n",
    "\n",
    "    if not os.path.exists(args.checkpoint_dir):\n",
    "        os.mkdir(args.checkpoint_dir)\n",
    "\n",
    "    if not os.path.exists(save_dir):\n",
    "        os.mkdir(save_dir)\n",
    "\n",
    "    args.checkpoint_dir = save_dir\n",
    "    \n",
    "    with open(os.path.join(args.checkpoint_dir, 'parameter.txt'), 'w') as f:\n",
    "        for attr, value in sorted(args.__dict__.items()):\n",
    "            msg = \"{}={}\".format(attr.upper(), value)\n",
    "            log.addOutput2IO(msg)\n",
    "            f.write(\"{}={}\\n\".format(attr.upper(), value))\n",
    "\n",
    "    msg = \"---------\" + \"-\"*10\n",
    "    log.addOutput2IO(msg)\n",
    "\n",
    "def load_args(model_path):\n",
    "    model_file = os.path.join(model_path, \"model_best.pt\")\n",
    "    print(\"args file load\", model_file)\n",
    "    check_point = torch.load(model_file, map_location=torch.device('cpu'))\n",
    "    args = check_point['args']\n",
    "\n",
    "def load_model(network, model_path):\n",
    "    print(\"reload model\")\n",
    "    model_file = os.path.join(model_path, \"model_best.pt\")\n",
    "    print(\"model file\", model_file)\n",
    "    check_point = torch.load(model_file)\n",
    "\n",
    "    network.load_state_dict(check_point['model'])\n",
    "\n",
    "def count_parameters(model):\n",
    "    parameter_num = sum(p.numel() for p in model.parameters() if p.requires_grad)\n",
    "    print(\"parameter_num\", parameter_num) \n"
   ]
  },
  {
   "cell_type": "code",
   "execution_count": 10,
   "metadata": {
    "scrolled": true
   },
   "outputs": [
    {
     "name": "stdout",
     "output_type": "stream",
     "text": [
      "args file load ../../log/samplePaddingSessionRNN/checkpoint/01031151/model_best.pt\n",
      "device cuda\n",
      "**********train load**********\n",
      "action seq num 51275\n",
      "time seq num 51275\n",
      "loading item map\n",
      "loading item map\n",
      "observed_threshold 5 20\n",
      "loading data\n",
      "valid_start_time 1512172800\n",
      "test start time 1512259200\n",
      "seq num for training 2738883\n",
      "seq num of actions for training 2738883\n",
      "seq num for testing 430797\n",
      "seq num of actions for testing 430797\n",
      "load data duration  0:00:08.757548\n",
      "++++++++++valid load++++++++++\n",
      "item num 68008\n",
      "seq num 2738883\n",
      "batch size 256\n",
      "batch_num 10698\n",
      "seq num 430797\n",
      "batch size 256\n",
      "batch_num 1682\n",
      "seq num 430797\n",
      "batch size 256\n",
      "batch_num 1682\n"
     ]
    },
    {
     "name": "stderr",
     "output_type": "stream",
     "text": [
      "/u/sr3hd/anaconda3/lib/python3.8/site-packages/torch/nn/modules/rnn.py:58: UserWarning: dropout option adds dropout after all but last recurrent layer, so non-zero dropout expects num_layers greater than 1, but got dropout=0.2 and num_layers=1\n",
      "  warnings.warn(\"dropout option adds dropout after all but last \"\n"
     ]
    },
    {
     "name": "stdout",
     "output_type": "stream",
     "text": [
      "reload model\n",
      "model file ../../log/samplePaddingSessionRNN/checkpoint/01031151/model_best.pt\n"
     ]
    }
   ],
   "source": [
    "model_path = args.checkpoint_dir\n",
    "load_args(model_path)\n",
    "\n",
    "BPTT = args.bptt\n",
    "\n",
    "device = torch.device('cuda' if args.cuda else 'cpu')\n",
    "print(\"device\", device)\n",
    "\n",
    "if args.embedding_dim == -1:\n",
    "    raise AssertionError()\n",
    "\n",
    "data_name = args.data_name\n",
    "\n",
    "print(\"*\"*10+\"train load\"+\"*\"*10)\n",
    "\n",
    "observed_threshold = args.test_observed\n",
    "\n",
    "data_action = args.data_folder+args.data_action\n",
    "data_cate = args.data_folder+args.data_cate\n",
    "data_time = args.data_folder+args.data_time\n",
    "\n",
    "valid_start_time = args.valid_start_time\n",
    "test_start_time = args.test_start_time\n",
    "\n",
    "st = datetime.datetime.now()\n",
    "data_obj = MYDATA(data_action, data_cate, data_time, valid_start_time, test_start_time, observed_threshold, args.window_size)\n",
    "et = datetime.datetime.now()\n",
    "print(\"load data duration \", et-st)\n",
    "\n",
    "train_data = data_obj.train_dataset\n",
    "valid_data = data_obj.test_dataset\n",
    "test_data = data_obj.test_dataset\n",
    "\n",
    "print(\"+\"*10+\"valid load\"+\"+\"*10)\n",
    "\n",
    "input_size = data_obj.items()\n",
    "output_size = input_size\n",
    "\n",
    "negative_num = args.negative_num\n",
    "\n",
    "train_data_loader = MYDATALOADER(train_data, args.batch_size)\n",
    "valid_data_loader = MYDATALOADER(valid_data, args.batch_size)\n",
    "test_data_loader = MYDATALOADER(valid_data, args.batch_size)\n",
    "\n",
    "ss = SampledSoftmax(output_size, negative_num, args.embedding_dim, None)\n",
    "\n",
    "network = NETWORK(input_size, ss, args, device)\n",
    "load_model(network, model_path)\n",
    "\n",
    "### eval\n",
    "loss_function = LossFunction(device, loss_type=args.loss_type)\n",
    "\n",
    "topk = args.topk\n",
    "eval = Evaluation(None, network, loss_function, device, topk, args.warm_start)"
   ]
  },
  {
   "cell_type": "markdown",
   "metadata": {},
   "source": [
    "### get time id"
   ]
  },
  {
   "cell_type": "code",
   "execution_count": 11,
   "metadata": {},
   "outputs": [],
   "source": [
    "# 1512172800: 12/02/2017 @ 12:00am (UTC)\n",
    "### 1512187200: 12/02/2017 @ 4:00am (UTC)\n",
    "## 1512201600: 12/02/2017 @ 8:00am (UTC)\n",
    "### 1512216000: 12/02/2017 @ 12:00pm (UTC)\n",
    "### 1512230400: 12/02/2017 @ 4:00pm (UTC)\n",
    "### 1512244800: 12/02/2017 @ 8:00pm (UTC)\n",
    "# 1512259200: 12/03/2017 @ 12:00am (UTC)"
   ]
  },
  {
   "cell_type": "code",
   "execution_count": 12,
   "metadata": {},
   "outputs": [],
   "source": [
    "def get_timeid(time):\n",
    "    time_threshold_list = [1512172800, 1512187200, 1512201600, 1512216000, 1512230400, 1512244800, 1512259200]\n",
    "#     print(\"time threshold num\", len(time_threshold_list))\n",
    "    \n",
    "    timeid = 0\n",
    "    \n",
    "    if time <= time_threshold_list[1]:\n",
    "        timeid = 1\n",
    "    elif time <= time_threshold_list[2]:\n",
    "        timeid = 2\n",
    "    elif time <= time_threshold_list[3]:\n",
    "        timeid = 3\n",
    "    elif time <= time_threshold_list[4]:\n",
    "        timeid = 4\n",
    "    elif time <= time_threshold_list[5]:\n",
    "        timeid = 5\n",
    "    else:\n",
    "        timeid = 6\n",
    "        \n",
    "    return timeid"
   ]
  },
  {
   "cell_type": "code",
   "execution_count": 13,
   "metadata": {},
   "outputs": [],
   "source": [
    "# time_item_freq_dict = {}\n",
    "# time_bucket_recall_dict = {}\n",
    "# time_bucket_mrr_dict = {}"
   ]
  },
  {
   "cell_type": "code",
   "execution_count": 151,
   "metadata": {},
   "outputs": [],
   "source": [
    "def bias_eval(eval_data):\n",
    "    network.eval()\n",
    "\n",
    "    losses = []\n",
    "    recalls = []\n",
    "    mrrs = []\n",
    "    weights = []\n",
    "\n",
    "    dataloader = eval_data\n",
    "    topk = args.topk\n",
    "    \n",
    "    ### time: item: [recall]\n",
    "    time_item_recall_dict = {}\n",
    "    time_item_mrr_dict = {}\n",
    "    time_item_pred_dict = {} # Number of times item is predicted in each time interval\n",
    "\n",
    "    \n",
    "### t_y_batch: time of y action\n",
    "    \n",
    "    with torch.no_grad():\n",
    "        total_test_num = []\n",
    "\n",
    "        for x_short_action_batch, mask_short_action_batch, pad_x_short_actionNum_batch, \\\n",
    "        y_action_batch, y_action_idx_batch, t_y_batch in dataloader:\n",
    "            \n",
    "            x_short_action_batch = x_short_action_batch.to(device)\n",
    "            mask_short_action_batch = mask_short_action_batch.to(device)\n",
    "            y_action_batch = y_action_batch.to(device)\n",
    "\n",
    "            # warm_start_mask = (y_action_idx_batch>=self.warm_start)\n",
    "\n",
    "            output_batch = network(x_short_action_batch, mask_short_action_batch, pad_x_short_actionNum_batch)\n",
    "\n",
    "            sampled_logit_batch, sampled_target_batch = network.m_ss(output_batch, y_action_batch, \\\n",
    "                                                        None, None, None, None, None, None, \"full\")\n",
    "\n",
    "            loss_batch = loss_function(sampled_logit_batch, sampled_target_batch)\n",
    "            losses.append(loss_batch.item())\n",
    "\n",
    "            _, preds = torch.topk(sampled_logit_batch, topk, -1)\n",
    "            preds = preds.cpu()\n",
    "            targets = sampled_target_batch.cpu()\n",
    "\n",
    "            expand_targets = targets.view(-1, 1).expand_as(preds)\n",
    "            hits = (preds == expand_targets)\n",
    "\n",
    "            for i, hit in enumerate(hits):\n",
    "                target_i = targets[i]\n",
    "                itemid_i = target_i.item()\n",
    "                time_i = t_y_batch[i].item()\n",
    "                timeid = get_timeid(time_i)\n",
    "                \n",
    "                if timeid not in time_item_recall_dict:\n",
    "                    time_item_recall_dict[timeid] = {}\n",
    "                    time_item_mrr_dict[timeid] = {}\n",
    "                if itemid_i not in time_item_recall_dict[timeid]:\n",
    "                    time_item_recall_dict[timeid][itemid_i] = []\n",
    "                    time_item_mrr_dict[timeid][itemid_i] = []\n",
    "                \n",
    "                rank = hit.nonzero()\n",
    "                \n",
    "                if len(rank) == 1:\n",
    "                    time_item_recall_dict[timeid][itemid_i].append(1.0)\n",
    "                    rank = rank[0]+1.0\n",
    "                    rank = torch.reciprocal(rank.float())\n",
    "                    time_item_mrr_dict[timeid][itemid_i].append(rank.item())\n",
    "                else:\n",
    "                    time_item_recall_dict[timeid][itemid_i].append(0.0)\n",
    "                    time_item_mrr_dict[timeid][itemid_i].append(0.0)\n",
    "                \n",
    "                for pred in preds[i]:\n",
    "                    pred = pred.item()\n",
    "                    if timeid not in time_item_pred_dict:\n",
    "                        time_item_pred_dict[timeid] = {}\n",
    "                    if pred not in time_item_pred_dict[timeid]:\n",
    "                        time_item_pred_dict[timeid][pred] = 0.0\n",
    "                    time_item_pred_dict[timeid][pred] += 1.0\n",
    "                    \n",
    "                \n",
    "            total_test_num.append(y_action_batch.view(-1).size(0))\n",
    "            \n",
    "    return time_item_recall_dict, time_item_mrr_dict, time_item_pred_dict\n",
    "    "
   ]
  },
  {
   "cell_type": "code",
   "execution_count": 49,
   "metadata": {},
   "outputs": [],
   "source": [
    "def get_time_item_freq(eval_data, time_item_freq_dict):\n",
    "    network.eval()\n",
    "\n",
    "    losses = []\n",
    "    recalls = []\n",
    "    mrrs = []\n",
    "    weights = []\n",
    "\n",
    "    dataloader = eval_data\n",
    "    topk = args.topk\n",
    "    \n",
    "    ### time: item: freq\n",
    "    \n",
    "    ### t_action_batch: time of y action\n",
    "    \n",
    "    with torch.no_grad():\n",
    "        total_test_num = []\n",
    "\n",
    "        for x_short_action_batch, mask_short_action_batch, pad_x_short_actionNum_batch, \\\n",
    "        y_action_batch, y_action_idx_batch, t_y_batch in dataloader:\n",
    "            batch_size = y_action_batch.size(0)\n",
    "            for seq_index in range(batch_size):\n",
    "                y_i = y_action_batch[seq_index]\n",
    "                t_i = t_y_batch[seq_index]\n",
    "                item_i = y_i.item()\n",
    "                time_id = get_timeid(t_i.item())\n",
    "                \n",
    "                if time_id not in time_item_freq_dict:\n",
    "                    time_item_freq_dict[time_id] = {}\n",
    "                if item_i not in time_item_freq_dict[time_id]:\n",
    "                    time_item_freq_dict[time_id][item_i] = 0.0\n",
    "                time_item_freq_dict[time_id][item_i] += 1.0\n",
    "        \n",
    "        for time in sorted(list(time_item_freq_dict.keys())):\n",
    "            if time > 1:\n",
    "                for item in time_item_freq_dict[time-1]:\n",
    "                    if item not in time_item_freq_dict[time]:\n",
    "                        time_item_freq_dict[time][item] = 0.0\n",
    "                    time_item_freq_dict[time][item] += time_item_freq_dict[time-1][item]\n",
    "#     return time_item_freq_dict"
   ]
  },
  {
   "cell_type": "code",
   "execution_count": 50,
   "metadata": {},
   "outputs": [],
   "source": [
    "def get_item_freq(eval_data, item_freq_dict):\n",
    "    network.eval()\n",
    "\n",
    "    losses = []\n",
    "    recalls = []\n",
    "    mrrs = []\n",
    "    weights = []\n",
    "\n",
    "    dataloader = eval_data\n",
    "    topk = args.topk\n",
    "    \n",
    "    ### time: item: freq\n",
    "    \n",
    "    ### t_action_batch: time of y action\n",
    "    \n",
    "    with torch.no_grad():\n",
    "        total_test_num = []\n",
    "\n",
    "        for x_short_action_batch, mask_short_action_batch, pad_x_short_actionNum_batch, \\\n",
    "        y_action_batch, y_action_idx_batch, t_y_batch in dataloader:\n",
    "            batch_size = y_action_batch.size(0)\n",
    "            for seq_index in range(batch_size):\n",
    "                y_i = y_action_batch[seq_index]\n",
    "                t_i = t_y_batch[seq_index]\n",
    "                item_i = y_i.item()\n",
    "                \n",
    "                if item_i not in item_freq_dict:\n",
    "                    item_freq_dict[item_i] = 0.0\n",
    "                item_freq_dict[item_i] += 1.0"
   ]
  },
  {
   "cell_type": "code",
   "execution_count": 51,
   "metadata": {},
   "outputs": [],
   "source": [
    "def load_train_freq(time_item_freq_dict, item_freq_dict):\n",
    "    for time in time_item_freq_dict:\n",
    "        item_freq_dict_time = time_item_freq_dict[time]\n",
    "        \n",
    "        for item in item_freq_dict:\n",
    "            if item not in item_freq_dict_time:\n",
    "                item_freq_dict_time[item] = 0.0\n",
    "            item_freq_dict_time[item] += item_freq_dict[item]\n",
    "    \n",
    "    time_item_freq_dict[0] = {}\n",
    "    for item in item_freq_dict:\n",
    "        time_item_freq_dict[0][item] = item_freq_dict[item]\n",
    "        "
   ]
  },
  {
   "cell_type": "code",
   "execution_count": 52,
   "metadata": {},
   "outputs": [],
   "source": [
    "train_item_freq_dict = {}\n",
    "# get_item_freq(train_data_loader, train_item_freq_dict)"
   ]
  },
  {
   "cell_type": "code",
   "execution_count": 53,
   "metadata": {},
   "outputs": [
    {
     "name": "stdout",
     "output_type": "stream",
     "text": [
      "shuffling\n"
     ]
    }
   ],
   "source": [
    "time_item_freq_dict = {}\n",
    "get_time_item_freq(test_data_loader, time_item_freq_dict)"
   ]
  },
  {
   "cell_type": "code",
   "execution_count": 54,
   "metadata": {},
   "outputs": [],
   "source": [
    "load_train_freq(time_item_freq_dict, train_item_freq_dict) # Create time 0 where there are no items"
   ]
  },
  {
   "cell_type": "code",
   "execution_count": 55,
   "metadata": {},
   "outputs": [],
   "source": [
    "def set_bucket4item(time_item_freq_dict):\n",
    "#     item_freq_dict = dict(Counter(data.m_y_action))\n",
    "#     print(len(item_freq_dict))\n",
    "#     freq_list = list(item_freq_dict.values())\n",
    "#     print(min(freq_list), max(freq_list))\n",
    "#     freq_threshold_list = [0, 20, 80, 150, 200, 250, 300, 350]\n",
    "    \n",
    "    ### set bucket for each item in a time period\n",
    "    \n",
    "    time_itemid_bucketid_dict = {}\n",
    "    time_bucketid_itemidlist_dict = {}\n",
    "    time_bucket_freq_dict = {}\n",
    "    \n",
    "    sorted_time_list = sorted(list(time_item_freq_dict.keys()))\n",
    "    for time in sorted_time_list:\n",
    "        print(\"==\"*10+str(time)+\"==\"*10)\n",
    "        if time not in time_itemid_bucketid_dict:\n",
    "            time_itemid_bucketid_dict[time] = {}\n",
    "        if time not in time_bucketid_itemidlist_dict:\n",
    "            time_bucketid_itemidlist_dict[time] = {}\n",
    "        \n",
    "        bucket_freq_dict_time = set_bucket4item_time_cluster(time_item_freq_dict[time], time_itemid_bucketid_dict[time], time_bucketid_itemidlist_dict[time])\n",
    "        time_bucket_freq_dict[time] = bucket_freq_dict_time\n",
    "                \n",
    "    return time_itemid_bucketid_dict, time_bucketid_itemidlist_dict, time_bucket_freq_dict"
   ]
  },
  {
   "cell_type": "code",
   "execution_count": 56,
   "metadata": {},
   "outputs": [],
   "source": [
    "def set_bucket4item_time(item_freq_dict_time, itemid_bucketid_dict_time, bucketid_itemidlist_dict_time):\n",
    "    freq_threshold_list = [0, 20, 30, 40, 80, 120, 240, 400]\n",
    "    bucket_freq_dict_time = {}\n",
    "    for itemid in item_freq_dict_time:\n",
    "        i = item_freq_dict_time[itemid]\n",
    "        bucketid = 0\n",
    "        if i <= freq_threshold_list[1]:\n",
    "            bucketid = 1\n",
    "        elif i <= freq_threshold_list[2]:\n",
    "            bucketid = 2\n",
    "        elif i <= freq_threshold_list[3]:\n",
    "            bucketid = 3\n",
    "        elif i <= freq_threshold_list[4]:\n",
    "            bucketid = 4\n",
    "        elif i <= freq_threshold_list[5]:\n",
    "            bucketid = 5\n",
    "        elif i <= freq_threshold_list[6]:\n",
    "            bucketid = 6\n",
    "        elif i <= freq_threshold_list[7]:\n",
    "            bucketid = 7\n",
    "        else:\n",
    "            bucketid = 8\n",
    "            \n",
    "        itemid_bucketid_dict_time[itemid] = bucketid\n",
    "        if bucketid not in bucketid_itemidlist_dict_time:\n",
    "            bucketid_itemidlist_dict_time[bucketid] = []\n",
    "        bucketid_itemidlist_dict_time[bucketid].append(itemid)\n",
    "        \n",
    "    print(\"bucket\", len(bucketid_itemidlist_dict_time), bucketid_itemidlist_dict_time.keys())\n",
    "#     for bucketid in bucketid_itemidlist_dict:\n",
    "    for bucketid in range(1, len(bucketid_itemidlist_dict_time)+1):\n",
    "        itemid_list_bucket = bucketid_itemidlist_dict_time[bucketid]\n",
    "        freq_bucket = 0\n",
    "        for itemid in itemid_list_bucket:\n",
    "            freq_bucket += item_freq_dict_time[itemid]\n",
    "        bucket_freq_dict_time[bucketid] = freq_bucket\n",
    "        print(\"bucket %d, freq: %d, item num: %d\"%(bucketid, freq_bucket, len(itemid_list_bucket)))\n",
    "#     print(\"++\"*20)\n",
    "    return bucket_freq_dict_time"
   ]
  },
  {
   "cell_type": "code",
   "execution_count": 225,
   "metadata": {},
   "outputs": [],
   "source": [
    "from sklearn.cluster import KMeans\n",
    "def set_bucket4item_time_cluster(item_freq_dict_time, itemid_bucketid_dict_time, bucketid_itemidlist_dict_time):\n",
    "    num_clusters = 10\n",
    "    bucket_freq_dict_time = {}\n",
    "    popularities = np.array(list(item_freq_dict_time.values()))\n",
    "    if len(popularities) > 0:\n",
    "        clusters = KMeans(num_clusters)\n",
    "        labels = clusters.fit_predict(popularities.reshape(-1, 1))\n",
    "        centroids = clusters.cluster_centers_\n",
    "        sorted_centroids = sorted(centroids)\n",
    "        sorted_clusters = [] #Cluster number at position of magnitude, least to greatest\n",
    "        for num in range(num_clusters):\n",
    "            i = np.where(centroids == sorted_centroids[num]) # Gives original cluster number\n",
    "            sorted_clusters.append(i[0][0])\n",
    "        \n",
    "        for i, label in enumerate(labels):\n",
    "            label = sorted_clusters.index(label) + 1\n",
    "            itemid = list(item_freq_dict_time.keys())[i]\n",
    "            itemid_bucketid_dict_time[itemid] = label\n",
    "            if label not in bucketid_itemidlist_dict_time:\n",
    "                bucketid_itemidlist_dict_time[label] = []\n",
    "            bucketid_itemidlist_dict_time[label].append(itemid)\n",
    "            \n",
    "        print(\"bucket\", len(bucketid_itemidlist_dict_time), bucketid_itemidlist_dict_time.keys())\n",
    "        for bucketid in range(1, len(bucketid_itemidlist_dict_time)+1):\n",
    "            itemid_list_bucket = bucketid_itemidlist_dict_time[bucketid]\n",
    "            freq_bucket = 0\n",
    "            for itemid in itemid_list_bucket:\n",
    "                freq_bucket += item_freq_dict_time[itemid]\n",
    "            bucket_freq_dict_time[bucketid] = freq_bucket\n",
    "            print(\"bucket %d, freq: %d, item num: %d\"%(bucketid, freq_bucket, len(itemid_list_bucket)))\n",
    "        \n",
    "        for c, cluster in enumerate(sorted_clusters):\n",
    "            print(\"cluster %d, center %f\"%(c+1, centroids[cluster]))\n",
    "            \n",
    "    return bucket_freq_dict_time\n",
    "        "
   ]
  },
  {
   "cell_type": "code",
   "execution_count": 226,
   "metadata": {},
   "outputs": [],
   "source": [
    "# time_item_freq_dict = {}\n",
    "# get_time_item_freq(train_data_loader, time_item_freq_dict)"
   ]
  },
  {
   "cell_type": "code",
   "execution_count": 227,
   "metadata": {},
   "outputs": [],
   "source": [
    "# get_time_item_freq(test_data_loader, time_item_freq_dict)"
   ]
  },
  {
   "cell_type": "code",
   "execution_count": 228,
   "metadata": {},
   "outputs": [
    {
     "data": {
      "text/plain": [
       "dict_keys([5, 3, 1, 2, 4, 6, 0])"
      ]
     },
     "execution_count": 228,
     "metadata": {},
     "output_type": "execute_result"
    }
   ],
   "source": [
    "time_item_freq_dict.keys()"
   ]
  },
  {
   "cell_type": "code",
   "execution_count": 229,
   "metadata": {},
   "outputs": [
    {
     "name": "stdout",
     "output_type": "stream",
     "text": [
      "====================0====================\n",
      "====================1====================\n",
      "bucket 10 dict_keys([2, 5, 1, 3, 4, 10, 6, 7, 9, 8])\n",
      "bucket 1, freq: 16625, item num: 16625\n",
      "bucket 2, freq: 15352, item num: 7676\n",
      "bucket 3, freq: 10737, item num: 3579\n",
      "bucket 4, freq: 12310, item num: 2825\n",
      "bucket 5, freq: 9343, item num: 1389\n",
      "bucket 6, freq: 4172, item num: 426\n",
      "bucket 7, freq: 3168, item num: 237\n",
      "bucket 8, freq: 1676, item num: 88\n",
      "bucket 9, freq: 1057, item num: 35\n",
      "bucket 10, freq: 128, item num: 2\n",
      "cluster 1, center 1.000000\n",
      "cluster 2, center 2.000000\n",
      "cluster 3, center 3.000000\n",
      "cluster 4, center 4.357522\n",
      "cluster 5, center 6.726422\n",
      "cluster 6, center 9.793427\n",
      "cluster 7, center 13.367089\n",
      "cluster 8, center 19.045455\n",
      "cluster 9, center 30.200000\n",
      "cluster 10, center 64.000000\n",
      "====================2====================\n",
      "bucket 10 dict_keys([8, 5, 1, 4, 7, 6, 3, 2, 9, 10])\n",
      "bucket 1, freq: 16366, item num: 16366\n",
      "bucket 2, freq: 41261, item num: 17342\n",
      "bucket 3, freq: 29037, item num: 6627\n",
      "bucket 4, freq: 25206, item num: 3720\n",
      "bucket 5, freq: 17967, item num: 1765\n",
      "bucket 6, freq: 12643, item num: 848\n",
      "bucket 7, freq: 7578, item num: 341\n",
      "bucket 8, freq: 5168, item num: 147\n",
      "bucket 9, freq: 1920, item num: 32\n",
      "bucket 10, freq: 506, item num: 4\n",
      "cluster 1, center 1.000000\n",
      "cluster 2, center 2.379253\n",
      "cluster 3, center 4.381621\n",
      "cluster 4, center 6.775806\n",
      "cluster 5, center 10.179603\n",
      "cluster 6, center 14.909198\n",
      "cluster 7, center 22.222874\n",
      "cluster 8, center 35.156463\n",
      "cluster 9, center 60.000000\n",
      "cluster 10, center 126.500000\n",
      "====================3====================\n",
      "bucket 10 dict_keys([5, 2, 3, 6, 1, 4, 8, 7, 9, 10])\n",
      "bucket 1, freq: 35057, item num: 24215\n",
      "bucket 2, freq: 46424, item num: 13624\n",
      "bucket 3, freq: 51077, item num: 8850\n",
      "bucket 4, freq: 30369, item num: 3449\n",
      "bucket 5, freq: 29589, item num: 2357\n",
      "bucket 6, freq: 26283, item num: 1379\n",
      "bucket 7, freq: 14342, item num: 481\n",
      "bucket 8, freq: 9305, item num: 195\n",
      "bucket 9, freq: 4108, item num: 50\n",
      "bucket 10, freq: 1086, item num: 6\n",
      "cluster 1, center 1.447739\n",
      "cluster 2, center 3.407516\n",
      "cluster 3, center 5.771412\n",
      "cluster 4, center 8.805161\n",
      "cluster 5, center 12.553670\n",
      "cluster 6, center 19.059463\n",
      "cluster 7, center 29.817048\n",
      "cluster 8, center 47.717949\n",
      "cluster 9, center 82.160000\n",
      "cluster 10, center 181.000000\n",
      "====================4====================\n",
      "bucket 10 dict_keys([5, 6, 8, 4, 3, 2, 1, 7, 9, 10])\n",
      "bucket 1, freq: 52542, item num: 26889\n",
      "bucket 2, freq: 96868, item num: 18656\n",
      "bucket 3, freq: 76345, item num: 7997\n",
      "bucket 4, freq: 55752, item num: 3625\n",
      "bucket 5, freq: 32348, item num: 1410\n",
      "bucket 6, freq: 28024, item num: 858\n",
      "bucket 7, freq: 18178, item num: 370\n",
      "bucket 8, freq: 12655, item num: 165\n",
      "bucket 9, freq: 5343, item num: 41\n",
      "bucket 10, freq: 1471, item num: 5\n",
      "cluster 1, center 1.954033\n",
      "cluster 2, center 5.192324\n",
      "cluster 3, center 9.546705\n",
      "cluster 4, center 15.379862\n",
      "cluster 5, center 22.941844\n",
      "cluster 6, center 32.662005\n",
      "cluster 7, center 49.129730\n",
      "cluster 8, center 76.696970\n",
      "cluster 9, center 130.317073\n",
      "cluster 10, center 294.200000\n",
      "====================5====================\n",
      "bucket 10 dict_keys([2, 4, 1, 5, 6, 3, 8, 7, 9, 10])\n",
      "bucket 1, freq: 50347, item num: 25548\n",
      "bucket 2, freq: 77474, item num: 15995\n",
      "bucket 3, freq: 93206, item num: 10902\n",
      "bucket 4, freq: 60778, item num: 4340\n",
      "bucket 5, freq: 47010, item num: 2224\n",
      "bucket 6, freq: 37061, item num: 1147\n",
      "bucket 7, freq: 22689, item num: 445\n",
      "bucket 8, freq: 13294, item num: 161\n",
      "bucket 9, freq: 5726, item num: 41\n",
      "bucket 10, freq: 1590, item num: 5\n",
      "cluster 1, center 1.970683\n",
      "cluster 2, center 4.843639\n",
      "cluster 3, center 8.549440\n",
      "cluster 4, center 14.004147\n",
      "cluster 5, center 21.137590\n",
      "cluster 6, center 32.311247\n",
      "cluster 7, center 50.986517\n",
      "cluster 8, center 82.571429\n",
      "cluster 9, center 139.658537\n",
      "cluster 10, center 318.000000\n",
      "====================6====================\n",
      "bucket 10 dict_keys([3, 2, 4, 5, 1, 6, 7, 9, 10, 8])\n",
      "bucket 1, freq: 48800, item num: 24623\n",
      "bucket 2, freq: 102670, item num: 19651\n",
      "bucket 3, freq: 87193, item num: 9118\n",
      "bucket 4, freq: 73253, item num: 4660\n",
      "bucket 5, freq: 50134, item num: 1976\n",
      "bucket 6, freq: 30929, item num: 786\n",
      "bucket 7, freq: 18603, item num: 311\n",
      "bucket 8, freq: 12091, item num: 131\n",
      "bucket 9, freq: 5252, item num: 34\n",
      "bucket 10, freq: 1667, item num: 5\n",
      "cluster 1, center 1.981887\n",
      "cluster 2, center 5.224671\n",
      "cluster 3, center 9.562733\n",
      "cluster 4, center 15.719528\n",
      "cluster 5, center 25.371457\n",
      "cluster 6, center 39.349873\n",
      "cluster 7, center 59.816720\n",
      "cluster 8, center 92.297710\n",
      "cluster 9, center 154.470588\n",
      "cluster 10, center 333.400000\n"
     ]
    }
   ],
   "source": [
    "time_itemid_bucketid_dict, time_bucketid_itemidlist_dict, time_bucket_freq_dict = set_bucket4item(time_item_freq_dict)"
   ]
  },
  {
   "cell_type": "code",
   "execution_count": 230,
   "metadata": {},
   "outputs": [
    {
     "name": "stdout",
     "output_type": "stream",
     "text": [
      "shuffling\n"
     ]
    }
   ],
   "source": [
    "time_item_recall_dict, time_item_mrr_dict, time_item_pred_dict = bias_eval(valid_data_loader)"
   ]
  },
  {
   "cell_type": "code",
   "execution_count": 231,
   "metadata": {},
   "outputs": [],
   "source": [
    "time_bucket_recall_dict = {}\n",
    "time_bucket_mrr_dict = {}\n",
    "for time in time_item_recall_dict:\n",
    "    item_freq_dict_time = time_item_freq_dict[time]\n",
    "    item_recall_dict_time = time_item_recall_dict[time]\n",
    "    item_mrr_dict_time = time_item_mrr_dict[time]\n",
    "    itemid_bucketid_dict_time = time_itemid_bucketid_dict[time]\n",
    "    bucketid_itemidlist_dict_time = time_bucketid_itemidlist_dict[time]\n",
    "    \n",
    "    if time not in time_bucket_recall_dict:\n",
    "        time_bucket_recall_dict[time] = {}\n",
    "        time_bucket_mrr_dict[time] = {}\n",
    "    \n",
    "    for item in item_recall_dict_time:\n",
    "        bucketid = itemid_bucketid_dict_time[item]\n",
    "        item_recall = np.mean(item_recall_dict_time[item])\n",
    "\n",
    "        if bucketid not in time_bucket_recall_dict[time]:\n",
    "            time_bucket_recall_dict[time][bucketid] = []\n",
    "            time_bucket_mrr_dict[time][bucketid] = []\n",
    "            \n",
    "        time_bucket_recall_dict[time][bucketid].append(item_recall)\n",
    "\n",
    "        item_mrr = np.mean(item_mrr_dict_time[item])\n",
    "        time_bucket_mrr_dict[time][bucketid].append(item_mrr)\n",
    "\n",
    "    for bucket in time_bucket_recall_dict[time]:\n",
    "        recall_list = time_bucket_recall_dict[time][bucket]\n",
    "        mean_recall = np.mean(recall_list)\n",
    "        time_bucket_recall_dict[time][bucket] = mean_recall\n",
    "\n",
    "    for bucket in time_bucket_mrr_dict[time]:\n",
    "        mrr_list = time_bucket_mrr_dict[time][bucket]\n",
    "        mean_mrr = np.mean(mrr_list)\n",
    "        time_bucket_mrr_dict[time][bucket] = mean_mrr  "
   ]
  },
  {
   "cell_type": "code",
   "execution_count": 232,
   "metadata": {},
   "outputs": [],
   "source": [
    "num_times = len(list(time_bucket_recall_dict.keys()))\n",
    "num_buckets = len(list(time_bucket_recall_dict[1].keys()))"
   ]
  },
  {
   "cell_type": "code",
   "execution_count": 233,
   "metadata": {
    "scrolled": true
   },
   "outputs": [
    {
     "name": "stdout",
     "output_type": "stream",
     "text": [
      "********************recall********************\n",
      "------------------------------time 1------------------------------\n",
      "1:0.1079, 2:0.1698, 3:0.2115, 4:0.2525, 5:0.2822, 6:0.3027, 7:0.2830, 8:0.2842, 9:0.2909, 10:0.3696, \n",
      "------------------------------time 2------------------------------\n",
      "1:0.0876, 2:0.1371, 3:0.1910, 4:0.2307, 5:0.2443, 6:0.2509, 7:0.2575, 8:0.2793, 9:0.2618, 10:0.2532, \n",
      "------------------------------time 3------------------------------\n",
      "1:0.0959, 2:0.1307, 3:0.1645, 4:0.1917, 5:0.2117, 6:0.2220, 7:0.2367, 8:0.2620, 9:0.2983, 10:0.2743, \n",
      "------------------------------time 4------------------------------\n",
      "1:0.0915, 2:0.1321, 3:0.1728, 4:0.1944, 5:0.1961, 6:0.2221, 7:0.2410, 8:0.2725, 9:0.2547, 10:0.2529, \n",
      "------------------------------time 5------------------------------\n",
      "1:0.0860, 2:0.1151, 3:0.1375, 4:0.1504, 5:0.1594, 6:0.1946, 7:0.1915, 8:0.2505, 9:0.2760, 10:0.2655, \n",
      "------------------------------time 6------------------------------\n",
      "1:0.0899, 2:0.1100, 3:0.1322, 4:0.1528, 5:0.1765, 6:0.1976, 7:0.1896, 8:0.2015, 9:0.2608, 10:0.2590, \n",
      "********************mrr********************\n",
      "------------------------------time 1------------------------------\n",
      "1:0.0404, 2:0.0683, 3:0.0957, 4:0.1174, 5:0.1376, 6:0.1389, 7:0.1400, 8:0.1126, 9:0.1352, 10:0.1256, \n",
      "------------------------------time 2------------------------------\n",
      "1:0.0338, 2:0.0570, 3:0.0843, 4:0.1103, 5:0.1091, 6:0.1022, 7:0.1020, 8:0.1098, 9:0.0935, 10:0.0892, \n",
      "------------------------------time 3------------------------------\n",
      "1:0.0388, 2:0.0550, 3:0.0743, 4:0.0808, 5:0.0908, 6:0.0848, 7:0.0874, 8:0.0979, 9:0.1188, 10:0.0828, \n",
      "------------------------------time 4------------------------------\n",
      "1:0.0334, 2:0.0572, 3:0.0750, 4:0.0841, 5:0.0762, 6:0.0826, 7:0.0955, 8:0.0990, 9:0.0927, 10:0.0814, \n",
      "------------------------------time 5------------------------------\n",
      "1:0.0303, 2:0.0447, 3:0.0560, 4:0.0587, 5:0.0555, 6:0.0637, 7:0.0640, 8:0.0937, 9:0.0944, 10:0.1182, \n",
      "------------------------------time 6------------------------------\n",
      "1:0.0345, 2:0.0426, 3:0.0512, 4:0.0607, 5:0.0557, 6:0.0649, 7:0.0736, 8:0.0751, 9:0.0951, 10:0.0932, \n"
     ]
    }
   ],
   "source": [
    "print(\"**\"*10+\"recall\"+\"**\"*10)\n",
    "for time in range(1, num_times+1):\n",
    "    if time not in time_bucket_recall_dict:\n",
    "        continue\n",
    "    \n",
    "    print(\"--\"*15+\"time \"+str(time)+\"--\"*15)\n",
    "    for k in range(1, num_buckets+1):\n",
    "        if k not in time_bucket_recall_dict[time]:\n",
    "            continue\n",
    "        recall = time_bucket_recall_dict[time][k]\n",
    "        print(\"%d:%.4f\"%(k, recall), end=\", \")\n",
    "    print()\n",
    "\n",
    "print(\"**\"*10+\"mrr\"+\"**\"*10)\n",
    "for time in range(1, num_times+1):\n",
    "    if time not in time_bucket_mrr_dict:\n",
    "        continue\n",
    "    print(\"--\"*15+\"time \"+str(time)+\"--\"*15)\n",
    "    for k in range(1, num_buckets+1):\n",
    "        if k not in time_bucket_mrr_dict[time]:\n",
    "            continue\n",
    "        mrr = time_bucket_mrr_dict[time][k]\n",
    "        print(\"%d:%.4f\"%(k, mrr), end=\", \")\n",
    "    print()"
   ]
  },
  {
   "cell_type": "code",
   "execution_count": 234,
   "metadata": {},
   "outputs": [
    {
     "data": {
      "image/png": "[encoded data removed]",
      "text/plain": [
       "<Figure size 720x720 with 1 Axes>"
      ]
     },
     "metadata": {
      "needs_background": "light"
     },
     "output_type": "display_data"
    }
   ],
   "source": [
    "fig_recall = plt.figure(figsize=(10,10))\n",
    "fig_recall.suptitle('Recall vs. Popualrity Over Time (RNN Taobao)', fontsize=16, y=.8)\n",
    "ax = fig_recall.add_subplot(111, projection='3d')\n",
    "x = [i for i in range(1, num_buckets + 1)]*num_times\n",
    "repeat = [t for t in range(1,  num_times + 1)]\n",
    "y = [element for element in repeat for i in range(num_buckets)]\n",
    "z = 0\n",
    "dx = 1\n",
    "dy = 1\n",
    "dz = np.array([time_bucket_recall_dict[time][k] for time in repeat for k in range(1, num_buckets+1)])\n",
    "c = ['r','b','g','y','c', 'purple']\n",
    "cs = [color for color in c for i in range(num_buckets)]\n",
    "ax.bar3d(x, y, z, dx, dy, dz, shade=True, color=cs)\n",
    "ax.view_init(elev=10, azim=90)\n",
    "ax.set_xlabel('Popularity')\n",
    "ax.set_ylabel('Time', labelpad=10)\n",
    "ax.set_zlabel('Recall', labelpad=10)\n",
    "plt.show()\n",
    "\n"
   ]
  },
  {
   "cell_type": "code",
   "execution_count": 235,
   "metadata": {},
   "outputs": [
    {
     "data": {
      "image/png": "[encoded data removed]",
      "text/plain": [
       "<Figure size 720x720 with 1 Axes>"
      ]
     },
     "metadata": {
      "needs_background": "light"
     },
     "output_type": "display_data"
    }
   ],
   "source": [
    "fig_mrr = plt.figure(figsize=(10,10))\n",
    "fig_mrr.suptitle('MRR vs. Popualrity Over Time (RNN Taobao)', fontsize=16, y=.8)\n",
    "ax = fig_mrr.add_subplot(111, projection='3d')\n",
    "x = [i for i in range(1, num_buckets + 1)]*num_times\n",
    "repeat = [t for t in range(1,  num_times + 1)]\n",
    "y = [element for element in repeat for i in range(num_buckets)]\n",
    "z = 0\n",
    "dx = 1\n",
    "dy = 1\n",
    "dz = np.array([time_bucket_mrr_dict[time][k] for time in repeat for k in range(1, num_buckets+1)])\n",
    "c = ['r','b','g','y','c', 'purple']\n",
    "cs = [color for color in c for i in range(num_buckets)]\n",
    "ax.bar3d(x, y, z, dx, dy, dz, shade=True, color=cs)\n",
    "ax.view_init(elev=10, azim=90)\n",
    "ax.set_xlabel('Popularity')\n",
    "ax.set_ylabel('Time', labelpad=10)\n",
    "ax.set_zlabel('MRR', labelpad=20)\n",
    "plt.show()"
   ]
  },
  {
   "cell_type": "code",
   "execution_count": 236,
   "metadata": {},
   "outputs": [
    {
     "name": "stdout",
     "output_type": "stream",
     "text": [
      "OrderedDict([(1.0, 11.436222252209703), (2.0, 13.778550599416784), (3.0, 16.090452969529554), (4.0, 19.45116804822909), (5.0, 21.56793870341808), (6.0, 25.065073553028842), (7.0, 28.09866711375639), (8.0, 31.725378186819), (9.0, 36.02587011601547), (10.0, 39.41402676605116), (11.0, 44.52865840856603), (12.0, 50.97845048742945), (13.0, 56.101605929586164), (14.0, 60.38450654403962), (15.0, 62.72798165137615), (16.0, 70.69665167416292), (17.0, 77.8483556638246), (18.0, 76.74330042313117), (19.0, 88.5267924528302), (20.0, 92.92336802270577), (21.0, 92.81052631578947), (22.0, 100.8236074270557), (23.0, 111.43723554301833), (24.0, 116.2877358490566), (25.0, 123.125), (26.0, 142.06042884990254), (27.0, 134.05353319057815), (28.0, 159.4070796460177), (29.0, 162.25130890052355), (30.0, 140.71693121693121), (31.0, 159.25076452599387), (32.0, 168.38741721854305), (33.0, 197.55555555555554), (34.0, 184.9517543859649), (35.0, 219.5279187817259), (36.0, 189.55825242718447), (37.0, 156.63793103448276), (38.0, 249.0810810810811), (39.0, 241.04166666666666), (40.0, 202.48507462686567), (41.0, 210.8181818181818), (42.0, 234.42635658914728), (43.0, 271.5151515151515), (44.0, 257.70642201834863), (45.0, 299.44329896907215), (46.0, 252.75510204081633), (47.0, 291.1222222222222), (48.0, 271.59722222222223), (49.0, 265.06410256410254), (50.0, 287.7241379310345), (51.0, 304.35820895522386), (52.0, 413.2631578947368), (53.0, 281.5593220338983), (54.0, 233.30612244897958), (55.0, 228.7058823529412), (56.0, 418.25531914893617), (57.0, 399.1875), (58.0, 412.54545454545456), (59.0, 460.74), (60.0, 645.2972972972973), (61.0, 341.1714285714286), (62.0, 448.0), (63.0, 394.76666666666665), (64.0, 354.29411764705884), (65.0, 390.85714285714283), (66.0, 502.5), (67.0, 453.27272727272725), (68.0, 792.8947368421053), (69.0, 298.95), (70.0, 352.5238095238095), (71.0, 537.8888888888889), (72.0, 466.1034482758621), (73.0, 537.8823529411765), (74.0, 607.0), (75.0, 961.421052631579), (76.0, 479.0), (77.0, 672.3333333333334), (78.0, 688.1176470588235), (79.0, 294.7647058823529), (80.0, 338.15), (81.0, 585.6), (82.0, 363.8), (83.0, 542.4615384615385), (84.0, 647.2), (85.0, 482.6), (86.0, 697.5), (87.0, 397.3333333333333), (88.0, 887.4), (89.0, 279.55555555555554), (90.0, 512.1875), (91.0, 548.8888888888889), (92.0, 1013.2727272727273), (93.0, 537.1818181818181), (94.0, 388.1875), (95.0, 619.1428571428571), (96.0, 504.25), (97.0, 206.66666666666666), (98.0, 1005.6666666666666), (99.0, 923.5555555555555), (100.0, 281.6), (101.0, 1023.5), (102.0, 1065.5), (103.0, 277.0), (104.0, 917.1428571428571), (105.0, 252.0), (106.0, 538.0), (107.0, 328.5), (108.0, 1463.0), (109.0, 489.0), (110.0, 338.0), (111.0, 999.3333333333334), (112.0, 1126.0), (113.0, 855.2222222222222), (114.0, 1012.8333333333334), (115.0, 80.0), (116.0, 736.5), (117.0, 406.0), (118.0, 244.5), (119.0, 573.5), (120.0, 190.0), (121.0, 757.75), (122.0, 1221.6666666666667), (123.0, 1285.0), (124.0, 864.3333333333334), (125.0, 1558.0), (126.0, 2884.0), (128.0, 1944.857142857143), (129.0, 910.0), (131.0, 2602.0), (132.0, 126.0), (133.0, 1204.6666666666667), (134.0, 369.5), (135.0, 4723.0), (136.0, 1255.25), (137.0, 675.6666666666666), (139.0, 2591.0), (140.0, 1313.5), (141.0, 448.0), (143.0, 784.0), (144.0, 1922.6), (146.0, 742.5), (147.0, 2815.0), (148.0, 471.5), (149.0, 708.0), (150.0, 553.5), (151.0, 1458.5), (152.0, 1271.0), (154.0, 602.5), (155.0, 672.0), (156.0, 884.0), (158.0, 1899.75), (159.0, 269.0), (160.0, 612.0), (162.0, 85.0), (163.0, 403.0), (165.0, 5361.0), (168.0, 846.0), (170.0, 45.0), (172.0, 2808.0), (173.0, 839.0), (177.0, 2190.0), (179.0, 525.0), (180.0, 709.0), (182.0, 427.0), (185.0, 3739.0), (189.0, 4596.0), (193.0, 5451.0), (201.0, 972.0), (203.0, 1716.0), (206.0, 1066.0), (208.0, 5634.0), (213.0, 1083.0), (214.0, 2621.0), (224.0, 2559.0), (227.0, 1190.0), (243.0, 737.0), (252.0, 6571.0), (258.0, 420.0), (280.0, 2002.0), (287.0, 3286.0), (292.0, 960.0), (312.0, 853.0), (329.0, 629.0), (336.0, 8396.0), (359.0, 1590.0), (372.0, 3828.0), (375.0, 1437.0), (396.0, 639.0), (413.0, 740.0)])\n"
     ]
    }
   ],
   "source": [
    "pred_pop_dict = {}\n",
    "for time in time_item_pred_dict.keys():\n",
    "    for item in time_item_pred_dict[time]:\n",
    "        if item in time_item_freq_dict[time]:\n",
    "            pop = time_item_freq_dict[time][item]\n",
    "            if pop not in pred_pop_dict:\n",
    "                pred_pop_dict[pop] = []\n",
    "            pred_pop_dict[pop].append(time_item_pred_dict[time][item])\n",
    "            \n",
    "for pop, num_pred in pred_pop_dict.items():\n",
    "    pred_pop_dict[pop] = np.mean(num_pred)\n",
    "\n",
    "ordered_pop_pred = collections.OrderedDict(sorted(pred_pop_dict.items()))\n",
    "print(ordered_pop_pred)"
   ]
  },
  {
   "cell_type": "code",
   "execution_count": 237,
   "metadata": {},
   "outputs": [
    {
     "data": {
      "image/png": "[encoded data removed]",
      "text/plain": [
       "<Figure size 432x288 with 1 Axes>"
      ]
     },
     "metadata": {
      "needs_background": "light"
     },
     "output_type": "display_data"
    }
   ],
   "source": [
    "plt.plot(list(ordered_pop_pred.values()))\n",
    "plt.ylabel('Number of Predictions')\n",
    "plt.xlabel('Popularity')\n",
    "plt.show()"
   ]
  },
  {
   "cell_type": "code",
   "execution_count": 245,
   "metadata": {},
   "outputs": [
    {
     "data": {
      "image/png": "[encoded data removed]",
      "text/plain": [
       "<Figure size 432x288 with 1 Axes>"
      ]
     },
     "metadata": {
      "needs_background": "light"
     },
     "output_type": "display_data"
    }
   ],
   "source": [
    "pop_pred_bucket_dict = {}\n",
    "for num, num_pred in enumerate(ordered_pop_pred.values()):\n",
    "    bucketid = pop // 5\n",
    "    if bucketid not in pop_pred_bucket_dict:\n",
    "        pop_pred_bucket_dict[bucketid] = []\n",
    "    pop_pred_bucket_dict[bucketid].append(num_pred)\n",
    "\n",
    "for bucket, num_preds in pop_pred_bucket_dict.items():\n",
    "    pop_pred_bucket_dict[bucket] = np.mean(num_preds)\n",
    "\n",
    "plt.plot(list(pop_pred_bucket_dict.values()))\n",
    "plt.ylabel('Number of Predictions')\n",
    "plt.xlabel('Popularity')\n",
    "plt.show()"
   ]
  },
  {
   "cell_type": "code",
   "execution_count": null,
   "metadata": {},
   "outputs": [],
   "source": []
  }
 ],
 "metadata": {
  "kernelspec": {
   "display_name": "Python 3",
   "language": "python",
   "name": "python3"
  },
  "language_info": {
   "codemirror_mode": {
    "name": "ipython",
    "version": 3
   },
   "file_extension": ".py",
   "mimetype": "text/x-python",
   "name": "python",
   "nbconvert_exporter": "python",
   "pygments_lexer": "ipython3",
   "version": "3.8.3"
  }
 },
 "nbformat": 4,
 "nbformat_minor": 2
}
