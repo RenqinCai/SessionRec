{
 "cells": [
  {
   "cell_type": "code",
   "execution_count": 1,
   "metadata": {},
   "outputs": [],
   "source": [
    "\"\"\"\n",
    "use time to cut sequences\n",
    "command \n",
    "python main_time.py --data_folder ../Data/xing/ --train_data train_item.pickle --valid_data test_item.pickle --test_data test_item.pickle --data_name xing --embedding_dim 300 --hidden_size 300 --lr 0.005\n",
    "\"\"\"\n",
    "import argparse\n",
    "import torch\n",
    "# import lib\n",
    "import numpy as np\n",
    "import os\n",
    "import datetime\n",
    "from loss import *\n",
    "from network import *\n",
    "from optimizer import *\n",
    "from trainer import *\n",
    "from torch.utils import data\n",
    "import pickle\n",
    "import sys\n",
    "from dataset_time import *\n",
    "# from data_time import *\n",
    "from logger import *\n",
    "import collections\n",
    "\n",
    "import sys\n",
    "sys.path.insert(0, '../PyTorch_GBW_LM')\n",
    "sys.path.insert(0, '../PyTorch_GBW_LM/log_uniform')\n",
    "\n",
    "from sampledSoftmax import *"
   ]
  },
  {
   "cell_type": "code",
   "execution_count": 2,
   "metadata": {},
   "outputs": [],
   "source": [
    "import matplotlib.pyplot as plt"
   ]
  },
  {
   "cell_type": "code",
   "execution_count": 3,
   "metadata": {},
   "outputs": [],
   "source": [
    "parser = argparse.ArgumentParser()\n",
    "parser.add_argument('--hidden_size', default=50, type=int)\n",
    "parser.add_argument('--num_layers', default=1, type=int)\n",
    "parser.add_argument('--batch_size', default=100, type=int)\n",
    "parser.add_argument('--dropout_input', default=0, type=float)\n",
    "parser.add_argument('--dropout_hidden', default=.2, type=float)\n",
    "\n",
    "# parse the optimizer arguments\n",
    "parser.add_argument('--optimizer_type', default='Adagrad', type=str)\n",
    "parser.add_argument('--final_act', default='tanh', type=str)\n",
    "parser.add_argument('--lr', default=.05, type=float)\n",
    "parser.add_argument('--weight_decay', default=0.0, type=float)\n",
    "parser.add_argument('--momentum', default=0.1, type=float)\n",
    "parser.add_argument('--eps', default=1e-6, type=float)\n",
    "\n",
    "parser.add_argument(\"-seed\", type=int, default=7,\n",
    "                     help=\"Seed for random initialization\")\n",
    "parser.add_argument(\"-sigma\", type=float, default=None,\n",
    "                     help=\"init weight -1: range [-sigma, sigma], -2: range [0, sigma]\")\n",
    "parser.add_argument(\"--embedding_dim\", type=int, default=-1,\n",
    "                     help=\"using embedding\")\n",
    "# parse the loss type\n",
    "parser.add_argument('--loss_type', default='TOP1', type=str)\n",
    "# parser.add_argument('--loss_type', default='BPR', type=str)\n",
    "parser.add_argument('--topk', default=5, type=int)\n",
    "# etc\n",
    "parser.add_argument('--bptt', default=1, type=int)\n",
    "parser.add_argument('--test_observed', default=5, type=int)\n",
    "parser.add_argument('--window_size', default=30, type=int)\n",
    "parser.add_argument('--warm_start', default=5, type=int)\n",
    "\n",
    "parser.add_argument('--n_epochs', default=20, type=int)\n",
    "parser.add_argument('--time_sort', default=False, type=bool)\n",
    "parser.add_argument('--save_dir', default='models', type=str)\n",
    "parser.add_argument('--data_folder', default='../Data/movielen/1m/', type=str)\n",
    "parser.add_argument('--data_action', default='item.pickle', type=str)\n",
    "parser.add_argument('--data_cate', default='cate.pickle', type=str)\n",
    "parser.add_argument('--data_time', default='time.pickle', type=str)\n",
    "parser.add_argument(\"--is_eval\", action='store_true')\n",
    "parser.add_argument('--load_model', default=None,  type=str)\n",
    "parser.add_argument('--checkpoint_dir', type=str, default='checkpoint')\n",
    "parser.add_argument('--data_name', default=None, type=str)\n",
    "parser.add_argument('--shared_embedding', default=None, type=int)\n",
    "parser.add_argument('--patience', default=1000)\n",
    "parser.add_argument('--negative_num', default=1000, type=int)\n",
    "parser.add_argument('--valid_start_time', default=0, type=int)\n",
    "parser.add_argument('--test_start_time', default=0, type=int)\n",
    "parser.add_argument('--model_name', default=\"samplePaddingSessionRNN\", type=str)\n",
    "\n",
    "# Get the arguments\n",
    "args = parser.parse_args([])\n",
    "args.cuda = torch.cuda.is_available()"
   ]
  },
  {
   "cell_type": "code",
   "execution_count": 4,
   "metadata": {},
   "outputs": [],
   "source": [
    "# CUDA_VISIBLE_DEVICES=0 python eval_main_time.py --data_folder ../Data/tmall/100k_unknown_cate/ \n",
    "# --data_action item_time.pickle --data_cate cate_time.pickle --data_time time_time.pickle \n",
    "# --data_name taobao --embedding_dim 300 --hidden_size 300 --lr 0.001 --window_size 20 \n",
    "# --test_observed 5 --n_epochs 100 --shared_embedding 1 --batch_size 300 \n",
    "# --optimizer_type Adam --loss_type 'XE' --valid_start_time 1512172800 --test_start_time 1512259200 \n",
    "# --negative_num 10000 --topk 20 --checkpoint_dir \"../log/samplePaddingSessionRNN/checkpoint/01022149\"\n"
   ]
  },
  {
   "cell_type": "code",
   "execution_count": 5,
   "metadata": {},
   "outputs": [],
   "source": [
    "args.data_folder = \"../../../Data/tmall/100k_unknown_cate/\"\n",
    "args.data_action = \"item_time.pickle\"\n",
    "args.data_cate = \"cate_time.pickle\"\n",
    "args.data_time = \"time_time.pickle\"\n",
    "args.data_name = \"taobao\"\n",
    "args.embedding_dim = 256\n",
    "args.hidden_size = 256\n",
    "args.lr = 0.001\n",
    "args.window_size = 20\n",
    "args.test_observed = 5\n",
    "args.n_epochs = 100\n",
    "args.shared_embedding = 1\n",
    "args.batch_size = 8\n",
    "args.optimizer_type = \"Adam\"\n",
    "args.loss_type = \"XE\"\n",
    "args.valid_start_time = 1512172800\n",
    "args.test_start_time = 1512259200\n",
    "args.negative_num = 10000\n",
    "args.topk = 20\n",
    "args.checkpoint_dir = \"../../log/samplePaddingSessionRNN/checkpoint/01031151\""
   ]
  },
  {
   "cell_type": "code",
   "execution_count": 6,
   "metadata": {},
   "outputs": [
    {
     "name": "stdout",
     "output_type": "stream",
     "text": [
      "gpu\n"
     ]
    }
   ],
   "source": [
    "np.random.seed(args.seed)\n",
    "torch.manual_seed(7)\n",
    "random.seed(args.seed)\n",
    "\n",
    "if args.cuda:\n",
    "    print(\"gpu\")\n",
    "    torch.cuda.manual_seed(args.seed)\n",
    "else:\n",
    "    print(\"cpu\")"
   ]
  },
  {
   "cell_type": "code",
   "execution_count": 7,
   "metadata": {},
   "outputs": [],
   "source": [
    "# 1512172800: 12/02/2017 @ 12:00am (UTC)\n",
    "### 1512187200: 12/02/2017 @ 4:00am (UTC)\n",
    "## 1512201600: 12/02/2017 @ 8:00am (UTC)\n",
    "### 1512216000: 12/02/2017 @ 12:00pm (UTC)\n",
    "### 1512230400: 12/02/2017 @ 4:00pm (UTC)\n",
    "### 1512244800: 12/02/2017 @ 8:00pm (UTC)\n",
    "# 1512259200: 12/03/2017 @ 12:00am (UTC)"
   ]
  },
  {
   "cell_type": "code",
   "execution_count": 8,
   "metadata": {},
   "outputs": [],
   "source": [
    "def make_checkpoint_dir(log):\n",
    "    print(\"PARAMETER\" + \"-\"*10)\n",
    "    now = datetime.datetime.now()\n",
    "    S = '{:02d}{:02d}{:02d}{:02d}'.format(now.month, now.day, now.hour, now.minute)\n",
    "    checkpoint_dir = \"../log/\"+args.model_name+\"/\"+args.checkpoint_dir\n",
    "    args.checkpoint_dir = checkpoint_dir\n",
    "    save_dir = os.path.join(args.checkpoint_dir, S)\n",
    "\n",
    "    if not os.path.exists(\"../log\"):\n",
    "        os.mkdir(\"../log\")\n",
    "    \n",
    "    if not os.path.exists(\"../log/\"+args.model_name):\n",
    "        os.mkdir(\"../log/\"+args.model_name)\n",
    "\n",
    "    if not os.path.exists(args.checkpoint_dir):\n",
    "        os.mkdir(args.checkpoint_dir)\n",
    "\n",
    "    if not os.path.exists(save_dir):\n",
    "        os.mkdir(save_dir)\n",
    "\n",
    "    args.checkpoint_dir = save_dir\n",
    "    \n",
    "    with open(os.path.join(args.checkpoint_dir, 'parameter.txt'), 'w') as f:\n",
    "        for attr, value in sorted(args.__dict__.items()):\n",
    "            msg = \"{}={}\".format(attr.upper(), value)\n",
    "            log.addOutput2IO(msg)\n",
    "            f.write(\"{}={}\\n\".format(attr.upper(), value))\n",
    "\n",
    "    msg = \"---------\" + \"-\"*10\n",
    "    log.addOutput2IO(msg)\n",
    "\n",
    "def load_args(model_path):\n",
    "    model_file = os.path.join(model_path, \"model_best.pt\")\n",
    "    print(\"args file load\", model_file)\n",
    "    check_point = torch.load(model_file)\n",
    "    args = check_point['args']\n",
    "\n",
    "def load_model(network, model_path):\n",
    "    print(\"reload model\")\n",
    "    model_file = os.path.join(model_path, \"model_best.pt\")\n",
    "    print(\"model file\", model_file)\n",
    "    check_point = torch.load(model_file)\n",
    "\n",
    "    network.load_state_dict(check_point['model'])\n",
    "\n",
    "def count_parameters(model):\n",
    "    parameter_num = sum(p.numel() for p in model.parameters() if p.requires_grad)\n",
    "    print(\"parameter_num\", parameter_num) \n"
   ]
  },
  {
   "cell_type": "code",
   "execution_count": 9,
   "metadata": {},
   "outputs": [
    {
     "name": "stdout",
     "output_type": "stream",
     "text": [
      "args file load ../../log/samplePaddingSessionRNN/checkpoint/01031151/model_best.pt\n",
      "device cuda\n",
      "**********train load**********\n",
      "action seq num 51275\n",
      "time seq num 51275\n",
      "loading item map\n",
      "loading item map\n",
      "observed_threshold 5 20\n",
      "loading data\n",
      "valid_start_time 1512172800\n",
      "test start time 1512259200\n",
      "seq num for training 2738883\n",
      "seq num of actions for training 2738883\n",
      "seq num for testing 430797\n",
      "seq num of actions for testing 430797\n",
      "load data duration  0:00:09.013674\n",
      "++++++++++valid load++++++++++\n",
      "item num 68008\n",
      "seq num 2738883\n",
      "batch size 8\n",
      "batch_num 342360\n",
      "seq num 430797\n",
      "batch size 8\n",
      "batch_num 53849\n",
      "seq num 430797\n",
      "batch size 8\n",
      "batch_num 53849\n"
     ]
    },
    {
     "name": "stderr",
     "output_type": "stream",
     "text": [
      "/u/sr3hd/anaconda3/lib/python3.8/site-packages/torch/nn/modules/rnn.py:58: UserWarning: dropout option adds dropout after all but last recurrent layer, so non-zero dropout expects num_layers greater than 1, but got dropout=0.2 and num_layers=1\n",
      "  warnings.warn(\"dropout option adds dropout after all but last \"\n"
     ]
    },
    {
     "name": "stdout",
     "output_type": "stream",
     "text": [
      "reload model\n",
      "model file ../../log/samplePaddingSessionRNN/checkpoint/01031151/model_best.pt\n"
     ]
    }
   ],
   "source": [
    "model_path = args.checkpoint_dir\n",
    "load_args(model_path)\n",
    "\n",
    "BPTT = args.bptt\n",
    "\n",
    "device = torch.device('cuda' if args.cuda else 'cpu')\n",
    "print(\"device\", device)\n",
    "\n",
    "if args.embedding_dim == -1:\n",
    "    raise AssertionError()\n",
    "\n",
    "data_name = args.data_name\n",
    "\n",
    "print(\"*\"*10+\"train load\"+\"*\"*10)\n",
    "\n",
    "observed_threshold = args.test_observed\n",
    "\n",
    "data_action = args.data_folder+args.data_action\n",
    "data_cate = args.data_folder+args.data_cate\n",
    "data_time = args.data_folder+args.data_time\n",
    "\n",
    "valid_start_time = args.valid_start_time\n",
    "test_start_time = args.test_start_time\n",
    "\n",
    "st = datetime.datetime.now()\n",
    "data_obj = MYDATA(data_action, data_cate, data_time, valid_start_time, test_start_time, observed_threshold, args.window_size)\n",
    "et = datetime.datetime.now()\n",
    "print(\"load data duration \", et-st)\n",
    "\n",
    "train_data = data_obj.train_dataset\n",
    "valid_data = data_obj.test_dataset\n",
    "test_data = data_obj.test_dataset\n",
    "\n",
    "print(\"+\"*10+\"valid load\"+\"+\"*10)\n",
    "\n",
    "input_size = data_obj.items()\n",
    "output_size = input_size\n",
    "\n",
    "negative_num = args.negative_num\n",
    "\n",
    "train_data_loader = MYDATALOADER(train_data, args.batch_size)\n",
    "valid_data_loader = MYDATALOADER(valid_data, args.batch_size)\n",
    "test_data_loader = MYDATALOADER(valid_data, args.batch_size)\n",
    "\n",
    "ss = SampledSoftmax(output_size, negative_num, args.embedding_dim, None)\n",
    "\n",
    "network = NETWORK(input_size, ss, args, device)\n",
    "load_model(network, model_path)\n",
    "\n",
    "### eval\n",
    "loss_function = LossFunction(device, loss_type=args.loss_type)\n",
    "\n",
    "topk = args.topk\n",
    "eval = Evaluation(None, network, loss_function, device, topk, args.warm_start)"
   ]
  },
  {
   "cell_type": "code",
   "execution_count": 10,
   "metadata": {},
   "outputs": [],
   "source": [
    "from sklearn.cluster import KMeans\n",
    "def set_bucket4item(data):\n",
    "    item_freq_dict = dict(Counter(data.m_y_action))\n",
    "    freq_list = list(item_freq_dict.values())\n",
    "    num_clusters = 6\n",
    "    itemid_bucketid_dict = {}\n",
    "    bucketid_itemidlist_dict = {}\n",
    "    popularities = np.array(freq_list)\n",
    "    \n",
    "    # For each popularity, assign corresponding bucket\n",
    "    if len(popularities) > 0:\n",
    "        clusters = KMeans(num_clusters)\n",
    "        #cluster label for each item popularity\n",
    "        labels = clusters.fit_predict(popularities.reshape(-1, 1))\n",
    "        centroids = clusters.cluster_centers_\n",
    "        sorted_centroids = sorted(centroids)\n",
    "        sorted_clusters = []\n",
    "        \n",
    "        # Cluster labels originally not in order, sort them so index of sorted list\n",
    "        # is the new correct bucket\n",
    "        for num in range(num_clusters):\n",
    "            i = np.where(centroids == sorted_centroids[num])\n",
    "            sorted_clusters.append(i[0][0])\n",
    "        \n",
    "        # Assign items their bucket and which items belong in each bucket\n",
    "        for x, label in enumerate(labels):\n",
    "                bucket = sorted_clusters.index(label)\n",
    "                itemid = list(item_freq_dict.keys())[x]\n",
    "                \n",
    "                itemid_bucketid_dict[itemid] = bucket\n",
    "                if bucket not in bucketid_itemidlist_dict:\n",
    "                    bucketid_itemidlist_dict[bucket] = []\n",
    "                bucketid_itemidlist_dict[bucket].append(itemid)\n",
    "\n",
    "    print(\"buckets =\", len(bucketid_itemidlist_dict), bucketid_itemidlist_dict.keys())\n",
    "#     for bucketid in bucketid_itemidlist_dict:\n",
    "    for bucketid in range(0, len(bucketid_itemidlist_dict)):\n",
    "        itemid_list_bucket = bucketid_itemidlist_dict[bucketid]\n",
    "        freq_bucket = 0\n",
    "        for itemid in itemid_list_bucket:\n",
    "            freq_bucket += item_freq_dict[itemid]\n",
    "        print(\"bucket %d, freq: %d, item num: %d\"%(bucketid, freq_bucket, len(itemid_list_bucket)))\n",
    "\n",
    "    return item_freq_dict, itemid_bucketid_dict, bucketid_itemidlist_dict"
   ]
  },
  {
   "cell_type": "code",
   "execution_count": 11,
   "metadata": {},
   "outputs": [
    {
     "name": "stdout",
     "output_type": "stream",
     "text": [
      "buckets = 6 dict_keys([0, 1, 4, 2, 3, 5])\n",
      "bucket 0, freq: 1093966, item num: 48371\n",
      "bucket 1, freq: 778762, item num: 14231\n",
      "bucket 2, freq: 475955, item num: 4096\n",
      "bucket 3, freq: 253044, item num: 1061\n",
      "bucket 4, freq: 108294, item num: 222\n",
      "bucket 5, freq: 28862, item num: 25\n"
     ]
    }
   ],
   "source": [
    "train_item_freq_dict, train_itemid_bucketid_dict, train_bucketid_itemidlist_dict = set_bucket4item(train_data)"
   ]
  },
  {
   "cell_type": "code",
   "execution_count": 12,
   "metadata": {},
   "outputs": [],
   "source": [
    "# Time intervals are seperate so each has their own distinct popularities, not global or dynamic\n",
    "def set_buckets4time_as_preds(data, time_pop_item_dict=None, time_pop_fp_dict=None):\n",
    "    if time_pop_item_dict == None : time_pop_item_dict = {}\n",
    "    if time_pop_fp_dict == None : time_pop_fp_dict = {}\n",
    "    num_clusters = 6\n",
    "    item_freq_dict_time = {}\n",
    "    num_preds = 0\n",
    "    for y in zip(data.m_y_action):\n",
    "        timeid = len(time_pop_item_dict)\n",
    "        num_preds+=1\n",
    "#         for i, t in enumerate(time_intervals):\n",
    "#              if time <= t:\n",
    "#                  timeid = t\n",
    "        # Time interval is every 500000 predictions, want to limit time intervals to avoid longer\n",
    "        # computation time on temporal discounting\n",
    "        timeid += num_preds // 500000\n",
    "        \n",
    "        # Get popularity of items at different time periods, each independent of the other\n",
    "        if timeid not in item_freq_dict_time:\n",
    "            item_freq_dict_time[timeid] = {}\n",
    "        if y not in item_freq_dict_time[timeid]:\n",
    "            item_freq_dict_time[timeid][y] = 0\n",
    "        item_freq_dict_time[timeid][y] += 1\n",
    "        \n",
    "    for time in item_freq_dict_time:\n",
    "        popularities = np.array(list(item_freq_dict_time[time].values()))\n",
    "        if len(popularities) > 0:\n",
    "            clusters = KMeans(num_clusters)\n",
    "            labels = clusters.fit_predict(popularities.reshape(-1, 1))\n",
    "            centroids = clusters.cluster_centers_\n",
    "            sorted_centroids = sorted(centroids)\n",
    "            sorted_clusters = [] #Cluster number at position of magnitude, least to greatest\n",
    "            \n",
    "            for num in range(num_clusters):\n",
    "                i = np.where(centroids == sorted_centroids[num]) # Gives original cluster number\n",
    "                sorted_clusters.append(i[0][0])\n",
    "            \n",
    "            if time not in time_pop_item_dict:\n",
    "                time_pop_item_dict[time] = {}\n",
    "            if time not in time_pop_fp_dict:\n",
    "                time_pop_fp_dict[time] = {}\n",
    "                \n",
    "            for x, label in enumerate(labels):\n",
    "                label = sorted_clusters.index(label) # Get label associated with order of cluster\n",
    "                itemid = list(item_freq_dict_time[time].keys())[x][0]\n",
    "                \n",
    "                if label not in time_pop_item_dict[time]:\n",
    "                    time_pop_item_dict[time][label] = []\n",
    "                time_pop_item_dict[time][label].append(itemid)\n",
    "                \n",
    "                # Want to store false positive and true negative numbers to calculate false postive rate\n",
    "                if label not in time_pop_fp_dict[time]:\n",
    "                    time_pop_fp_dict[time][label] = {}\n",
    "                if \"fp\" not in time_pop_fp_dict[time][label]:\n",
    "                    time_pop_fp_dict[time][label][\"fp\"] = 0.\n",
    "                if \"tn\" not in time_pop_fp_dict[time][label]:\n",
    "                    time_pop_fp_dict[time][label][\"tn\"] = 0.\n",
    "                if \"rate\" not in time_pop_fp_dict[time][label]:\n",
    "                    time_pop_fp_dict[time][label][\"rate\"] = 0.\n",
    "        \n",
    "    return time_pop_item_dict, time_pop_fp_dict"
   ]
  },
  {
   "cell_type": "code",
   "execution_count": 13,
   "metadata": {},
   "outputs": [
    {
     "name": "stdout",
     "output_type": "stream",
     "text": [
      "6\n"
     ]
    },
    {
     "data": {
      "text/plain": [
       "7"
      ]
     },
     "execution_count": 13,
     "metadata": {},
     "output_type": "execute_result"
    }
   ],
   "source": [
    "time_pop_item_dict, time_pop_fp_dict = set_buckets4time_as_preds(train_data)\n",
    "train_time = len(time_pop_item_dict)\n",
    "print(train_time)\n",
    "time_pop_item_dict, time_pop_fp_dict = set_buckets4time_as_preds(test_data, time_pop_item_dict, time_pop_fp_dict)\n",
    "len(time_pop_item_dict)"
   ]
  },
  {
   "cell_type": "code",
   "execution_count": 14,
   "metadata": {},
   "outputs": [],
   "source": [
    "# Get bucket of item at a certain time\n",
    "def get_item_bucket(time, item):\n",
    "    for bucket in time_pop_item_dict[time]:\n",
    "        if item in time_pop_item_dict[time][bucket]:\n",
    "            return bucket\n",
    "    return None"
   ]
  },
  {
   "cell_type": "markdown",
   "metadata": {},
   "source": [
    "# Training"
   ]
  },
  {
   "cell_type": "code",
   "execution_count": 15,
   "metadata": {},
   "outputs": [],
   "source": [
    "def bias_eval(eval_data, itemid_bucketid_dict):\n",
    "    network.eval()\n",
    "\n",
    "    losses = []\n",
    "    recalls = []\n",
    "    mrrs = []\n",
    "    weights = []\n",
    "\n",
    "    dataloader = eval_data\n",
    "    topk = 20\n",
    "    \n",
    "    item_recall_dict = {}\n",
    "    item_mrr_dict = {}\n",
    "\n",
    "    with torch.no_grad():\n",
    "        total_test_num = []\n",
    "\n",
    "        for x_short_action_batch, mask_short_action_batch, \\\n",
    "            pad_x_short_actionNum_batch, y_action_batch, y_action_idx_batch, user_batch in dataloader:\n",
    "            \n",
    "#             eval_flag = random.randint(1,101)\n",
    "#             if eval_flag != 10:\n",
    "#                 continue\n",
    "\n",
    "            batch_item_recall_dict = {}\n",
    "            batch_item_mrr_dict = {}\n",
    "\n",
    "            x_short_action_batch = x_short_action_batch.to(device)\n",
    "            mask_short_action_batch = mask_short_action_batch.to(device)\n",
    "            y_action_batch = y_action_batch.to(device)\n",
    "            user_batch = user_batch.to(device)\n",
    "\n",
    "            # warm_start_mask = (y_action_idx_batch>=self.warm_start)\n",
    "\n",
    "            output_batch = network(x_short_action_batch, mask_short_action_batch, pad_x_short_actionNum_batch)\n",
    "\n",
    "            sampled_logit_batch, sampled_target_batch = network.m_ss(output_batch, y_action_batch, \\\n",
    "                                                        None, None, None, None, None, None, \"full\")\n",
    " \n",
    "            loss_batch = loss_function(sampled_logit_batch, sampled_target_batch)\n",
    "            losses.append(loss_batch.item())\n",
    "\n",
    "            _, preds = torch.topk(sampled_logit_batch, topk, -1)\n",
    "            preds = preds.cpu()\n",
    "            targets = sampled_target_batch.cpu()\n",
    "\n",
    "            expand_targets = targets.view(-1, 1).expand_as(preds)\n",
    "            hits = (preds == expand_targets)\n",
    "            \n",
    "            # Evaluate Recall and MRR\n",
    "            for i, hit in enumerate(hits):\n",
    "                target_i = targets[i]\n",
    "                itemid_i = target_i.item()\n",
    "                \n",
    "                rank = hit.nonzero()\n",
    "                \n",
    "                if itemid_i not in batch_item_recall_dict:\n",
    "                    batch_item_recall_dict[itemid_i] = []\n",
    "                    batch_item_mrr_dict[itemid_i] = []\n",
    "                \n",
    "                if len(rank) == 1:\n",
    "                    batch_item_recall_dict[itemid_i].append(1.0)\n",
    "                    \n",
    "                    rank = rank[0]+1.0\n",
    "                    rank = torch.reciprocal(rank.float())\n",
    "                    batch_item_mrr_dict[itemid_i].append(rank.item())\n",
    "                else:\n",
    "                    batch_item_recall_dict[itemid_i].append(0.0)\n",
    "                    batch_item_mrr_dict[itemid_i].append(0.0)\n",
    "                    \n",
    "                \n",
    "            for item in batch_item_recall_dict:\n",
    "                batch_mean_recall = np.mean(batch_item_recall_dict[item])\n",
    "                batch_mean_mrr = np.mean(batch_item_mrr_dict[item])\n",
    "                \n",
    "                if item not in item_recall_dict:\n",
    "                    item_recall_dict[item] = []\n",
    "                    item_mrr_dict[item] = []\n",
    "                item_recall_dict[item].append(batch_mean_recall)\n",
    "                item_mrr_dict[item].append(batch_mean_mrr)\n",
    "                \n",
    "            total_test_num.append(y_action_batch.view(-1).size(0))\n",
    "    return item_recall_dict, item_mrr_dict, user_itemrank_dict, user_itempop_dict\n",
    "    "
   ]
  },
  {
   "cell_type": "code",
   "execution_count": 17,
   "metadata": {},
   "outputs": [
    {
     "name": "stdout",
     "output_type": "stream",
     "text": [
      "shuffling\n"
     ]
    },
    {
     "name": "stderr",
     "output_type": "stream",
     "text": [
      "<ipython-input-15-1b269b6265c8>:66: UserWarning: This overload of nonzero is deprecated:\n",
      "\tnonzero()\n",
      "Consider using one of the following signatures instead:\n",
      "\tnonzero(*, bool as_tuple) (Triggered internally at  /opt/conda/conda-bld/pytorch_1607370117127/work/torch/csrc/utils/python_arg_parser.cpp:882.)\n",
      "  rank = hit.nonzero()\n"
     ]
    }
   ],
   "source": [
    "item_recall_dict, item_mrr_dict, train_user_itemrank_dict, train_user_itempop_dict = bias_eval(train_data_loader, train_itemid_bucketid_dict)"
   ]
  },
  {
   "cell_type": "code",
   "execution_count": 18,
   "metadata": {},
   "outputs": [],
   "source": [
    "bucket_recall_dict = {}\n",
    "bucket_mrr_dict = {}\n",
    "for item in item_recall_dict:\n",
    "    bucketid = train_itemid_bucketid_dict[item]\n",
    "    item_recall = np.mean(item_recall_dict[item])\n",
    "    \n",
    "#     item_recall = item_recall[0]*1.0/item_recall[1]\n",
    "    if bucketid not in bucket_recall_dict:\n",
    "        bucket_recall_dict[bucketid] = []\n",
    "        bucket_mrr_dict[bucketid] = []\n",
    "    bucket_recall_dict[bucketid].append(item_recall)\n",
    "    \n",
    "    item_mrr = np.mean(item_mrr_dict[item])\n",
    "#     item_mrr = item_mrr[0]*1.0/item_mrr[1]\n",
    "    bucket_mrr_dict[bucketid].append(item_mrr)\n",
    "\n",
    "for bucket in bucket_recall_dict:\n",
    "    recall_list = bucket_recall_dict[bucket]\n",
    "    mean_recall = np.mean(recall_list)\n",
    "    bucket_recall_dict[bucket] = mean_recall\n",
    "\n",
    "for bucket in bucket_mrr_dict:\n",
    "    mrr_list = bucket_mrr_dict[bucket]\n",
    "    mean_mrr = np.mean(mrr_list)\n",
    "    bucket_mrr_dict[bucket] = mean_mrr  "
   ]
  },
  {
   "cell_type": "code",
   "execution_count": 19,
   "metadata": {},
   "outputs": [],
   "source": [
    "sorted_bucket_recall_dict = {k:v for k, v in sorted(bucket_recall_dict.items(), key=lambda x: x[0], reverse=True)}\n",
    "sorted_bucket_mrr_dict = {k:v for k, v in sorted(bucket_mrr_dict.items(), key=lambda x: x[0], reverse=True)}"
   ]
  },
  {
   "cell_type": "code",
   "execution_count": 20,
   "metadata": {},
   "outputs": [
    {
     "name": "stdout",
     "output_type": "stream",
     "text": [
      "recall\n",
      "0:0.3161, 1:0.3366, 2:0.3456, 3:0.3607, 4:0.3851, 5:0.4626, \n",
      "0.3677961196765793\n",
      "mrr\n",
      "0:0.1444, 1:0.1301, 2:0.1167, 3:0.1171, 4:0.1274, 5:0.2125, \n",
      "0.14136309468400562\n"
     ]
    }
   ],
   "source": [
    "print(\"recall\")\n",
    "for i in range(0, 6):\n",
    "    print(\"%d:%.4f\"%(i, bucket_recall_dict[i]), end=\", \")\n",
    "print()\n",
    "print(np.mean(list(bucket_recall_dict.values())))\n",
    "print(\"mrr\")\n",
    "for i in range(0,6):\n",
    "    print(\"%d:%.4f\"%(i, bucket_mrr_dict[i]), end=\", \")\n",
    "print()\n",
    "print(np.mean(list(bucket_mrr_dict.values())))"
   ]
  },
  {
   "cell_type": "markdown",
   "metadata": {},
   "source": [
    "# Testing"
   ]
  },
  {
   "cell_type": "code",
   "execution_count": 21,
   "metadata": {},
   "outputs": [],
   "source": [
    "def bias_eval(itemid_bucketid_dict):\n",
    "\n",
    "    losses = []\n",
    "    recalls = []\n",
    "    mrrs = []\n",
    "    weights = []\n",
    "    \n",
    "    item_recall_dict = {}\n",
    "    item_mrr_dict = {}\n",
    "    \n",
    "    num_batch = 0\n",
    "    num_preds = 0\n",
    "    \n",
    "    # loading from prevoiusly made file\n",
    "    # file creation detailed in eval_taobao_load\n",
    "    model_df = pd.read_csv(\"test_results@20.csv.gz\", compression=\"gzip\")\n",
    "    \n",
    "    batch_item_recall_dict = {}\n",
    "    batch_item_mrr_dict = {}\n",
    "    max_time = train_time\n",
    "    \n",
    "    # Split into 10000 batches\n",
    "    for batch in np.array_split(model_df, 10000):\n",
    "        preds = torch.tensor(batch.iloc[:,1:-1].values.tolist())\n",
    "        targets = torch.tensor(batch[:][\"target\"].values.tolist())\n",
    "        \n",
    "        expand_targets = targets.view(-1, 1).expand_as(preds)\n",
    "        hits = (preds == expand_targets)\n",
    "        \n",
    "        # Calculate false positive and true negative numbers\n",
    "        # True negatives are calculated by subtracting false negatives, true positives, and false\n",
    "        # positives from total preds\n",
    "        for seq, seq_preds in enumerate(preds):\n",
    "            target = targets[seq].item()\n",
    "            for time in time_pop_fp_dict:\n",
    "                pop_bucket_target = get_item_bucket(time, target)\n",
    "                \n",
    "                predicted = False #Check whether target in list of predictions\n",
    "                \n",
    "                for pred in seq_preds:\n",
    "                    num_preds += 1\n",
    "                    pred = pred.item()\n",
    "                    pop_bucket_pred = get_item_bucket(time, pred)\n",
    "                    \n",
    "                    # False positive if in topk but not the target\n",
    "                    if pred != target and pop_bucket_pred != None:\n",
    "                        time_pop_fp_dict[time][pop_bucket_pred][\"fp\"] += 1.0\n",
    "                        \n",
    "                    elif pred == target:\n",
    "                        predicted = True\n",
    "                    \n",
    "                    # Not true negative if not correctly predict target in topk, true positive\n",
    "                    if pop_bucket_pred != None:\n",
    "                        time_pop_fp_dict[time][pop_bucket_pred][\"tn\"] -= 1.0\n",
    "\n",
    "                #If target never predicted then must have 1 false negative\n",
    "                if not predicted and pop_bucket_target != None:\n",
    "                    time_pop_fp_dict[time][pop_bucket_target][\"tn\"] -= 1.0\n",
    "                    \n",
    "\n",
    "        for i, hit in enumerate(hits):\n",
    "            target_i = targets[i]\n",
    "            itemid_i = target_i.item()\n",
    "\n",
    "            rank = hit.nonzero()\n",
    "\n",
    "            if itemid_i not in batch_item_recall_dict:\n",
    "                batch_item_recall_dict[itemid_i] = []\n",
    "                batch_item_mrr_dict[itemid_i] = []\n",
    "\n",
    "            if len(rank) == 1:\n",
    "                batch_item_recall_dict[itemid_i].append(1.0)\n",
    "\n",
    "                rank = rank[0]+1.0\n",
    "                rank = torch.reciprocal(rank.float())\n",
    "                batch_item_mrr_dict[itemid_i].append(rank.item())\n",
    "            else:\n",
    "                batch_item_recall_dict[itemid_i].append(0.0)\n",
    "                batch_item_mrr_dict[itemid_i].append(0.0)\n",
    "\n",
    "\n",
    "        for item in batch_item_recall_dict:\n",
    "            batch_mean_recall = np.mean(batch_item_recall_dict[item])\n",
    "            batch_mean_mrr = np.mean(batch_item_mrr_dict[item])\n",
    "\n",
    "            if item not in item_recall_dict:\n",
    "                item_recall_dict[item] = []\n",
    "                item_mrr_dict[item] = []\n",
    "            item_recall_dict[item].append(batch_mean_recall)\n",
    "            item_mrr_dict[item].append(batch_mean_mrr)\n",
    "    \n",
    "    return item_recall_dict, item_mrr_dict, num_preds\n",
    "    "
   ]
  },
  {
   "cell_type": "code",
   "execution_count": 22,
   "metadata": {},
   "outputs": [],
   "source": [
    "test_item_recall_dict, test_item_mrr_dict, num_preds = bias_eval(train_itemid_bucketid_dict)"
   ]
  },
  {
   "cell_type": "code",
   "execution_count": 23,
   "metadata": {},
   "outputs": [],
   "source": [
    "bucket_recall_dict = {}\n",
    "bucket_mrr_dict = {}\n",
    "for item in test_item_recall_dict:\n",
    "    bucketid = train_itemid_bucketid_dict[item]\n",
    "    item_recall = np.mean(test_item_recall_dict[item])\n",
    "    \n",
    "#     item_recall = item_recall[0]*1.0/item_recall[1]\n",
    "    if bucketid not in bucket_recall_dict:\n",
    "        bucket_recall_dict[bucketid] = []\n",
    "        bucket_mrr_dict[bucketid] = []\n",
    "    bucket_recall_dict[bucketid].append(item_recall)\n",
    "    \n",
    "    item_mrr = np.mean(test_item_mrr_dict[item])\n",
    "#     item_mrr = item_mrr[0]*1.0/item_mrr[1]\n",
    "    bucket_mrr_dict[bucketid].append(item_mrr)\n",
    "\n",
    "for bucket in bucket_recall_dict:\n",
    "    recall_list = bucket_recall_dict[bucket]\n",
    "    mean_recall = np.mean(recall_list)\n",
    "    bucket_recall_dict[bucket] = mean_recall\n",
    "\n",
    "for bucket in bucket_mrr_dict:\n",
    "    mrr_list = bucket_mrr_dict[bucket]\n",
    "    mean_mrr = np.mean(mrr_list)\n",
    "    bucket_mrr_dict[bucket] = mean_mrr  "
   ]
  },
  {
   "cell_type": "code",
   "execution_count": 24,
   "metadata": {},
   "outputs": [
    {
     "name": "stdout",
     "output_type": "stream",
     "text": [
      "recall\n",
      "0:0.1379, 1:0.1743, 2:0.2036, 3:0.2475, 4:0.2792, 5:0.2834, \n",
      "0.22097856475605168\n",
      "mrr\n",
      "0:0.0663, 1:0.0721, 2:0.0721, 3:0.0866, 4:0.0999, 5:0.0993, \n",
      "0.08269678698443751\n"
     ]
    }
   ],
   "source": [
    "print(\"recall\")\n",
    "for i in range(0, 6):\n",
    "    print(\"%d:%.4f\"%(i, bucket_recall_dict[i]), end=\", \")\n",
    "print()\n",
    "print(np.mean(list(bucket_recall_dict.values())))\n",
    "print(\"mrr\")\n",
    "for i in range(0,6):\n",
    "    print(\"%d:%.4f\"%(i, bucket_mrr_dict[i]), end=\", \")\n",
    "print()\n",
    "print(np.mean(list(bucket_mrr_dict.values())))"
   ]
  },
  {
   "cell_type": "code",
   "execution_count": 55,
   "metadata": {},
   "outputs": [
    {
     "data": {
      "text/plain": [
       "{0: {0: {'fp': 4677241.0, 'tn': 111142904.0, 'rate': 0.040383656919096414},\n",
       "  1: {'fp': 2120853.0, 'tn': 116249021.0, 'rate': 0.017917168687701737},\n",
       "  4: {'fp': 305101.0, 'tn': 119987363.0, 'rate': 0.002536326797662071},\n",
       "  3: {'fp': 432157.0, 'tn': 119703544.0, 'rate': 0.0035972404239768825},\n",
       "  2: {'fp': 728239.0, 'tn': 119075690.0, 'rate': 0.006078590293979423},\n",
       "  5: {'fp': 90836.0, 'tn': 120435279.0, 'rate': 0.0007536623909266468}},\n",
       " 1: {1: {'fp': 1695853.0, 'tn': 117104258.0, 'rate': 0.014274843564750542},\n",
       "  0: {'fp': 5166607.0, 'tn': 110139524.0, 'rate': 0.04480773880098362},\n",
       "  2: {'fp': 623282.0, 'tn': 119295076.0, 'rate': 0.00519755282172893},\n",
       "  3: {'fp': 414695.0, 'tn': 119744698.0, 'rate': 0.0034512075140060005},\n",
       "  5: {'fp': 103218.0, 'tn': 120409864.0, 'rate': 0.0008564879288374685},\n",
       "  4: {'fp': 259155.0, 'tn': 120084280.0, 'rate': 0.0021534618818218046}},\n",
       " 2: {0: {'fp': 5155532.0, 'tn': 110161648.0, 'rate': 0.044707406129771816},\n",
       "  1: {'fp': 1620863.0, 'tn': 117259782.0, 'rate': 0.013634372525485541},\n",
       "  2: {'fp': 711399.0, 'tn': 119109797.0, 'rate': 0.0059371715835652315},\n",
       "  3: {'fp': 415299.0, 'tn': 119744834.0, 'rate': 0.003456212885516696},\n",
       "  5: {'fp': 85849.0, 'tn': 120445795.0, 'rate': 0.0007122527923040692},\n",
       "  4: {'fp': 245093.0, 'tn': 120114129.0, 'rate': 0.002036345831481031}},\n",
       " 3: {2: {'fp': 782658.0, 'tn': 118958392.0, 'rate': 0.006536254692939472},\n",
       "  3: {'fp': 416882.0, 'tn': 119742451.0, 'rate': 0.0034694100707100294},\n",
       "  1: {'fp': 2096761.0, 'tn': 116293132.0, 'rate': 0.017710641904203767},\n",
       "  0: {'fp': 4569212.0, 'tn': 111357406.0, 'rate': 0.03941469249107224},\n",
       "  4: {'fp': 240333.0, 'tn': 120124388.0, 'rate': 0.001996706327263451},\n",
       "  5: {'fp': 89508.0, 'tn': 120438413.0, 'rate': 0.000742632904121859}},\n",
       " 4: {0: {'fp': 5065273.0, 'tn': 110334941.0, 'rate': 0.043893098846419815},\n",
       "  1: {'fp': 1771517.0, 'tn': 116941845.0, 'rate': 0.014922641985322596},\n",
       "  2: {'fp': 560735.0, 'tn': 119430252.0, 'rate': 0.0046731426586231846},\n",
       "  3: {'fp': 377304.0, 'tn': 119827332.0, 'rate': 0.0031388473236589644},\n",
       "  5: {'fp': 100056.0, 'tn': 120416950.0, 'rate': 0.0008302230807160941},\n",
       "  4: {'fp': 229221.0, 'tn': 120147125.0, 'rate': 0.0019042030067933779}},\n",
       " 5: {1: {'fp': 1124579.0, 'tn': 118274485.0, 'rate': 0.009418658424323996},\n",
       "  0: {'fp': 4626050.0, 'tn': 111184651.0, 'rate': 0.03994492702362625},\n",
       "  4: {'fp': 193996.0, 'tn': 120221853.0, 'rate': 0.0016110503859006135},\n",
       "  2: {'fp': 544702.0, 'tn': 119468948.0, 'rate': 0.0045386670599552635},\n",
       "  3: {'fp': 334226.0, 'tn': 119922317.0, 'rate': 0.0027792749705103366},\n",
       "  5: {'fp': 59444.0, 'tn': 120500160.0, 'rate': 0.0004930673129948237}},\n",
       " 6: {1: {'fp': 2197559.0, 'tn': 116056035.0, 'rate': 0.018583443645695877},\n",
       "  2: {'fp': 718675.0, 'tn': 119089699.0, 'rate': 0.005998537297568198},\n",
       "  0: {'fp': 4230368.0, 'tn': 112058914.0, 'rate': 0.03637796989751815},\n",
       "  3: {'fp': 371176.0, 'tn': 119835828.0, 'rate': 0.0030878067637389916},\n",
       "  4: {'fp': 212573.0, 'tn': 120178942.0, 'rate': 0.001765680911981214},\n",
       "  5: {'fp': 33022.0, 'tn': 120553604.0, 'rate': 0.00027384463016653275}}}"
      ]
     },
     "execution_count": 55,
     "metadata": {},
     "output_type": "execute_result"
    }
   ],
   "source": [
    "for time in time_pop_fp_dict:\n",
    "    for bucket in time_pop_fp_dict[time]:\n",
    "        # Add number of predction to pre-subtracted value of true negative that accounted for \n",
    "        # true positives and false negatives\n",
    "        time_pop_fp_dict[time][bucket][\"tn\"] += num_preds\n",
    "        # Now further subtract false positive counts\n",
    "        time_pop_fp_dict[time][bucket][\"tn\"] -= time_pop_fp_dict[time][bucket][\"fp\"]\n",
    "        fp = time_pop_fp_dict[time][bucket][\"fp\"]\n",
    "        tn = time_pop_fp_dict[time][bucket][\"tn\"] \n",
    "        time_pop_fp_dict[time][bucket][\"rate\"] = fp / (fp + tn)\n",
    "time_pop_fp_dict"
   ]
  },
  {
   "cell_type": "code",
   "execution_count": 56,
   "metadata": {},
   "outputs": [],
   "source": [
    "def get_weights(num_times, func=\"exp\", rate=1):\n",
    "    weights = []\n",
    "    if func == \"exp\":\n",
    "        for t in range(1, num_times+1):\n",
    "            w = math.pow(math.e, 1/(1.5*t)) - 1\n",
    "            weights.append(w)\n",
    "    elif func == \"log\":\n",
    "        for t in range(1, num_times+1):\n",
    "            w = rate * math.log(t) + .99\n",
    "            weights.append(w)\n",
    "    return weights"
   ]
  },
  {
   "cell_type": "code",
   "execution_count": 57,
   "metadata": {},
   "outputs": [
    {
     "data": {
      "text/plain": [
       "0.0010576558981427034"
      ]
     },
     "execution_count": 57,
     "metadata": {},
     "output_type": "execute_result"
    }
   ],
   "source": [
    "temporal_multiplier = 0\n",
    "num_times = len(time_pop_fp_dict)\n",
    "time_weights = get_weights(num_times, \"log\", -1/5)\n",
    "for time in time_pop_fp_dict:\n",
    "    var_t = np.var([time_pop_fp_dict[time][bucket][\"rate\"] for bucket in time_pop_fp_dict[time]])\n",
    "    temporal_multiplier += var_t * time_weights[num_times-(time+1)]\n",
    "temporal_multiplier"
   ]
  },
  {
   "cell_type": "code",
   "execution_count": 58,
   "metadata": {},
   "outputs": [
    {
     "data": {
      "text/plain": [
       "0.0004031306360389908"
      ]
     },
     "execution_count": 58,
     "metadata": {},
     "output_type": "execute_result"
    }
   ],
   "source": [
    "temporal_multiplier = 0\n",
    "time_weights = get_weights(num_times)\n",
    "for time in time_pop_fp_dict:\n",
    "    var_t = np.var([time_pop_fp_dict[time][bucket][\"rate\"] for bucket in time_pop_fp_dict[time]])\n",
    "    temporal_multiplier += var_t * time_weights[num_times-(time+1)]\n",
    "temporal_multiplier"
   ]
  },
  {
   "cell_type": "code",
   "execution_count": 59,
   "metadata": {},
   "outputs": [
    {
     "data": {
      "image/png": "[encoded data removed]",
      "text/plain": [
       "<Figure size 432x288 with 1 Axes>"
      ]
     },
     "metadata": {
      "needs_background": "light"
     },
     "output_type": "display_data"
    }
   ],
   "source": [
    "w = 0.125\n",
    "plt.bar([0,1,2,3,4,5], [time_pop_fp_dict[0][bucket][\"rate\"] for bucket in time_pop_fp_dict[0]], width=w, color='b', label=\"time 0\", align='center')\n",
    "plt.bar(np.array([0,1,2,3,4,5])+w, [time_pop_fp_dict[1][bucket][\"rate\"] for bucket in time_pop_fp_dict[1]], width=w, color='g', label=\"time 1\", align='center')\n",
    "plt.bar(np.array([0,1,2,3,4,5])+(w*2), [time_pop_fp_dict[2][bucket][\"rate\"] for bucket in time_pop_fp_dict[2]], width=w, color='r', label=\"time 2\", align='center')\n",
    "plt.bar(np.array([0,1,2,3,4,5])+(w*3), [time_pop_fp_dict[3][bucket][\"rate\"] for bucket in time_pop_fp_dict[3]], width=w, color='c', label=\"time 3\", align='center')\n",
    "plt.bar(np.array([0,1,2,3,4,5])+(w*4), [time_pop_fp_dict[4][bucket][\"rate\"] for bucket in time_pop_fp_dict[4]], width=w, color='y', label=\"time 4\", align='center')\n",
    "plt.bar(np.array([0,1,2,3,4,5])+(w*5), [time_pop_fp_dict[5][bucket][\"rate\"] for bucket in time_pop_fp_dict[5]], width=w, color='m', label=\"time 5\", align='center')\n",
    "plt.bar(np.array([0,1,2,3,4,5])+(w*6), [time_pop_fp_dict[6][bucket][\"rate\"] for bucket in time_pop_fp_dict[6]], width=w, color='orange', label=\"time 6\", align='center')\n",
    "plt.xlabel('Popularity Bucket', fontsize=16)\n",
    "plt.ylabel('False Positive Rate', fontsize=16)\n",
    "plt.legend()\n",
    "plt.show()"
   ]
  },
  {
   "cell_type": "markdown",
   "metadata": {},
   "source": [
    "### re-rank the results by debiasing method"
   ]
  },
  {
   "cell_type": "markdown",
   "metadata": {},
   "source": [
    "#### get the score of the prediction"
   ]
  },
  {
   "cell_type": "code",
   "execution_count": 32,
   "metadata": {},
   "outputs": [],
   "source": [
    "comp_time_pop_fp_dict = time_pop_fp_dict\n",
    "for time in time_pop_fp_dict:\n",
    "    for bucket in time_pop_fp_dict[time]:\n",
    "        for stat in time_pop_fp_dict[time][bucket]:\n",
    "            comp_time_pop_fp_dict[time][bucket][stat] = 0"
   ]
  },
  {
   "cell_type": "code",
   "execution_count": 33,
   "metadata": {},
   "outputs": [],
   "source": [
    "def compensated_bias_eval(itemid_bucketid_dict, alpha, beta):\n",
    "    losses = []\n",
    "    recalls = []\n",
    "    mrrs = []\n",
    "    weights = []\n",
    "    \n",
    "    topk = 5\n",
    "    \n",
    "    item_recall_dict = {}\n",
    "    item_mrr_dict = {}\n",
    "    \n",
    "    num_batch = 0\n",
    "    num_preds = 0\n",
    "    \n",
    "    model_df = pd.read_csv(\"compensated_test@20.csv.gz\", compression=\"gzip\")\n",
    "    \n",
    "    batch_item_recall_dict = {}\n",
    "    batch_item_mrr_dict = {}\n",
    "    max_time = train_time\n",
    "    \n",
    "    for batch in np.array_split(model_df, 10000):\n",
    "        preds = torch.tensor(batch.iloc[:,1:-1].values.tolist())\n",
    "        targets = torch.tensor(batch[:][\"target\"].values.tolist())\n",
    "        \n",
    "        expand_targets = targets.view(-1, 1).expand_as(preds)\n",
    "        hits = (preds == expand_targets)\n",
    "\n",
    "        for seq, seq_preds in enumerate(preds):\n",
    "            target = targets[seq].item()\n",
    "            for time in comp_time_pop_fp_dict:\n",
    "\n",
    "                pop_bucket_target = get_item_bucket(time, target)\n",
    "\n",
    "                predicted = False #Check whether target in list of predictions\n",
    "\n",
    "                for pred in seq_preds:\n",
    "                    num_preds += 1\n",
    "                    pred = pred.item()\n",
    "                    pop_bucket_pred = get_item_bucket(time, pred)\n",
    "\n",
    "                    if pred != target and pop_bucket_pred != None:\n",
    "                        comp_time_pop_fp_dict[time][pop_bucket_pred][\"fp\"] += 1.0\n",
    "                    elif pred == target:\n",
    "                        predicted = True\n",
    "\n",
    "                    if pop_bucket_pred != None:\n",
    "                        comp_time_pop_fp_dict[time][pop_bucket_pred][\"tn\"] -= 1.0\n",
    "\n",
    "                #If target never predicted then must have 1 false negative\n",
    "                if not predicted and pop_bucket_target != None:\n",
    "                    comp_time_pop_fp_dict[time][pop_bucket_target][\"tn\"] -= 1.0\n",
    "\n",
    "        for i, hit in enumerate(hits):\n",
    "            target_i = targets[i]\n",
    "            itemid_i = target_i.item()\n",
    "\n",
    "            rank = hit.nonzero()\n",
    "\n",
    "            if itemid_i not in batch_item_recall_dict:\n",
    "                batch_item_recall_dict[itemid_i] = []\n",
    "                batch_item_mrr_dict[itemid_i] = []\n",
    "\n",
    "            if len(rank) == 1:\n",
    "                batch_item_recall_dict[itemid_i].append(1.0)\n",
    "\n",
    "                rank = rank[0]\n",
    "\n",
    "                rank = rank+1.0\n",
    "                rank = torch.reciprocal(rank.float())\n",
    "                batch_item_mrr_dict[itemid_i].append(rank.item())\n",
    "            else:\n",
    "                batch_item_recall_dict[itemid_i].append(0.0)\n",
    "                batch_item_mrr_dict[itemid_i].append(0.0)\n",
    "\n",
    "\n",
    "        for item in batch_item_recall_dict:\n",
    "            batch_mean_recall = np.mean(batch_item_recall_dict[item])\n",
    "            batch_mean_mrr = np.mean(batch_item_mrr_dict[item])\n",
    "\n",
    "            if item not in item_recall_dict:\n",
    "                item_recall_dict[item] = []\n",
    "                item_mrr_dict[item] = []\n",
    "            item_recall_dict[item].append(batch_mean_recall)\n",
    "            item_mrr_dict[item].append(batch_mean_mrr)\n",
    "\n",
    "    return item_recall_dict, item_mrr_dict, num_preds\n",
    "    "
   ]
  },
  {
   "cell_type": "code",
   "execution_count": 34,
   "metadata": {},
   "outputs": [],
   "source": [
    "def get_compensation(alpha=0.8, beta=0.3):\n",
    "    compensated_test_item_recall_dict, compensated_test_item_mrr_dict, num_preds = compensated_bias_eval(train_itemid_bucketid_dict, alpha, beta)\n",
    "    return compensated_test_item_recall_dict, compensated_test_item_mrr_dict, num_preds"
   ]
  },
  {
   "cell_type": "code",
   "execution_count": 35,
   "metadata": {},
   "outputs": [],
   "source": [
    "comp_test_item_recall_dict, comp_test_item_mrr_dict, num_preds = get_compensation(0.6, 0.8)"
   ]
  },
  {
   "cell_type": "code",
   "execution_count": 36,
   "metadata": {},
   "outputs": [],
   "source": [
    "comp_bucket_recall_dict = {}\n",
    "comp_bucket_mrr_dict = {}\n",
    "for item in comp_test_item_recall_dict:\n",
    "    bucketid = train_itemid_bucketid_dict[item]\n",
    "    item_recall = np.mean(comp_test_item_recall_dict[item])\n",
    "    \n",
    "#     item_recall = item_recall[0]*1.0/item_recall[1]\n",
    "    if bucketid not in comp_bucket_recall_dict:\n",
    "        comp_bucket_recall_dict[bucketid] = []\n",
    "        comp_bucket_mrr_dict[bucketid] = []\n",
    "    comp_bucket_recall_dict[bucketid].append(item_recall)\n",
    "    \n",
    "    item_mrr = np.mean(comp_test_item_mrr_dict[item])\n",
    "#     item_mrr = item_mrr[0]*1.0/item_mrr[1]\n",
    "    comp_bucket_mrr_dict[bucketid].append(item_mrr)\n",
    "\n",
    "for bucket in comp_bucket_recall_dict:\n",
    "    recall_list = comp_bucket_recall_dict[bucket]\n",
    "    mean_recall = np.mean(recall_list)\n",
    "    comp_bucket_recall_dict[bucket] = mean_recall\n",
    "\n",
    "for bucket in comp_bucket_mrr_dict:\n",
    "    mrr_list = comp_bucket_mrr_dict[bucket]\n",
    "    mean_mrr = np.mean(mrr_list)\n",
    "    comp_bucket_mrr_dict[bucket] = mean_mrr  "
   ]
  },
  {
   "cell_type": "code",
   "execution_count": 37,
   "metadata": {},
   "outputs": [
    {
     "name": "stdout",
     "output_type": "stream",
     "text": [
      "recall\n",
      "0:0.1695, 1:0.1409, 2:0.1290, 3:0.1382, 4:0.1635, 5:0.1668, \n",
      "0.1513368956431562\n",
      "mrr\n",
      "0:0.0823, 1:0.0517, 2:0.0372, 3:0.0376, 4:0.0453, 5:0.0591, \n",
      "0.052179532989918696\n"
     ]
    }
   ],
   "source": [
    "print(\"recall\")\n",
    "for i in range(0, 6):\n",
    "    print(\"%d:%.4f\"%(i, comp_bucket_recall_dict[i]), end=\", \")\n",
    "print()\n",
    "print(np.mean(list(comp_bucket_recall_dict.values())))\n",
    "print(\"mrr\")\n",
    "for i in range(0,6):\n",
    "    print(\"%d:%.4f\"%(i, comp_bucket_mrr_dict[i]), end=\", \")\n",
    "print()\n",
    "print(np.mean(list(comp_bucket_mrr_dict.values())))"
   ]
  },
  {
   "cell_type": "code",
   "execution_count": 60,
   "metadata": {},
   "outputs": [
    {
     "data": {
      "text/plain": [
       "{0: {0: {'fp': 4677241.0, 'tn': 166776543.0, 'rate': 0.027279893688435596},\n",
       "  1: {'fp': 2120853.0, 'tn': 174439048.0, 'rate': 0.012012087614389861},\n",
       "  4: {'fp': 305101.0, 'tn': 179993142.0, 'rate': 0.0016922017370962401},\n",
       "  3: {'fp': 432157.0, 'tn': 179582267.0, 'rate': 0.0024006798477437565},\n",
       "  2: {'fp': 728239.0, 'tn': 178658331.0, 'rate': 0.004059607137814163},\n",
       "  5: {'fp': 90836.0, 'tn': 180655323.0, 'rate': 0.0005025611636925573}},\n",
       " 1: {1: {'fp': 1695853.0, 'tn': 175719285.0, 'rate': 0.009558671368843396},\n",
       "  0: {'fp': 5166607.0, 'tn': 165283797.0, 'rate': 0.03031149753097681},\n",
       "  2: {'fp': 623282.0, 'tn': 178982674.0, 'rate': 0.003470274671737501},\n",
       "  3: {'fp': 414695.0, 'tn': 179640883.0, 'rate': 0.0023031499751704444},\n",
       "  5: {'fp': 103218.0, 'tn': 180617526.0, 'rate': 0.0005711463870467466},\n",
       "  4: {'fp': 259155.0, 'tn': 180136005.0, 'rate': 0.0014365961924920824}},\n",
       " 2: {0: {'fp': 5155532.0, 'tn': 165316996.0, 'rate': 0.03024259721190971},\n",
       "  1: {'fp': 1620863.0, 'tn': 175949799.0, 'rate': 0.009127988721470217},\n",
       "  2: {'fp': 711399.0, 'tn': 178709278.0, 'rate': 0.00396497779350147},\n",
       "  3: {'fp': 415299.0, 'tn': 179640415.0, 'rate': 0.0023065027528090557},\n",
       "  5: {'fp': 85849.0, 'tn': 180670826.0, 'rate': 0.00047494234998513886},\n",
       "  4: {'fp': 245093.0, 'tn': 180179916.0, 'rate': 0.0013584203285255205}},\n",
       " 3: {2: {'fp': 782658.0, 'tn': 178486614.0, 'rate': 0.0043658234970687},\n",
       "  3: {'fp': 416882.0, 'tn': 179636449.0, 'rate': 0.0023153251188671427},\n",
       "  1: {'fp': 2096761.0, 'tn': 174507251.0, 'rate': 0.011872669121469335},\n",
       "  0: {'fp': 4569212.0, 'tn': 167099074.0, 'rate': 0.026616517858167467},\n",
       "  4: {'fp': 240333.0, 'tn': 180194935.0, 'rate': 0.0013319624409569419},\n",
       "  5: {'fp': 89508.0, 'tn': 180659785.0, 'rate': 0.000495205256487504}},\n",
       " 4: {0: {'fp': 5065273.0, 'tn': 165580548.0, 'rate': 0.0296829595375793},\n",
       "  1: {'fp': 1771517.0, 'tn': 175481208.0, 'rate': 0.009994300510753784},\n",
       "  2: {'fp': 560735.0, 'tn': 179180397.0, 'rate': 0.0031196810310508112},\n",
       "  3: {'fp': 377304.0, 'tn': 179760908.0, 'rate': 0.0020945250638992685},\n",
       "  5: {'fp': 100056.0, 'tn': 180627774.0, 'rate': 0.0005536280715593165},\n",
       "  4: {'fp': 229221.0, 'tn': 180228784.0, 'rate': 0.0012702179656701846}},\n",
       " 5: {1: {'fp': 1124579.0, 'tn': 177460786.0, 'rate': 0.006297150945151636},\n",
       "  0: {'fp': 4626050.0, 'tn': 166869481.0, 'rate': 0.026974755394646405},\n",
       "  4: {'fp': 193996.0, 'tn': 180338737.0, 'rate': 0.0010745752129061271},\n",
       "  2: {'fp': 544702.0, 'tn': 179235126.0, 'rate': 0.0030298282407968486},\n",
       "  3: {'fp': 334226.0, 'tn': 179898971.0, 'rate': 0.001854408652585794},\n",
       "  5: {'fp': 59444.0, 'tn': 180751596.0, 'rate': 0.0003287631109250851}},\n",
       " 6: {1: {'fp': 2197559.0, 'tn': 174169356.0, 'rate': 0.012460154445633979},\n",
       "  2: {'fp': 718675.0, 'tn': 178681904.0, 'rate': 0.0040059792672129555},\n",
       "  0: {'fp': 4230368.0, 'tn': 168139426.0, 'rate': 0.024542397492219547},\n",
       "  3: {'fp': 371176.0, 'tn': 179775532.0, 'rate': 0.002060409563520861},\n",
       "  4: {'fp': 212573.0, 'tn': 180277249.0, 'rate': 0.0011777561617851227},\n",
       "  5: {'fp': 33022.0, 'tn': 180831462.0, 'rate': 0.00018257868692451526}}}"
      ]
     },
     "execution_count": 60,
     "metadata": {},
     "output_type": "execute_result"
    }
   ],
   "source": [
    "for time in comp_time_pop_fp_dict:\n",
    "    for bucket in comp_time_pop_fp_dict[time]:\n",
    "        comp_time_pop_fp_dict[time][bucket][\"tn\"] += num_preds\n",
    "        comp_time_pop_fp_dict[time][bucket][\"tn\"] -= comp_time_pop_fp_dict[time][bucket][\"fp\"]\n",
    "        fp = comp_time_pop_fp_dict[time][bucket][\"fp\"]\n",
    "        tn = comp_time_pop_fp_dict[time][bucket][\"tn\"] \n",
    "        comp_time_pop_fp_dict[time][bucket][\"rate\"] = fp / (fp + tn)\n",
    "comp_time_pop_fp_dict"
   ]
  },
  {
   "cell_type": "code",
   "execution_count": 61,
   "metadata": {},
   "outputs": [
    {
     "data": {
      "text/plain": [
       "0.00048333553259220286"
      ]
     },
     "execution_count": 61,
     "metadata": {},
     "output_type": "execute_result"
    }
   ],
   "source": [
    "temporal_multiplier = 0\n",
    "time_weights = get_weights(num_times, \"log\", -1/5)\n",
    "for time in comp_time_pop_fp_dict:\n",
    "    var_t = np.var([comp_time_pop_fp_dict[time][bucket][\"rate\"] for bucket in comp_time_pop_fp_dict[time]])\n",
    "    temporal_multiplier += var_t * time_weights[num_times-(time+1)]\n",
    "temporal_multiplier"
   ]
  },
  {
   "cell_type": "code",
   "execution_count": 62,
   "metadata": {},
   "outputs": [
    {
     "data": {
      "text/plain": [
       "0.00018398898071385258"
      ]
     },
     "execution_count": 62,
     "metadata": {},
     "output_type": "execute_result"
    }
   ],
   "source": [
    "temporal_multiplier = 0\n",
    "time_weights = get_weights(num_times)\n",
    "for time in comp_time_pop_fp_dict:\n",
    "    var_t = np.var([comp_time_pop_fp_dict[time][bucket][\"rate\"] for bucket in comp_time_pop_fp_dict[time]])\n",
    "    temporal_multiplier += var_t * time_weights[num_times-(time+1)]\n",
    "temporal_multiplier"
   ]
  },
  {
   "cell_type": "code",
   "execution_count": 63,
   "metadata": {},
   "outputs": [
    {
     "data": {
      "image/png": "[encoded data removed]",
      "text/plain": [
       "<Figure size 432x288 with 1 Axes>"
      ]
     },
     "metadata": {
      "needs_background": "light"
     },
     "output_type": "display_data"
    }
   ],
   "source": [
    "w = 0.125\n",
    "plt.bar([0,1,2,3,4,5], [comp_time_pop_fp_dict[0][bucket][\"rate\"] for bucket in comp_time_pop_fp_dict[0]], width=w, color='b', label=\"time 0\", align='center')\n",
    "plt.bar(np.array([0,1,2,3,4,5])+w, [comp_time_pop_fp_dict[1][bucket][\"rate\"] for bucket in comp_time_pop_fp_dict[1]], width=w, color='g', label=\"time 1\", align='center')\n",
    "plt.bar(np.array([0,1,2,3,4,5])+(w*2), [comp_time_pop_fp_dict[2][bucket][\"rate\"] for bucket in comp_time_pop_fp_dict[2]], width=w, color='r', label=\"time 2\", align='center')\n",
    "plt.bar(np.array([0,1,2,3,4,5])+(w*3), [comp_time_pop_fp_dict[3][bucket][\"rate\"] for bucket in comp_time_pop_fp_dict[3]], width=w, color='c', label=\"time 3\", align='center')\n",
    "plt.bar(np.array([0,1,2,3,4,5])+(w*4), [comp_time_pop_fp_dict[4][bucket][\"rate\"] for bucket in comp_time_pop_fp_dict[4]], width=w, color='y', label=\"time 4\", align='center')\n",
    "plt.bar(np.array([0,1,2,3,4,5])+(w*5), [comp_time_pop_fp_dict[5][bucket][\"rate\"] for bucket in comp_time_pop_fp_dict[5]], width=w, color='m', label=\"time 5\", align='center')\n",
    "plt.bar(np.array([0,1,2,3,4,5])+(w*6), [comp_time_pop_fp_dict[6][bucket][\"rate\"] for bucket in comp_time_pop_fp_dict[6]], width=w, color='orange', label=\"time 6\", align='center')\n",
    "plt.xlabel('Popularity Bucket', fontsize=16)\n",
    "plt.ylabel('False Positive Rate', fontsize=16)\n",
    "plt.legend()\n",
    "plt.show()"
   ]
  },
  {
   "cell_type": "code",
   "execution_count": 129,
   "metadata": {},
   "outputs": [
    {
     "data": {
      "image/png": "[encoded data removed]",
      "text/plain": [
       "<Figure size 432x288 with 1 Axes>"
      ]
     },
     "metadata": {
      "needs_background": "light"
     },
     "output_type": "display_data"
    }
   ],
   "source": [
    "# fig = plt.figure()\n",
    "# ax = fig.add_axes([0,0,3,3])\n",
    "# keys = [key for key in a_b_scores_dict.keys()]\n",
    "# ax.bar([str(round(key[0], 1)) + \"\\n\" + str(round(key[1], 1)) for key in a_b_scores_dict.keys()], [dict[\"recall\"] for dict in a_b_scores_dict.values()])\n",
    "# plt.xlabel('Alpha' + \"\\n\" + 'Beta', fontsize=16)\n",
    "# plt.ylabel('Recall@20', fontsize=16)\n",
    "# plt.show()"
   ]
  },
  {
   "cell_type": "code",
   "execution_count": 131,
   "metadata": {},
   "outputs": [
    {
     "data": {
      "image/png": "[encoded data removed]",
      "text/plain": [
       "<Figure size 432x288 with 1 Axes>"
      ]
     },
     "metadata": {
      "needs_background": "light"
     },
     "output_type": "display_data"
    }
   ],
   "source": [
    "# fig = plt.figure()\n",
    "# ax = fig.add_axes([0,0,3,3])\n",
    "# keys = [key for key in a_b_scores_dict.keys()]\n",
    "# ax.bar([str(round(key[0], 1)) + \"\\n\" + str(round(key[1], 1)) for key in a_b_scores_dict.keys()], [dict[\"mrr\"] for dict in a_b_scores_dict.values()])\n",
    "# plt.xlabel('Alpha' + \"\\n\" + 'Beta', fontsize=16)\n",
    "# plt.ylabel('MRR@20', fontsize=16)\n",
    "# plt.show()"
   ]
  },
  {
   "cell_type": "markdown",
   "metadata": {},
   "source": [
    "## PRI on subset of test"
   ]
  },
  {
   "cell_type": "code",
   "execution_count": null,
   "metadata": {},
   "outputs": [],
   "source": [
    "# Need all 68008 item ranks for each sequence\n",
    "model_df = pd.read_csv(\"test_results.csv.gz\", compression=\"gzip\") \n",
    "\n",
    "test_item_rank_dict = {}\n",
    "\n",
    "for batch in np.array_split(model_df, 10000):\n",
    "    preds = torch.tensor(batch.iloc[:,1:-1].values.tolist())\n",
    "    \n",
    "    for seq_preds in preds:\n",
    "        for rank, pred in enumerate(seq_preds):\n",
    "            pred = pred.item()\n",
    "            if pred not in test_item_rank_dict:\n",
    "                test_item_rank_dict[pred] = []\n",
    "            test_item_rank_dict[pred].append(rank)"
   ]
  },
  {
   "cell_type": "code",
   "execution_count": 52,
   "metadata": {},
   "outputs": [
    {
     "name": "stdout",
     "output_type": "stream",
     "text": [
      "test pri with training popularity = 0.7904041683459844\n"
     ]
    }
   ],
   "source": [
    "from scipy import stats\n",
    "# The more correlated popularity and rank of an item are, the higehr the PRI\n",
    "item_pop_list_pri = []\n",
    "item_rank_list_pri = []\n",
    "for item in test_item_rank_dict:\n",
    "    \n",
    "    if item in train_item_freq_dict:\n",
    "        item_avgrank_i = np.mean(test_item_rank_dict[item])\n",
    "        item_rank_list_pri.append(item_avgrank_i)\n",
    "    \n",
    "        item_pop_i = train_item_freq_dict[item]\n",
    "        item_pop_list_pri.append(item_pop_i)\n",
    "    \n",
    "pri = stats.spearmanr(item_pop_list_pri, item_rank_list_pri)[0]\n",
    "pri = -pri\n",
    "print(\"test pri with training popularity =\", pri)"
   ]
  },
  {
   "cell_type": "code",
   "execution_count": 54,
   "metadata": {},
   "outputs": [
    {
     "name": "stdout",
     "output_type": "stream",
     "text": [
      "test pri with total popularity = 0.7683992414875547\n"
     ]
    }
   ],
   "source": [
    "total_item_freq_dict = train_item_freq_dict\n",
    "test_item_freq_dict = dict(Counter(test_data.m_y_action))\n",
    "for item in test_item_freq_dict:\n",
    "    if item not in total_item_freq_dict:\n",
    "        total_item_freq_dict[item] = 0\n",
    "    total_item_freq_dict[item] += test_item_freq_dict[item]\n",
    "\n",
    "item_pop_list_pri = []\n",
    "item_rank_list_pri = []\n",
    "for item in test_item_rank_dict:\n",
    "    if item in total_item_freq_dict:\n",
    "        item_avgrank_i = np.mean(test_item_rank_dict[item])\n",
    "        item_rank_list_pri.append(item_avgrank_i)\n",
    "    \n",
    "        item_pop_i = total_item_freq_dict[item]\n",
    "        item_pop_list_pri.append(item_pop_i)\n",
    "    \n",
    "pri = stats.spearmanr(item_pop_list_pri, item_rank_list_pri)[0]\n",
    "pri = -pri\n",
    "print(\"test pri with total popularity =\", pri)"
   ]
  }
 ],
 "metadata": {
  "kernelspec": {
   "display_name": "Python 3",
   "language": "python",
   "name": "python3"
  },
  "language_info": {
   "codemirror_mode": {
    "name": "ipython",
    "version": 3
   },
   "file_extension": ".py",
   "mimetype": "text/x-python",
   "name": "python",
   "nbconvert_exporter": "python",
   "pygments_lexer": "ipython3",
   "version": "3.8.3"
  }
 },
 "nbformat": 4,
 "nbformat_minor": 2
}
