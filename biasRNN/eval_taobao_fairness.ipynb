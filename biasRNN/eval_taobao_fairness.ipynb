{
 "cells": [
  {
   "cell_type": "code",
   "execution_count": 4,
   "metadata": {},
   "outputs": [],
   "source": [
    "\"\"\"\n",
    "use time to cut sequences\n",
    "command \n",
    "python main_time.py --data_folder ../Data/xing/ --train_data train_item.pickle --valid_data test_item.pickle --test_data test_item.pickle --data_name xing --embedding_dim 300 --hidden_size 300 --lr 0.005\n",
    "\"\"\"\n",
    "import argparse\n",
    "import torch\n",
    "# import lib\n",
    "import numpy as np\n",
    "import os\n",
    "import datetime\n",
    "from loss import *\n",
    "from network import *\n",
    "from optimizer import *\n",
    "from trainer import *\n",
    "from torch.utils import data\n",
    "import pickle\n",
    "import sys\n",
    "from dataset_time import *\n",
    "# from data_time import *\n",
    "from logger import *\n",
    "import collections\n",
    "\n",
    "import sys\n",
    "sys.path.insert(0, '../PyTorch_GBW_LM')\n",
    "sys.path.insert(0, '../PyTorch_GBW_LM/log_uniform')\n",
    "\n",
    "from sampledSoftmax import *"
   ]
  },
  {
   "cell_type": "code",
   "execution_count": 5,
   "metadata": {},
   "outputs": [],
   "source": [
    "import matplotlib.pyplot as plt"
   ]
  },
  {
   "cell_type": "code",
   "execution_count": 6,
   "metadata": {},
   "outputs": [],
   "source": [
    "parser = argparse.ArgumentParser()\n",
    "parser.add_argument('--hidden_size', default=50, type=int)\n",
    "parser.add_argument('--num_layers', default=1, type=int)\n",
    "parser.add_argument('--batch_size', default=100, type=int)\n",
    "parser.add_argument('--dropout_input', default=0, type=float)\n",
    "parser.add_argument('--dropout_hidden', default=.2, type=float)\n",
    "\n",
    "# parse the optimizer arguments\n",
    "parser.add_argument('--optimizer_type', default='Adagrad', type=str)\n",
    "parser.add_argument('--final_act', default='tanh', type=str)\n",
    "parser.add_argument('--lr', default=.05, type=float)\n",
    "parser.add_argument('--weight_decay', default=0.0, type=float)\n",
    "parser.add_argument('--momentum', default=0.1, type=float)\n",
    "parser.add_argument('--eps', default=1e-6, type=float)\n",
    "\n",
    "parser.add_argument(\"-seed\", type=int, default=7,\n",
    "                     help=\"Seed for random initialization\")\n",
    "parser.add_argument(\"-sigma\", type=float, default=None,\n",
    "                     help=\"init weight -1: range [-sigma, sigma], -2: range [0, sigma]\")\n",
    "parser.add_argument(\"--embedding_dim\", type=int, default=-1,\n",
    "                     help=\"using embedding\")\n",
    "# parse the loss type\n",
    "parser.add_argument('--loss_type', default='TOP1', type=str)\n",
    "# parser.add_argument('--loss_type', default='BPR', type=str)\n",
    "parser.add_argument('--topk', default=5, type=int)\n",
    "# etc\n",
    "parser.add_argument('--bptt', default=1, type=int)\n",
    "parser.add_argument('--test_observed', default=5, type=int)\n",
    "parser.add_argument('--window_size', default=30, type=int)\n",
    "parser.add_argument('--warm_start', default=5, type=int)\n",
    "\n",
    "parser.add_argument('--n_epochs', default=20, type=int)\n",
    "parser.add_argument('--time_sort', default=False, type=bool)\n",
    "parser.add_argument('--save_dir', default='models', type=str)\n",
    "parser.add_argument('--data_folder', default='../Data/movielen/1m/', type=str)\n",
    "parser.add_argument('--data_action', default='item.pickle', type=str)\n",
    "parser.add_argument('--data_cate', default='cate.pickle', type=str)\n",
    "parser.add_argument('--data_time', default='time.pickle', type=str)\n",
    "parser.add_argument(\"--is_eval\", action='store_true')\n",
    "parser.add_argument('--load_model', default=None,  type=str)\n",
    "parser.add_argument('--checkpoint_dir', type=str, default='checkpoint')\n",
    "parser.add_argument('--data_name', default=None, type=str)\n",
    "parser.add_argument('--shared_embedding', default=None, type=int)\n",
    "parser.add_argument('--patience', default=1000)\n",
    "parser.add_argument('--negative_num', default=1000, type=int)\n",
    "parser.add_argument('--valid_start_time', default=0, type=int)\n",
    "parser.add_argument('--test_start_time', default=0, type=int)\n",
    "parser.add_argument('--model_name', default=\"samplePaddingSessionRNN\", type=str)\n",
    "\n",
    "# Get the arguments\n",
    "args = parser.parse_args([])\n",
    "args.cuda = torch.cuda.is_available()"
   ]
  },
  {
   "cell_type": "code",
   "execution_count": 7,
   "metadata": {},
   "outputs": [],
   "source": [
    "# CUDA_VISIBLE_DEVICES=0 python eval_main_time.py --data_folder ../Data/tmall/100k_unknown_cate/ \n",
    "# --data_action item_time.pickle --data_cate cate_time.pickle --data_time time_time.pickle \n",
    "# --data_name taobao --embedding_dim 300 --hidden_size 300 --lr 0.001 --window_size 20 \n",
    "# --test_observed 5 --n_epochs 100 --shared_embedding 1 --batch_size 300 \n",
    "# --optimizer_type Adam --loss_type 'XE' --valid_start_time 1512172800 --test_start_time 1512259200 \n",
    "# --negative_num 10000 --topk 20 --checkpoint_dir \"../log/samplePaddingSessionRNN/checkpoint/01022149\"\n"
   ]
  },
  {
   "cell_type": "code",
   "execution_count": 8,
   "metadata": {},
   "outputs": [],
   "source": [
    "args.data_folder = \"../Data/tmall/100k_unknown_cate/\"\n",
    "args.data_action = \"item_time.pickle\"\n",
    "args.data_cate = \"cate_time.pickle\"\n",
    "args.data_time = \"time_time.pickle\"\n",
    "args.data_name = \"taobao\"\n",
    "args.embedding_dim = 256\n",
    "args.hidden_size = 256\n",
    "args.lr = 0.001\n",
    "args.window_size = 20\n",
    "args.test_observed = 5\n",
    "args.n_epochs = 100\n",
    "args.shared_embedding = 1\n",
    "args.batch_size = 8\n",
    "args.optimizer_type = \"Adam\"\n",
    "args.loss_type = \"XE\"\n",
    "args.valid_start_time = 1512172800\n",
    "args.test_start_time = 1512259200\n",
    "args.negative_num = 10000\n",
    "args.topk = 20\n",
    "args.checkpoint_dir = \"../log/samplePaddingSessionRNN/checkpoint/01031151\""
   ]
  },
  {
   "cell_type": "code",
   "execution_count": 9,
   "metadata": {},
   "outputs": [
    {
     "name": "stdout",
     "output_type": "stream",
     "text": [
      "gpu\n"
     ]
    }
   ],
   "source": [
    "np.random.seed(args.seed)\n",
    "torch.manual_seed(7)\n",
    "random.seed(args.seed)\n",
    "\n",
    "if args.cuda:\n",
    "    print(\"gpu\")\n",
    "    torch.cuda.manual_seed(args.seed)\n",
    "else:\n",
    "    print(\"cpu\")"
   ]
  },
  {
   "cell_type": "code",
   "execution_count": 10,
   "metadata": {},
   "outputs": [],
   "source": [
    "# 1512172800: 12/02/2017 @ 12:00am (UTC)\n",
    "### 1512187200: 12/02/2017 @ 4:00am (UTC)\n",
    "## 1512201600: 12/02/2017 @ 8:00am (UTC)\n",
    "### 1512216000: 12/02/2017 @ 12:00pm (UTC)\n",
    "### 1512230400: 12/02/2017 @ 4:00pm (UTC)\n",
    "### 1512244800: 12/02/2017 @ 8:00pm (UTC)\n",
    "# 1512259200: 12/03/2017 @ 12:00am (UTC)"
   ]
  },
  {
   "cell_type": "code",
   "execution_count": 11,
   "metadata": {},
   "outputs": [],
   "source": [
    "def make_checkpoint_dir(log):\n",
    "    print(\"PARAMETER\" + \"-\"*10)\n",
    "    now = datetime.datetime.now()\n",
    "    S = '{:02d}{:02d}{:02d}{:02d}'.format(now.month, now.day, now.hour, now.minute)\n",
    "    checkpoint_dir = \"../log/\"+args.model_name+\"/\"+args.checkpoint_dir\n",
    "    args.checkpoint_dir = checkpoint_dir\n",
    "    save_dir = os.path.join(args.checkpoint_dir, S)\n",
    "\n",
    "    if not os.path.exists(\"../log\"):\n",
    "        os.mkdir(\"../log\")\n",
    "    \n",
    "    if not os.path.exists(\"../log/\"+args.model_name):\n",
    "        os.mkdir(\"../log/\"+args.model_name)\n",
    "\n",
    "    if not os.path.exists(args.checkpoint_dir):\n",
    "        os.mkdir(args.checkpoint_dir)\n",
    "\n",
    "    if not os.path.exists(save_dir):\n",
    "        os.mkdir(save_dir)\n",
    "\n",
    "    args.checkpoint_dir = save_dir\n",
    "    \n",
    "    with open(os.path.join(args.checkpoint_dir, 'parameter.txt'), 'w') as f:\n",
    "        for attr, value in sorted(args.__dict__.items()):\n",
    "            msg = \"{}={}\".format(attr.upper(), value)\n",
    "            log.addOutput2IO(msg)\n",
    "            f.write(\"{}={}\\n\".format(attr.upper(), value))\n",
    "\n",
    "    msg = \"---------\" + \"-\"*10\n",
    "    log.addOutput2IO(msg)\n",
    "\n",
    "def load_args(model_path):\n",
    "    model_file = os.path.join(model_path, \"model_best.pt\")\n",
    "    print(\"args file load\", model_file)\n",
    "    check_point = torch.load(model_file)\n",
    "    args = check_point['args']\n",
    "\n",
    "def load_model(network, model_path):\n",
    "    print(\"reload model\")\n",
    "    model_file = os.path.join(model_path, \"model_best.pt\")\n",
    "    print(\"model file\", model_file)\n",
    "    check_point = torch.load(model_file)\n",
    "\n",
    "    network.load_state_dict(check_point['model'])\n",
    "\n",
    "def count_parameters(model):\n",
    "    parameter_num = sum(p.numel() for p in model.parameters() if p.requires_grad)\n",
    "    print(\"parameter_num\", parameter_num) \n"
   ]
  },
  {
   "cell_type": "code",
   "execution_count": 12,
   "metadata": {},
   "outputs": [
    {
     "name": "stdout",
     "output_type": "stream",
     "text": [
      "args file load ../log/samplePaddingSessionRNN/checkpoint/01031151/model_best.pt\n",
      "device cuda\n",
      "**********train load**********\n",
      "action seq num 51275\n",
      "time seq num 51275\n",
      "loading item map\n",
      "loading item map\n",
      "observed_threshold 5 20\n",
      "loading data\n",
      "valid_start_time 1512172800\n",
      "test start time 1512259200\n",
      "seq num for training 2738883\n",
      "seq num of actions for training 2738883\n",
      "seq num for testing 430797\n",
      "seq num of actions for testing 430797\n",
      "load data duration  0:00:08.029441\n",
      "++++++++++valid load++++++++++\n",
      "item num 68008\n",
      "seq num 2738883\n",
      "batch size 8\n",
      "batch_num 342360\n",
      "seq num 430797\n",
      "batch size 8\n",
      "batch_num 53849\n",
      "seq num 430797\n",
      "batch size 8\n",
      "batch_num 53849\n"
     ]
    },
    {
     "name": "stderr",
     "output_type": "stream",
     "text": [
      "/zf15/rc7ne/anaconda3/lib/python3.7/site-packages/torch/nn/modules/rnn.py:61: UserWarning: dropout option adds dropout after all but last recurrent layer, so non-zero dropout expects num_layers greater than 1, but got dropout=0.2 and num_layers=1\n",
      "  \"num_layers={}\".format(dropout, num_layers))\n"
     ]
    },
    {
     "name": "stdout",
     "output_type": "stream",
     "text": [
      "reload model\n",
      "model file ../log/samplePaddingSessionRNN/checkpoint/01031151/model_best.pt\n"
     ]
    }
   ],
   "source": [
    "model_path = args.checkpoint_dir\n",
    "load_args(model_path)\n",
    "\n",
    "BPTT = args.bptt\n",
    "\n",
    "device = torch.device('cuda' if args.cuda else 'cpu')\n",
    "print(\"device\", device)\n",
    "\n",
    "if args.embedding_dim == -1:\n",
    "    raise AssertionError()\n",
    "\n",
    "data_name = args.data_name\n",
    "\n",
    "print(\"*\"*10+\"train load\"+\"*\"*10)\n",
    "\n",
    "observed_threshold = args.test_observed\n",
    "\n",
    "data_action = args.data_folder+args.data_action\n",
    "data_cate = args.data_folder+args.data_cate\n",
    "data_time = args.data_folder+args.data_time\n",
    "\n",
    "valid_start_time = args.valid_start_time\n",
    "test_start_time = args.test_start_time\n",
    "\n",
    "st = datetime.datetime.now()\n",
    "data_obj = MYDATA(data_action, data_cate, data_time, valid_start_time, test_start_time, observed_threshold, args.window_size)\n",
    "et = datetime.datetime.now()\n",
    "print(\"load data duration \", et-st)\n",
    "\n",
    "train_data = data_obj.train_dataset\n",
    "valid_data = data_obj.test_dataset\n",
    "test_data = data_obj.test_dataset\n",
    "\n",
    "print(\"+\"*10+\"valid load\"+\"+\"*10)\n",
    "\n",
    "input_size = data_obj.items()\n",
    "output_size = input_size\n",
    "\n",
    "negative_num = args.negative_num\n",
    "\n",
    "train_data_loader = MYDATALOADER(train_data, args.batch_size)\n",
    "valid_data_loader = MYDATALOADER(valid_data, args.batch_size)\n",
    "test_data_loader = MYDATALOADER(valid_data, args.batch_size)\n",
    "\n",
    "ss = SampledSoftmax(output_size, negative_num, args.embedding_dim, None)\n",
    "\n",
    "network = NETWORK(input_size, ss, args, device)\n",
    "load_model(network, model_path)\n",
    "\n",
    "### eval\n",
    "loss_function = LossFunction(device, loss_type=args.loss_type)\n",
    "\n",
    "topk = args.topk\n",
    "eval = Evaluation(None, network, loss_function, device, topk, args.warm_start)"
   ]
  },
  {
   "cell_type": "code",
   "execution_count": 25,
   "metadata": {},
   "outputs": [
    {
     "name": "stdout",
     "output_type": "stream",
     "text": [
      "68006\n"
     ]
    }
   ],
   "source": [
    "\n",
    "# itemfreq_list = list(train_item_freq_dict.values())\n",
    "# print(len(itemfreq_list))\n",
    "# for item in train_item_freq_dict:\n",
    "#     train_item_freq_dict[item] = train_item_freq_dict[item]/len(train_data.m_y_action)\n",
    "\n",
    "# train_itemfreq_file = \"train_item_freq.txt\"\n",
    "# f = open(train_itemfreq_file, \"w\")\n",
    "# for itemfreq in itemfreq_list:\n",
    "#     f.write(str(itemfreq))\n",
    "#     f.write(\"\\n\")\n",
    "# f.close()\n",
    "\n",
    "# exit()"
   ]
  },
  {
   "cell_type": "code",
   "execution_count": 85,
   "metadata": {},
   "outputs": [],
   "source": []
  },
  {
   "cell_type": "code",
   "execution_count": null,
   "metadata": {},
   "outputs": [],
   "source": []
  },
  {
   "cell_type": "code",
   "execution_count": 13,
   "metadata": {},
   "outputs": [],
   "source": [
    "def set_bucket4item(data):\n",
    "    item_freq_dict = dict(Counter(data.m_y_action))\n",
    "    print(len(item_freq_dict))\n",
    "    freq_list = list(item_freq_dict.values())\n",
    "    print(min(freq_list), max(freq_list))\n",
    "#     freq_threshold_list = [0, 20, 80, 150, 200, 250, 300, 350]\n",
    "    freq_threshold_list = [0, 20, 30, 40, 80, 120, 240, 400]\n",
    "\n",
    "    itemid_bucketid_dict = {}\n",
    "    bucketid_itemidlist_dict = {}\n",
    "    for itemid in item_freq_dict:\n",
    "        i = item_freq_dict[itemid]\n",
    "        bucketid = 0\n",
    "        if i <= freq_threshold_list[1]:\n",
    "            bucketid = 1\n",
    "        elif i <= freq_threshold_list[2]:\n",
    "            bucketid = 2\n",
    "        elif i <= freq_threshold_list[3]:\n",
    "            bucketid = 3\n",
    "        elif i <= freq_threshold_list[4]:\n",
    "            bucketid = 4\n",
    "        elif i <= freq_threshold_list[5]:\n",
    "            bucketid = 5\n",
    "        elif i <= freq_threshold_list[6]:\n",
    "            bucketid = 6\n",
    "        elif i <= freq_threshold_list[7]:\n",
    "            bucketid = 7\n",
    "        else:\n",
    "            bucketid = 8\n",
    "        itemid_bucketid_dict[itemid] = bucketid\n",
    "        if bucketid not in bucketid_itemidlist_dict:\n",
    "            bucketid_itemidlist_dict[bucketid] = []\n",
    "        bucketid_itemidlist_dict[bucketid].append(itemid)\n",
    "\n",
    "    print(\"bucket\", len(bucketid_itemidlist_dict), bucketid_itemidlist_dict.keys())\n",
    "#     for bucketid in bucketid_itemidlist_dict:\n",
    "    for bucketid in range(1, len(bucketid_itemidlist_dict)+1):\n",
    "        itemid_list_bucket = bucketid_itemidlist_dict[bucketid]\n",
    "        freq_bucket = 0\n",
    "        for itemid in itemid_list_bucket:\n",
    "            freq_bucket += item_freq_dict[itemid]\n",
    "        print(\"bucket %d, freq: %d, item num: %d\"%(bucketid, freq_bucket, len(itemid_list_bucket)))\n",
    "\n",
    "    return item_freq_dict, itemid_bucketid_dict, bucketid_itemidlist_dict\n"
   ]
  },
  {
   "cell_type": "code",
   "execution_count": 14,
   "metadata": {},
   "outputs": [
    {
     "name": "stdout",
     "output_type": "stream",
     "text": [
      "68006\n",
      "1 2123\n",
      "bucket 8 dict_keys([1, 4, 8, 5, 6, 2, 7, 3])\n",
      "bucket 1, freq: 347319, item num: 21234\n",
      "bucket 2, freq: 476984, item num: 19241\n",
      "bucket 3, freq: 323613, item num: 9263\n",
      "bucket 4, freq: 676163, item num: 12278\n",
      "bucket 5, freq: 311552, item num: 3201\n",
      "bucket 6, freq: 343424, item num: 2116\n",
      "bucket 7, freq: 144001, item num: 482\n",
      "bucket 8, freq: 115827, item num: 191\n"
     ]
    }
   ],
   "source": [
    "train_item_freq_dict, train_itemid_bucketid_dict, train_bucketid_itemidlist_dict = set_bucket4item(train_data)"
   ]
  },
  {
   "cell_type": "code",
   "execution_count": 15,
   "metadata": {},
   "outputs": [
    {
     "data": {
      "text/plain": [
       "8"
      ]
     },
     "execution_count": 15,
     "metadata": {},
     "output_type": "execute_result"
    }
   ],
   "source": [
    "train_itemid_bucketid_dict[1]"
   ]
  },
  {
   "cell_type": "code",
   "execution_count": null,
   "metadata": {},
   "outputs": [],
   "source": []
  },
  {
   "cell_type": "code",
   "execution_count": 14,
   "metadata": {},
   "outputs": [],
   "source": [
    "sorted_train_item_freq_dict = {k:v for k, v in sorted(train_item_freq_dict.items(), key=lambda x: x[1], reverse=True)}"
   ]
  },
  {
   "cell_type": "code",
   "execution_count": 15,
   "metadata": {},
   "outputs": [],
   "source": [
    "sorted_itemid_list = list(sorted_train_item_freq_dict.keys())"
   ]
  },
  {
   "cell_type": "code",
   "execution_count": 16,
   "metadata": {},
   "outputs": [
    {
     "data": {
      "text/plain": [
       "245"
      ]
     },
     "execution_count": 16,
     "metadata": {},
     "output_type": "execute_result"
    }
   ],
   "source": [
    "sorted_train_item_freq_dict[591]"
   ]
  },
  {
   "cell_type": "code",
   "execution_count": 17,
   "metadata": {},
   "outputs": [
    {
     "name": "stdout",
     "output_type": "stream",
     "text": [
      "--------------------eval train--------------------\n",
      "shuffling\n"
     ]
    },
    {
     "name": "stderr",
     "output_type": "stream",
     "text": [
      "/net/zf15/rc7ne/Project/SessionRecommendation/biasRNN/metric.py:19: UserWarning: This overload of nonzero is deprecated:\n",
      "\tnonzero()\n",
      "Consider using one of the following signatures instead:\n",
      "\tnonzero(*, bool as_tuple) (Triggered internally at  /opt/conda/conda-bld/pytorch_1603729006826/work/torch/csrc/utils/python_arg_parser.cpp:882.)\n",
      "  hits = hits.nonzero()\n"
     ]
    },
    {
     "name": "stdout",
     "output_type": "stream",
     "text": [
      "train loss: 7.2250, recall: 0.3581, mrr: 0.1467\n"
     ]
    }
   ],
   "source": [
    "print(\"--\"*10+\"eval train\"+\"--\"*10)\n",
    "mean_loss, mean_recall, mean_mrr = eval.eval(train_data_loader, \"train\")\n",
    "msg = \"train loss: {:.4f}, recall: {:.4f}, mrr: {:.4f}\".format(mean_loss, mean_recall, mean_mrr)\n",
    "print(msg)"
   ]
  },
  {
   "cell_type": "code",
   "execution_count": 10,
   "metadata": {},
   "outputs": [],
   "source": [
    "# def get_bucketid(itemid, itemid_bucketid_dict):\n",
    "    \n",
    "#     return itemid_bucketid_dict[itemid]"
   ]
  },
  {
   "cell_type": "code",
   "execution_count": 39,
   "metadata": {},
   "outputs": [],
   "source": [
    "def bias_eval(eval_data, itemid_bucketid_dict):\n",
    "    network.eval()\n",
    "\n",
    "    losses = []\n",
    "    recalls = []\n",
    "    mrrs = []\n",
    "    weights = []\n",
    "\n",
    "    dataloader = eval_data\n",
    "    topk = args.topk\n",
    "    \n",
    "    item_recall_dict = {}\n",
    "    item_mrr_dict = {}\n",
    "#     # ### load \n",
    "    # item_freq_dict = {}\n",
    "\n",
    "    with torch.no_grad():\n",
    "        total_test_num = []\n",
    "\n",
    "        for x_short_action_batch, mask_short_action_batch, \\\n",
    "            pad_x_short_actionNum_batch, y_action_batch, y_action_idx_batch, _ in dataloader:\n",
    "            \n",
    "#             eval_flag = random.randint(1,101)\n",
    "#             if eval_flag != 10:\n",
    "#                 continue\n",
    "\n",
    "            batch_item_recall_dict = {}\n",
    "            batch_item_mrr_dict = {}\n",
    "\n",
    "            x_short_action_batch = x_short_action_batch.to(device)\n",
    "            mask_short_action_batch = mask_short_action_batch.to(device)\n",
    "            y_action_batch = y_action_batch.to(device)\n",
    "\n",
    "            # warm_start_mask = (y_action_idx_batch>=self.warm_start)\n",
    "\n",
    "            output_batch = network(x_short_action_batch, mask_short_action_batch, pad_x_short_actionNum_batch)\n",
    "\n",
    "            sampled_logit_batch, sampled_target_batch = network.m_ss(output_batch, y_action_batch, \\\n",
    "                                                        None, None, None, None, None, None, \"full\")\n",
    "\n",
    "            loss_batch = loss_function(sampled_logit_batch, sampled_target_batch)\n",
    "            losses.append(loss_batch.item())\n",
    "\n",
    "            _, preds = torch.topk(sampled_logit_batch, topk, -1)\n",
    "            preds = preds.cpu()\n",
    "            targets = sampled_target_batch.cpu()\n",
    "\n",
    "            expand_targets = targets.view(-1, 1).expand_as(preds)\n",
    "            hits = (preds == expand_targets)\n",
    "\n",
    "            for i, hit in enumerate(hits):\n",
    "                target_i = targets[i]\n",
    "                itemid_i = target_i.item()\n",
    "                \n",
    "                rank = hit.nonzero()\n",
    "                if itemid_i not in batch_item_recall_dict:\n",
    "                    batch_item_recall_dict[itemid_i] = []\n",
    "                    batch_item_mrr_dict[itemid_i] = []\n",
    "                    \n",
    "                if len(rank) == 1:\n",
    "                    batch_item_recall_dict[itemid_i].append(1.0)\n",
    "                    rank = rank[0]+1.0\n",
    "                    rank = torch.reciprocal(rank.float())\n",
    "                    batch_item_mrr_dict[itemid_i].append(rank.item())\n",
    "                else:\n",
    "                    batch_item_recall_dict[itemid_i].append(0.0)\n",
    "                    batch_item_mrr_dict[itemid_i].append(0.0)\n",
    "                \n",
    "            for item in batch_item_recall_dict:\n",
    "                batch_mean_recall = np.mean(batch_item_recall_dict[item])\n",
    "                batch_mean_mrr = np.mean(batch_item_mrr_dict[item])\n",
    "                \n",
    "                if item not in item_recall_dict:\n",
    "                    item_recall_dict[item] = []\n",
    "                    item_mrr_dict[item] = []\n",
    "                item_recall_dict[item].append(batch_mean_recall)\n",
    "                item_mrr_dict[item].append(batch_mean_mrr)\n",
    "                \n",
    "            total_test_num.append(y_action_batch.view(-1).size(0))\n",
    "    return item_recall_dict, item_mrr_dict\n",
    "    "
   ]
  },
  {
   "cell_type": "code",
   "execution_count": 40,
   "metadata": {},
   "outputs": [],
   "source": [
    "# bias_eval(train_data_loader, train_item_freq_dict)"
   ]
  },
  {
   "cell_type": "code",
   "execution_count": 41,
   "metadata": {},
   "outputs": [
    {
     "name": "stdout",
     "output_type": "stream",
     "text": [
      "shuffling\n"
     ]
    }
   ],
   "source": [
    "item_recall_dict, item_mrr_dict = bias_eval(train_data_loader, train_itemid_bucketid_dict)"
   ]
  },
  {
   "cell_type": "code",
   "execution_count": 74,
   "metadata": {},
   "outputs": [],
   "source": [
    "bucket_recall_dict = {}\n",
    "bucket_mrr_dict = {}\n",
    "for item in item_recall_dict:\n",
    "    bucketid = train_itemid_bucketid_dict[item]\n",
    "    item_recall = np.mean(item_recall_dict[item])\n",
    "    \n",
    "#     item_recall = item_recall[0]*1.0/item_recall[1]\n",
    "    if bucketid not in bucket_recall_dict:\n",
    "        bucket_recall_dict[bucketid] = []\n",
    "        bucket_mrr_dict[bucketid] = []\n",
    "    bucket_recall_dict[bucketid].append(item_recall)\n",
    "    \n",
    "    item_mrr = np.mean(item_mrr_dict[item])\n",
    "#     item_mrr = item_mrr[0]*1.0/item_mrr[1]\n",
    "    bucket_mrr_dict[bucketid].append(item_mrr)\n",
    "\n",
    "for bucket in bucket_recall_dict:\n",
    "    recall_list = bucket_recall_dict[bucket]\n",
    "    mean_recall = np.mean(recall_list)\n",
    "    bucket_recall_dict[bucket] = mean_recall\n",
    "\n",
    "for bucket in bucket_mrr_dict:\n",
    "    mrr_list = bucket_mrr_dict[bucket]\n",
    "    mean_mrr = np.mean(mrr_list)\n",
    "    bucket_mrr_dict[bucket] = mean_mrr  "
   ]
  },
  {
   "cell_type": "code",
   "execution_count": 96,
   "metadata": {},
   "outputs": [],
   "source": [
    "sorted_bucket_recall_dict = {k:v for k, v in sorted(bucket_recall_dict.items(), key=lambda x: x[0], reverse=True)}\n",
    "sorted_bucket_mrr_dict = {k:v for k, v in sorted(bucket_mrr_dict.items(), key=lambda x: x[0], reverse=True)}"
   ]
  },
  {
   "cell_type": "code",
   "execution_count": 100,
   "metadata": {},
   "outputs": [
    {
     "name": "stdout",
     "output_type": "stream",
     "text": [
      "8:0.2876, 7:0.2662, 6:0.2387, 5:0.2377, 4:0.2323, 3:0.2063, 2:0.1842, 1:0.1418, \n"
     ]
    }
   ],
   "source": [
    "for k in sorted_bucket_recall_dict:\n",
    "#     print(k)\n",
    "    recall = sorted_bucket_recall_dict[k]\n",
    "    print(\"%d:%.4f\"%(k, recall), end=\", \")\n",
    "print()"
   ]
  },
  {
   "cell_type": "code",
   "execution_count": null,
   "metadata": {},
   "outputs": [],
   "source": []
  },
  {
   "cell_type": "code",
   "execution_count": 75,
   "metadata": {},
   "outputs": [
    {
     "name": "stdout",
     "output_type": "stream",
     "text": [
      "1:0.3125, 2:0.3152, 3:0.3273, 4:0.3542, 5:0.3554, 6:0.3485, 7:0.3432, 8:0.3814, \n"
     ]
    }
   ],
   "source": [
    "for i in range(1, 9):\n",
    "    print(\"%d:%.4f\"%(i, bucket_recall_dict[i]), end=\", \")\n",
    "print()"
   ]
  },
  {
   "cell_type": "code",
   "execution_count": 76,
   "metadata": {},
   "outputs": [
    {
     "name": "stdout",
     "output_type": "stream",
     "text": [
      "1:0.1363, 2:0.1108, 3:0.1134, 4:0.1110, 5:0.1166, 6:0.1209, 7:0.1363, 8:0.1324, \n"
     ]
    }
   ],
   "source": [
    "for i in range(1, 9):\n",
    "    print(\"%d:%.4f\"%(i, bucket_mrr_dict[i]), end=\", \")\n",
    "print()"
   ]
  },
  {
   "cell_type": "code",
   "execution_count": null,
   "metadata": {},
   "outputs": [],
   "source": []
  },
  {
   "cell_type": "code",
   "execution_count": 17,
   "metadata": {},
   "outputs": [
    {
     "name": "stdout",
     "output_type": "stream",
     "text": [
      "recall\n",
      "1 recall [154503.0, 399485.0]\n",
      "1:0.3868, 2 recall [98387.0, 273779.0]\n",
      "2:0.3594, 3 recall [108131.0, 304190.0]\n",
      "3:0.3555, 4 recall [142787.0, 405289.0]\n",
      "4:0.3523, 5 recall [101641.0, 291182.0]\n",
      "5:0.3491, 6 recall [147265.0, 422700.0]\n",
      "6:0.3484, 7 recall [106963.0, 311422.0]\n",
      "7:0.3435, 8 recall [105438.0, 330641.0]\n",
      "8:0.3189, \n",
      "mrr\n",
      "1 mrr [54172.382816109806, 399485.0]\n",
      "1:0.1356, 2 mrr [33972.77482056245, 273779.0]\n",
      "2:0.1241, 3 mrr [39045.844110224396, 304190.0]\n",
      "3:0.1284, 4 mrr [55967.14206555113, 405289.0]\n",
      "4:0.1381, 5 mrr [42985.19073393941, 291182.0]\n",
      "5:0.1476, 6 mrr [66511.61650883779, 422700.0]\n",
      "6:0.1573, 7 mrr [51561.4920447655, 311422.0]\n",
      "7:0.1656, 8 mrr [51641.94107887894, 330641.0]\n",
      "8:0.1562, \n"
     ]
    }
   ],
   "source": [
    "print(\"recall\")\n",
    "train_recall_list = []\n",
    "bucketid_list = []\n",
    "for k in bucket_recall_dict:\n",
    "    \n",
    "    recall = bucket_recall_dict[k]\n",
    "    print(k, \"recall\", recall)\n",
    "    if recall[1] == 0:\n",
    "        continue\n",
    "        \n",
    "    \n",
    "    recall = recall[0]/recall[1]\n",
    "    print(\"%.d:%.4f\"%(k, recall), end=\", \")\n",
    "    \n",
    "    bucketid_list.append(k)\n",
    "    train_recall_list.append(recall)\n",
    "print()\n",
    "\n",
    "\n",
    "print(\"mrr\")\n",
    "train_mrr_list = []\n",
    "for k in bucket_mrr_dict:\n",
    "    mrr = bucket_mrr_dict[k]\n",
    "    print(k, \"mrr\", mrr)\n",
    "    if mrr[1] == 0:\n",
    "        continue\n",
    "    \n",
    "    mrr = mrr[0]/mrr[1]\n",
    "    print(\"%.d:%.4f\"%(k, mrr), end=\", \")\n",
    "    \n",
    "    train_mrr_list.append(mrr)\n",
    "print()"
   ]
  },
  {
   "cell_type": "code",
   "execution_count": 18,
   "metadata": {},
   "outputs": [],
   "source": [
    "# train_recall_list = [0.1870, 0.2044, 0.2074, 0.2160, 0.2199, 0.2239, 0.2347, 0.2844]\n",
    "# train_mrr_list = [0.1052, 0.1161, 0.1160, 0.1196, 0.1183, 0.1148, 0.1142, 0.1153]\n",
    "# freq_list = [i for i in range(8)]"
   ]
  },
  {
   "cell_type": "code",
   "execution_count": null,
   "metadata": {},
   "outputs": [],
   "source": []
  },
  {
   "cell_type": "code",
   "execution_count": 19,
   "metadata": {},
   "outputs": [
    {
     "data": {
      "image/png": "[encoded data removed]",
      "text/plain": [
       "<Figure size 432x288 with 1 Axes>"
      ]
     },
     "metadata": {
      "needs_background": "light"
     },
     "output_type": "display_data"
    }
   ],
   "source": [
    "plt.plot(bucketid_list, train_recall_list)\n",
    "plt.show()"
   ]
  },
  {
   "cell_type": "code",
   "execution_count": 20,
   "metadata": {},
   "outputs": [
    {
     "name": "stdout",
     "output_type": "stream",
     "text": [
      "[0.13560554918485002, 0.12408831510292043, 0.1283600516460909, 0.1380919345591692, 0.14762310422326727, 0.1573494594483979, 0.16556791763191264, 0.15618734845006801]\n"
     ]
    },
    {
     "data": {
      "image/png": "[encoded data removed]",
      "text/plain": [
       "<Figure size 432x288 with 1 Axes>"
      ]
     },
     "metadata": {
      "needs_background": "light"
     },
     "output_type": "display_data"
    }
   ],
   "source": [
    "print(train_mrr_list)\n",
    "plt.plot(bucketid_list, train_mrr_list)\n",
    "plt.show()"
   ]
  },
  {
   "cell_type": "code",
   "execution_count": 137,
   "metadata": {},
   "outputs": [
    {
     "name": "stdout",
     "output_type": "stream",
     "text": [
      "--------------------eval test--------------------\n",
      "shuffling\n",
      "eval loss: 8.9094, recall: 0.1940, mrr: 0.0850\n"
     ]
    }
   ],
   "source": [
    "\n",
    "print(\"--\"*10+\"eval test\"+\"--\"*10)\n",
    "mean_loss, mean_recall, mean_mrr = eval.eval(test_data_loader, \"test\")\n",
    "msg = \"eval loss: {:.4f}, recall: {:.4f}, mrr: {:.4f}\".format(mean_loss, mean_recall, mean_mrr)\n",
    "print(msg)\n",
    "\n",
    "# test_item_freq_dict = dict(collections.Counter(test_data.m_y_action))\n",
    "# print(len(test_item_freq_dict))\n",
    "# itemfreq_list = list(test_item_freq_dict.values())\n",
    "# print(len(itemfreq_list))\n",
    "# for item in test_item_freq_dict:\n",
    "# \ttest_item_freq_dict[item] = test_item_freq_dict[item]/len(test_data.m_y_action)"
   ]
  },
  {
   "cell_type": "code",
   "execution_count": 22,
   "metadata": {},
   "outputs": [
    {
     "name": "stdout",
     "output_type": "stream",
     "text": [
      "shuffling\n"
     ]
    }
   ],
   "source": [
    "# test_freq_recall_dict, test_freq_mrr_dict = bias_eval(test_data_loader, train_item_freq_dict)\n",
    "# test_bucket_recall_dict, test_bucket_mrr_dict = bias_eval(test_data_loader, train_itemid_bucketid_dict)"
   ]
  },
  {
   "cell_type": "code",
   "execution_count": null,
   "metadata": {},
   "outputs": [],
   "source": []
  },
  {
   "cell_type": "code",
   "execution_count": 18,
   "metadata": {},
   "outputs": [],
   "source": [
    "def bias_eval(eval_data, itemid_bucketid_dict):\n",
    "    network.eval()\n",
    "\n",
    "    losses = []\n",
    "    recalls = []\n",
    "    mrrs = []\n",
    "    weights = []\n",
    "\n",
    "    dataloader = eval_data\n",
    "    topk = 5\n",
    "    \n",
    "    item_recall_dict = {}\n",
    "    item_mrr_dict = {}\n",
    "#     # ### load \n",
    "    # item_freq_dict = {}\n",
    "\n",
    "    with torch.no_grad():\n",
    "        total_test_num = []\n",
    "\n",
    "        for x_short_action_batch, mask_short_action_batch, pad_x_short_actionNum_batch, \\\n",
    "            y_action_batch, y_action_idx_batch, _ in dataloader:\n",
    "            \n",
    "#             eval_flag = random.randint(1,101)\n",
    "#             if eval_flag != 10:\n",
    "#                 continue\n",
    "\n",
    "#             batch_item_recall_dict = {}\n",
    "#             batch_item_mrr_dict = {}\n",
    "\n",
    "            x_short_action_batch = x_short_action_batch.to(device)\n",
    "            mask_short_action_batch = mask_short_action_batch.to(device)\n",
    "            y_action_batch = y_action_batch.to(device)\n",
    "\n",
    "            # warm_start_mask = (y_action_idx_batch>=self.warm_start)\n",
    "\n",
    "            output_batch = network(x_short_action_batch, mask_short_action_batch, pad_x_short_actionNum_batch)\n",
    "\n",
    "            sampled_logit_batch, sampled_target_batch = network.m_ss(output_batch, y_action_batch, \\\n",
    "                                                        None, None, None, None, None, None, \"full\")\n",
    "\n",
    "            loss_batch = loss_function(sampled_logit_batch, sampled_target_batch)\n",
    "            losses.append(loss_batch.item())\n",
    "\n",
    "            _, preds = torch.topk(sampled_logit_batch, topk, -1)\n",
    "            preds = preds.cpu()\n",
    "            targets = sampled_target_batch.cpu()\n",
    "\n",
    "            expand_targets = targets.view(-1, 1).expand_as(preds)\n",
    "            hits = (preds == expand_targets)\n",
    "\n",
    "            for i, hit in enumerate(hits):\n",
    "                target_i = targets[i]\n",
    "                itemid_i = target_i.item()\n",
    "                \n",
    "                rank = hit.nonzero()\n",
    "                if itemid_i not in item_recall_dict:\n",
    "                    item_recall_dict[itemid_i] = []\n",
    "                    item_mrr_dict[itemid_i] = []\n",
    "                    \n",
    "                if len(rank) == 1:\n",
    "                    item_recall_dict[itemid_i].append(1.0)\n",
    "                    rank = rank[0]+1.0\n",
    "                    rank = torch.reciprocal(rank.float())\n",
    "                    item_mrr_dict[itemid_i].append(rank.item())\n",
    "                else:\n",
    "                    item_recall_dict[itemid_i].append(0.0)\n",
    "                    item_mrr_dict[itemid_i].append(0.0)\n",
    "                \n",
    "#             for item in batch_item_recall_dict:\n",
    "#                 batch_mean_recall = np.mean(batch_item_recall_dict[item])\n",
    "#                 batch_mean_mrr = np.mean(batch_item_mrr_dict[item])\n",
    "                \n",
    "#                 if item not in item_recall_dict:\n",
    "#                     item_recall_dict[item] = []\n",
    "#                     item_mrr_dict[item] = []\n",
    "#                 item_recall_dict[item].append(batch_mean_recall)\n",
    "#                 item_mrr_dict[item].append(batch_mean_mrr)\n",
    "                \n",
    "            total_test_num.append(y_action_batch.view(-1).size(0))\n",
    "    return item_recall_dict, item_mrr_dict\n",
    "    "
   ]
  },
  {
   "cell_type": "code",
   "execution_count": 19,
   "metadata": {},
   "outputs": [
    {
     "name": "stdout",
     "output_type": "stream",
     "text": [
      "shuffling\n"
     ]
    }
   ],
   "source": [
    "test_item_recall_dict, test_item_mrr_dict = bias_eval(test_data_loader, train_itemid_bucketid_dict)"
   ]
  },
  {
   "cell_type": "code",
   "execution_count": 20,
   "metadata": {},
   "outputs": [],
   "source": [
    "bucket_recall_dict = {}\n",
    "bucket_mrr_dict = {}\n",
    "for item in test_item_recall_dict:\n",
    "    bucketid = train_itemid_bucketid_dict[item]\n",
    "    item_recall = np.mean(test_item_recall_dict[item])\n",
    "    \n",
    "#     item_recall = item_recall[0]*1.0/item_recall[1]\n",
    "    if bucketid not in bucket_recall_dict:\n",
    "        bucket_recall_dict[bucketid] = []\n",
    "        bucket_mrr_dict[bucketid] = []\n",
    "    bucket_recall_dict[bucketid].append(item_recall)\n",
    "    \n",
    "    item_mrr = np.mean(test_item_mrr_dict[item])\n",
    "#     item_mrr = item_mrr[0]*1.0/item_mrr[1]\n",
    "    bucket_mrr_dict[bucketid].append(item_mrr)\n",
    "\n",
    "for bucket in bucket_recall_dict:\n",
    "    recall_list = bucket_recall_dict[bucket]\n",
    "    mean_recall = np.mean(recall_list)\n",
    "    bucket_recall_dict[bucket] = mean_recall\n",
    "\n",
    "for bucket in bucket_mrr_dict:\n",
    "    mrr_list = bucket_mrr_dict[bucket]\n",
    "    mean_mrr = np.mean(mrr_list)\n",
    "    bucket_mrr_dict[bucket] = mean_mrr  "
   ]
  },
  {
   "cell_type": "code",
   "execution_count": 21,
   "metadata": {},
   "outputs": [
    {
     "name": "stdout",
     "output_type": "stream",
     "text": [
      "recall\n",
      "1:0.0890, 2:0.0948, 3:0.1045, 4:0.1086, 5:0.1124, 6:0.1248, 7:0.1391, 8:0.1674, \n",
      "mrr\n",
      "1:0.0598, 2:0.0618, 3:0.0662, 4:0.0654, 5:0.0629, 6:0.0688, 7:0.0758, 8:0.0948, \n"
     ]
    }
   ],
   "source": [
    "print(\"recall\")\n",
    "for i in range(1, 9):\n",
    "    print(\"%d:%.4f\"%(i, bucket_recall_dict[i]), end=\", \")\n",
    "print()\n",
    "print(\"mrr\")\n",
    "for i in range(1, 9):\n",
    "    print(\"%d:%.4f\"%(i, bucket_mrr_dict[i]), end=\", \")\n",
    "print()"
   ]
  },
  {
   "cell_type": "code",
   "execution_count": null,
   "metadata": {},
   "outputs": [],
   "source": [
    "recall\n",
    "1:0.0753, 2:0.0787, 3:0.0852, 4:0.0860, 5:0.0842, 6:0.0939, 7:0.1046, 8:0.1260, \n",
    "mrr\n",
    "1:0.0217, 2:0.0225, 3:0.0242, 4:0.0240, 5:0.0230, 6:0.0254, 7:0.0282, 8:0.0346, \n",
    "1\n"
   ]
  },
  {
   "cell_type": "code",
   "execution_count": null,
   "metadata": {},
   "outputs": [],
   "source": []
  },
  {
   "cell_type": "code",
   "execution_count": 87,
   "metadata": {},
   "outputs": [
    {
     "name": "stdout",
     "output_type": "stream",
     "text": [
      "1:0.1401, 2:0.1812, 3:0.2027, 4:0.2285, 5:0.2352, 6:0.2339, 7:0.2609, 8:0.2820, \n"
     ]
    }
   ],
   "source": [
    "for i in range(1, 9):\n",
    "    print(\"%d:%.4f\"%(i, bucket_recall_dict[i]), end=\", \")\n",
    "print()"
   ]
  },
  {
   "cell_type": "code",
   "execution_count": 88,
   "metadata": {},
   "outputs": [
    {
     "name": "stdout",
     "output_type": "stream",
     "text": [
      "1:0.0657, 2:0.0705, 3:0.0712, 4:0.0796, 5:0.0792, 6:0.0789, 7:0.0903, 8:0.1013, \n"
     ]
    }
   ],
   "source": [
    "for i in range(1, 9):\n",
    "    print(\"%d:%.4f\"%(i, bucket_mrr_dict[i]), end=\", \")\n",
    "print()"
   ]
  },
  {
   "cell_type": "code",
   "execution_count": null,
   "metadata": {},
   "outputs": [],
   "source": []
  },
  {
   "cell_type": "code",
   "execution_count": 23,
   "metadata": {},
   "outputs": [
    {
     "name": "stdout",
     "output_type": "stream",
     "text": [
      "recall\n",
      "1 recall [16001.0, 61613.0]\n",
      "1:0.2597, 2 recall [9403.0, 43640.0]\n",
      "2:0.2155, 3 recall [9701.0, 48436.0]\n",
      "3:0.2003, 4 recall [12094.0, 63801.0]\n",
      "4:0.1896, 5 recall [8479.0, 45396.0]\n",
      "5:0.1868, 6 recall [11607.0, 66284.0]\n",
      "6:0.1751, 7 recall [7977.0, 48144.0]\n",
      "7:0.1657, 8 recall [8281.0, 53278.0]\n",
      "8:0.1554, \n",
      "mrr\n",
      "1 mrr [5708.227902315557, 61613.0]\n",
      "1:0.0926, 2 mrr [3427.2591065838933, 43640.0]\n",
      "2:0.0785, 3 mrr [3799.715749938041, 48436.0]\n",
      "3:0.0784, 4 mrr [5217.620945863426, 63801.0]\n",
      "4:0.0818, 5 mrr [3908.5877353213727, 45396.0]\n",
      "5:0.0861, 6 mrr [5794.360123116523, 66284.0]\n",
      "6:0.0874, 7 mrr [4119.804924279451, 48144.0]\n",
      "7:0.0856, 8 mrr [4617.470670457929, 53278.0]\n",
      "8:0.0867, \n"
     ]
    }
   ],
   "source": [
    "print(\"recall\")\n",
    "test_recall_list = []\n",
    "bucketid_list = []\n",
    "for k in test_bucket_recall_dict:\n",
    "    \n",
    "    recall = test_bucket_recall_dict[k]\n",
    "    print(k, \"recall\", recall)\n",
    "    if recall[1] == 0:\n",
    "        continue\n",
    "    recall = recall[0]/recall[1]\n",
    "    print(\"%.d:%.4f\"%(k, recall), end=\", \")\n",
    "    \n",
    "    bucketid_list.append(k)\n",
    "    test_recall_list.append(recall)\n",
    "print()\n",
    "\n",
    "print(\"mrr\")\n",
    "test_mrr_list = []\n",
    "for k in test_bucket_mrr_dict:\n",
    "    mrr = test_bucket_mrr_dict[k]\n",
    "    print(k, \"mrr\", mrr)\n",
    "    if mrr[1] == 0:\n",
    "        continue\n",
    "    \n",
    "    mrr = mrr[0]/mrr[1]\n",
    "    print(\"%.d:%.4f\"%(k, mrr), end=\", \")\n",
    "    test_mrr_list.append(mrr)\n",
    "    \n",
    "print()"
   ]
  },
  {
   "cell_type": "code",
   "execution_count": 24,
   "metadata": {},
   "outputs": [],
   "source": [
    "# test_recall_list = [0.1316, 0.1243, 0.1281, 0.1363, 0.1435, 0.1570, 0.1605, 0.2118]\n",
    "# test_mrr_list = [0.0789, 0.0734, 0.0733, 0.0762, 0.0792, 0.0850, 0.0806, 0.0892]\n",
    "# freq_list = [i for i in range(8)]"
   ]
  },
  {
   "cell_type": "code",
   "execution_count": 29,
   "metadata": {},
   "outputs": [
    {
     "name": "stdout",
     "output_type": "stream",
     "text": [
      "recall\n",
      "0.2597, 0.2155, 0.2003, 0.1896, 0.1868, 0.1751, 0.1657, 0.1554, \n",
      "mrr\n",
      "0.0926, 0.0785, 0.0784, 0.0818, 0.0861, 0.0874, 0.0856, 0.0867, \n"
     ]
    }
   ],
   "source": [
    "print(\"recall\")\n",
    "for i in test_recall_list:\n",
    "    print(\"%.4f\"%i, end=\", \")\n",
    "print()\n",
    "print(\"mrr\")\n",
    "for i in test_mrr_list:\n",
    "    print(\"%.4f\"%i, end=\", \")\n",
    "print()\n",
    "# print(test_mrr_list)"
   ]
  },
  {
   "cell_type": "code",
   "execution_count": 25,
   "metadata": {},
   "outputs": [
    {
     "data": {
      "image/png": "[encoded data removed]",
      "text/plain": [
       "<Figure size 432x288 with 1 Axes>"
      ]
     },
     "metadata": {
      "needs_background": "light"
     },
     "output_type": "display_data"
    }
   ],
   "source": [
    "plt.plot(bucketid_list, test_recall_list)\n",
    "plt.show()"
   ]
  },
  {
   "cell_type": "code",
   "execution_count": 26,
   "metadata": {},
   "outputs": [
    {
     "data": {
      "image/png": "[encoded data removed]",
      "text/plain": [
       "<Figure size 432x288 with 1 Axes>"
      ]
     },
     "metadata": {
      "needs_background": "light"
     },
     "output_type": "display_data"
    }
   ],
   "source": [
    "plt.plot(bucketid_list, test_mrr_list)\n",
    "plt.show()"
   ]
  },
  {
   "cell_type": "code",
   "execution_count": null,
   "metadata": {},
   "outputs": [],
   "source": []
  },
  {
   "cell_type": "markdown",
   "metadata": {},
   "source": [
    "### re-rank the results by debiasing method"
   ]
  },
  {
   "cell_type": "markdown",
   "metadata": {},
   "source": [
    "#### get the score of the prediction"
   ]
  },
  {
   "cell_type": "code",
   "execution_count": 16,
   "metadata": {},
   "outputs": [
    {
     "name": "stdout",
     "output_type": "stream",
     "text": [
      "item num 68008\n",
      "item num in model 68008\n"
     ]
    }
   ],
   "source": [
    "input_size = data_obj.items()\n",
    "print(\"item num in model\", input_size)"
   ]
  },
  {
   "cell_type": "code",
   "execution_count": 26,
   "metadata": {},
   "outputs": [
    {
     "data": {
      "text/plain": [
       "68006"
      ]
     },
     "execution_count": 26,
     "metadata": {},
     "output_type": "execute_result"
    }
   ],
   "source": [
    "len(train_item_freq_dict)"
   ]
  },
  {
   "cell_type": "code",
   "execution_count": 27,
   "metadata": {},
   "outputs": [
    {
     "name": "stdout",
     "output_type": "stream",
     "text": [
      "68007 1\n"
     ]
    }
   ],
   "source": [
    "item_list = list(train_item_freq_dict.keys())\n",
    "print(max(item_list), min(item_list))"
   ]
  },
  {
   "cell_type": "code",
   "execution_count": 28,
   "metadata": {},
   "outputs": [
    {
     "name": "stdout",
     "output_type": "stream",
     "text": [
      "0\n",
      "67420\n"
     ]
    }
   ],
   "source": [
    "for i in range(input_size):\n",
    "    if i not in item_list:\n",
    "        print(i)"
   ]
  },
  {
   "cell_type": "code",
   "execution_count": 36,
   "metadata": {},
   "outputs": [
    {
     "name": "stdout",
     "output_type": "stream",
     "text": [
      "torch.Size([68008]) cuda:0\n"
     ]
    }
   ],
   "source": [
    "train_item_freq_list = [train_item_freq_dict[i] if i in train_item_freq_dict else 0.0 for i in range(input_size)]\n",
    "item_pop = torch.from_numpy(np.array(train_item_freq_list)).to(device)\n",
    "item_pop = item_pop+1e-20\n",
    "print(item_pop.size(), item_pop.device)"
   ]
  },
  {
   "cell_type": "code",
   "execution_count": 45,
   "metadata": {},
   "outputs": [],
   "source": [
    "beta = 0.3\n",
    "def compensation(logits):\n",
    "    logits = logits*beta+(1-beta)\n",
    "    \n",
    "#     print(\"logits\", logits, torch.max(logits, dim=-1))\n",
    "    com_logits = logits/item_pop.unsqueeze(0)\n",
    "#     print(\"com_logits 1\", com_logits, torch.max(com_logits, dim=-1))\n",
    "    return com_logits"
   ]
  },
  {
   "cell_type": "code",
   "execution_count": 46,
   "metadata": {},
   "outputs": [],
   "source": [
    "alpha = 0.8\n",
    "def compensated_score(logits):\n",
    "    com_logits = compensation(logits)\n",
    "    \n",
    "    com_logits[:, 0] = 0\n",
    "    com_logits[:, 67420] = 0\n",
    "        \n",
    "    n_u = torch.norm(logits, dim=-1, keepdim=True)\n",
    "    m_u = torch.norm(com_logits, dim=-1, keepdim=True)\n",
    "    \n",
    "#     print(\"n_u\", n_u.size())\n",
    "#     print(\"m_u\", m_u.size())\n",
    "    tmp = alpha*com_logits*n_u/m_u\n",
    "    final_score = logits+tmp\n",
    "#     print(\"tmp\", tmp)\n",
    "#     print(\"n_u\", n_u)\n",
    "#     print(\"m_u\", m_u)\n",
    "#     print(\"logits\", logits)\n",
    "    \n",
    "    return final_score"
   ]
  },
  {
   "cell_type": "code",
   "execution_count": 47,
   "metadata": {},
   "outputs": [],
   "source": [
    "def compensated_bias_eval(eval_data, itemid_bucketid_dict):\n",
    "    network.eval()\n",
    "\n",
    "    losses = []\n",
    "    recalls = []\n",
    "    mrrs = []\n",
    "    weights = []\n",
    "\n",
    "    dataloader = eval_data\n",
    "    topk = 5\n",
    "    \n",
    "    item_recall_dict = {}\n",
    "    item_mrr_dict = {}\n",
    "#     # ### load \n",
    "    # item_freq_dict = {}\n",
    "\n",
    "    with torch.no_grad():\n",
    "        total_test_num = []\n",
    "        \n",
    "        batch_index = 0\n",
    "        for x_short_action_batch, mask_short_action_batch, \\\n",
    "            pad_x_short_actionNum_batch, y_action_batch, y_action_idx_batch, _ in dataloader:\n",
    "\n",
    "            x_short_action_batch = x_short_action_batch.to(device)\n",
    "            mask_short_action_batch = mask_short_action_batch.to(device)\n",
    "            y_action_batch = y_action_batch.to(device)\n",
    "\n",
    "            # warm_start_mask = (y_action_idx_batch>=self.warm_start)\n",
    "        \n",
    "#             batch_index += 1\n",
    "#             if batch_index > 1:\n",
    "#                 break\n",
    "        \n",
    "            output_batch = network(x_short_action_batch, mask_short_action_batch, pad_x_short_actionNum_batch)\n",
    "\n",
    "            sampled_logit_batch, sampled_target_batch = network.m_ss(output_batch, y_action_batch, \\\n",
    "                                                        None, None, None, None, None, None, \"full\")\n",
    "            \n",
    "#             print(\"sample logit size\", sampled_logit_batch.size())\n",
    "            compensated_logits = compensated_score(sampled_logit_batch)\n",
    "            \n",
    "            _, preds = torch.topk(compensated_logits, topk, -1)\n",
    "            preds = preds.cpu()\n",
    "            targets = sampled_target_batch.cpu()\n",
    "\n",
    "            expand_targets = targets.view(-1, 1).expand_as(preds)\n",
    "            hits = (preds == expand_targets)\n",
    "\n",
    "            for i, hit in enumerate(hits):\n",
    "                target_i = targets[i]\n",
    "                itemid_i = target_i.item()\n",
    "                \n",
    "                rank = hit.nonzero()\n",
    "                if itemid_i not in item_recall_dict:\n",
    "                    item_recall_dict[itemid_i] = []\n",
    "                    item_mrr_dict[itemid_i] = []\n",
    "                    \n",
    "                if len(rank) == 1:\n",
    "                    item_recall_dict[itemid_i].append(1.0)\n",
    "                    rank = rank[0]+1.0\n",
    "                    rank = torch.reciprocal(rank.float())\n",
    "                    item_mrr_dict[itemid_i].append(rank.item())\n",
    "                else:\n",
    "                    item_recall_dict[itemid_i].append(0.0)\n",
    "                    item_mrr_dict[itemid_i].append(0.0)\n",
    "                \n",
    "#             for item in batch_item_recall_dict:\n",
    "#                 batch_mean_recall = np.mean(batch_item_recall_dict[item])\n",
    "#                 batch_mean_mrr = np.mean(batch_item_mrr_dict[item])\n",
    "                \n",
    "#                 if item not in item_recall_dict:\n",
    "#                     item_recall_dict[item] = []\n",
    "#                     item_mrr_dict[item] = []\n",
    "#                 item_recall_dict[item].append(batch_mean_recall)\n",
    "#                 item_mrr_dict[item].append(batch_mean_mrr)\n",
    "                \n",
    "            total_test_num.append(y_action_batch.view(-1).size(0))\n",
    "    return item_recall_dict, item_mrr_dict\n",
    "    "
   ]
  },
  {
   "cell_type": "code",
   "execution_count": 48,
   "metadata": {},
   "outputs": [
    {
     "name": "stdout",
     "output_type": "stream",
     "text": [
      "shuffling\n"
     ]
    }
   ],
   "source": [
    "compensated_test_item_recall_dict, compensated_test_item_mrr_dict = compensated_bias_eval(test_data_loader, train_itemid_bucketid_dict)"
   ]
  },
  {
   "cell_type": "code",
   "execution_count": 49,
   "metadata": {},
   "outputs": [],
   "source": [
    "compensated_bucket_recall_dict = {}\n",
    "compensated_bucket_mrr_dict = {}\n",
    "for item in compensated_test_item_recall_dict:\n",
    "    bucketid = train_itemid_bucketid_dict[item]\n",
    "    item_recall = np.mean(compensated_test_item_recall_dict[item])\n",
    "    \n",
    "    if bucketid not in compensated_bucket_recall_dict:\n",
    "        compensated_bucket_recall_dict[bucketid] = []\n",
    "        compensated_bucket_mrr_dict[bucketid] = []\n",
    "    compensated_bucket_recall_dict[bucketid].append(item_recall)\n",
    "    \n",
    "    item_mrr = np.mean(compensated_test_item_mrr_dict[item])\n",
    "    compensated_bucket_mrr_dict[bucketid].append(item_mrr)\n",
    "\n",
    "for bucket in compensated_bucket_recall_dict:\n",
    "    recall_list = compensated_bucket_recall_dict[bucket]\n",
    "    mean_recall = np.mean(recall_list)\n",
    "    compensated_bucket_recall_dict[bucket] = mean_recall\n",
    "\n",
    "for bucket in compensated_bucket_mrr_dict:\n",
    "    mrr_list = compensated_bucket_mrr_dict[bucket]\n",
    "    mean_mrr = np.mean(mrr_list)\n",
    "    compensated_bucket_mrr_dict[bucket] = mean_mrr  "
   ]
  },
  {
   "cell_type": "code",
   "execution_count": null,
   "metadata": {},
   "outputs": [],
   "source": []
  },
  {
   "cell_type": "code",
   "execution_count": 50,
   "metadata": {},
   "outputs": [
    {
     "name": "stdout",
     "output_type": "stream",
     "text": [
      "recall\n",
      "1:0.1144, 2:0.0796, 3:0.0515, 4:0.0239, 5:0.0063, 6:0.0031, 7:0.0013, 8:0.0018, \n",
      "mrr\n",
      "1:0.0722, 2:0.0463, 3:0.0276, 4:0.0115, 5:0.0027, 6:0.0012, 7:0.0004, 8:0.0006, \n"
     ]
    }
   ],
   "source": [
    "print(\"recall\")\n",
    "for i in range(1, 9):\n",
    "    print(\"%d:%.4f\"%(i, compensated_bucket_recall_dict[i]), end=\", \")\n",
    "print()\n",
    "print(\"mrr\")\n",
    "for i in range(1, 9):\n",
    "    print(\"%d:%.4f\"%(i, compensated_bucket_mrr_dict[i]), end=\", \")\n",
    "print()"
   ]
  },
  {
   "cell_type": "code",
   "execution_count": 66,
   "metadata": {},
   "outputs": [
    {
     "name": "stdout",
     "output_type": "stream",
     "text": [
      "recall\n",
      "1:0.0753, 2:0.0787, 3:0.0852, 4:0.0860, 5:0.0842, 6:0.0939, 7:0.1046, 8:0.1260, \n",
      "mrr\n",
      "1:0.0217, 2:0.0225, 3:0.0242, 4:0.0240, 5:0.0230, 6:0.0254, 7:0.0282, 8:0.0346, \n"
     ]
    }
   ],
   "source": [
    "print(\"recall\")\n",
    "for i in range(1, 9):\n",
    "    print(\"%d:%.4f\"%(i, compensated_bucket_recall_dict[i]), end=\", \")\n",
    "print()\n",
    "print(\"mrr\")\n",
    "for i in range(1, 9):\n",
    "    print(\"%d:%.4f\"%(i, compensated_bucket_mrr_dict[i]), end=\", \")\n",
    "print()"
   ]
  },
  {
   "cell_type": "code",
   "execution_count": null,
   "metadata": {},
   "outputs": [],
   "source": []
  },
  {
   "cell_type": "markdown",
   "metadata": {},
   "source": [
    "#### get new recommendations"
   ]
  },
  {
   "cell_type": "code",
   "execution_count": 2,
   "metadata": {},
   "outputs": [],
   "source": [
    "import torch"
   ]
  },
  {
   "cell_type": "code",
   "execution_count": 3,
   "metadata": {},
   "outputs": [],
   "source": [
    "a = torch.randn((2, 4))"
   ]
  },
  {
   "cell_type": "code",
   "execution_count": 5,
   "metadata": {},
   "outputs": [],
   "source": [
    "b = torch.tensor([2, 3])"
   ]
  },
  {
   "cell_type": "code",
   "execution_count": 6,
   "metadata": {},
   "outputs": [
    {
     "name": "stdout",
     "output_type": "stream",
     "text": [
      "a tensor([[-0.8688,  0.7647,  0.0848,  0.4191],\n",
      "        [-0.8668, -0.8401,  0.7437, -0.2082]])\n",
      "b tensor([2, 3])\n"
     ]
    }
   ],
   "source": [
    "print(\"a\", a)\n",
    "print(\"b\", b)"
   ]
  },
  {
   "cell_type": "code",
   "execution_count": 9,
   "metadata": {},
   "outputs": [
    {
     "data": {
      "text/plain": [
       "tensor([ 0.0848, -0.2082])"
      ]
     },
     "execution_count": 9,
     "metadata": {},
     "output_type": "execute_result"
    }
   ],
   "source": [
    "a[torch.arange(2), b]"
   ]
  },
  {
   "cell_type": "code",
   "execution_count": 11,
   "metadata": {},
   "outputs": [
    {
     "data": {
      "text/plain": [
       "tensor([[ 0.0848],\n",
       "        [-0.2082]])"
      ]
     },
     "execution_count": 11,
     "metadata": {},
     "output_type": "execute_result"
    }
   ],
   "source": [
    "a.gather(1, b.unsqueeze(-1))"
   ]
  },
  {
   "cell_type": "code",
   "execution_count": null,
   "metadata": {},
   "outputs": [],
   "source": []
  }
 ],
 "metadata": {
  "kernelspec": {
   "display_name": "Python 3",
   "language": "python",
   "name": "python3"
  },
  "language_info": {
   "codemirror_mode": {
    "name": "ipython",
    "version": 3
   },
   "file_extension": ".py",
   "mimetype": "text/x-python",
   "name": "python",
   "nbconvert_exporter": "python",
   "pygments_lexer": "ipython3",
   "version": "3.7.3"
  }
 },
 "nbformat": 4,
 "nbformat_minor": 2
}
